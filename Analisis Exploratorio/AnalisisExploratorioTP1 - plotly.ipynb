{
 "cells": [
  {
   "cell_type": "markdown",
   "metadata": {
    "deletable": true,
    "editable": true
   },
   "source": [
    "# Analisis Exploratorio TP1"
   ]
  },
  {
   "cell_type": "code",
   "execution_count": 21,
   "metadata": {
    "collapsed": false,
    "deletable": true,
    "editable": true
   },
   "outputs": [],
   "source": [
    "import numpy as np \n",
    "import pandas as pd\n",
    "import datetime\n",
    "import seaborn as sns\n",
    "\n",
    "from pandas.tseries.holiday import USFederalHolidayCalendar\n",
    "from pandas.tseries.offsets import CustomBusinessDay\n",
    "\n",
    "import matplotlib.pyplot as plt\n",
    "%matplotlib inline\n",
    "\n",
    "\n",
    "from plotly import __version__\n",
    "from plotly.offline import download_plotlyjs, init_notebook_mode, plot, iplot\n",
    "from plotly.graph_objs import *\n",
    "import plotly.graph_objs as go\n",
    "import plotly.figure_factory as ff\n"
   ]
  },
  {
   "cell_type": "code",
   "execution_count": 22,
   "metadata": {
    "collapsed": false,
    "deletable": true,
    "editable": true
   },
   "outputs": [
    {
     "data": {
      "text/html": [
       "<script>requirejs.config({paths: { 'plotly': ['https://cdn.plot.ly/plotly-latest.min']},});if(!window.Plotly) {{require(['plotly'],function(plotly) {window.Plotly=plotly;});}}</script>"
      ],
      "text/vnd.plotly.v1+html": [
       "<script>requirejs.config({paths: { 'plotly': ['https://cdn.plot.ly/plotly-latest.min']},});if(!window.Plotly) {{require(['plotly'],function(plotly) {window.Plotly=plotly;});}}</script>"
      ]
     },
     "metadata": {},
     "output_type": "display_data"
    }
   ],
   "source": [
    "init_notebook_mode(connected=True)"
   ]
  },
  {
   "cell_type": "code",
   "execution_count": 23,
   "metadata": {
    "collapsed": false,
    "deletable": true,
    "editable": true,
    "scrolled": true
   },
   "outputs": [
    {
     "data": {
      "application/vnd.plotly.v1+json": {
       "data": [
        {
         "colorscale": [
          [
           0,
           "#00083e"
          ],
          [
           0.5,
           "#ededee"
          ],
          [
           1,
           "#ffffff"
          ]
         ],
         "hoverinfo": "none",
         "opacity": 0.75,
         "showscale": false,
         "type": "heatmap",
         "z": [
          [
           0,
           0,
           0,
           0,
           0,
           0,
           0
          ],
          [
           0.5,
           0.5,
           0.5,
           0.5,
           0.5,
           0.5,
           0.5
          ],
          [
           1,
           1,
           1,
           1,
           1,
           1,
           1
          ],
          [
           0.5,
           0.5,
           0.5,
           0.5,
           0.5,
           0.5,
           0.5
          ],
          [
           1,
           1,
           1,
           1,
           1,
           1,
           1
          ],
          [
           0.5,
           0.5,
           0.5,
           0.5,
           0.5,
           0.5,
           0.5
          ],
          [
           1,
           1,
           1,
           1,
           1,
           1,
           1
          ],
          [
           0.5,
           0.5,
           0.5,
           0.5,
           0.5,
           0.5,
           0.5
          ],
          [
           1,
           1,
           1,
           1,
           1,
           1,
           1
          ],
          [
           0.5,
           0.5,
           0.5,
           0.5,
           0.5,
           0.5,
           0.5
          ],
          [
           1,
           1,
           1,
           1,
           1,
           1,
           1
          ],
          [
           0.5,
           0.5,
           0.5,
           0.5,
           0.5,
           0.5,
           0.5
          ],
          [
           1,
           1,
           1,
           1,
           1,
           1,
           1
          ],
          [
           0.5,
           0.5,
           0.5,
           0.5,
           0.5,
           0.5,
           0.5
          ],
          [
           1,
           1,
           1,
           1,
           1,
           1,
           1
          ],
          [
           0.5,
           0.5,
           0.5,
           0.5,
           0.5,
           0.5,
           0.5
          ],
          [
           1,
           1,
           1,
           1,
           1,
           1,
           1
          ],
          [
           0.5,
           0.5,
           0.5,
           0.5,
           0.5,
           0.5,
           0.5
          ],
          [
           1,
           1,
           1,
           1,
           1,
           1,
           1
          ],
          [
           0.5,
           0.5,
           0.5,
           0.5,
           0.5,
           0.5,
           0.5
          ],
          [
           1,
           1,
           1,
           1,
           1,
           1,
           1
          ],
          [
           0.5,
           0.5,
           0.5,
           0.5,
           0.5,
           0.5,
           0.5
          ],
          [
           1,
           1,
           1,
           1,
           1,
           1,
           1
          ],
          [
           0.5,
           0.5,
           0.5,
           0.5,
           0.5,
           0.5,
           0.5
          ],
          [
           1,
           1,
           1,
           1,
           1,
           1,
           1
          ],
          [
           0.5,
           0.5,
           0.5,
           0.5,
           0.5,
           0.5,
           0.5
          ],
          [
           1,
           1,
           1,
           1,
           1,
           1,
           1
          ],
          [
           0.5,
           0.5,
           0.5,
           0.5,
           0.5,
           0.5,
           0.5
          ],
          [
           1,
           1,
           1,
           1,
           1,
           1,
           1
          ],
          [
           0.5,
           0.5,
           0.5,
           0.5,
           0.5,
           0.5,
           0.5
          ],
          [
           1,
           1,
           1,
           1,
           1,
           1,
           1
          ],
          [
           0.5,
           0.5,
           0.5,
           0.5,
           0.5,
           0.5,
           0.5
          ],
          [
           1,
           1,
           1,
           1,
           1,
           1,
           1
          ],
          [
           0.5,
           0.5,
           0.5,
           0.5,
           0.5,
           0.5,
           0.5
          ],
          [
           1,
           1,
           1,
           1,
           1,
           1,
           1
          ],
          [
           0.5,
           0.5,
           0.5,
           0.5,
           0.5,
           0.5,
           0.5
          ],
          [
           1,
           1,
           1,
           1,
           1,
           1,
           1
          ],
          [
           0.5,
           0.5,
           0.5,
           0.5,
           0.5,
           0.5,
           0.5
          ],
          [
           1,
           1,
           1,
           1,
           1,
           1,
           1
          ],
          [
           0.5,
           0.5,
           0.5,
           0.5,
           0.5,
           0.5,
           0.5
          ],
          [
           1,
           1,
           1,
           1,
           1,
           1,
           1
          ],
          [
           0.5,
           0.5,
           0.5,
           0.5,
           0.5,
           0.5,
           0.5
          ],
          [
           1,
           1,
           1,
           1,
           1,
           1,
           1
          ],
          [
           0.5,
           0.5,
           0.5,
           0.5,
           0.5,
           0.5,
           0.5
          ],
          [
           1,
           1,
           1,
           1,
           1,
           1,
           1
          ],
          [
           0.5,
           0.5,
           0.5,
           0.5,
           0.5,
           0.5,
           0.5
          ],
          [
           1,
           1,
           1,
           1,
           1,
           1,
           1
          ],
          [
           0.5,
           0.5,
           0.5,
           0.5,
           0.5,
           0.5,
           0.5
          ],
          [
           1,
           1,
           1,
           1,
           1,
           1,
           1
          ],
          [
           0.5,
           0.5,
           0.5,
           0.5,
           0.5,
           0.5,
           0.5
          ],
          [
           1,
           1,
           1,
           1,
           1,
           1,
           1
          ],
          [
           0.5,
           0.5,
           0.5,
           0.5,
           0.5,
           0.5,
           0.5
          ],
          [
           1,
           1,
           1,
           1,
           1,
           1,
           1
          ],
          [
           0.5,
           0.5,
           0.5,
           0.5,
           0.5,
           0.5,
           0.5
          ],
          [
           1,
           1,
           1,
           1,
           1,
           1,
           1
          ],
          [
           0.5,
           0.5,
           0.5,
           0.5,
           0.5,
           0.5,
           0.5
          ],
          [
           1,
           1,
           1,
           1,
           1,
           1,
           1
          ],
          [
           0.5,
           0.5,
           0.5,
           0.5,
           0.5,
           0.5,
           0.5
          ],
          [
           1,
           1,
           1,
           1,
           1,
           1,
           1
          ],
          [
           0.5,
           0.5,
           0.5,
           0.5,
           0.5,
           0.5,
           0.5
          ],
          [
           1,
           1,
           1,
           1,
           1,
           1,
           1
          ],
          [
           0.5,
           0.5,
           0.5,
           0.5,
           0.5,
           0.5,
           0.5
          ],
          [
           1,
           1,
           1,
           1,
           1,
           1,
           1
          ],
          [
           0.5,
           0.5,
           0.5,
           0.5,
           0.5,
           0.5,
           0.5
          ],
          [
           1,
           1,
           1,
           1,
           1,
           1,
           1
          ],
          [
           0.5,
           0.5,
           0.5,
           0.5,
           0.5,
           0.5,
           0.5
          ],
          [
           1,
           1,
           1,
           1,
           1,
           1,
           1
          ],
          [
           0.5,
           0.5,
           0.5,
           0.5,
           0.5,
           0.5,
           0.5
          ],
          [
           1,
           1,
           1,
           1,
           1,
           1,
           1
          ],
          [
           0.5,
           0.5,
           0.5,
           0.5,
           0.5,
           0.5,
           0.5
          ],
          [
           1,
           1,
           1,
           1,
           1,
           1,
           1
          ]
         ]
        }
       ],
       "layout": {
        "annotations": [
         {
          "align": "left",
          "font": {
           "color": "#ffffff"
          },
          "showarrow": false,
          "text": "<b>id</b>",
          "x": -0.45,
          "xanchor": "left",
          "xref": "x1",
          "y": 0,
          "yref": "y1"
         },
         {
          "align": "left",
          "font": {
           "color": "#ffffff"
          },
          "showarrow": false,
          "text": "<b>name</b>",
          "x": 0.55,
          "xanchor": "left",
          "xref": "x1",
          "y": 0,
          "yref": "y1"
         },
         {
          "align": "left",
          "font": {
           "color": "#ffffff"
          },
          "showarrow": false,
          "text": "<b>lat</b>",
          "x": 1.55,
          "xanchor": "left",
          "xref": "x1",
          "y": 0,
          "yref": "y1"
         },
         {
          "align": "left",
          "font": {
           "color": "#ffffff"
          },
          "showarrow": false,
          "text": "<b>long</b>",
          "x": 2.55,
          "xanchor": "left",
          "xref": "x1",
          "y": 0,
          "yref": "y1"
         },
         {
          "align": "left",
          "font": {
           "color": "#ffffff"
          },
          "showarrow": false,
          "text": "<b>dock_count</b>",
          "x": 3.55,
          "xanchor": "left",
          "xref": "x1",
          "y": 0,
          "yref": "y1"
         },
         {
          "align": "left",
          "font": {
           "color": "#ffffff"
          },
          "showarrow": false,
          "text": "<b>city</b>",
          "x": 4.55,
          "xanchor": "left",
          "xref": "x1",
          "y": 0,
          "yref": "y1"
         },
         {
          "align": "left",
          "font": {
           "color": "#ffffff"
          },
          "showarrow": false,
          "text": "<b>installation_date</b>",
          "x": 5.55,
          "xanchor": "left",
          "xref": "x1",
          "y": 0,
          "yref": "y1"
         },
         {
          "align": "left",
          "font": {
           "color": "#000000"
          },
          "showarrow": false,
          "text": "2",
          "x": -0.45,
          "xanchor": "left",
          "xref": "x1",
          "y": 1,
          "yref": "y1"
         },
         {
          "align": "left",
          "font": {
           "color": "#000000"
          },
          "showarrow": false,
          "text": "San Jose Diridon Caltrain Station",
          "x": 0.55,
          "xanchor": "left",
          "xref": "x1",
          "y": 1,
          "yref": "y1"
         },
         {
          "align": "left",
          "font": {
           "color": "#000000"
          },
          "showarrow": false,
          "text": "37.329732",
          "x": 1.55,
          "xanchor": "left",
          "xref": "x1",
          "y": 1,
          "yref": "y1"
         },
         {
          "align": "left",
          "font": {
           "color": "#000000"
          },
          "showarrow": false,
          "text": "-121.901782",
          "x": 2.55,
          "xanchor": "left",
          "xref": "x1",
          "y": 1,
          "yref": "y1"
         },
         {
          "align": "left",
          "font": {
           "color": "#000000"
          },
          "showarrow": false,
          "text": "27",
          "x": 3.55,
          "xanchor": "left",
          "xref": "x1",
          "y": 1,
          "yref": "y1"
         },
         {
          "align": "left",
          "font": {
           "color": "#000000"
          },
          "showarrow": false,
          "text": "San Jose",
          "x": 4.55,
          "xanchor": "left",
          "xref": "x1",
          "y": 1,
          "yref": "y1"
         },
         {
          "align": "left",
          "font": {
           "color": "#000000"
          },
          "showarrow": false,
          "text": "2013-08-06 00:00:00",
          "x": 5.55,
          "xanchor": "left",
          "xref": "x1",
          "y": 1,
          "yref": "y1"
         },
         {
          "align": "left",
          "font": {
           "color": "#000000"
          },
          "showarrow": false,
          "text": "3",
          "x": -0.45,
          "xanchor": "left",
          "xref": "x1",
          "y": 2,
          "yref": "y1"
         },
         {
          "align": "left",
          "font": {
           "color": "#000000"
          },
          "showarrow": false,
          "text": "San Jose Civic Center",
          "x": 0.55,
          "xanchor": "left",
          "xref": "x1",
          "y": 2,
          "yref": "y1"
         },
         {
          "align": "left",
          "font": {
           "color": "#000000"
          },
          "showarrow": false,
          "text": "37.330698",
          "x": 1.55,
          "xanchor": "left",
          "xref": "x1",
          "y": 2,
          "yref": "y1"
         },
         {
          "align": "left",
          "font": {
           "color": "#000000"
          },
          "showarrow": false,
          "text": "-121.888979",
          "x": 2.55,
          "xanchor": "left",
          "xref": "x1",
          "y": 2,
          "yref": "y1"
         },
         {
          "align": "left",
          "font": {
           "color": "#000000"
          },
          "showarrow": false,
          "text": "15",
          "x": 3.55,
          "xanchor": "left",
          "xref": "x1",
          "y": 2,
          "yref": "y1"
         },
         {
          "align": "left",
          "font": {
           "color": "#000000"
          },
          "showarrow": false,
          "text": "San Jose",
          "x": 4.55,
          "xanchor": "left",
          "xref": "x1",
          "y": 2,
          "yref": "y1"
         },
         {
          "align": "left",
          "font": {
           "color": "#000000"
          },
          "showarrow": false,
          "text": "2013-08-05 00:00:00",
          "x": 5.55,
          "xanchor": "left",
          "xref": "x1",
          "y": 2,
          "yref": "y1"
         },
         {
          "align": "left",
          "font": {
           "color": "#000000"
          },
          "showarrow": false,
          "text": "4",
          "x": -0.45,
          "xanchor": "left",
          "xref": "x1",
          "y": 3,
          "yref": "y1"
         },
         {
          "align": "left",
          "font": {
           "color": "#000000"
          },
          "showarrow": false,
          "text": "Santa Clara at Almaden",
          "x": 0.55,
          "xanchor": "left",
          "xref": "x1",
          "y": 3,
          "yref": "y1"
         },
         {
          "align": "left",
          "font": {
           "color": "#000000"
          },
          "showarrow": false,
          "text": "37.333988",
          "x": 1.55,
          "xanchor": "left",
          "xref": "x1",
          "y": 3,
          "yref": "y1"
         },
         {
          "align": "left",
          "font": {
           "color": "#000000"
          },
          "showarrow": false,
          "text": "-121.894902",
          "x": 2.55,
          "xanchor": "left",
          "xref": "x1",
          "y": 3,
          "yref": "y1"
         },
         {
          "align": "left",
          "font": {
           "color": "#000000"
          },
          "showarrow": false,
          "text": "11",
          "x": 3.55,
          "xanchor": "left",
          "xref": "x1",
          "y": 3,
          "yref": "y1"
         },
         {
          "align": "left",
          "font": {
           "color": "#000000"
          },
          "showarrow": false,
          "text": "San Jose",
          "x": 4.55,
          "xanchor": "left",
          "xref": "x1",
          "y": 3,
          "yref": "y1"
         },
         {
          "align": "left",
          "font": {
           "color": "#000000"
          },
          "showarrow": false,
          "text": "2013-08-06 00:00:00",
          "x": 5.55,
          "xanchor": "left",
          "xref": "x1",
          "y": 3,
          "yref": "y1"
         },
         {
          "align": "left",
          "font": {
           "color": "#000000"
          },
          "showarrow": false,
          "text": "5",
          "x": -0.45,
          "xanchor": "left",
          "xref": "x1",
          "y": 4,
          "yref": "y1"
         },
         {
          "align": "left",
          "font": {
           "color": "#000000"
          },
          "showarrow": false,
          "text": "Adobe on Almaden",
          "x": 0.55,
          "xanchor": "left",
          "xref": "x1",
          "y": 4,
          "yref": "y1"
         },
         {
          "align": "left",
          "font": {
           "color": "#000000"
          },
          "showarrow": false,
          "text": "37.331415",
          "x": 1.55,
          "xanchor": "left",
          "xref": "x1",
          "y": 4,
          "yref": "y1"
         },
         {
          "align": "left",
          "font": {
           "color": "#000000"
          },
          "showarrow": false,
          "text": "-121.8932",
          "x": 2.55,
          "xanchor": "left",
          "xref": "x1",
          "y": 4,
          "yref": "y1"
         },
         {
          "align": "left",
          "font": {
           "color": "#000000"
          },
          "showarrow": false,
          "text": "19",
          "x": 3.55,
          "xanchor": "left",
          "xref": "x1",
          "y": 4,
          "yref": "y1"
         },
         {
          "align": "left",
          "font": {
           "color": "#000000"
          },
          "showarrow": false,
          "text": "San Jose",
          "x": 4.55,
          "xanchor": "left",
          "xref": "x1",
          "y": 4,
          "yref": "y1"
         },
         {
          "align": "left",
          "font": {
           "color": "#000000"
          },
          "showarrow": false,
          "text": "2013-08-05 00:00:00",
          "x": 5.55,
          "xanchor": "left",
          "xref": "x1",
          "y": 4,
          "yref": "y1"
         },
         {
          "align": "left",
          "font": {
           "color": "#000000"
          },
          "showarrow": false,
          "text": "6",
          "x": -0.45,
          "xanchor": "left",
          "xref": "x1",
          "y": 5,
          "yref": "y1"
         },
         {
          "align": "left",
          "font": {
           "color": "#000000"
          },
          "showarrow": false,
          "text": "San Pedro Square",
          "x": 0.55,
          "xanchor": "left",
          "xref": "x1",
          "y": 5,
          "yref": "y1"
         },
         {
          "align": "left",
          "font": {
           "color": "#000000"
          },
          "showarrow": false,
          "text": "37.336721",
          "x": 1.55,
          "xanchor": "left",
          "xref": "x1",
          "y": 5,
          "yref": "y1"
         },
         {
          "align": "left",
          "font": {
           "color": "#000000"
          },
          "showarrow": false,
          "text": "-121.894074",
          "x": 2.55,
          "xanchor": "left",
          "xref": "x1",
          "y": 5,
          "yref": "y1"
         },
         {
          "align": "left",
          "font": {
           "color": "#000000"
          },
          "showarrow": false,
          "text": "15",
          "x": 3.55,
          "xanchor": "left",
          "xref": "x1",
          "y": 5,
          "yref": "y1"
         },
         {
          "align": "left",
          "font": {
           "color": "#000000"
          },
          "showarrow": false,
          "text": "San Jose",
          "x": 4.55,
          "xanchor": "left",
          "xref": "x1",
          "y": 5,
          "yref": "y1"
         },
         {
          "align": "left",
          "font": {
           "color": "#000000"
          },
          "showarrow": false,
          "text": "2013-08-07 00:00:00",
          "x": 5.55,
          "xanchor": "left",
          "xref": "x1",
          "y": 5,
          "yref": "y1"
         },
         {
          "align": "left",
          "font": {
           "color": "#000000"
          },
          "showarrow": false,
          "text": "7",
          "x": -0.45,
          "xanchor": "left",
          "xref": "x1",
          "y": 6,
          "yref": "y1"
         },
         {
          "align": "left",
          "font": {
           "color": "#000000"
          },
          "showarrow": false,
          "text": "Paseo de San Antonio",
          "x": 0.55,
          "xanchor": "left",
          "xref": "x1",
          "y": 6,
          "yref": "y1"
         },
         {
          "align": "left",
          "font": {
           "color": "#000000"
          },
          "showarrow": false,
          "text": "37.333798",
          "x": 1.55,
          "xanchor": "left",
          "xref": "x1",
          "y": 6,
          "yref": "y1"
         },
         {
          "align": "left",
          "font": {
           "color": "#000000"
          },
          "showarrow": false,
          "text": "-121.886943",
          "x": 2.55,
          "xanchor": "left",
          "xref": "x1",
          "y": 6,
          "yref": "y1"
         },
         {
          "align": "left",
          "font": {
           "color": "#000000"
          },
          "showarrow": false,
          "text": "15",
          "x": 3.55,
          "xanchor": "left",
          "xref": "x1",
          "y": 6,
          "yref": "y1"
         },
         {
          "align": "left",
          "font": {
           "color": "#000000"
          },
          "showarrow": false,
          "text": "San Jose",
          "x": 4.55,
          "xanchor": "left",
          "xref": "x1",
          "y": 6,
          "yref": "y1"
         },
         {
          "align": "left",
          "font": {
           "color": "#000000"
          },
          "showarrow": false,
          "text": "2013-08-07 00:00:00",
          "x": 5.55,
          "xanchor": "left",
          "xref": "x1",
          "y": 6,
          "yref": "y1"
         },
         {
          "align": "left",
          "font": {
           "color": "#000000"
          },
          "showarrow": false,
          "text": "8",
          "x": -0.45,
          "xanchor": "left",
          "xref": "x1",
          "y": 7,
          "yref": "y1"
         },
         {
          "align": "left",
          "font": {
           "color": "#000000"
          },
          "showarrow": false,
          "text": "San Salvador at 1st",
          "x": 0.55,
          "xanchor": "left",
          "xref": "x1",
          "y": 7,
          "yref": "y1"
         },
         {
          "align": "left",
          "font": {
           "color": "#000000"
          },
          "showarrow": false,
          "text": "37.330165",
          "x": 1.55,
          "xanchor": "left",
          "xref": "x1",
          "y": 7,
          "yref": "y1"
         },
         {
          "align": "left",
          "font": {
           "color": "#000000"
          },
          "showarrow": false,
          "text": "-121.885831",
          "x": 2.55,
          "xanchor": "left",
          "xref": "x1",
          "y": 7,
          "yref": "y1"
         },
         {
          "align": "left",
          "font": {
           "color": "#000000"
          },
          "showarrow": false,
          "text": "15",
          "x": 3.55,
          "xanchor": "left",
          "xref": "x1",
          "y": 7,
          "yref": "y1"
         },
         {
          "align": "left",
          "font": {
           "color": "#000000"
          },
          "showarrow": false,
          "text": "San Jose",
          "x": 4.55,
          "xanchor": "left",
          "xref": "x1",
          "y": 7,
          "yref": "y1"
         },
         {
          "align": "left",
          "font": {
           "color": "#000000"
          },
          "showarrow": false,
          "text": "2013-08-05 00:00:00",
          "x": 5.55,
          "xanchor": "left",
          "xref": "x1",
          "y": 7,
          "yref": "y1"
         },
         {
          "align": "left",
          "font": {
           "color": "#000000"
          },
          "showarrow": false,
          "text": "9",
          "x": -0.45,
          "xanchor": "left",
          "xref": "x1",
          "y": 8,
          "yref": "y1"
         },
         {
          "align": "left",
          "font": {
           "color": "#000000"
          },
          "showarrow": false,
          "text": "Japantown",
          "x": 0.55,
          "xanchor": "left",
          "xref": "x1",
          "y": 8,
          "yref": "y1"
         },
         {
          "align": "left",
          "font": {
           "color": "#000000"
          },
          "showarrow": false,
          "text": "37.348742",
          "x": 1.55,
          "xanchor": "left",
          "xref": "x1",
          "y": 8,
          "yref": "y1"
         },
         {
          "align": "left",
          "font": {
           "color": "#000000"
          },
          "showarrow": false,
          "text": "-121.894715",
          "x": 2.55,
          "xanchor": "left",
          "xref": "x1",
          "y": 8,
          "yref": "y1"
         },
         {
          "align": "left",
          "font": {
           "color": "#000000"
          },
          "showarrow": false,
          "text": "15",
          "x": 3.55,
          "xanchor": "left",
          "xref": "x1",
          "y": 8,
          "yref": "y1"
         },
         {
          "align": "left",
          "font": {
           "color": "#000000"
          },
          "showarrow": false,
          "text": "San Jose",
          "x": 4.55,
          "xanchor": "left",
          "xref": "x1",
          "y": 8,
          "yref": "y1"
         },
         {
          "align": "left",
          "font": {
           "color": "#000000"
          },
          "showarrow": false,
          "text": "2013-08-05 00:00:00",
          "x": 5.55,
          "xanchor": "left",
          "xref": "x1",
          "y": 8,
          "yref": "y1"
         },
         {
          "align": "left",
          "font": {
           "color": "#000000"
          },
          "showarrow": false,
          "text": "10",
          "x": -0.45,
          "xanchor": "left",
          "xref": "x1",
          "y": 9,
          "yref": "y1"
         },
         {
          "align": "left",
          "font": {
           "color": "#000000"
          },
          "showarrow": false,
          "text": "San Jose City Hall",
          "x": 0.55,
          "xanchor": "left",
          "xref": "x1",
          "y": 9,
          "yref": "y1"
         },
         {
          "align": "left",
          "font": {
           "color": "#000000"
          },
          "showarrow": false,
          "text": "37.337391",
          "x": 1.55,
          "xanchor": "left",
          "xref": "x1",
          "y": 9,
          "yref": "y1"
         },
         {
          "align": "left",
          "font": {
           "color": "#000000"
          },
          "showarrow": false,
          "text": "-121.886995",
          "x": 2.55,
          "xanchor": "left",
          "xref": "x1",
          "y": 9,
          "yref": "y1"
         },
         {
          "align": "left",
          "font": {
           "color": "#000000"
          },
          "showarrow": false,
          "text": "15",
          "x": 3.55,
          "xanchor": "left",
          "xref": "x1",
          "y": 9,
          "yref": "y1"
         },
         {
          "align": "left",
          "font": {
           "color": "#000000"
          },
          "showarrow": false,
          "text": "San Jose",
          "x": 4.55,
          "xanchor": "left",
          "xref": "x1",
          "y": 9,
          "yref": "y1"
         },
         {
          "align": "left",
          "font": {
           "color": "#000000"
          },
          "showarrow": false,
          "text": "2013-08-06 00:00:00",
          "x": 5.55,
          "xanchor": "left",
          "xref": "x1",
          "y": 9,
          "yref": "y1"
         },
         {
          "align": "left",
          "font": {
           "color": "#000000"
          },
          "showarrow": false,
          "text": "11",
          "x": -0.45,
          "xanchor": "left",
          "xref": "x1",
          "y": 10,
          "yref": "y1"
         },
         {
          "align": "left",
          "font": {
           "color": "#000000"
          },
          "showarrow": false,
          "text": "MLK Library",
          "x": 0.55,
          "xanchor": "left",
          "xref": "x1",
          "y": 10,
          "yref": "y1"
         },
         {
          "align": "left",
          "font": {
           "color": "#000000"
          },
          "showarrow": false,
          "text": "37.335885",
          "x": 1.55,
          "xanchor": "left",
          "xref": "x1",
          "y": 10,
          "yref": "y1"
         },
         {
          "align": "left",
          "font": {
           "color": "#000000"
          },
          "showarrow": false,
          "text": "-121.88566",
          "x": 2.55,
          "xanchor": "left",
          "xref": "x1",
          "y": 10,
          "yref": "y1"
         },
         {
          "align": "left",
          "font": {
           "color": "#000000"
          },
          "showarrow": false,
          "text": "19",
          "x": 3.55,
          "xanchor": "left",
          "xref": "x1",
          "y": 10,
          "yref": "y1"
         },
         {
          "align": "left",
          "font": {
           "color": "#000000"
          },
          "showarrow": false,
          "text": "San Jose",
          "x": 4.55,
          "xanchor": "left",
          "xref": "x1",
          "y": 10,
          "yref": "y1"
         },
         {
          "align": "left",
          "font": {
           "color": "#000000"
          },
          "showarrow": false,
          "text": "2013-08-06 00:00:00",
          "x": 5.55,
          "xanchor": "left",
          "xref": "x1",
          "y": 10,
          "yref": "y1"
         },
         {
          "align": "left",
          "font": {
           "color": "#000000"
          },
          "showarrow": false,
          "text": "12",
          "x": -0.45,
          "xanchor": "left",
          "xref": "x1",
          "y": 11,
          "yref": "y1"
         },
         {
          "align": "left",
          "font": {
           "color": "#000000"
          },
          "showarrow": false,
          "text": "SJSU 4th at San Carlos",
          "x": 0.55,
          "xanchor": "left",
          "xref": "x1",
          "y": 11,
          "yref": "y1"
         },
         {
          "align": "left",
          "font": {
           "color": "#000000"
          },
          "showarrow": false,
          "text": "37.332808",
          "x": 1.55,
          "xanchor": "left",
          "xref": "x1",
          "y": 11,
          "yref": "y1"
         },
         {
          "align": "left",
          "font": {
           "color": "#000000"
          },
          "showarrow": false,
          "text": "-121.883891",
          "x": 2.55,
          "xanchor": "left",
          "xref": "x1",
          "y": 11,
          "yref": "y1"
         },
         {
          "align": "left",
          "font": {
           "color": "#000000"
          },
          "showarrow": false,
          "text": "19",
          "x": 3.55,
          "xanchor": "left",
          "xref": "x1",
          "y": 11,
          "yref": "y1"
         },
         {
          "align": "left",
          "font": {
           "color": "#000000"
          },
          "showarrow": false,
          "text": "San Jose",
          "x": 4.55,
          "xanchor": "left",
          "xref": "x1",
          "y": 11,
          "yref": "y1"
         },
         {
          "align": "left",
          "font": {
           "color": "#000000"
          },
          "showarrow": false,
          "text": "2013-08-07 00:00:00",
          "x": 5.55,
          "xanchor": "left",
          "xref": "x1",
          "y": 11,
          "yref": "y1"
         },
         {
          "align": "left",
          "font": {
           "color": "#000000"
          },
          "showarrow": false,
          "text": "13",
          "x": -0.45,
          "xanchor": "left",
          "xref": "x1",
          "y": 12,
          "yref": "y1"
         },
         {
          "align": "left",
          "font": {
           "color": "#000000"
          },
          "showarrow": false,
          "text": "St James Park",
          "x": 0.55,
          "xanchor": "left",
          "xref": "x1",
          "y": 12,
          "yref": "y1"
         },
         {
          "align": "left",
          "font": {
           "color": "#000000"
          },
          "showarrow": false,
          "text": "37.339301",
          "x": 1.55,
          "xanchor": "left",
          "xref": "x1",
          "y": 12,
          "yref": "y1"
         },
         {
          "align": "left",
          "font": {
           "color": "#000000"
          },
          "showarrow": false,
          "text": "-121.889937",
          "x": 2.55,
          "xanchor": "left",
          "xref": "x1",
          "y": 12,
          "yref": "y1"
         },
         {
          "align": "left",
          "font": {
           "color": "#000000"
          },
          "showarrow": false,
          "text": "15",
          "x": 3.55,
          "xanchor": "left",
          "xref": "x1",
          "y": 12,
          "yref": "y1"
         },
         {
          "align": "left",
          "font": {
           "color": "#000000"
          },
          "showarrow": false,
          "text": "San Jose",
          "x": 4.55,
          "xanchor": "left",
          "xref": "x1",
          "y": 12,
          "yref": "y1"
         },
         {
          "align": "left",
          "font": {
           "color": "#000000"
          },
          "showarrow": false,
          "text": "2013-08-06 00:00:00",
          "x": 5.55,
          "xanchor": "left",
          "xref": "x1",
          "y": 12,
          "yref": "y1"
         },
         {
          "align": "left",
          "font": {
           "color": "#000000"
          },
          "showarrow": false,
          "text": "14",
          "x": -0.45,
          "xanchor": "left",
          "xref": "x1",
          "y": 13,
          "yref": "y1"
         },
         {
          "align": "left",
          "font": {
           "color": "#000000"
          },
          "showarrow": false,
          "text": "Arena Green / SAP Center",
          "x": 0.55,
          "xanchor": "left",
          "xref": "x1",
          "y": 13,
          "yref": "y1"
         },
         {
          "align": "left",
          "font": {
           "color": "#000000"
          },
          "showarrow": false,
          "text": "37.332692",
          "x": 1.55,
          "xanchor": "left",
          "xref": "x1",
          "y": 13,
          "yref": "y1"
         },
         {
          "align": "left",
          "font": {
           "color": "#000000"
          },
          "showarrow": false,
          "text": "-121.900084",
          "x": 2.55,
          "xanchor": "left",
          "xref": "x1",
          "y": 13,
          "yref": "y1"
         },
         {
          "align": "left",
          "font": {
           "color": "#000000"
          },
          "showarrow": false,
          "text": "19",
          "x": 3.55,
          "xanchor": "left",
          "xref": "x1",
          "y": 13,
          "yref": "y1"
         },
         {
          "align": "left",
          "font": {
           "color": "#000000"
          },
          "showarrow": false,
          "text": "San Jose",
          "x": 4.55,
          "xanchor": "left",
          "xref": "x1",
          "y": 13,
          "yref": "y1"
         },
         {
          "align": "left",
          "font": {
           "color": "#000000"
          },
          "showarrow": false,
          "text": "2013-08-05 00:00:00",
          "x": 5.55,
          "xanchor": "left",
          "xref": "x1",
          "y": 13,
          "yref": "y1"
         },
         {
          "align": "left",
          "font": {
           "color": "#000000"
          },
          "showarrow": false,
          "text": "16",
          "x": -0.45,
          "xanchor": "left",
          "xref": "x1",
          "y": 14,
          "yref": "y1"
         },
         {
          "align": "left",
          "font": {
           "color": "#000000"
          },
          "showarrow": false,
          "text": "SJSU - San Salvador at 9th",
          "x": 0.55,
          "xanchor": "left",
          "xref": "x1",
          "y": 14,
          "yref": "y1"
         },
         {
          "align": "left",
          "font": {
           "color": "#000000"
          },
          "showarrow": false,
          "text": "37.333955",
          "x": 1.55,
          "xanchor": "left",
          "xref": "x1",
          "y": 14,
          "yref": "y1"
         },
         {
          "align": "left",
          "font": {
           "color": "#000000"
          },
          "showarrow": false,
          "text": "-121.877349",
          "x": 2.55,
          "xanchor": "left",
          "xref": "x1",
          "y": 14,
          "yref": "y1"
         },
         {
          "align": "left",
          "font": {
           "color": "#000000"
          },
          "showarrow": false,
          "text": "15",
          "x": 3.55,
          "xanchor": "left",
          "xref": "x1",
          "y": 14,
          "yref": "y1"
         },
         {
          "align": "left",
          "font": {
           "color": "#000000"
          },
          "showarrow": false,
          "text": "San Jose",
          "x": 4.55,
          "xanchor": "left",
          "xref": "x1",
          "y": 14,
          "yref": "y1"
         },
         {
          "align": "left",
          "font": {
           "color": "#000000"
          },
          "showarrow": false,
          "text": "2013-08-07 00:00:00",
          "x": 5.55,
          "xanchor": "left",
          "xref": "x1",
          "y": 14,
          "yref": "y1"
         },
         {
          "align": "left",
          "font": {
           "color": "#000000"
          },
          "showarrow": false,
          "text": "21",
          "x": -0.45,
          "xanchor": "left",
          "xref": "x1",
          "y": 15,
          "yref": "y1"
         },
         {
          "align": "left",
          "font": {
           "color": "#000000"
          },
          "showarrow": false,
          "text": "Franklin at Maple",
          "x": 0.55,
          "xanchor": "left",
          "xref": "x1",
          "y": 15,
          "yref": "y1"
         },
         {
          "align": "left",
          "font": {
           "color": "#000000"
          },
          "showarrow": false,
          "text": "37.481758",
          "x": 1.55,
          "xanchor": "left",
          "xref": "x1",
          "y": 15,
          "yref": "y1"
         },
         {
          "align": "left",
          "font": {
           "color": "#000000"
          },
          "showarrow": false,
          "text": "-122.226904",
          "x": 2.55,
          "xanchor": "left",
          "xref": "x1",
          "y": 15,
          "yref": "y1"
         },
         {
          "align": "left",
          "font": {
           "color": "#000000"
          },
          "showarrow": false,
          "text": "15",
          "x": 3.55,
          "xanchor": "left",
          "xref": "x1",
          "y": 15,
          "yref": "y1"
         },
         {
          "align": "left",
          "font": {
           "color": "#000000"
          },
          "showarrow": false,
          "text": "Redwood City",
          "x": 4.55,
          "xanchor": "left",
          "xref": "x1",
          "y": 15,
          "yref": "y1"
         },
         {
          "align": "left",
          "font": {
           "color": "#000000"
          },
          "showarrow": false,
          "text": "2013-08-12 00:00:00",
          "x": 5.55,
          "xanchor": "left",
          "xref": "x1",
          "y": 15,
          "yref": "y1"
         },
         {
          "align": "left",
          "font": {
           "color": "#000000"
          },
          "showarrow": false,
          "text": "22",
          "x": -0.45,
          "xanchor": "left",
          "xref": "x1",
          "y": 16,
          "yref": "y1"
         },
         {
          "align": "left",
          "font": {
           "color": "#000000"
          },
          "showarrow": false,
          "text": "Redwood City Caltrain Station",
          "x": 0.55,
          "xanchor": "left",
          "xref": "x1",
          "y": 16,
          "yref": "y1"
         },
         {
          "align": "left",
          "font": {
           "color": "#000000"
          },
          "showarrow": false,
          "text": "37.486078",
          "x": 1.55,
          "xanchor": "left",
          "xref": "x1",
          "y": 16,
          "yref": "y1"
         },
         {
          "align": "left",
          "font": {
           "color": "#000000"
          },
          "showarrow": false,
          "text": "-122.232089",
          "x": 2.55,
          "xanchor": "left",
          "xref": "x1",
          "y": 16,
          "yref": "y1"
         },
         {
          "align": "left",
          "font": {
           "color": "#000000"
          },
          "showarrow": false,
          "text": "25",
          "x": 3.55,
          "xanchor": "left",
          "xref": "x1",
          "y": 16,
          "yref": "y1"
         },
         {
          "align": "left",
          "font": {
           "color": "#000000"
          },
          "showarrow": false,
          "text": "Redwood City",
          "x": 4.55,
          "xanchor": "left",
          "xref": "x1",
          "y": 16,
          "yref": "y1"
         },
         {
          "align": "left",
          "font": {
           "color": "#000000"
          },
          "showarrow": false,
          "text": "2013-08-15 00:00:00",
          "x": 5.55,
          "xanchor": "left",
          "xref": "x1",
          "y": 16,
          "yref": "y1"
         },
         {
          "align": "left",
          "font": {
           "color": "#000000"
          },
          "showarrow": false,
          "text": "23",
          "x": -0.45,
          "xanchor": "left",
          "xref": "x1",
          "y": 17,
          "yref": "y1"
         },
         {
          "align": "left",
          "font": {
           "color": "#000000"
          },
          "showarrow": false,
          "text": "San Mateo County Center",
          "x": 0.55,
          "xanchor": "left",
          "xref": "x1",
          "y": 17,
          "yref": "y1"
         },
         {
          "align": "left",
          "font": {
           "color": "#000000"
          },
          "showarrow": false,
          "text": "37.487616",
          "x": 1.55,
          "xanchor": "left",
          "xref": "x1",
          "y": 17,
          "yref": "y1"
         },
         {
          "align": "left",
          "font": {
           "color": "#000000"
          },
          "showarrow": false,
          "text": "-122.229951",
          "x": 2.55,
          "xanchor": "left",
          "xref": "x1",
          "y": 17,
          "yref": "y1"
         },
         {
          "align": "left",
          "font": {
           "color": "#000000"
          },
          "showarrow": false,
          "text": "15",
          "x": 3.55,
          "xanchor": "left",
          "xref": "x1",
          "y": 17,
          "yref": "y1"
         },
         {
          "align": "left",
          "font": {
           "color": "#000000"
          },
          "showarrow": false,
          "text": "Redwood City",
          "x": 4.55,
          "xanchor": "left",
          "xref": "x1",
          "y": 17,
          "yref": "y1"
         },
         {
          "align": "left",
          "font": {
           "color": "#000000"
          },
          "showarrow": false,
          "text": "2013-08-15 00:00:00",
          "x": 5.55,
          "xanchor": "left",
          "xref": "x1",
          "y": 17,
          "yref": "y1"
         },
         {
          "align": "left",
          "font": {
           "color": "#000000"
          },
          "showarrow": false,
          "text": "24",
          "x": -0.45,
          "xanchor": "left",
          "xref": "x1",
          "y": 18,
          "yref": "y1"
         },
         {
          "align": "left",
          "font": {
           "color": "#000000"
          },
          "showarrow": false,
          "text": "Redwood City Public Library",
          "x": 0.55,
          "xanchor": "left",
          "xref": "x1",
          "y": 18,
          "yref": "y1"
         },
         {
          "align": "left",
          "font": {
           "color": "#000000"
          },
          "showarrow": false,
          "text": "37.484219",
          "x": 1.55,
          "xanchor": "left",
          "xref": "x1",
          "y": 18,
          "yref": "y1"
         },
         {
          "align": "left",
          "font": {
           "color": "#000000"
          },
          "showarrow": false,
          "text": "-122.227424",
          "x": 2.55,
          "xanchor": "left",
          "xref": "x1",
          "y": 18,
          "yref": "y1"
         },
         {
          "align": "left",
          "font": {
           "color": "#000000"
          },
          "showarrow": false,
          "text": "15",
          "x": 3.55,
          "xanchor": "left",
          "xref": "x1",
          "y": 18,
          "yref": "y1"
         },
         {
          "align": "left",
          "font": {
           "color": "#000000"
          },
          "showarrow": false,
          "text": "Redwood City",
          "x": 4.55,
          "xanchor": "left",
          "xref": "x1",
          "y": 18,
          "yref": "y1"
         },
         {
          "align": "left",
          "font": {
           "color": "#000000"
          },
          "showarrow": false,
          "text": "2013-08-12 00:00:00",
          "x": 5.55,
          "xanchor": "left",
          "xref": "x1",
          "y": 18,
          "yref": "y1"
         },
         {
          "align": "left",
          "font": {
           "color": "#000000"
          },
          "showarrow": false,
          "text": "25",
          "x": -0.45,
          "xanchor": "left",
          "xref": "x1",
          "y": 19,
          "yref": "y1"
         },
         {
          "align": "left",
          "font": {
           "color": "#000000"
          },
          "showarrow": false,
          "text": "Stanford in Redwood City",
          "x": 0.55,
          "xanchor": "left",
          "xref": "x1",
          "y": 19,
          "yref": "y1"
         },
         {
          "align": "left",
          "font": {
           "color": "#000000"
          },
          "showarrow": false,
          "text": "37.48537",
          "x": 1.55,
          "xanchor": "left",
          "xref": "x1",
          "y": 19,
          "yref": "y1"
         },
         {
          "align": "left",
          "font": {
           "color": "#000000"
          },
          "showarrow": false,
          "text": "-122.203288",
          "x": 2.55,
          "xanchor": "left",
          "xref": "x1",
          "y": 19,
          "yref": "y1"
         },
         {
          "align": "left",
          "font": {
           "color": "#000000"
          },
          "showarrow": false,
          "text": "15",
          "x": 3.55,
          "xanchor": "left",
          "xref": "x1",
          "y": 19,
          "yref": "y1"
         },
         {
          "align": "left",
          "font": {
           "color": "#000000"
          },
          "showarrow": false,
          "text": "Redwood City",
          "x": 4.55,
          "xanchor": "left",
          "xref": "x1",
          "y": 19,
          "yref": "y1"
         },
         {
          "align": "left",
          "font": {
           "color": "#000000"
          },
          "showarrow": false,
          "text": "2013-08-12 00:00:00",
          "x": 5.55,
          "xanchor": "left",
          "xref": "x1",
          "y": 19,
          "yref": "y1"
         },
         {
          "align": "left",
          "font": {
           "color": "#000000"
          },
          "showarrow": false,
          "text": "26",
          "x": -0.45,
          "xanchor": "left",
          "xref": "x1",
          "y": 20,
          "yref": "y1"
         },
         {
          "align": "left",
          "font": {
           "color": "#000000"
          },
          "showarrow": false,
          "text": "Redwood City Medical Center",
          "x": 0.55,
          "xanchor": "left",
          "xref": "x1",
          "y": 20,
          "yref": "y1"
         },
         {
          "align": "left",
          "font": {
           "color": "#000000"
          },
          "showarrow": false,
          "text": "37.487682",
          "x": 1.55,
          "xanchor": "left",
          "xref": "x1",
          "y": 20,
          "yref": "y1"
         },
         {
          "align": "left",
          "font": {
           "color": "#000000"
          },
          "showarrow": false,
          "text": "-122.223492",
          "x": 2.55,
          "xanchor": "left",
          "xref": "x1",
          "y": 20,
          "yref": "y1"
         },
         {
          "align": "left",
          "font": {
           "color": "#000000"
          },
          "showarrow": false,
          "text": "15",
          "x": 3.55,
          "xanchor": "left",
          "xref": "x1",
          "y": 20,
          "yref": "y1"
         },
         {
          "align": "left",
          "font": {
           "color": "#000000"
          },
          "showarrow": false,
          "text": "Redwood City",
          "x": 4.55,
          "xanchor": "left",
          "xref": "x1",
          "y": 20,
          "yref": "y1"
         },
         {
          "align": "left",
          "font": {
           "color": "#000000"
          },
          "showarrow": false,
          "text": "2013-08-12 00:00:00",
          "x": 5.55,
          "xanchor": "left",
          "xref": "x1",
          "y": 20,
          "yref": "y1"
         },
         {
          "align": "left",
          "font": {
           "color": "#000000"
          },
          "showarrow": false,
          "text": "27",
          "x": -0.45,
          "xanchor": "left",
          "xref": "x1",
          "y": 21,
          "yref": "y1"
         },
         {
          "align": "left",
          "font": {
           "color": "#000000"
          },
          "showarrow": false,
          "text": "Mountain View City Hall",
          "x": 0.55,
          "xanchor": "left",
          "xref": "x1",
          "y": 21,
          "yref": "y1"
         },
         {
          "align": "left",
          "font": {
           "color": "#000000"
          },
          "showarrow": false,
          "text": "37.389218",
          "x": 1.55,
          "xanchor": "left",
          "xref": "x1",
          "y": 21,
          "yref": "y1"
         },
         {
          "align": "left",
          "font": {
           "color": "#000000"
          },
          "showarrow": false,
          "text": "-122.081896",
          "x": 2.55,
          "xanchor": "left",
          "xref": "x1",
          "y": 21,
          "yref": "y1"
         },
         {
          "align": "left",
          "font": {
           "color": "#000000"
          },
          "showarrow": false,
          "text": "15",
          "x": 3.55,
          "xanchor": "left",
          "xref": "x1",
          "y": 21,
          "yref": "y1"
         },
         {
          "align": "left",
          "font": {
           "color": "#000000"
          },
          "showarrow": false,
          "text": "Mountain View",
          "x": 4.55,
          "xanchor": "left",
          "xref": "x1",
          "y": 21,
          "yref": "y1"
         },
         {
          "align": "left",
          "font": {
           "color": "#000000"
          },
          "showarrow": false,
          "text": "2013-08-16 00:00:00",
          "x": 5.55,
          "xanchor": "left",
          "xref": "x1",
          "y": 21,
          "yref": "y1"
         },
         {
          "align": "left",
          "font": {
           "color": "#000000"
          },
          "showarrow": false,
          "text": "28",
          "x": -0.45,
          "xanchor": "left",
          "xref": "x1",
          "y": 22,
          "yref": "y1"
         },
         {
          "align": "left",
          "font": {
           "color": "#000000"
          },
          "showarrow": false,
          "text": "Mountain View Caltrain Station",
          "x": 0.55,
          "xanchor": "left",
          "xref": "x1",
          "y": 22,
          "yref": "y1"
         },
         {
          "align": "left",
          "font": {
           "color": "#000000"
          },
          "showarrow": false,
          "text": "37.394358",
          "x": 1.55,
          "xanchor": "left",
          "xref": "x1",
          "y": 22,
          "yref": "y1"
         },
         {
          "align": "left",
          "font": {
           "color": "#000000"
          },
          "showarrow": false,
          "text": "-122.076713",
          "x": 2.55,
          "xanchor": "left",
          "xref": "x1",
          "y": 22,
          "yref": "y1"
         },
         {
          "align": "left",
          "font": {
           "color": "#000000"
          },
          "showarrow": false,
          "text": "23",
          "x": 3.55,
          "xanchor": "left",
          "xref": "x1",
          "y": 22,
          "yref": "y1"
         },
         {
          "align": "left",
          "font": {
           "color": "#000000"
          },
          "showarrow": false,
          "text": "Mountain View",
          "x": 4.55,
          "xanchor": "left",
          "xref": "x1",
          "y": 22,
          "yref": "y1"
         },
         {
          "align": "left",
          "font": {
           "color": "#000000"
          },
          "showarrow": false,
          "text": "2013-08-15 00:00:00",
          "x": 5.55,
          "xanchor": "left",
          "xref": "x1",
          "y": 22,
          "yref": "y1"
         },
         {
          "align": "left",
          "font": {
           "color": "#000000"
          },
          "showarrow": false,
          "text": "29",
          "x": -0.45,
          "xanchor": "left",
          "xref": "x1",
          "y": 23,
          "yref": "y1"
         },
         {
          "align": "left",
          "font": {
           "color": "#000000"
          },
          "showarrow": false,
          "text": "San Antonio Caltrain Station",
          "x": 0.55,
          "xanchor": "left",
          "xref": "x1",
          "y": 23,
          "yref": "y1"
         },
         {
          "align": "left",
          "font": {
           "color": "#000000"
          },
          "showarrow": false,
          "text": "37.40694",
          "x": 1.55,
          "xanchor": "left",
          "xref": "x1",
          "y": 23,
          "yref": "y1"
         },
         {
          "align": "left",
          "font": {
           "color": "#000000"
          },
          "showarrow": false,
          "text": "-122.106758",
          "x": 2.55,
          "xanchor": "left",
          "xref": "x1",
          "y": 23,
          "yref": "y1"
         },
         {
          "align": "left",
          "font": {
           "color": "#000000"
          },
          "showarrow": false,
          "text": "23",
          "x": 3.55,
          "xanchor": "left",
          "xref": "x1",
          "y": 23,
          "yref": "y1"
         },
         {
          "align": "left",
          "font": {
           "color": "#000000"
          },
          "showarrow": false,
          "text": "Mountain View",
          "x": 4.55,
          "xanchor": "left",
          "xref": "x1",
          "y": 23,
          "yref": "y1"
         },
         {
          "align": "left",
          "font": {
           "color": "#000000"
          },
          "showarrow": false,
          "text": "2013-08-15 00:00:00",
          "x": 5.55,
          "xanchor": "left",
          "xref": "x1",
          "y": 23,
          "yref": "y1"
         },
         {
          "align": "left",
          "font": {
           "color": "#000000"
          },
          "showarrow": false,
          "text": "30",
          "x": -0.45,
          "xanchor": "left",
          "xref": "x1",
          "y": 24,
          "yref": "y1"
         },
         {
          "align": "left",
          "font": {
           "color": "#000000"
          },
          "showarrow": false,
          "text": "Evelyn Park and Ride",
          "x": 0.55,
          "xanchor": "left",
          "xref": "x1",
          "y": 24,
          "yref": "y1"
         },
         {
          "align": "left",
          "font": {
           "color": "#000000"
          },
          "showarrow": false,
          "text": "37.390277",
          "x": 1.55,
          "xanchor": "left",
          "xref": "x1",
          "y": 24,
          "yref": "y1"
         },
         {
          "align": "left",
          "font": {
           "color": "#000000"
          },
          "showarrow": false,
          "text": "-122.066553",
          "x": 2.55,
          "xanchor": "left",
          "xref": "x1",
          "y": 24,
          "yref": "y1"
         },
         {
          "align": "left",
          "font": {
           "color": "#000000"
          },
          "showarrow": false,
          "text": "15",
          "x": 3.55,
          "xanchor": "left",
          "xref": "x1",
          "y": 24,
          "yref": "y1"
         },
         {
          "align": "left",
          "font": {
           "color": "#000000"
          },
          "showarrow": false,
          "text": "Mountain View",
          "x": 4.55,
          "xanchor": "left",
          "xref": "x1",
          "y": 24,
          "yref": "y1"
         },
         {
          "align": "left",
          "font": {
           "color": "#000000"
          },
          "showarrow": false,
          "text": "2013-08-16 00:00:00",
          "x": 5.55,
          "xanchor": "left",
          "xref": "x1",
          "y": 24,
          "yref": "y1"
         },
         {
          "align": "left",
          "font": {
           "color": "#000000"
          },
          "showarrow": false,
          "text": "31",
          "x": -0.45,
          "xanchor": "left",
          "xref": "x1",
          "y": 25,
          "yref": "y1"
         },
         {
          "align": "left",
          "font": {
           "color": "#000000"
          },
          "showarrow": false,
          "text": "San Antonio Shopping Center",
          "x": 0.55,
          "xanchor": "left",
          "xref": "x1",
          "y": 25,
          "yref": "y1"
         },
         {
          "align": "left",
          "font": {
           "color": "#000000"
          },
          "showarrow": false,
          "text": "37.400443",
          "x": 1.55,
          "xanchor": "left",
          "xref": "x1",
          "y": 25,
          "yref": "y1"
         },
         {
          "align": "left",
          "font": {
           "color": "#000000"
          },
          "showarrow": false,
          "text": "-122.108338",
          "x": 2.55,
          "xanchor": "left",
          "xref": "x1",
          "y": 25,
          "yref": "y1"
         },
         {
          "align": "left",
          "font": {
           "color": "#000000"
          },
          "showarrow": false,
          "text": "15",
          "x": 3.55,
          "xanchor": "left",
          "xref": "x1",
          "y": 25,
          "yref": "y1"
         },
         {
          "align": "left",
          "font": {
           "color": "#000000"
          },
          "showarrow": false,
          "text": "Mountain View",
          "x": 4.55,
          "xanchor": "left",
          "xref": "x1",
          "y": 25,
          "yref": "y1"
         },
         {
          "align": "left",
          "font": {
           "color": "#000000"
          },
          "showarrow": false,
          "text": "2013-12-31 00:00:00",
          "x": 5.55,
          "xanchor": "left",
          "xref": "x1",
          "y": 25,
          "yref": "y1"
         },
         {
          "align": "left",
          "font": {
           "color": "#000000"
          },
          "showarrow": false,
          "text": "32",
          "x": -0.45,
          "xanchor": "left",
          "xref": "x1",
          "y": 26,
          "yref": "y1"
         },
         {
          "align": "left",
          "font": {
           "color": "#000000"
          },
          "showarrow": false,
          "text": "Castro Street and El Camino Real",
          "x": 0.55,
          "xanchor": "left",
          "xref": "x1",
          "y": 26,
          "yref": "y1"
         },
         {
          "align": "left",
          "font": {
           "color": "#000000"
          },
          "showarrow": false,
          "text": "37.385956",
          "x": 1.55,
          "xanchor": "left",
          "xref": "x1",
          "y": 26,
          "yref": "y1"
         },
         {
          "align": "left",
          "font": {
           "color": "#000000"
          },
          "showarrow": false,
          "text": "-122.083678",
          "x": 2.55,
          "xanchor": "left",
          "xref": "x1",
          "y": 26,
          "yref": "y1"
         },
         {
          "align": "left",
          "font": {
           "color": "#000000"
          },
          "showarrow": false,
          "text": "11",
          "x": 3.55,
          "xanchor": "left",
          "xref": "x1",
          "y": 26,
          "yref": "y1"
         },
         {
          "align": "left",
          "font": {
           "color": "#000000"
          },
          "showarrow": false,
          "text": "Mountain View",
          "x": 4.55,
          "xanchor": "left",
          "xref": "x1",
          "y": 26,
          "yref": "y1"
         },
         {
          "align": "left",
          "font": {
           "color": "#000000"
          },
          "showarrow": false,
          "text": "2013-12-31 00:00:00",
          "x": 5.55,
          "xanchor": "left",
          "xref": "x1",
          "y": 26,
          "yref": "y1"
         },
         {
          "align": "left",
          "font": {
           "color": "#000000"
          },
          "showarrow": false,
          "text": "33",
          "x": -0.45,
          "xanchor": "left",
          "xref": "x1",
          "y": 27,
          "yref": "y1"
         },
         {
          "align": "left",
          "font": {
           "color": "#000000"
          },
          "showarrow": false,
          "text": "Rengstorff Avenue / California Street",
          "x": 0.55,
          "xanchor": "left",
          "xref": "x1",
          "y": 27,
          "yref": "y1"
         },
         {
          "align": "left",
          "font": {
           "color": "#000000"
          },
          "showarrow": false,
          "text": "37.400241",
          "x": 1.55,
          "xanchor": "left",
          "xref": "x1",
          "y": 27,
          "yref": "y1"
         },
         {
          "align": "left",
          "font": {
           "color": "#000000"
          },
          "showarrow": false,
          "text": "-122.099076",
          "x": 2.55,
          "xanchor": "left",
          "xref": "x1",
          "y": 27,
          "yref": "y1"
         },
         {
          "align": "left",
          "font": {
           "color": "#000000"
          },
          "showarrow": false,
          "text": "15",
          "x": 3.55,
          "xanchor": "left",
          "xref": "x1",
          "y": 27,
          "yref": "y1"
         },
         {
          "align": "left",
          "font": {
           "color": "#000000"
          },
          "showarrow": false,
          "text": "Mountain View",
          "x": 4.55,
          "xanchor": "left",
          "xref": "x1",
          "y": 27,
          "yref": "y1"
         },
         {
          "align": "left",
          "font": {
           "color": "#000000"
          },
          "showarrow": false,
          "text": "2013-08-16 00:00:00",
          "x": 5.55,
          "xanchor": "left",
          "xref": "x1",
          "y": 27,
          "yref": "y1"
         },
         {
          "align": "left",
          "font": {
           "color": "#000000"
          },
          "showarrow": false,
          "text": "34",
          "x": -0.45,
          "xanchor": "left",
          "xref": "x1",
          "y": 28,
          "yref": "y1"
         },
         {
          "align": "left",
          "font": {
           "color": "#000000"
          },
          "showarrow": false,
          "text": "Palo Alto Caltrain Station",
          "x": 0.55,
          "xanchor": "left",
          "xref": "x1",
          "y": 28,
          "yref": "y1"
         },
         {
          "align": "left",
          "font": {
           "color": "#000000"
          },
          "showarrow": false,
          "text": "37.443988",
          "x": 1.55,
          "xanchor": "left",
          "xref": "x1",
          "y": 28,
          "yref": "y1"
         },
         {
          "align": "left",
          "font": {
           "color": "#000000"
          },
          "showarrow": false,
          "text": "-122.164759",
          "x": 2.55,
          "xanchor": "left",
          "xref": "x1",
          "y": 28,
          "yref": "y1"
         },
         {
          "align": "left",
          "font": {
           "color": "#000000"
          },
          "showarrow": false,
          "text": "23",
          "x": 3.55,
          "xanchor": "left",
          "xref": "x1",
          "y": 28,
          "yref": "y1"
         },
         {
          "align": "left",
          "font": {
           "color": "#000000"
          },
          "showarrow": false,
          "text": "Palo Alto",
          "x": 4.55,
          "xanchor": "left",
          "xref": "x1",
          "y": 28,
          "yref": "y1"
         },
         {
          "align": "left",
          "font": {
           "color": "#000000"
          },
          "showarrow": false,
          "text": "2013-08-14 00:00:00",
          "x": 5.55,
          "xanchor": "left",
          "xref": "x1",
          "y": 28,
          "yref": "y1"
         },
         {
          "align": "left",
          "font": {
           "color": "#000000"
          },
          "showarrow": false,
          "text": "35",
          "x": -0.45,
          "xanchor": "left",
          "xref": "x1",
          "y": 29,
          "yref": "y1"
         },
         {
          "align": "left",
          "font": {
           "color": "#000000"
          },
          "showarrow": false,
          "text": "University and Emerson",
          "x": 0.55,
          "xanchor": "left",
          "xref": "x1",
          "y": 29,
          "yref": "y1"
         },
         {
          "align": "left",
          "font": {
           "color": "#000000"
          },
          "showarrow": false,
          "text": "37.444521",
          "x": 1.55,
          "xanchor": "left",
          "xref": "x1",
          "y": 29,
          "yref": "y1"
         },
         {
          "align": "left",
          "font": {
           "color": "#000000"
          },
          "showarrow": false,
          "text": "-122.163093",
          "x": 2.55,
          "xanchor": "left",
          "xref": "x1",
          "y": 29,
          "yref": "y1"
         },
         {
          "align": "left",
          "font": {
           "color": "#000000"
          },
          "showarrow": false,
          "text": "11",
          "x": 3.55,
          "xanchor": "left",
          "xref": "x1",
          "y": 29,
          "yref": "y1"
         },
         {
          "align": "left",
          "font": {
           "color": "#000000"
          },
          "showarrow": false,
          "text": "Palo Alto",
          "x": 4.55,
          "xanchor": "left",
          "xref": "x1",
          "y": 29,
          "yref": "y1"
         },
         {
          "align": "left",
          "font": {
           "color": "#000000"
          },
          "showarrow": false,
          "text": "2013-08-15 00:00:00",
          "x": 5.55,
          "xanchor": "left",
          "xref": "x1",
          "y": 29,
          "yref": "y1"
         },
         {
          "align": "left",
          "font": {
           "color": "#000000"
          },
          "showarrow": false,
          "text": "36",
          "x": -0.45,
          "xanchor": "left",
          "xref": "x1",
          "y": 30,
          "yref": "y1"
         },
         {
          "align": "left",
          "font": {
           "color": "#000000"
          },
          "showarrow": false,
          "text": "California Ave Caltrain Station",
          "x": 0.55,
          "xanchor": "left",
          "xref": "x1",
          "y": 30,
          "yref": "y1"
         },
         {
          "align": "left",
          "font": {
           "color": "#000000"
          },
          "showarrow": false,
          "text": "37.429082",
          "x": 1.55,
          "xanchor": "left",
          "xref": "x1",
          "y": 30,
          "yref": "y1"
         },
         {
          "align": "left",
          "font": {
           "color": "#000000"
          },
          "showarrow": false,
          "text": "-122.142805",
          "x": 2.55,
          "xanchor": "left",
          "xref": "x1",
          "y": 30,
          "yref": "y1"
         },
         {
          "align": "left",
          "font": {
           "color": "#000000"
          },
          "showarrow": false,
          "text": "15",
          "x": 3.55,
          "xanchor": "left",
          "xref": "x1",
          "y": 30,
          "yref": "y1"
         },
         {
          "align": "left",
          "font": {
           "color": "#000000"
          },
          "showarrow": false,
          "text": "Palo Alto",
          "x": 4.55,
          "xanchor": "left",
          "xref": "x1",
          "y": 30,
          "yref": "y1"
         },
         {
          "align": "left",
          "font": {
           "color": "#000000"
          },
          "showarrow": false,
          "text": "2013-08-14 00:00:00",
          "x": 5.55,
          "xanchor": "left",
          "xref": "x1",
          "y": 30,
          "yref": "y1"
         },
         {
          "align": "left",
          "font": {
           "color": "#000000"
          },
          "showarrow": false,
          "text": "37",
          "x": -0.45,
          "xanchor": "left",
          "xref": "x1",
          "y": 31,
          "yref": "y1"
         },
         {
          "align": "left",
          "font": {
           "color": "#000000"
          },
          "showarrow": false,
          "text": "Cowper at University",
          "x": 0.55,
          "xanchor": "left",
          "xref": "x1",
          "y": 31,
          "yref": "y1"
         },
         {
          "align": "left",
          "font": {
           "color": "#000000"
          },
          "showarrow": false,
          "text": "37.448598",
          "x": 1.55,
          "xanchor": "left",
          "xref": "x1",
          "y": 31,
          "yref": "y1"
         },
         {
          "align": "left",
          "font": {
           "color": "#000000"
          },
          "showarrow": false,
          "text": "-122.159504",
          "x": 2.55,
          "xanchor": "left",
          "xref": "x1",
          "y": 31,
          "yref": "y1"
         },
         {
          "align": "left",
          "font": {
           "color": "#000000"
          },
          "showarrow": false,
          "text": "11",
          "x": 3.55,
          "xanchor": "left",
          "xref": "x1",
          "y": 31,
          "yref": "y1"
         },
         {
          "align": "left",
          "font": {
           "color": "#000000"
          },
          "showarrow": false,
          "text": "Palo Alto",
          "x": 4.55,
          "xanchor": "left",
          "xref": "x1",
          "y": 31,
          "yref": "y1"
         },
         {
          "align": "left",
          "font": {
           "color": "#000000"
          },
          "showarrow": false,
          "text": "2013-08-14 00:00:00",
          "x": 5.55,
          "xanchor": "left",
          "xref": "x1",
          "y": 31,
          "yref": "y1"
         },
         {
          "align": "left",
          "font": {
           "color": "#000000"
          },
          "showarrow": false,
          "text": "38",
          "x": -0.45,
          "xanchor": "left",
          "xref": "x1",
          "y": 32,
          "yref": "y1"
         },
         {
          "align": "left",
          "font": {
           "color": "#000000"
          },
          "showarrow": false,
          "text": "Park at Olive",
          "x": 0.55,
          "xanchor": "left",
          "xref": "x1",
          "y": 32,
          "yref": "y1"
         },
         {
          "align": "left",
          "font": {
           "color": "#000000"
          },
          "showarrow": false,
          "text": "37.4256839",
          "x": 1.55,
          "xanchor": "left",
          "xref": "x1",
          "y": 32,
          "yref": "y1"
         },
         {
          "align": "left",
          "font": {
           "color": "#000000"
          },
          "showarrow": false,
          "text": "-122.1377775",
          "x": 2.55,
          "xanchor": "left",
          "xref": "x1",
          "y": 32,
          "yref": "y1"
         },
         {
          "align": "left",
          "font": {
           "color": "#000000"
          },
          "showarrow": false,
          "text": "15",
          "x": 3.55,
          "xanchor": "left",
          "xref": "x1",
          "y": 32,
          "yref": "y1"
         },
         {
          "align": "left",
          "font": {
           "color": "#000000"
          },
          "showarrow": false,
          "text": "Palo Alto",
          "x": 4.55,
          "xanchor": "left",
          "xref": "x1",
          "y": 32,
          "yref": "y1"
         },
         {
          "align": "left",
          "font": {
           "color": "#000000"
          },
          "showarrow": false,
          "text": "2013-08-14 00:00:00",
          "x": 5.55,
          "xanchor": "left",
          "xref": "x1",
          "y": 32,
          "yref": "y1"
         },
         {
          "align": "left",
          "font": {
           "color": "#000000"
          },
          "showarrow": false,
          "text": "41",
          "x": -0.45,
          "xanchor": "left",
          "xref": "x1",
          "y": 33,
          "yref": "y1"
         },
         {
          "align": "left",
          "font": {
           "color": "#000000"
          },
          "showarrow": false,
          "text": "Clay at Battery",
          "x": 0.55,
          "xanchor": "left",
          "xref": "x1",
          "y": 33,
          "yref": "y1"
         },
         {
          "align": "left",
          "font": {
           "color": "#000000"
          },
          "showarrow": false,
          "text": "37.795001",
          "x": 1.55,
          "xanchor": "left",
          "xref": "x1",
          "y": 33,
          "yref": "y1"
         },
         {
          "align": "left",
          "font": {
           "color": "#000000"
          },
          "showarrow": false,
          "text": "-122.39997",
          "x": 2.55,
          "xanchor": "left",
          "xref": "x1",
          "y": 33,
          "yref": "y1"
         },
         {
          "align": "left",
          "font": {
           "color": "#000000"
          },
          "showarrow": false,
          "text": "15",
          "x": 3.55,
          "xanchor": "left",
          "xref": "x1",
          "y": 33,
          "yref": "y1"
         },
         {
          "align": "left",
          "font": {
           "color": "#000000"
          },
          "showarrow": false,
          "text": "San Francisco",
          "x": 4.55,
          "xanchor": "left",
          "xref": "x1",
          "y": 33,
          "yref": "y1"
         },
         {
          "align": "left",
          "font": {
           "color": "#000000"
          },
          "showarrow": false,
          "text": "2013-08-19 00:00:00",
          "x": 5.55,
          "xanchor": "left",
          "xref": "x1",
          "y": 33,
          "yref": "y1"
         },
         {
          "align": "left",
          "font": {
           "color": "#000000"
          },
          "showarrow": false,
          "text": "42",
          "x": -0.45,
          "xanchor": "left",
          "xref": "x1",
          "y": 34,
          "yref": "y1"
         },
         {
          "align": "left",
          "font": {
           "color": "#000000"
          },
          "showarrow": false,
          "text": "Davis at Jackson",
          "x": 0.55,
          "xanchor": "left",
          "xref": "x1",
          "y": 34,
          "yref": "y1"
         },
         {
          "align": "left",
          "font": {
           "color": "#000000"
          },
          "showarrow": false,
          "text": "37.79728",
          "x": 1.55,
          "xanchor": "left",
          "xref": "x1",
          "y": 34,
          "yref": "y1"
         },
         {
          "align": "left",
          "font": {
           "color": "#000000"
          },
          "showarrow": false,
          "text": "-122.398436",
          "x": 2.55,
          "xanchor": "left",
          "xref": "x1",
          "y": 34,
          "yref": "y1"
         },
         {
          "align": "left",
          "font": {
           "color": "#000000"
          },
          "showarrow": false,
          "text": "15",
          "x": 3.55,
          "xanchor": "left",
          "xref": "x1",
          "y": 34,
          "yref": "y1"
         },
         {
          "align": "left",
          "font": {
           "color": "#000000"
          },
          "showarrow": false,
          "text": "San Francisco",
          "x": 4.55,
          "xanchor": "left",
          "xref": "x1",
          "y": 34,
          "yref": "y1"
         },
         {
          "align": "left",
          "font": {
           "color": "#000000"
          },
          "showarrow": false,
          "text": "2013-08-19 00:00:00",
          "x": 5.55,
          "xanchor": "left",
          "xref": "x1",
          "y": 34,
          "yref": "y1"
         },
         {
          "align": "left",
          "font": {
           "color": "#000000"
          },
          "showarrow": false,
          "text": "45",
          "x": -0.45,
          "xanchor": "left",
          "xref": "x1",
          "y": 35,
          "yref": "y1"
         },
         {
          "align": "left",
          "font": {
           "color": "#000000"
          },
          "showarrow": false,
          "text": "Commercial at Montgomery",
          "x": 0.55,
          "xanchor": "left",
          "xref": "x1",
          "y": 35,
          "yref": "y1"
         },
         {
          "align": "left",
          "font": {
           "color": "#000000"
          },
          "showarrow": false,
          "text": "37.794231",
          "x": 1.55,
          "xanchor": "left",
          "xref": "x1",
          "y": 35,
          "yref": "y1"
         },
         {
          "align": "left",
          "font": {
           "color": "#000000"
          },
          "showarrow": false,
          "text": "-122.402923",
          "x": 2.55,
          "xanchor": "left",
          "xref": "x1",
          "y": 35,
          "yref": "y1"
         },
         {
          "align": "left",
          "font": {
           "color": "#000000"
          },
          "showarrow": false,
          "text": "15",
          "x": 3.55,
          "xanchor": "left",
          "xref": "x1",
          "y": 35,
          "yref": "y1"
         },
         {
          "align": "left",
          "font": {
           "color": "#000000"
          },
          "showarrow": false,
          "text": "San Francisco",
          "x": 4.55,
          "xanchor": "left",
          "xref": "x1",
          "y": 35,
          "yref": "y1"
         },
         {
          "align": "left",
          "font": {
           "color": "#000000"
          },
          "showarrow": false,
          "text": "2013-08-19 00:00:00",
          "x": 5.55,
          "xanchor": "left",
          "xref": "x1",
          "y": 35,
          "yref": "y1"
         },
         {
          "align": "left",
          "font": {
           "color": "#000000"
          },
          "showarrow": false,
          "text": "46",
          "x": -0.45,
          "xanchor": "left",
          "xref": "x1",
          "y": 36,
          "yref": "y1"
         },
         {
          "align": "left",
          "font": {
           "color": "#000000"
          },
          "showarrow": false,
          "text": "Washington at Kearney",
          "x": 0.55,
          "xanchor": "left",
          "xref": "x1",
          "y": 36,
          "yref": "y1"
         },
         {
          "align": "left",
          "font": {
           "color": "#000000"
          },
          "showarrow": false,
          "text": "37.795425",
          "x": 1.55,
          "xanchor": "left",
          "xref": "x1",
          "y": 36,
          "yref": "y1"
         },
         {
          "align": "left",
          "font": {
           "color": "#000000"
          },
          "showarrow": false,
          "text": "-122.404767",
          "x": 2.55,
          "xanchor": "left",
          "xref": "x1",
          "y": 36,
          "yref": "y1"
         },
         {
          "align": "left",
          "font": {
           "color": "#000000"
          },
          "showarrow": false,
          "text": "15",
          "x": 3.55,
          "xanchor": "left",
          "xref": "x1",
          "y": 36,
          "yref": "y1"
         },
         {
          "align": "left",
          "font": {
           "color": "#000000"
          },
          "showarrow": false,
          "text": "San Francisco",
          "x": 4.55,
          "xanchor": "left",
          "xref": "x1",
          "y": 36,
          "yref": "y1"
         },
         {
          "align": "left",
          "font": {
           "color": "#000000"
          },
          "showarrow": false,
          "text": "2013-08-19 00:00:00",
          "x": 5.55,
          "xanchor": "left",
          "xref": "x1",
          "y": 36,
          "yref": "y1"
         },
         {
          "align": "left",
          "font": {
           "color": "#000000"
          },
          "showarrow": false,
          "text": "47",
          "x": -0.45,
          "xanchor": "left",
          "xref": "x1",
          "y": 37,
          "yref": "y1"
         },
         {
          "align": "left",
          "font": {
           "color": "#000000"
          },
          "showarrow": false,
          "text": "Post at Kearney",
          "x": 0.55,
          "xanchor": "left",
          "xref": "x1",
          "y": 37,
          "yref": "y1"
         },
         {
          "align": "left",
          "font": {
           "color": "#000000"
          },
          "showarrow": false,
          "text": "37.788975",
          "x": 1.55,
          "xanchor": "left",
          "xref": "x1",
          "y": 37,
          "yref": "y1"
         },
         {
          "align": "left",
          "font": {
           "color": "#000000"
          },
          "showarrow": false,
          "text": "-122.403452",
          "x": 2.55,
          "xanchor": "left",
          "xref": "x1",
          "y": 37,
          "yref": "y1"
         },
         {
          "align": "left",
          "font": {
           "color": "#000000"
          },
          "showarrow": false,
          "text": "19",
          "x": 3.55,
          "xanchor": "left",
          "xref": "x1",
          "y": 37,
          "yref": "y1"
         },
         {
          "align": "left",
          "font": {
           "color": "#000000"
          },
          "showarrow": false,
          "text": "San Francisco",
          "x": 4.55,
          "xanchor": "left",
          "xref": "x1",
          "y": 37,
          "yref": "y1"
         },
         {
          "align": "left",
          "font": {
           "color": "#000000"
          },
          "showarrow": false,
          "text": "2013-08-19 00:00:00",
          "x": 5.55,
          "xanchor": "left",
          "xref": "x1",
          "y": 37,
          "yref": "y1"
         },
         {
          "align": "left",
          "font": {
           "color": "#000000"
          },
          "showarrow": false,
          "text": "48",
          "x": -0.45,
          "xanchor": "left",
          "xref": "x1",
          "y": 38,
          "yref": "y1"
         },
         {
          "align": "left",
          "font": {
           "color": "#000000"
          },
          "showarrow": false,
          "text": "Embarcadero at Vallejo",
          "x": 0.55,
          "xanchor": "left",
          "xref": "x1",
          "y": 38,
          "yref": "y1"
         },
         {
          "align": "left",
          "font": {
           "color": "#000000"
          },
          "showarrow": false,
          "text": "37.799953",
          "x": 1.55,
          "xanchor": "left",
          "xref": "x1",
          "y": 38,
          "yref": "y1"
         },
         {
          "align": "left",
          "font": {
           "color": "#000000"
          },
          "showarrow": false,
          "text": "-122.398525",
          "x": 2.55,
          "xanchor": "left",
          "xref": "x1",
          "y": 38,
          "yref": "y1"
         },
         {
          "align": "left",
          "font": {
           "color": "#000000"
          },
          "showarrow": false,
          "text": "15",
          "x": 3.55,
          "xanchor": "left",
          "xref": "x1",
          "y": 38,
          "yref": "y1"
         },
         {
          "align": "left",
          "font": {
           "color": "#000000"
          },
          "showarrow": false,
          "text": "San Francisco",
          "x": 4.55,
          "xanchor": "left",
          "xref": "x1",
          "y": 38,
          "yref": "y1"
         },
         {
          "align": "left",
          "font": {
           "color": "#000000"
          },
          "showarrow": false,
          "text": "2013-08-19 00:00:00",
          "x": 5.55,
          "xanchor": "left",
          "xref": "x1",
          "y": 38,
          "yref": "y1"
         },
         {
          "align": "left",
          "font": {
           "color": "#000000"
          },
          "showarrow": false,
          "text": "49",
          "x": -0.45,
          "xanchor": "left",
          "xref": "x1",
          "y": 39,
          "yref": "y1"
         },
         {
          "align": "left",
          "font": {
           "color": "#000000"
          },
          "showarrow": false,
          "text": "Spear at Folsom",
          "x": 0.55,
          "xanchor": "left",
          "xref": "x1",
          "y": 39,
          "yref": "y1"
         },
         {
          "align": "left",
          "font": {
           "color": "#000000"
          },
          "showarrow": false,
          "text": "37.790302",
          "x": 1.55,
          "xanchor": "left",
          "xref": "x1",
          "y": 39,
          "yref": "y1"
         },
         {
          "align": "left",
          "font": {
           "color": "#000000"
          },
          "showarrow": false,
          "text": "-122.390637",
          "x": 2.55,
          "xanchor": "left",
          "xref": "x1",
          "y": 39,
          "yref": "y1"
         },
         {
          "align": "left",
          "font": {
           "color": "#000000"
          },
          "showarrow": false,
          "text": "19",
          "x": 3.55,
          "xanchor": "left",
          "xref": "x1",
          "y": 39,
          "yref": "y1"
         },
         {
          "align": "left",
          "font": {
           "color": "#000000"
          },
          "showarrow": false,
          "text": "San Francisco",
          "x": 4.55,
          "xanchor": "left",
          "xref": "x1",
          "y": 39,
          "yref": "y1"
         },
         {
          "align": "left",
          "font": {
           "color": "#000000"
          },
          "showarrow": false,
          "text": "2013-08-20 00:00:00",
          "x": 5.55,
          "xanchor": "left",
          "xref": "x1",
          "y": 39,
          "yref": "y1"
         },
         {
          "align": "left",
          "font": {
           "color": "#000000"
          },
          "showarrow": false,
          "text": "50",
          "x": -0.45,
          "xanchor": "left",
          "xref": "x1",
          "y": 40,
          "yref": "y1"
         },
         {
          "align": "left",
          "font": {
           "color": "#000000"
          },
          "showarrow": false,
          "text": "Harry Bridges Plaza (Ferry Building)",
          "x": 0.55,
          "xanchor": "left",
          "xref": "x1",
          "y": 40,
          "yref": "y1"
         },
         {
          "align": "left",
          "font": {
           "color": "#000000"
          },
          "showarrow": false,
          "text": "37.795392",
          "x": 1.55,
          "xanchor": "left",
          "xref": "x1",
          "y": 40,
          "yref": "y1"
         },
         {
          "align": "left",
          "font": {
           "color": "#000000"
          },
          "showarrow": false,
          "text": "-122.394203",
          "x": 2.55,
          "xanchor": "left",
          "xref": "x1",
          "y": 40,
          "yref": "y1"
         },
         {
          "align": "left",
          "font": {
           "color": "#000000"
          },
          "showarrow": false,
          "text": "23",
          "x": 3.55,
          "xanchor": "left",
          "xref": "x1",
          "y": 40,
          "yref": "y1"
         },
         {
          "align": "left",
          "font": {
           "color": "#000000"
          },
          "showarrow": false,
          "text": "San Francisco",
          "x": 4.55,
          "xanchor": "left",
          "xref": "x1",
          "y": 40,
          "yref": "y1"
         },
         {
          "align": "left",
          "font": {
           "color": "#000000"
          },
          "showarrow": false,
          "text": "2013-08-20 00:00:00",
          "x": 5.55,
          "xanchor": "left",
          "xref": "x1",
          "y": 40,
          "yref": "y1"
         },
         {
          "align": "left",
          "font": {
           "color": "#000000"
          },
          "showarrow": false,
          "text": "51",
          "x": -0.45,
          "xanchor": "left",
          "xref": "x1",
          "y": 41,
          "yref": "y1"
         },
         {
          "align": "left",
          "font": {
           "color": "#000000"
          },
          "showarrow": false,
          "text": "Embarcadero at Folsom",
          "x": 0.55,
          "xanchor": "left",
          "xref": "x1",
          "y": 41,
          "yref": "y1"
         },
         {
          "align": "left",
          "font": {
           "color": "#000000"
          },
          "showarrow": false,
          "text": "37.791464",
          "x": 1.55,
          "xanchor": "left",
          "xref": "x1",
          "y": 41,
          "yref": "y1"
         },
         {
          "align": "left",
          "font": {
           "color": "#000000"
          },
          "showarrow": false,
          "text": "-122.391034",
          "x": 2.55,
          "xanchor": "left",
          "xref": "x1",
          "y": 41,
          "yref": "y1"
         },
         {
          "align": "left",
          "font": {
           "color": "#000000"
          },
          "showarrow": false,
          "text": "19",
          "x": 3.55,
          "xanchor": "left",
          "xref": "x1",
          "y": 41,
          "yref": "y1"
         },
         {
          "align": "left",
          "font": {
           "color": "#000000"
          },
          "showarrow": false,
          "text": "San Francisco",
          "x": 4.55,
          "xanchor": "left",
          "xref": "x1",
          "y": 41,
          "yref": "y1"
         },
         {
          "align": "left",
          "font": {
           "color": "#000000"
          },
          "showarrow": false,
          "text": "2013-08-20 00:00:00",
          "x": 5.55,
          "xanchor": "left",
          "xref": "x1",
          "y": 41,
          "yref": "y1"
         },
         {
          "align": "left",
          "font": {
           "color": "#000000"
          },
          "showarrow": false,
          "text": "39",
          "x": -0.45,
          "xanchor": "left",
          "xref": "x1",
          "y": 42,
          "yref": "y1"
         },
         {
          "align": "left",
          "font": {
           "color": "#000000"
          },
          "showarrow": false,
          "text": "Powell Street BART",
          "x": 0.55,
          "xanchor": "left",
          "xref": "x1",
          "y": 42,
          "yref": "y1"
         },
         {
          "align": "left",
          "font": {
           "color": "#000000"
          },
          "showarrow": false,
          "text": "37.783871",
          "x": 1.55,
          "xanchor": "left",
          "xref": "x1",
          "y": 42,
          "yref": "y1"
         },
         {
          "align": "left",
          "font": {
           "color": "#000000"
          },
          "showarrow": false,
          "text": "-122.408433",
          "x": 2.55,
          "xanchor": "left",
          "xref": "x1",
          "y": 42,
          "yref": "y1"
         },
         {
          "align": "left",
          "font": {
           "color": "#000000"
          },
          "showarrow": false,
          "text": "19",
          "x": 3.55,
          "xanchor": "left",
          "xref": "x1",
          "y": 42,
          "yref": "y1"
         },
         {
          "align": "left",
          "font": {
           "color": "#000000"
          },
          "showarrow": false,
          "text": "San Francisco",
          "x": 4.55,
          "xanchor": "left",
          "xref": "x1",
          "y": 42,
          "yref": "y1"
         },
         {
          "align": "left",
          "font": {
           "color": "#000000"
          },
          "showarrow": false,
          "text": "2013-08-25 00:00:00",
          "x": 5.55,
          "xanchor": "left",
          "xref": "x1",
          "y": 42,
          "yref": "y1"
         },
         {
          "align": "left",
          "font": {
           "color": "#000000"
          },
          "showarrow": false,
          "text": "54",
          "x": -0.45,
          "xanchor": "left",
          "xref": "x1",
          "y": 43,
          "yref": "y1"
         },
         {
          "align": "left",
          "font": {
           "color": "#000000"
          },
          "showarrow": false,
          "text": "Embarcadero at Bryant",
          "x": 0.55,
          "xanchor": "left",
          "xref": "x1",
          "y": 43,
          "yref": "y1"
         },
         {
          "align": "left",
          "font": {
           "color": "#000000"
          },
          "showarrow": false,
          "text": "37.787152",
          "x": 1.55,
          "xanchor": "left",
          "xref": "x1",
          "y": 43,
          "yref": "y1"
         },
         {
          "align": "left",
          "font": {
           "color": "#000000"
          },
          "showarrow": false,
          "text": "-122.388013",
          "x": 2.55,
          "xanchor": "left",
          "xref": "x1",
          "y": 43,
          "yref": "y1"
         },
         {
          "align": "left",
          "font": {
           "color": "#000000"
          },
          "showarrow": false,
          "text": "15",
          "x": 3.55,
          "xanchor": "left",
          "xref": "x1",
          "y": 43,
          "yref": "y1"
         },
         {
          "align": "left",
          "font": {
           "color": "#000000"
          },
          "showarrow": false,
          "text": "San Francisco",
          "x": 4.55,
          "xanchor": "left",
          "xref": "x1",
          "y": 43,
          "yref": "y1"
         },
         {
          "align": "left",
          "font": {
           "color": "#000000"
          },
          "showarrow": false,
          "text": "2013-08-20 00:00:00",
          "x": 5.55,
          "xanchor": "left",
          "xref": "x1",
          "y": 43,
          "yref": "y1"
         },
         {
          "align": "left",
          "font": {
           "color": "#000000"
          },
          "showarrow": false,
          "text": "55",
          "x": -0.45,
          "xanchor": "left",
          "xref": "x1",
          "y": 44,
          "yref": "y1"
         },
         {
          "align": "left",
          "font": {
           "color": "#000000"
          },
          "showarrow": false,
          "text": "Temporary Transbay Terminal (Howard at Beale)",
          "x": 0.55,
          "xanchor": "left",
          "xref": "x1",
          "y": 44,
          "yref": "y1"
         },
         {
          "align": "left",
          "font": {
           "color": "#000000"
          },
          "showarrow": false,
          "text": "37.789756",
          "x": 1.55,
          "xanchor": "left",
          "xref": "x1",
          "y": 44,
          "yref": "y1"
         },
         {
          "align": "left",
          "font": {
           "color": "#000000"
          },
          "showarrow": false,
          "text": "-122.394643",
          "x": 2.55,
          "xanchor": "left",
          "xref": "x1",
          "y": 44,
          "yref": "y1"
         },
         {
          "align": "left",
          "font": {
           "color": "#000000"
          },
          "showarrow": false,
          "text": "23",
          "x": 3.55,
          "xanchor": "left",
          "xref": "x1",
          "y": 44,
          "yref": "y1"
         },
         {
          "align": "left",
          "font": {
           "color": "#000000"
          },
          "showarrow": false,
          "text": "San Francisco",
          "x": 4.55,
          "xanchor": "left",
          "xref": "x1",
          "y": 44,
          "yref": "y1"
         },
         {
          "align": "left",
          "font": {
           "color": "#000000"
          },
          "showarrow": false,
          "text": "2013-08-20 00:00:00",
          "x": 5.55,
          "xanchor": "left",
          "xref": "x1",
          "y": 44,
          "yref": "y1"
         },
         {
          "align": "left",
          "font": {
           "color": "#000000"
          },
          "showarrow": false,
          "text": "56",
          "x": -0.45,
          "xanchor": "left",
          "xref": "x1",
          "y": 45,
          "yref": "y1"
         },
         {
          "align": "left",
          "font": {
           "color": "#000000"
          },
          "showarrow": false,
          "text": "Beale at Market",
          "x": 0.55,
          "xanchor": "left",
          "xref": "x1",
          "y": 45,
          "yref": "y1"
         },
         {
          "align": "left",
          "font": {
           "color": "#000000"
          },
          "showarrow": false,
          "text": "37.792251",
          "x": 1.55,
          "xanchor": "left",
          "xref": "x1",
          "y": 45,
          "yref": "y1"
         },
         {
          "align": "left",
          "font": {
           "color": "#000000"
          },
          "showarrow": false,
          "text": "-122.397086",
          "x": 2.55,
          "xanchor": "left",
          "xref": "x1",
          "y": 45,
          "yref": "y1"
         },
         {
          "align": "left",
          "font": {
           "color": "#000000"
          },
          "showarrow": false,
          "text": "19",
          "x": 3.55,
          "xanchor": "left",
          "xref": "x1",
          "y": 45,
          "yref": "y1"
         },
         {
          "align": "left",
          "font": {
           "color": "#000000"
          },
          "showarrow": false,
          "text": "San Francisco",
          "x": 4.55,
          "xanchor": "left",
          "xref": "x1",
          "y": 45,
          "yref": "y1"
         },
         {
          "align": "left",
          "font": {
           "color": "#000000"
          },
          "showarrow": false,
          "text": "2013-08-20 00:00:00",
          "x": 5.55,
          "xanchor": "left",
          "xref": "x1",
          "y": 45,
          "yref": "y1"
         },
         {
          "align": "left",
          "font": {
           "color": "#000000"
          },
          "showarrow": false,
          "text": "57",
          "x": -0.45,
          "xanchor": "left",
          "xref": "x1",
          "y": 46,
          "yref": "y1"
         },
         {
          "align": "left",
          "font": {
           "color": "#000000"
          },
          "showarrow": false,
          "text": "5th at Howard",
          "x": 0.55,
          "xanchor": "left",
          "xref": "x1",
          "y": 46,
          "yref": "y1"
         },
         {
          "align": "left",
          "font": {
           "color": "#000000"
          },
          "showarrow": false,
          "text": "37.781752",
          "x": 1.55,
          "xanchor": "left",
          "xref": "x1",
          "y": 46,
          "yref": "y1"
         },
         {
          "align": "left",
          "font": {
           "color": "#000000"
          },
          "showarrow": false,
          "text": "-122.405127",
          "x": 2.55,
          "xanchor": "left",
          "xref": "x1",
          "y": 46,
          "yref": "y1"
         },
         {
          "align": "left",
          "font": {
           "color": "#000000"
          },
          "showarrow": false,
          "text": "15",
          "x": 3.55,
          "xanchor": "left",
          "xref": "x1",
          "y": 46,
          "yref": "y1"
         },
         {
          "align": "left",
          "font": {
           "color": "#000000"
          },
          "showarrow": false,
          "text": "San Francisco",
          "x": 4.55,
          "xanchor": "left",
          "xref": "x1",
          "y": 46,
          "yref": "y1"
         },
         {
          "align": "left",
          "font": {
           "color": "#000000"
          },
          "showarrow": false,
          "text": "2013-08-21 00:00:00",
          "x": 5.55,
          "xanchor": "left",
          "xref": "x1",
          "y": 46,
          "yref": "y1"
         },
         {
          "align": "left",
          "font": {
           "color": "#000000"
          },
          "showarrow": false,
          "text": "58",
          "x": -0.45,
          "xanchor": "left",
          "xref": "x1",
          "y": 47,
          "yref": "y1"
         },
         {
          "align": "left",
          "font": {
           "color": "#000000"
          },
          "showarrow": false,
          "text": "San Francisco City Hall",
          "x": 0.55,
          "xanchor": "left",
          "xref": "x1",
          "y": 47,
          "yref": "y1"
         },
         {
          "align": "left",
          "font": {
           "color": "#000000"
          },
          "showarrow": false,
          "text": "37.77865",
          "x": 1.55,
          "xanchor": "left",
          "xref": "x1",
          "y": 47,
          "yref": "y1"
         },
         {
          "align": "left",
          "font": {
           "color": "#000000"
          },
          "showarrow": false,
          "text": "-122.418235",
          "x": 2.55,
          "xanchor": "left",
          "xref": "x1",
          "y": 47,
          "yref": "y1"
         },
         {
          "align": "left",
          "font": {
           "color": "#000000"
          },
          "showarrow": false,
          "text": "19",
          "x": 3.55,
          "xanchor": "left",
          "xref": "x1",
          "y": 47,
          "yref": "y1"
         },
         {
          "align": "left",
          "font": {
           "color": "#000000"
          },
          "showarrow": false,
          "text": "San Francisco",
          "x": 4.55,
          "xanchor": "left",
          "xref": "x1",
          "y": 47,
          "yref": "y1"
         },
         {
          "align": "left",
          "font": {
           "color": "#000000"
          },
          "showarrow": false,
          "text": "2013-08-21 00:00:00",
          "x": 5.55,
          "xanchor": "left",
          "xref": "x1",
          "y": 47,
          "yref": "y1"
         },
         {
          "align": "left",
          "font": {
           "color": "#000000"
          },
          "showarrow": false,
          "text": "59",
          "x": -0.45,
          "xanchor": "left",
          "xref": "x1",
          "y": 48,
          "yref": "y1"
         },
         {
          "align": "left",
          "font": {
           "color": "#000000"
          },
          "showarrow": false,
          "text": "Golden Gate at Polk",
          "x": 0.55,
          "xanchor": "left",
          "xref": "x1",
          "y": 48,
          "yref": "y1"
         },
         {
          "align": "left",
          "font": {
           "color": "#000000"
          },
          "showarrow": false,
          "text": "37.781332",
          "x": 1.55,
          "xanchor": "left",
          "xref": "x1",
          "y": 48,
          "yref": "y1"
         },
         {
          "align": "left",
          "font": {
           "color": "#000000"
          },
          "showarrow": false,
          "text": "-122.418603",
          "x": 2.55,
          "xanchor": "left",
          "xref": "x1",
          "y": 48,
          "yref": "y1"
         },
         {
          "align": "left",
          "font": {
           "color": "#000000"
          },
          "showarrow": false,
          "text": "23",
          "x": 3.55,
          "xanchor": "left",
          "xref": "x1",
          "y": 48,
          "yref": "y1"
         },
         {
          "align": "left",
          "font": {
           "color": "#000000"
          },
          "showarrow": false,
          "text": "San Francisco",
          "x": 4.55,
          "xanchor": "left",
          "xref": "x1",
          "y": 48,
          "yref": "y1"
         },
         {
          "align": "left",
          "font": {
           "color": "#000000"
          },
          "showarrow": false,
          "text": "2013-08-21 00:00:00",
          "x": 5.55,
          "xanchor": "left",
          "xref": "x1",
          "y": 48,
          "yref": "y1"
         },
         {
          "align": "left",
          "font": {
           "color": "#000000"
          },
          "showarrow": false,
          "text": "60",
          "x": -0.45,
          "xanchor": "left",
          "xref": "x1",
          "y": 49,
          "yref": "y1"
         },
         {
          "align": "left",
          "font": {
           "color": "#000000"
          },
          "showarrow": false,
          "text": "Embarcadero at Sansome",
          "x": 0.55,
          "xanchor": "left",
          "xref": "x1",
          "y": 49,
          "yref": "y1"
         },
         {
          "align": "left",
          "font": {
           "color": "#000000"
          },
          "showarrow": false,
          "text": "37.80477",
          "x": 1.55,
          "xanchor": "left",
          "xref": "x1",
          "y": 49,
          "yref": "y1"
         },
         {
          "align": "left",
          "font": {
           "color": "#000000"
          },
          "showarrow": false,
          "text": "-122.403234",
          "x": 2.55,
          "xanchor": "left",
          "xref": "x1",
          "y": 49,
          "yref": "y1"
         },
         {
          "align": "left",
          "font": {
           "color": "#000000"
          },
          "showarrow": false,
          "text": "15",
          "x": 3.55,
          "xanchor": "left",
          "xref": "x1",
          "y": 49,
          "yref": "y1"
         },
         {
          "align": "left",
          "font": {
           "color": "#000000"
          },
          "showarrow": false,
          "text": "San Francisco",
          "x": 4.55,
          "xanchor": "left",
          "xref": "x1",
          "y": 49,
          "yref": "y1"
         },
         {
          "align": "left",
          "font": {
           "color": "#000000"
          },
          "showarrow": false,
          "text": "2013-08-21 00:00:00",
          "x": 5.55,
          "xanchor": "left",
          "xref": "x1",
          "y": 49,
          "yref": "y1"
         },
         {
          "align": "left",
          "font": {
           "color": "#000000"
          },
          "showarrow": false,
          "text": "61",
          "x": -0.45,
          "xanchor": "left",
          "xref": "x1",
          "y": 50,
          "yref": "y1"
         },
         {
          "align": "left",
          "font": {
           "color": "#000000"
          },
          "showarrow": false,
          "text": "2nd at Townsend",
          "x": 0.55,
          "xanchor": "left",
          "xref": "x1",
          "y": 50,
          "yref": "y1"
         },
         {
          "align": "left",
          "font": {
           "color": "#000000"
          },
          "showarrow": false,
          "text": "37.780526",
          "x": 1.55,
          "xanchor": "left",
          "xref": "x1",
          "y": 50,
          "yref": "y1"
         },
         {
          "align": "left",
          "font": {
           "color": "#000000"
          },
          "showarrow": false,
          "text": "-122.390288",
          "x": 2.55,
          "xanchor": "left",
          "xref": "x1",
          "y": 50,
          "yref": "y1"
         },
         {
          "align": "left",
          "font": {
           "color": "#000000"
          },
          "showarrow": false,
          "text": "27",
          "x": 3.55,
          "xanchor": "left",
          "xref": "x1",
          "y": 50,
          "yref": "y1"
         },
         {
          "align": "left",
          "font": {
           "color": "#000000"
          },
          "showarrow": false,
          "text": "San Francisco",
          "x": 4.55,
          "xanchor": "left",
          "xref": "x1",
          "y": 50,
          "yref": "y1"
         },
         {
          "align": "left",
          "font": {
           "color": "#000000"
          },
          "showarrow": false,
          "text": "2013-08-22 00:00:00",
          "x": 5.55,
          "xanchor": "left",
          "xref": "x1",
          "y": 50,
          "yref": "y1"
         },
         {
          "align": "left",
          "font": {
           "color": "#000000"
          },
          "showarrow": false,
          "text": "62",
          "x": -0.45,
          "xanchor": "left",
          "xref": "x1",
          "y": 51,
          "yref": "y1"
         },
         {
          "align": "left",
          "font": {
           "color": "#000000"
          },
          "showarrow": false,
          "text": "2nd at Folsom",
          "x": 0.55,
          "xanchor": "left",
          "xref": "x1",
          "y": 51,
          "yref": "y1"
         },
         {
          "align": "left",
          "font": {
           "color": "#000000"
          },
          "showarrow": false,
          "text": "37.785299",
          "x": 1.55,
          "xanchor": "left",
          "xref": "x1",
          "y": 51,
          "yref": "y1"
         },
         {
          "align": "left",
          "font": {
           "color": "#000000"
          },
          "showarrow": false,
          "text": "-122.396236",
          "x": 2.55,
          "xanchor": "left",
          "xref": "x1",
          "y": 51,
          "yref": "y1"
         },
         {
          "align": "left",
          "font": {
           "color": "#000000"
          },
          "showarrow": false,
          "text": "19",
          "x": 3.55,
          "xanchor": "left",
          "xref": "x1",
          "y": 51,
          "yref": "y1"
         },
         {
          "align": "left",
          "font": {
           "color": "#000000"
          },
          "showarrow": false,
          "text": "San Francisco",
          "x": 4.55,
          "xanchor": "left",
          "xref": "x1",
          "y": 51,
          "yref": "y1"
         },
         {
          "align": "left",
          "font": {
           "color": "#000000"
          },
          "showarrow": false,
          "text": "2013-08-22 00:00:00",
          "x": 5.55,
          "xanchor": "left",
          "xref": "x1",
          "y": 51,
          "yref": "y1"
         },
         {
          "align": "left",
          "font": {
           "color": "#000000"
          },
          "showarrow": false,
          "text": "63",
          "x": -0.45,
          "xanchor": "left",
          "xref": "x1",
          "y": 52,
          "yref": "y1"
         },
         {
          "align": "left",
          "font": {
           "color": "#000000"
          },
          "showarrow": false,
          "text": "Howard at 2nd",
          "x": 0.55,
          "xanchor": "left",
          "xref": "x1",
          "y": 52,
          "yref": "y1"
         },
         {
          "align": "left",
          "font": {
           "color": "#000000"
          },
          "showarrow": false,
          "text": "37.786978",
          "x": 1.55,
          "xanchor": "left",
          "xref": "x1",
          "y": 52,
          "yref": "y1"
         },
         {
          "align": "left",
          "font": {
           "color": "#000000"
          },
          "showarrow": false,
          "text": "-122.398108",
          "x": 2.55,
          "xanchor": "left",
          "xref": "x1",
          "y": 52,
          "yref": "y1"
         },
         {
          "align": "left",
          "font": {
           "color": "#000000"
          },
          "showarrow": false,
          "text": "19",
          "x": 3.55,
          "xanchor": "left",
          "xref": "x1",
          "y": 52,
          "yref": "y1"
         },
         {
          "align": "left",
          "font": {
           "color": "#000000"
          },
          "showarrow": false,
          "text": "San Francisco",
          "x": 4.55,
          "xanchor": "left",
          "xref": "x1",
          "y": 52,
          "yref": "y1"
         },
         {
          "align": "left",
          "font": {
           "color": "#000000"
          },
          "showarrow": false,
          "text": "2013-08-22 00:00:00",
          "x": 5.55,
          "xanchor": "left",
          "xref": "x1",
          "y": 52,
          "yref": "y1"
         },
         {
          "align": "left",
          "font": {
           "color": "#000000"
          },
          "showarrow": false,
          "text": "64",
          "x": -0.45,
          "xanchor": "left",
          "xref": "x1",
          "y": 53,
          "yref": "y1"
         },
         {
          "align": "left",
          "font": {
           "color": "#000000"
          },
          "showarrow": false,
          "text": "2nd at South Park",
          "x": 0.55,
          "xanchor": "left",
          "xref": "x1",
          "y": 53,
          "yref": "y1"
         },
         {
          "align": "left",
          "font": {
           "color": "#000000"
          },
          "showarrow": false,
          "text": "37.782259",
          "x": 1.55,
          "xanchor": "left",
          "xref": "x1",
          "y": 53,
          "yref": "y1"
         },
         {
          "align": "left",
          "font": {
           "color": "#000000"
          },
          "showarrow": false,
          "text": "-122.392738",
          "x": 2.55,
          "xanchor": "left",
          "xref": "x1",
          "y": 53,
          "yref": "y1"
         },
         {
          "align": "left",
          "font": {
           "color": "#000000"
          },
          "showarrow": false,
          "text": "15",
          "x": 3.55,
          "xanchor": "left",
          "xref": "x1",
          "y": 53,
          "yref": "y1"
         },
         {
          "align": "left",
          "font": {
           "color": "#000000"
          },
          "showarrow": false,
          "text": "San Francisco",
          "x": 4.55,
          "xanchor": "left",
          "xref": "x1",
          "y": 53,
          "yref": "y1"
         },
         {
          "align": "left",
          "font": {
           "color": "#000000"
          },
          "showarrow": false,
          "text": "2013-08-22 00:00:00",
          "x": 5.55,
          "xanchor": "left",
          "xref": "x1",
          "y": 53,
          "yref": "y1"
         },
         {
          "align": "left",
          "font": {
           "color": "#000000"
          },
          "showarrow": false,
          "text": "65",
          "x": -0.45,
          "xanchor": "left",
          "xref": "x1",
          "y": 54,
          "yref": "y1"
         },
         {
          "align": "left",
          "font": {
           "color": "#000000"
          },
          "showarrow": false,
          "text": "Townsend at 7th",
          "x": 0.55,
          "xanchor": "left",
          "xref": "x1",
          "y": 54,
          "yref": "y1"
         },
         {
          "align": "left",
          "font": {
           "color": "#000000"
          },
          "showarrow": false,
          "text": "37.771058",
          "x": 1.55,
          "xanchor": "left",
          "xref": "x1",
          "y": 54,
          "yref": "y1"
         },
         {
          "align": "left",
          "font": {
           "color": "#000000"
          },
          "showarrow": false,
          "text": "-122.402717",
          "x": 2.55,
          "xanchor": "left",
          "xref": "x1",
          "y": 54,
          "yref": "y1"
         },
         {
          "align": "left",
          "font": {
           "color": "#000000"
          },
          "showarrow": false,
          "text": "15",
          "x": 3.55,
          "xanchor": "left",
          "xref": "x1",
          "y": 54,
          "yref": "y1"
         },
         {
          "align": "left",
          "font": {
           "color": "#000000"
          },
          "showarrow": false,
          "text": "San Francisco",
          "x": 4.55,
          "xanchor": "left",
          "xref": "x1",
          "y": 54,
          "yref": "y1"
         },
         {
          "align": "left",
          "font": {
           "color": "#000000"
          },
          "showarrow": false,
          "text": "2013-08-22 00:00:00",
          "x": 5.55,
          "xanchor": "left",
          "xref": "x1",
          "y": 54,
          "yref": "y1"
         },
         {
          "align": "left",
          "font": {
           "color": "#000000"
          },
          "showarrow": false,
          "text": "66",
          "x": -0.45,
          "xanchor": "left",
          "xref": "x1",
          "y": 55,
          "yref": "y1"
         },
         {
          "align": "left",
          "font": {
           "color": "#000000"
          },
          "showarrow": false,
          "text": "South Van Ness at Market",
          "x": 0.55,
          "xanchor": "left",
          "xref": "x1",
          "y": 55,
          "yref": "y1"
         },
         {
          "align": "left",
          "font": {
           "color": "#000000"
          },
          "showarrow": false,
          "text": "37.774814",
          "x": 1.55,
          "xanchor": "left",
          "xref": "x1",
          "y": 55,
          "yref": "y1"
         },
         {
          "align": "left",
          "font": {
           "color": "#000000"
          },
          "showarrow": false,
          "text": "-122.418954",
          "x": 2.55,
          "xanchor": "left",
          "xref": "x1",
          "y": 55,
          "yref": "y1"
         },
         {
          "align": "left",
          "font": {
           "color": "#000000"
          },
          "showarrow": false,
          "text": "19",
          "x": 3.55,
          "xanchor": "left",
          "xref": "x1",
          "y": 55,
          "yref": "y1"
         },
         {
          "align": "left",
          "font": {
           "color": "#000000"
          },
          "showarrow": false,
          "text": "San Francisco",
          "x": 4.55,
          "xanchor": "left",
          "xref": "x1",
          "y": 55,
          "yref": "y1"
         },
         {
          "align": "left",
          "font": {
           "color": "#000000"
          },
          "showarrow": false,
          "text": "2013-08-23 00:00:00",
          "x": 5.55,
          "xanchor": "left",
          "xref": "x1",
          "y": 55,
          "yref": "y1"
         },
         {
          "align": "left",
          "font": {
           "color": "#000000"
          },
          "showarrow": false,
          "text": "67",
          "x": -0.45,
          "xanchor": "left",
          "xref": "x1",
          "y": 56,
          "yref": "y1"
         },
         {
          "align": "left",
          "font": {
           "color": "#000000"
          },
          "showarrow": false,
          "text": "Market at 10th",
          "x": 0.55,
          "xanchor": "left",
          "xref": "x1",
          "y": 56,
          "yref": "y1"
         },
         {
          "align": "left",
          "font": {
           "color": "#000000"
          },
          "showarrow": false,
          "text": "37.776619",
          "x": 1.55,
          "xanchor": "left",
          "xref": "x1",
          "y": 56,
          "yref": "y1"
         },
         {
          "align": "left",
          "font": {
           "color": "#000000"
          },
          "showarrow": false,
          "text": "-122.417385",
          "x": 2.55,
          "xanchor": "left",
          "xref": "x1",
          "y": 56,
          "yref": "y1"
         },
         {
          "align": "left",
          "font": {
           "color": "#000000"
          },
          "showarrow": false,
          "text": "27",
          "x": 3.55,
          "xanchor": "left",
          "xref": "x1",
          "y": 56,
          "yref": "y1"
         },
         {
          "align": "left",
          "font": {
           "color": "#000000"
          },
          "showarrow": false,
          "text": "San Francisco",
          "x": 4.55,
          "xanchor": "left",
          "xref": "x1",
          "y": 56,
          "yref": "y1"
         },
         {
          "align": "left",
          "font": {
           "color": "#000000"
          },
          "showarrow": false,
          "text": "2013-08-23 00:00:00",
          "x": 5.55,
          "xanchor": "left",
          "xref": "x1",
          "y": 56,
          "yref": "y1"
         },
         {
          "align": "left",
          "font": {
           "color": "#000000"
          },
          "showarrow": false,
          "text": "68",
          "x": -0.45,
          "xanchor": "left",
          "xref": "x1",
          "y": 57,
          "yref": "y1"
         },
         {
          "align": "left",
          "font": {
           "color": "#000000"
          },
          "showarrow": false,
          "text": "Yerba Buena Center of the Arts (3rd @ Howard)",
          "x": 0.55,
          "xanchor": "left",
          "xref": "x1",
          "y": 57,
          "yref": "y1"
         },
         {
          "align": "left",
          "font": {
           "color": "#000000"
          },
          "showarrow": false,
          "text": "37.784878",
          "x": 1.55,
          "xanchor": "left",
          "xref": "x1",
          "y": 57,
          "yref": "y1"
         },
         {
          "align": "left",
          "font": {
           "color": "#000000"
          },
          "showarrow": false,
          "text": "-122.401014",
          "x": 2.55,
          "xanchor": "left",
          "xref": "x1",
          "y": 57,
          "yref": "y1"
         },
         {
          "align": "left",
          "font": {
           "color": "#000000"
          },
          "showarrow": false,
          "text": "19",
          "x": 3.55,
          "xanchor": "left",
          "xref": "x1",
          "y": 57,
          "yref": "y1"
         },
         {
          "align": "left",
          "font": {
           "color": "#000000"
          },
          "showarrow": false,
          "text": "San Francisco",
          "x": 4.55,
          "xanchor": "left",
          "xref": "x1",
          "y": 57,
          "yref": "y1"
         },
         {
          "align": "left",
          "font": {
           "color": "#000000"
          },
          "showarrow": false,
          "text": "2013-08-23 00:00:00",
          "x": 5.55,
          "xanchor": "left",
          "xref": "x1",
          "y": 57,
          "yref": "y1"
         },
         {
          "align": "left",
          "font": {
           "color": "#000000"
          },
          "showarrow": false,
          "text": "69",
          "x": -0.45,
          "xanchor": "left",
          "xref": "x1",
          "y": 58,
          "yref": "y1"
         },
         {
          "align": "left",
          "font": {
           "color": "#000000"
          },
          "showarrow": false,
          "text": "San Francisco Caltrain 2 (330 Townsend)",
          "x": 0.55,
          "xanchor": "left",
          "xref": "x1",
          "y": 58,
          "yref": "y1"
         },
         {
          "align": "left",
          "font": {
           "color": "#000000"
          },
          "showarrow": false,
          "text": "37.7766",
          "x": 1.55,
          "xanchor": "left",
          "xref": "x1",
          "y": 58,
          "yref": "y1"
         },
         {
          "align": "left",
          "font": {
           "color": "#000000"
          },
          "showarrow": false,
          "text": "-122.39547",
          "x": 2.55,
          "xanchor": "left",
          "xref": "x1",
          "y": 58,
          "yref": "y1"
         },
         {
          "align": "left",
          "font": {
           "color": "#000000"
          },
          "showarrow": false,
          "text": "23",
          "x": 3.55,
          "xanchor": "left",
          "xref": "x1",
          "y": 58,
          "yref": "y1"
         },
         {
          "align": "left",
          "font": {
           "color": "#000000"
          },
          "showarrow": false,
          "text": "San Francisco",
          "x": 4.55,
          "xanchor": "left",
          "xref": "x1",
          "y": 58,
          "yref": "y1"
         },
         {
          "align": "left",
          "font": {
           "color": "#000000"
          },
          "showarrow": false,
          "text": "2013-08-23 00:00:00",
          "x": 5.55,
          "xanchor": "left",
          "xref": "x1",
          "y": 58,
          "yref": "y1"
         },
         {
          "align": "left",
          "font": {
           "color": "#000000"
          },
          "showarrow": false,
          "text": "70",
          "x": -0.45,
          "xanchor": "left",
          "xref": "x1",
          "y": 59,
          "yref": "y1"
         },
         {
          "align": "left",
          "font": {
           "color": "#000000"
          },
          "showarrow": false,
          "text": "San Francisco Caltrain (Townsend at 4th)",
          "x": 0.55,
          "xanchor": "left",
          "xref": "x1",
          "y": 59,
          "yref": "y1"
         },
         {
          "align": "left",
          "font": {
           "color": "#000000"
          },
          "showarrow": false,
          "text": "37.776617",
          "x": 1.55,
          "xanchor": "left",
          "xref": "x1",
          "y": 59,
          "yref": "y1"
         },
         {
          "align": "left",
          "font": {
           "color": "#000000"
          },
          "showarrow": false,
          "text": "-122.39526",
          "x": 2.55,
          "xanchor": "left",
          "xref": "x1",
          "y": 59,
          "yref": "y1"
         },
         {
          "align": "left",
          "font": {
           "color": "#000000"
          },
          "showarrow": false,
          "text": "19",
          "x": 3.55,
          "xanchor": "left",
          "xref": "x1",
          "y": 59,
          "yref": "y1"
         },
         {
          "align": "left",
          "font": {
           "color": "#000000"
          },
          "showarrow": false,
          "text": "San Francisco",
          "x": 4.55,
          "xanchor": "left",
          "xref": "x1",
          "y": 59,
          "yref": "y1"
         },
         {
          "align": "left",
          "font": {
           "color": "#000000"
          },
          "showarrow": false,
          "text": "2013-08-23 00:00:00",
          "x": 5.55,
          "xanchor": "left",
          "xref": "x1",
          "y": 59,
          "yref": "y1"
         },
         {
          "align": "left",
          "font": {
           "color": "#000000"
          },
          "showarrow": false,
          "text": "71",
          "x": -0.45,
          "xanchor": "left",
          "xref": "x1",
          "y": 60,
          "yref": "y1"
         },
         {
          "align": "left",
          "font": {
           "color": "#000000"
          },
          "showarrow": false,
          "text": "Powell at Post (Union Square)",
          "x": 0.55,
          "xanchor": "left",
          "xref": "x1",
          "y": 60,
          "yref": "y1"
         },
         {
          "align": "left",
          "font": {
           "color": "#000000"
          },
          "showarrow": false,
          "text": "37.788446",
          "x": 1.55,
          "xanchor": "left",
          "xref": "x1",
          "y": 60,
          "yref": "y1"
         },
         {
          "align": "left",
          "font": {
           "color": "#000000"
          },
          "showarrow": false,
          "text": "-122.408499",
          "x": 2.55,
          "xanchor": "left",
          "xref": "x1",
          "y": 60,
          "yref": "y1"
         },
         {
          "align": "left",
          "font": {
           "color": "#000000"
          },
          "showarrow": false,
          "text": "19",
          "x": 3.55,
          "xanchor": "left",
          "xref": "x1",
          "y": 60,
          "yref": "y1"
         },
         {
          "align": "left",
          "font": {
           "color": "#000000"
          },
          "showarrow": false,
          "text": "San Francisco",
          "x": 4.55,
          "xanchor": "left",
          "xref": "x1",
          "y": 60,
          "yref": "y1"
         },
         {
          "align": "left",
          "font": {
           "color": "#000000"
          },
          "showarrow": false,
          "text": "2013-08-23 00:00:00",
          "x": 5.55,
          "xanchor": "left",
          "xref": "x1",
          "y": 60,
          "yref": "y1"
         },
         {
          "align": "left",
          "font": {
           "color": "#000000"
          },
          "showarrow": false,
          "text": "72",
          "x": -0.45,
          "xanchor": "left",
          "xref": "x1",
          "y": 61,
          "yref": "y1"
         },
         {
          "align": "left",
          "font": {
           "color": "#000000"
          },
          "showarrow": false,
          "text": "Civic Center BART (7th at Market)",
          "x": 0.55,
          "xanchor": "left",
          "xref": "x1",
          "y": 61,
          "yref": "y1"
         },
         {
          "align": "left",
          "font": {
           "color": "#000000"
          },
          "showarrow": false,
          "text": "37.781039",
          "x": 1.55,
          "xanchor": "left",
          "xref": "x1",
          "y": 61,
          "yref": "y1"
         },
         {
          "align": "left",
          "font": {
           "color": "#000000"
          },
          "showarrow": false,
          "text": "-122.411748",
          "x": 2.55,
          "xanchor": "left",
          "xref": "x1",
          "y": 61,
          "yref": "y1"
         },
         {
          "align": "left",
          "font": {
           "color": "#000000"
          },
          "showarrow": false,
          "text": "23",
          "x": 3.55,
          "xanchor": "left",
          "xref": "x1",
          "y": 61,
          "yref": "y1"
         },
         {
          "align": "left",
          "font": {
           "color": "#000000"
          },
          "showarrow": false,
          "text": "San Francisco",
          "x": 4.55,
          "xanchor": "left",
          "xref": "x1",
          "y": 61,
          "yref": "y1"
         },
         {
          "align": "left",
          "font": {
           "color": "#000000"
          },
          "showarrow": false,
          "text": "2013-08-23 00:00:00",
          "x": 5.55,
          "xanchor": "left",
          "xref": "x1",
          "y": 61,
          "yref": "y1"
         },
         {
          "align": "left",
          "font": {
           "color": "#000000"
          },
          "showarrow": false,
          "text": "73",
          "x": -0.45,
          "xanchor": "left",
          "xref": "x1",
          "y": 62,
          "yref": "y1"
         },
         {
          "align": "left",
          "font": {
           "color": "#000000"
          },
          "showarrow": false,
          "text": "Grant Avenue at Columbus Avenue",
          "x": 0.55,
          "xanchor": "left",
          "xref": "x1",
          "y": 62,
          "yref": "y1"
         },
         {
          "align": "left",
          "font": {
           "color": "#000000"
          },
          "showarrow": false,
          "text": "37.798522",
          "x": 1.55,
          "xanchor": "left",
          "xref": "x1",
          "y": 62,
          "yref": "y1"
         },
         {
          "align": "left",
          "font": {
           "color": "#000000"
          },
          "showarrow": false,
          "text": "-122.407245",
          "x": 2.55,
          "xanchor": "left",
          "xref": "x1",
          "y": 62,
          "yref": "y1"
         },
         {
          "align": "left",
          "font": {
           "color": "#000000"
          },
          "showarrow": false,
          "text": "15",
          "x": 3.55,
          "xanchor": "left",
          "xref": "x1",
          "y": 62,
          "yref": "y1"
         },
         {
          "align": "left",
          "font": {
           "color": "#000000"
          },
          "showarrow": false,
          "text": "San Francisco",
          "x": 4.55,
          "xanchor": "left",
          "xref": "x1",
          "y": 62,
          "yref": "y1"
         },
         {
          "align": "left",
          "font": {
           "color": "#000000"
          },
          "showarrow": false,
          "text": "2013-08-21 00:00:00",
          "x": 5.55,
          "xanchor": "left",
          "xref": "x1",
          "y": 62,
          "yref": "y1"
         },
         {
          "align": "left",
          "font": {
           "color": "#000000"
          },
          "showarrow": false,
          "text": "74",
          "x": -0.45,
          "xanchor": "left",
          "xref": "x1",
          "y": 63,
          "yref": "y1"
         },
         {
          "align": "left",
          "font": {
           "color": "#000000"
          },
          "showarrow": false,
          "text": "Steuart at Market",
          "x": 0.55,
          "xanchor": "left",
          "xref": "x1",
          "y": 63,
          "yref": "y1"
         },
         {
          "align": "left",
          "font": {
           "color": "#000000"
          },
          "showarrow": false,
          "text": "37.794139",
          "x": 1.55,
          "xanchor": "left",
          "xref": "x1",
          "y": 63,
          "yref": "y1"
         },
         {
          "align": "left",
          "font": {
           "color": "#000000"
          },
          "showarrow": false,
          "text": "-122.394434",
          "x": 2.55,
          "xanchor": "left",
          "xref": "x1",
          "y": 63,
          "yref": "y1"
         },
         {
          "align": "left",
          "font": {
           "color": "#000000"
          },
          "showarrow": false,
          "text": "23",
          "x": 3.55,
          "xanchor": "left",
          "xref": "x1",
          "y": 63,
          "yref": "y1"
         },
         {
          "align": "left",
          "font": {
           "color": "#000000"
          },
          "showarrow": false,
          "text": "San Francisco",
          "x": 4.55,
          "xanchor": "left",
          "xref": "x1",
          "y": 63,
          "yref": "y1"
         },
         {
          "align": "left",
          "font": {
           "color": "#000000"
          },
          "showarrow": false,
          "text": "2013-08-25 00:00:00",
          "x": 5.55,
          "xanchor": "left",
          "xref": "x1",
          "y": 63,
          "yref": "y1"
         },
         {
          "align": "left",
          "font": {
           "color": "#000000"
          },
          "showarrow": false,
          "text": "75",
          "x": -0.45,
          "xanchor": "left",
          "xref": "x1",
          "y": 64,
          "yref": "y1"
         },
         {
          "align": "left",
          "font": {
           "color": "#000000"
          },
          "showarrow": false,
          "text": "Mechanics Plaza (Market at Battery)",
          "x": 0.55,
          "xanchor": "left",
          "xref": "x1",
          "y": 64,
          "yref": "y1"
         },
         {
          "align": "left",
          "font": {
           "color": "#000000"
          },
          "showarrow": false,
          "text": "37.7913",
          "x": 1.55,
          "xanchor": "left",
          "xref": "x1",
          "y": 64,
          "yref": "y1"
         },
         {
          "align": "left",
          "font": {
           "color": "#000000"
          },
          "showarrow": false,
          "text": "-122.399051",
          "x": 2.55,
          "xanchor": "left",
          "xref": "x1",
          "y": 64,
          "yref": "y1"
         },
         {
          "align": "left",
          "font": {
           "color": "#000000"
          },
          "showarrow": false,
          "text": "19",
          "x": 3.55,
          "xanchor": "left",
          "xref": "x1",
          "y": 64,
          "yref": "y1"
         },
         {
          "align": "left",
          "font": {
           "color": "#000000"
          },
          "showarrow": false,
          "text": "San Francisco",
          "x": 4.55,
          "xanchor": "left",
          "xref": "x1",
          "y": 64,
          "yref": "y1"
         },
         {
          "align": "left",
          "font": {
           "color": "#000000"
          },
          "showarrow": false,
          "text": "2013-08-25 00:00:00",
          "x": 5.55,
          "xanchor": "left",
          "xref": "x1",
          "y": 64,
          "yref": "y1"
         },
         {
          "align": "left",
          "font": {
           "color": "#000000"
          },
          "showarrow": false,
          "text": "76",
          "x": -0.45,
          "xanchor": "left",
          "xref": "x1",
          "y": 65,
          "yref": "y1"
         },
         {
          "align": "left",
          "font": {
           "color": "#000000"
          },
          "showarrow": false,
          "text": "Market at 4th",
          "x": 0.55,
          "xanchor": "left",
          "xref": "x1",
          "y": 65,
          "yref": "y1"
         },
         {
          "align": "left",
          "font": {
           "color": "#000000"
          },
          "showarrow": false,
          "text": "37.786305",
          "x": 1.55,
          "xanchor": "left",
          "xref": "x1",
          "y": 65,
          "yref": "y1"
         },
         {
          "align": "left",
          "font": {
           "color": "#000000"
          },
          "showarrow": false,
          "text": "-122.404966",
          "x": 2.55,
          "xanchor": "left",
          "xref": "x1",
          "y": 65,
          "yref": "y1"
         },
         {
          "align": "left",
          "font": {
           "color": "#000000"
          },
          "showarrow": false,
          "text": "19",
          "x": 3.55,
          "xanchor": "left",
          "xref": "x1",
          "y": 65,
          "yref": "y1"
         },
         {
          "align": "left",
          "font": {
           "color": "#000000"
          },
          "showarrow": false,
          "text": "San Francisco",
          "x": 4.55,
          "xanchor": "left",
          "xref": "x1",
          "y": 65,
          "yref": "y1"
         },
         {
          "align": "left",
          "font": {
           "color": "#000000"
          },
          "showarrow": false,
          "text": "2013-08-25 00:00:00",
          "x": 5.55,
          "xanchor": "left",
          "xref": "x1",
          "y": 65,
          "yref": "y1"
         },
         {
          "align": "left",
          "font": {
           "color": "#000000"
          },
          "showarrow": false,
          "text": "77",
          "x": -0.45,
          "xanchor": "left",
          "xref": "x1",
          "y": 66,
          "yref": "y1"
         },
         {
          "align": "left",
          "font": {
           "color": "#000000"
          },
          "showarrow": false,
          "text": "Market at Sansome",
          "x": 0.55,
          "xanchor": "left",
          "xref": "x1",
          "y": 66,
          "yref": "y1"
         },
         {
          "align": "left",
          "font": {
           "color": "#000000"
          },
          "showarrow": false,
          "text": "37.789625",
          "x": 1.55,
          "xanchor": "left",
          "xref": "x1",
          "y": 66,
          "yref": "y1"
         },
         {
          "align": "left",
          "font": {
           "color": "#000000"
          },
          "showarrow": false,
          "text": "-122.400811",
          "x": 2.55,
          "xanchor": "left",
          "xref": "x1",
          "y": 66,
          "yref": "y1"
         },
         {
          "align": "left",
          "font": {
           "color": "#000000"
          },
          "showarrow": false,
          "text": "27",
          "x": 3.55,
          "xanchor": "left",
          "xref": "x1",
          "y": 66,
          "yref": "y1"
         },
         {
          "align": "left",
          "font": {
           "color": "#000000"
          },
          "showarrow": false,
          "text": "San Francisco",
          "x": 4.55,
          "xanchor": "left",
          "xref": "x1",
          "y": 66,
          "yref": "y1"
         },
         {
          "align": "left",
          "font": {
           "color": "#000000"
          },
          "showarrow": false,
          "text": "2013-08-25 00:00:00",
          "x": 5.55,
          "xanchor": "left",
          "xref": "x1",
          "y": 66,
          "yref": "y1"
         },
         {
          "align": "left",
          "font": {
           "color": "#000000"
          },
          "showarrow": false,
          "text": "80",
          "x": -0.45,
          "xanchor": "left",
          "xref": "x1",
          "y": 67,
          "yref": "y1"
         },
         {
          "align": "left",
          "font": {
           "color": "#000000"
          },
          "showarrow": false,
          "text": "Santa Clara County Civic Center",
          "x": 0.55,
          "xanchor": "left",
          "xref": "x1",
          "y": 67,
          "yref": "y1"
         },
         {
          "align": "left",
          "font": {
           "color": "#000000"
          },
          "showarrow": false,
          "text": "37.352601",
          "x": 1.55,
          "xanchor": "left",
          "xref": "x1",
          "y": 67,
          "yref": "y1"
         },
         {
          "align": "left",
          "font": {
           "color": "#000000"
          },
          "showarrow": false,
          "text": "-121.905733",
          "x": 2.55,
          "xanchor": "left",
          "xref": "x1",
          "y": 67,
          "yref": "y1"
         },
         {
          "align": "left",
          "font": {
           "color": "#000000"
          },
          "showarrow": false,
          "text": "15",
          "x": 3.55,
          "xanchor": "left",
          "xref": "x1",
          "y": 67,
          "yref": "y1"
         },
         {
          "align": "left",
          "font": {
           "color": "#000000"
          },
          "showarrow": false,
          "text": "San Jose",
          "x": 4.55,
          "xanchor": "left",
          "xref": "x1",
          "y": 67,
          "yref": "y1"
         },
         {
          "align": "left",
          "font": {
           "color": "#000000"
          },
          "showarrow": false,
          "text": "2013-12-31 00:00:00",
          "x": 5.55,
          "xanchor": "left",
          "xref": "x1",
          "y": 67,
          "yref": "y1"
         },
         {
          "align": "left",
          "font": {
           "color": "#000000"
          },
          "showarrow": false,
          "text": "82",
          "x": -0.45,
          "xanchor": "left",
          "xref": "x1",
          "y": 68,
          "yref": "y1"
         },
         {
          "align": "left",
          "font": {
           "color": "#000000"
          },
          "showarrow": false,
          "text": "Broadway St at Battery St",
          "x": 0.55,
          "xanchor": "left",
          "xref": "x1",
          "y": 68,
          "yref": "y1"
         },
         {
          "align": "left",
          "font": {
           "color": "#000000"
          },
          "showarrow": false,
          "text": "37.798541",
          "x": 1.55,
          "xanchor": "left",
          "xref": "x1",
          "y": 68,
          "yref": "y1"
         },
         {
          "align": "left",
          "font": {
           "color": "#000000"
          },
          "showarrow": false,
          "text": "-122.400862",
          "x": 2.55,
          "xanchor": "left",
          "xref": "x1",
          "y": 68,
          "yref": "y1"
         },
         {
          "align": "left",
          "font": {
           "color": "#000000"
          },
          "showarrow": false,
          "text": "15",
          "x": 3.55,
          "xanchor": "left",
          "xref": "x1",
          "y": 68,
          "yref": "y1"
         },
         {
          "align": "left",
          "font": {
           "color": "#000000"
          },
          "showarrow": false,
          "text": "San Francisco",
          "x": 4.55,
          "xanchor": "left",
          "xref": "x1",
          "y": 68,
          "yref": "y1"
         },
         {
          "align": "left",
          "font": {
           "color": "#000000"
          },
          "showarrow": false,
          "text": "2014-01-22 00:00:00",
          "x": 5.55,
          "xanchor": "left",
          "xref": "x1",
          "y": 68,
          "yref": "y1"
         },
         {
          "align": "left",
          "font": {
           "color": "#000000"
          },
          "showarrow": false,
          "text": "83",
          "x": -0.45,
          "xanchor": "left",
          "xref": "x1",
          "y": 69,
          "yref": "y1"
         },
         {
          "align": "left",
          "font": {
           "color": "#000000"
          },
          "showarrow": false,
          "text": "Mezes Park",
          "x": 0.55,
          "xanchor": "left",
          "xref": "x1",
          "y": 69,
          "yref": "y1"
         },
         {
          "align": "left",
          "font": {
           "color": "#000000"
          },
          "showarrow": false,
          "text": "37.491269",
          "x": 1.55,
          "xanchor": "left",
          "xref": "x1",
          "y": 69,
          "yref": "y1"
         },
         {
          "align": "left",
          "font": {
           "color": "#000000"
          },
          "showarrow": false,
          "text": "-122.236234",
          "x": 2.55,
          "xanchor": "left",
          "xref": "x1",
          "y": 69,
          "yref": "y1"
         },
         {
          "align": "left",
          "font": {
           "color": "#000000"
          },
          "showarrow": false,
          "text": "15",
          "x": 3.55,
          "xanchor": "left",
          "xref": "x1",
          "y": 69,
          "yref": "y1"
         },
         {
          "align": "left",
          "font": {
           "color": "#000000"
          },
          "showarrow": false,
          "text": "Redwood City",
          "x": 4.55,
          "xanchor": "left",
          "xref": "x1",
          "y": 69,
          "yref": "y1"
         },
         {
          "align": "left",
          "font": {
           "color": "#000000"
          },
          "showarrow": false,
          "text": "2014-02-20 00:00:00",
          "x": 5.55,
          "xanchor": "left",
          "xref": "x1",
          "y": 69,
          "yref": "y1"
         },
         {
          "align": "left",
          "font": {
           "color": "#000000"
          },
          "showarrow": false,
          "text": "84",
          "x": -0.45,
          "xanchor": "left",
          "xref": "x1",
          "y": 70,
          "yref": "y1"
         },
         {
          "align": "left",
          "font": {
           "color": "#000000"
          },
          "showarrow": false,
          "text": "Ryland Park",
          "x": 0.55,
          "xanchor": "left",
          "xref": "x1",
          "y": 70,
          "yref": "y1"
         },
         {
          "align": "left",
          "font": {
           "color": "#000000"
          },
          "showarrow": false,
          "text": "37.342725",
          "x": 1.55,
          "xanchor": "left",
          "xref": "x1",
          "y": 70,
          "yref": "y1"
         },
         {
          "align": "left",
          "font": {
           "color": "#000000"
          },
          "showarrow": false,
          "text": "-121.895617",
          "x": 2.55,
          "xanchor": "left",
          "xref": "x1",
          "y": 70,
          "yref": "y1"
         },
         {
          "align": "left",
          "font": {
           "color": "#000000"
          },
          "showarrow": false,
          "text": "15",
          "x": 3.55,
          "xanchor": "left",
          "xref": "x1",
          "y": 70,
          "yref": "y1"
         },
         {
          "align": "left",
          "font": {
           "color": "#000000"
          },
          "showarrow": false,
          "text": "San Jose",
          "x": 4.55,
          "xanchor": "left",
          "xref": "x1",
          "y": 70,
          "yref": "y1"
         },
         {
          "align": "left",
          "font": {
           "color": "#000000"
          },
          "showarrow": false,
          "text": "2014-04-09 00:00:00",
          "x": 5.55,
          "xanchor": "left",
          "xref": "x1",
          "y": 70,
          "yref": "y1"
         }
        ],
        "height": 2180,
        "margin": {
         "b": 0,
         "l": 0,
         "r": 0,
         "t": 0
        },
        "xaxis": {
         "dtick": 1,
         "gridwidth": 2,
         "showticklabels": false,
         "tick0": -0.5,
         "ticks": "",
         "zeroline": false
        },
        "yaxis": {
         "autorange": "reversed",
         "dtick": 1,
         "gridwidth": 2,
         "showticklabels": false,
         "tick0": 0.5,
         "ticks": "",
         "zeroline": false
        }
       }
      },
      "text/html": [
       "<div id=\"c2fdd6bd-6b21-4555-bd60-b3245ad17e07\" style=\"height: 2180px; width: 100%;\" class=\"plotly-graph-div\"></div><script type=\"text/javascript\">require([\"plotly\"], function(Plotly) { window.PLOTLYENV=window.PLOTLYENV || {};window.PLOTLYENV.BASE_URL=\"https://plot.ly\";Plotly.newPlot(\"c2fdd6bd-6b21-4555-bd60-b3245ad17e07\", [{\"opacity\": 0.75, \"colorscale\": [[0, \"#00083e\"], [0.5, \"#ededee\"], [1, \"#ffffff\"]], \"showscale\": false, \"hoverinfo\": \"none\", \"z\": [[0, 0, 0, 0, 0, 0, 0], [0.5, 0.5, 0.5, 0.5, 0.5, 0.5, 0.5], [1, 1, 1, 1, 1, 1, 1], [0.5, 0.5, 0.5, 0.5, 0.5, 0.5, 0.5], [1, 1, 1, 1, 1, 1, 1], [0.5, 0.5, 0.5, 0.5, 0.5, 0.5, 0.5], [1, 1, 1, 1, 1, 1, 1], [0.5, 0.5, 0.5, 0.5, 0.5, 0.5, 0.5], [1, 1, 1, 1, 1, 1, 1], [0.5, 0.5, 0.5, 0.5, 0.5, 0.5, 0.5], [1, 1, 1, 1, 1, 1, 1], [0.5, 0.5, 0.5, 0.5, 0.5, 0.5, 0.5], [1, 1, 1, 1, 1, 1, 1], [0.5, 0.5, 0.5, 0.5, 0.5, 0.5, 0.5], [1, 1, 1, 1, 1, 1, 1], [0.5, 0.5, 0.5, 0.5, 0.5, 0.5, 0.5], [1, 1, 1, 1, 1, 1, 1], [0.5, 0.5, 0.5, 0.5, 0.5, 0.5, 0.5], [1, 1, 1, 1, 1, 1, 1], [0.5, 0.5, 0.5, 0.5, 0.5, 0.5, 0.5], [1, 1, 1, 1, 1, 1, 1], [0.5, 0.5, 0.5, 0.5, 0.5, 0.5, 0.5], [1, 1, 1, 1, 1, 1, 1], [0.5, 0.5, 0.5, 0.5, 0.5, 0.5, 0.5], [1, 1, 1, 1, 1, 1, 1], [0.5, 0.5, 0.5, 0.5, 0.5, 0.5, 0.5], [1, 1, 1, 1, 1, 1, 1], [0.5, 0.5, 0.5, 0.5, 0.5, 0.5, 0.5], [1, 1, 1, 1, 1, 1, 1], [0.5, 0.5, 0.5, 0.5, 0.5, 0.5, 0.5], [1, 1, 1, 1, 1, 1, 1], [0.5, 0.5, 0.5, 0.5, 0.5, 0.5, 0.5], [1, 1, 1, 1, 1, 1, 1], [0.5, 0.5, 0.5, 0.5, 0.5, 0.5, 0.5], [1, 1, 1, 1, 1, 1, 1], [0.5, 0.5, 0.5, 0.5, 0.5, 0.5, 0.5], [1, 1, 1, 1, 1, 1, 1], [0.5, 0.5, 0.5, 0.5, 0.5, 0.5, 0.5], [1, 1, 1, 1, 1, 1, 1], [0.5, 0.5, 0.5, 0.5, 0.5, 0.5, 0.5], [1, 1, 1, 1, 1, 1, 1], [0.5, 0.5, 0.5, 0.5, 0.5, 0.5, 0.5], [1, 1, 1, 1, 1, 1, 1], [0.5, 0.5, 0.5, 0.5, 0.5, 0.5, 0.5], [1, 1, 1, 1, 1, 1, 1], [0.5, 0.5, 0.5, 0.5, 0.5, 0.5, 0.5], [1, 1, 1, 1, 1, 1, 1], [0.5, 0.5, 0.5, 0.5, 0.5, 0.5, 0.5], [1, 1, 1, 1, 1, 1, 1], [0.5, 0.5, 0.5, 0.5, 0.5, 0.5, 0.5], [1, 1, 1, 1, 1, 1, 1], [0.5, 0.5, 0.5, 0.5, 0.5, 0.5, 0.5], [1, 1, 1, 1, 1, 1, 1], [0.5, 0.5, 0.5, 0.5, 0.5, 0.5, 0.5], [1, 1, 1, 1, 1, 1, 1], [0.5, 0.5, 0.5, 0.5, 0.5, 0.5, 0.5], [1, 1, 1, 1, 1, 1, 1], [0.5, 0.5, 0.5, 0.5, 0.5, 0.5, 0.5], [1, 1, 1, 1, 1, 1, 1], [0.5, 0.5, 0.5, 0.5, 0.5, 0.5, 0.5], [1, 1, 1, 1, 1, 1, 1], [0.5, 0.5, 0.5, 0.5, 0.5, 0.5, 0.5], [1, 1, 1, 1, 1, 1, 1], [0.5, 0.5, 0.5, 0.5, 0.5, 0.5, 0.5], [1, 1, 1, 1, 1, 1, 1], [0.5, 0.5, 0.5, 0.5, 0.5, 0.5, 0.5], [1, 1, 1, 1, 1, 1, 1], [0.5, 0.5, 0.5, 0.5, 0.5, 0.5, 0.5], [1, 1, 1, 1, 1, 1, 1], [0.5, 0.5, 0.5, 0.5, 0.5, 0.5, 0.5], [1, 1, 1, 1, 1, 1, 1]], \"type\": \"heatmap\"}], {\"yaxis\": {\"showticklabels\": false, \"tick0\": 0.5, \"ticks\": \"\", \"gridwidth\": 2, \"dtick\": 1, \"zeroline\": false, \"autorange\": \"reversed\"}, \"margin\": {\"r\": 0, \"b\": 0, \"l\": 0, \"t\": 0}, \"annotations\": [{\"xref\": \"x1\", \"xanchor\": \"left\", \"yref\": \"y1\", \"text\": \"<b>id</b>\", \"align\": \"left\", \"y\": 0, \"x\": -0.45, \"font\": {\"color\": \"#ffffff\"}, \"showarrow\": false}, {\"xref\": \"x1\", \"xanchor\": \"left\", \"yref\": \"y1\", \"text\": \"<b>name</b>\", \"align\": \"left\", \"y\": 0, \"x\": 0.55, \"font\": {\"color\": \"#ffffff\"}, \"showarrow\": false}, {\"xref\": \"x1\", \"xanchor\": \"left\", \"yref\": \"y1\", \"text\": \"<b>lat</b>\", \"align\": \"left\", \"y\": 0, \"x\": 1.55, \"font\": {\"color\": \"#ffffff\"}, \"showarrow\": false}, {\"xref\": \"x1\", \"xanchor\": \"left\", \"yref\": \"y1\", \"text\": \"<b>long</b>\", \"align\": \"left\", \"y\": 0, \"x\": 2.55, \"font\": {\"color\": \"#ffffff\"}, \"showarrow\": false}, {\"xref\": \"x1\", \"xanchor\": \"left\", \"yref\": \"y1\", \"text\": \"<b>dock_count</b>\", \"align\": \"left\", \"y\": 0, \"x\": 3.55, \"font\": {\"color\": \"#ffffff\"}, \"showarrow\": false}, {\"xref\": \"x1\", \"xanchor\": \"left\", \"yref\": \"y1\", \"text\": \"<b>city</b>\", \"align\": \"left\", \"y\": 0, \"x\": 4.55, \"font\": {\"color\": \"#ffffff\"}, \"showarrow\": false}, {\"xref\": \"x1\", \"xanchor\": \"left\", \"yref\": \"y1\", \"text\": \"<b>installation_date</b>\", \"align\": \"left\", \"y\": 0, \"x\": 5.55, \"font\": {\"color\": \"#ffffff\"}, \"showarrow\": false}, {\"xref\": \"x1\", \"xanchor\": \"left\", \"yref\": \"y1\", \"text\": \"2\", \"align\": \"left\", \"y\": 1, \"x\": -0.45, \"font\": {\"color\": \"#000000\"}, \"showarrow\": false}, {\"xref\": \"x1\", \"xanchor\": \"left\", \"yref\": \"y1\", \"text\": \"San Jose Diridon Caltrain Station\", \"align\": \"left\", \"y\": 1, \"x\": 0.55, \"font\": {\"color\": \"#000000\"}, \"showarrow\": false}, {\"xref\": \"x1\", \"xanchor\": \"left\", \"yref\": \"y1\", \"text\": \"37.329732\", \"align\": \"left\", \"y\": 1, \"x\": 1.55, \"font\": {\"color\": \"#000000\"}, \"showarrow\": false}, {\"xref\": \"x1\", \"xanchor\": \"left\", \"yref\": \"y1\", \"text\": \"-121.901782\", \"align\": \"left\", \"y\": 1, \"x\": 2.55, \"font\": {\"color\": \"#000000\"}, \"showarrow\": false}, {\"xref\": \"x1\", \"xanchor\": \"left\", \"yref\": \"y1\", \"text\": \"27\", \"align\": \"left\", \"y\": 1, \"x\": 3.55, \"font\": {\"color\": \"#000000\"}, \"showarrow\": false}, {\"xref\": \"x1\", \"xanchor\": \"left\", \"yref\": \"y1\", \"text\": \"San Jose\", \"align\": \"left\", \"y\": 1, \"x\": 4.55, \"font\": {\"color\": \"#000000\"}, \"showarrow\": false}, {\"xref\": \"x1\", \"xanchor\": \"left\", \"yref\": \"y1\", \"text\": \"2013-08-06 00:00:00\", \"align\": \"left\", \"y\": 1, \"x\": 5.55, \"font\": {\"color\": \"#000000\"}, \"showarrow\": false}, {\"xref\": \"x1\", \"xanchor\": \"left\", \"yref\": \"y1\", \"text\": \"3\", \"align\": \"left\", \"y\": 2, \"x\": -0.45, \"font\": {\"color\": \"#000000\"}, \"showarrow\": false}, {\"xref\": \"x1\", \"xanchor\": \"left\", \"yref\": \"y1\", \"text\": \"San Jose Civic Center\", \"align\": \"left\", \"y\": 2, \"x\": 0.55, \"font\": {\"color\": \"#000000\"}, \"showarrow\": false}, {\"xref\": \"x1\", \"xanchor\": \"left\", \"yref\": \"y1\", \"text\": \"37.330698\", \"align\": \"left\", \"y\": 2, \"x\": 1.55, \"font\": {\"color\": \"#000000\"}, \"showarrow\": false}, {\"xref\": \"x1\", \"xanchor\": \"left\", \"yref\": \"y1\", \"text\": \"-121.888979\", \"align\": \"left\", \"y\": 2, \"x\": 2.55, \"font\": {\"color\": \"#000000\"}, \"showarrow\": false}, {\"xref\": \"x1\", \"xanchor\": \"left\", \"yref\": \"y1\", \"text\": \"15\", \"align\": \"left\", \"y\": 2, \"x\": 3.55, \"font\": {\"color\": \"#000000\"}, \"showarrow\": false}, {\"xref\": \"x1\", \"xanchor\": \"left\", \"yref\": \"y1\", \"text\": \"San Jose\", \"align\": \"left\", \"y\": 2, \"x\": 4.55, \"font\": {\"color\": \"#000000\"}, \"showarrow\": false}, {\"xref\": \"x1\", \"xanchor\": \"left\", \"yref\": \"y1\", \"text\": \"2013-08-05 00:00:00\", \"align\": \"left\", \"y\": 2, \"x\": 5.55, \"font\": {\"color\": \"#000000\"}, \"showarrow\": false}, {\"xref\": \"x1\", \"xanchor\": \"left\", \"yref\": \"y1\", \"text\": \"4\", \"align\": \"left\", \"y\": 3, \"x\": -0.45, \"font\": {\"color\": \"#000000\"}, \"showarrow\": false}, {\"xref\": \"x1\", \"xanchor\": \"left\", \"yref\": \"y1\", \"text\": \"Santa Clara at Almaden\", \"align\": \"left\", \"y\": 3, \"x\": 0.55, \"font\": {\"color\": \"#000000\"}, \"showarrow\": false}, {\"xref\": \"x1\", \"xanchor\": \"left\", \"yref\": \"y1\", \"text\": \"37.333988\", \"align\": \"left\", \"y\": 3, \"x\": 1.55, \"font\": {\"color\": \"#000000\"}, \"showarrow\": false}, {\"xref\": \"x1\", \"xanchor\": \"left\", \"yref\": \"y1\", \"text\": \"-121.894902\", \"align\": \"left\", \"y\": 3, \"x\": 2.55, \"font\": {\"color\": \"#000000\"}, \"showarrow\": false}, {\"xref\": \"x1\", \"xanchor\": \"left\", \"yref\": \"y1\", \"text\": \"11\", \"align\": \"left\", \"y\": 3, \"x\": 3.55, \"font\": {\"color\": \"#000000\"}, \"showarrow\": false}, {\"xref\": \"x1\", \"xanchor\": \"left\", \"yref\": \"y1\", \"text\": \"San Jose\", \"align\": \"left\", \"y\": 3, \"x\": 4.55, \"font\": {\"color\": \"#000000\"}, \"showarrow\": false}, {\"xref\": \"x1\", \"xanchor\": \"left\", \"yref\": \"y1\", \"text\": \"2013-08-06 00:00:00\", \"align\": \"left\", \"y\": 3, \"x\": 5.55, \"font\": {\"color\": \"#000000\"}, \"showarrow\": false}, {\"xref\": \"x1\", \"xanchor\": \"left\", \"yref\": \"y1\", \"text\": \"5\", \"align\": \"left\", \"y\": 4, \"x\": -0.45, \"font\": {\"color\": \"#000000\"}, \"showarrow\": false}, {\"xref\": \"x1\", \"xanchor\": \"left\", \"yref\": \"y1\", \"text\": \"Adobe on Almaden\", \"align\": \"left\", \"y\": 4, \"x\": 0.55, \"font\": {\"color\": \"#000000\"}, \"showarrow\": false}, {\"xref\": \"x1\", \"xanchor\": \"left\", \"yref\": \"y1\", \"text\": \"37.331415\", \"align\": \"left\", \"y\": 4, \"x\": 1.55, \"font\": {\"color\": \"#000000\"}, \"showarrow\": false}, {\"xref\": \"x1\", \"xanchor\": \"left\", \"yref\": \"y1\", \"text\": \"-121.8932\", \"align\": \"left\", \"y\": 4, \"x\": 2.55, \"font\": {\"color\": \"#000000\"}, \"showarrow\": false}, {\"xref\": \"x1\", \"xanchor\": \"left\", \"yref\": \"y1\", \"text\": \"19\", \"align\": \"left\", \"y\": 4, \"x\": 3.55, \"font\": {\"color\": \"#000000\"}, \"showarrow\": false}, {\"xref\": \"x1\", \"xanchor\": \"left\", \"yref\": \"y1\", \"text\": \"San Jose\", \"align\": \"left\", \"y\": 4, \"x\": 4.55, \"font\": {\"color\": \"#000000\"}, \"showarrow\": false}, {\"xref\": \"x1\", \"xanchor\": \"left\", \"yref\": \"y1\", \"text\": \"2013-08-05 00:00:00\", \"align\": \"left\", \"y\": 4, \"x\": 5.55, \"font\": {\"color\": \"#000000\"}, \"showarrow\": false}, {\"xref\": \"x1\", \"xanchor\": \"left\", \"yref\": \"y1\", \"text\": \"6\", \"align\": \"left\", \"y\": 5, \"x\": -0.45, \"font\": {\"color\": \"#000000\"}, \"showarrow\": false}, {\"xref\": \"x1\", \"xanchor\": \"left\", \"yref\": \"y1\", \"text\": \"San Pedro Square\", \"align\": \"left\", \"y\": 5, \"x\": 0.55, \"font\": {\"color\": \"#000000\"}, \"showarrow\": false}, {\"xref\": \"x1\", \"xanchor\": \"left\", \"yref\": \"y1\", \"text\": \"37.336721\", \"align\": \"left\", \"y\": 5, \"x\": 1.55, \"font\": {\"color\": \"#000000\"}, \"showarrow\": false}, {\"xref\": \"x1\", \"xanchor\": \"left\", \"yref\": \"y1\", \"text\": \"-121.894074\", \"align\": \"left\", \"y\": 5, \"x\": 2.55, \"font\": {\"color\": \"#000000\"}, \"showarrow\": false}, {\"xref\": \"x1\", \"xanchor\": \"left\", \"yref\": \"y1\", \"text\": \"15\", \"align\": \"left\", \"y\": 5, \"x\": 3.55, \"font\": {\"color\": \"#000000\"}, \"showarrow\": false}, {\"xref\": \"x1\", \"xanchor\": \"left\", \"yref\": \"y1\", \"text\": \"San Jose\", \"align\": \"left\", \"y\": 5, \"x\": 4.55, \"font\": {\"color\": \"#000000\"}, \"showarrow\": false}, {\"xref\": \"x1\", \"xanchor\": \"left\", \"yref\": \"y1\", \"text\": \"2013-08-07 00:00:00\", \"align\": \"left\", \"y\": 5, \"x\": 5.55, \"font\": {\"color\": \"#000000\"}, \"showarrow\": false}, {\"xref\": \"x1\", \"xanchor\": \"left\", \"yref\": \"y1\", \"text\": \"7\", \"align\": \"left\", \"y\": 6, \"x\": -0.45, \"font\": {\"color\": \"#000000\"}, \"showarrow\": false}, {\"xref\": \"x1\", \"xanchor\": \"left\", \"yref\": \"y1\", \"text\": \"Paseo de San Antonio\", \"align\": \"left\", \"y\": 6, \"x\": 0.55, \"font\": {\"color\": \"#000000\"}, \"showarrow\": false}, {\"xref\": \"x1\", \"xanchor\": \"left\", \"yref\": \"y1\", \"text\": \"37.333798\", \"align\": \"left\", \"y\": 6, \"x\": 1.55, \"font\": {\"color\": \"#000000\"}, \"showarrow\": false}, {\"xref\": \"x1\", \"xanchor\": \"left\", \"yref\": \"y1\", \"text\": \"-121.886943\", \"align\": \"left\", \"y\": 6, \"x\": 2.55, \"font\": {\"color\": \"#000000\"}, \"showarrow\": false}, {\"xref\": \"x1\", \"xanchor\": \"left\", \"yref\": \"y1\", \"text\": \"15\", \"align\": \"left\", \"y\": 6, \"x\": 3.55, \"font\": {\"color\": \"#000000\"}, \"showarrow\": false}, {\"xref\": \"x1\", \"xanchor\": \"left\", \"yref\": \"y1\", \"text\": \"San Jose\", \"align\": \"left\", \"y\": 6, \"x\": 4.55, \"font\": {\"color\": \"#000000\"}, \"showarrow\": false}, {\"xref\": \"x1\", \"xanchor\": \"left\", \"yref\": \"y1\", \"text\": \"2013-08-07 00:00:00\", \"align\": \"left\", \"y\": 6, \"x\": 5.55, \"font\": {\"color\": \"#000000\"}, \"showarrow\": false}, {\"xref\": \"x1\", \"xanchor\": \"left\", \"yref\": \"y1\", \"text\": \"8\", \"align\": \"left\", \"y\": 7, \"x\": -0.45, \"font\": {\"color\": \"#000000\"}, \"showarrow\": false}, {\"xref\": \"x1\", \"xanchor\": \"left\", \"yref\": \"y1\", \"text\": \"San Salvador at 1st\", \"align\": \"left\", \"y\": 7, \"x\": 0.55, \"font\": {\"color\": \"#000000\"}, \"showarrow\": false}, {\"xref\": \"x1\", \"xanchor\": \"left\", \"yref\": \"y1\", \"text\": \"37.330165\", \"align\": \"left\", \"y\": 7, \"x\": 1.55, \"font\": {\"color\": \"#000000\"}, \"showarrow\": false}, {\"xref\": \"x1\", \"xanchor\": \"left\", \"yref\": \"y1\", \"text\": \"-121.885831\", \"align\": \"left\", \"y\": 7, \"x\": 2.55, \"font\": {\"color\": \"#000000\"}, \"showarrow\": false}, {\"xref\": \"x1\", \"xanchor\": \"left\", \"yref\": \"y1\", \"text\": \"15\", \"align\": \"left\", \"y\": 7, \"x\": 3.55, \"font\": {\"color\": \"#000000\"}, \"showarrow\": false}, {\"xref\": \"x1\", \"xanchor\": \"left\", \"yref\": \"y1\", \"text\": \"San Jose\", \"align\": \"left\", \"y\": 7, \"x\": 4.55, \"font\": {\"color\": \"#000000\"}, \"showarrow\": false}, {\"xref\": \"x1\", \"xanchor\": \"left\", \"yref\": \"y1\", \"text\": \"2013-08-05 00:00:00\", \"align\": \"left\", \"y\": 7, \"x\": 5.55, \"font\": {\"color\": \"#000000\"}, \"showarrow\": false}, {\"xref\": \"x1\", \"xanchor\": \"left\", \"yref\": \"y1\", \"text\": \"9\", \"align\": \"left\", \"y\": 8, \"x\": -0.45, \"font\": {\"color\": \"#000000\"}, \"showarrow\": false}, {\"xref\": \"x1\", \"xanchor\": \"left\", \"yref\": \"y1\", \"text\": \"Japantown\", \"align\": \"left\", \"y\": 8, \"x\": 0.55, \"font\": {\"color\": \"#000000\"}, \"showarrow\": false}, {\"xref\": \"x1\", \"xanchor\": \"left\", \"yref\": \"y1\", \"text\": \"37.348742\", \"align\": \"left\", \"y\": 8, \"x\": 1.55, \"font\": {\"color\": \"#000000\"}, \"showarrow\": false}, {\"xref\": \"x1\", \"xanchor\": \"left\", \"yref\": \"y1\", \"text\": \"-121.894715\", \"align\": \"left\", \"y\": 8, \"x\": 2.55, \"font\": {\"color\": \"#000000\"}, \"showarrow\": false}, {\"xref\": \"x1\", \"xanchor\": \"left\", \"yref\": \"y1\", \"text\": \"15\", \"align\": \"left\", \"y\": 8, \"x\": 3.55, \"font\": {\"color\": \"#000000\"}, \"showarrow\": false}, {\"xref\": \"x1\", \"xanchor\": \"left\", \"yref\": \"y1\", \"text\": \"San Jose\", \"align\": \"left\", \"y\": 8, \"x\": 4.55, \"font\": {\"color\": \"#000000\"}, \"showarrow\": false}, {\"xref\": \"x1\", \"xanchor\": \"left\", \"yref\": \"y1\", \"text\": \"2013-08-05 00:00:00\", \"align\": \"left\", \"y\": 8, \"x\": 5.55, \"font\": {\"color\": \"#000000\"}, \"showarrow\": false}, {\"xref\": \"x1\", \"xanchor\": \"left\", \"yref\": \"y1\", \"text\": \"10\", \"align\": \"left\", \"y\": 9, \"x\": -0.45, \"font\": {\"color\": \"#000000\"}, \"showarrow\": false}, {\"xref\": \"x1\", \"xanchor\": \"left\", \"yref\": \"y1\", \"text\": \"San Jose City Hall\", \"align\": \"left\", \"y\": 9, \"x\": 0.55, \"font\": {\"color\": \"#000000\"}, \"showarrow\": false}, {\"xref\": \"x1\", \"xanchor\": \"left\", \"yref\": \"y1\", \"text\": \"37.337391\", \"align\": \"left\", \"y\": 9, \"x\": 1.55, \"font\": {\"color\": \"#000000\"}, \"showarrow\": false}, {\"xref\": \"x1\", \"xanchor\": \"left\", \"yref\": \"y1\", \"text\": \"-121.886995\", \"align\": \"left\", \"y\": 9, \"x\": 2.55, \"font\": {\"color\": \"#000000\"}, \"showarrow\": false}, {\"xref\": \"x1\", \"xanchor\": \"left\", \"yref\": \"y1\", \"text\": \"15\", \"align\": \"left\", \"y\": 9, \"x\": 3.55, \"font\": {\"color\": \"#000000\"}, \"showarrow\": false}, {\"xref\": \"x1\", \"xanchor\": \"left\", \"yref\": \"y1\", \"text\": \"San Jose\", \"align\": \"left\", \"y\": 9, \"x\": 4.55, \"font\": {\"color\": \"#000000\"}, \"showarrow\": false}, {\"xref\": \"x1\", \"xanchor\": \"left\", \"yref\": \"y1\", \"text\": \"2013-08-06 00:00:00\", \"align\": \"left\", \"y\": 9, \"x\": 5.55, \"font\": {\"color\": \"#000000\"}, \"showarrow\": false}, {\"xref\": \"x1\", \"xanchor\": \"left\", \"yref\": \"y1\", \"text\": \"11\", \"align\": \"left\", \"y\": 10, \"x\": -0.45, \"font\": {\"color\": \"#000000\"}, \"showarrow\": false}, {\"xref\": \"x1\", \"xanchor\": \"left\", \"yref\": \"y1\", \"text\": \"MLK Library\", \"align\": \"left\", \"y\": 10, \"x\": 0.55, \"font\": {\"color\": \"#000000\"}, \"showarrow\": false}, {\"xref\": \"x1\", \"xanchor\": \"left\", \"yref\": \"y1\", \"text\": \"37.335885\", \"align\": \"left\", \"y\": 10, \"x\": 1.55, \"font\": {\"color\": \"#000000\"}, \"showarrow\": false}, {\"xref\": \"x1\", \"xanchor\": \"left\", \"yref\": \"y1\", \"text\": \"-121.88566\", \"align\": \"left\", \"y\": 10, \"x\": 2.55, \"font\": {\"color\": \"#000000\"}, \"showarrow\": false}, {\"xref\": \"x1\", \"xanchor\": \"left\", \"yref\": \"y1\", \"text\": \"19\", \"align\": \"left\", \"y\": 10, \"x\": 3.55, \"font\": {\"color\": \"#000000\"}, \"showarrow\": false}, {\"xref\": \"x1\", \"xanchor\": \"left\", \"yref\": \"y1\", \"text\": \"San Jose\", \"align\": \"left\", \"y\": 10, \"x\": 4.55, \"font\": {\"color\": \"#000000\"}, \"showarrow\": false}, {\"xref\": \"x1\", \"xanchor\": \"left\", \"yref\": \"y1\", \"text\": \"2013-08-06 00:00:00\", \"align\": \"left\", \"y\": 10, \"x\": 5.55, \"font\": {\"color\": \"#000000\"}, \"showarrow\": false}, {\"xref\": \"x1\", \"xanchor\": \"left\", \"yref\": \"y1\", \"text\": \"12\", \"align\": \"left\", \"y\": 11, \"x\": -0.45, \"font\": {\"color\": \"#000000\"}, \"showarrow\": false}, {\"xref\": \"x1\", \"xanchor\": \"left\", \"yref\": \"y1\", \"text\": \"SJSU 4th at San Carlos\", \"align\": \"left\", \"y\": 11, \"x\": 0.55, \"font\": {\"color\": \"#000000\"}, \"showarrow\": false}, {\"xref\": \"x1\", \"xanchor\": \"left\", \"yref\": \"y1\", \"text\": \"37.332808\", \"align\": \"left\", \"y\": 11, \"x\": 1.55, \"font\": {\"color\": \"#000000\"}, \"showarrow\": false}, {\"xref\": \"x1\", \"xanchor\": \"left\", \"yref\": \"y1\", \"text\": \"-121.883891\", \"align\": \"left\", \"y\": 11, \"x\": 2.55, \"font\": {\"color\": \"#000000\"}, \"showarrow\": false}, {\"xref\": \"x1\", \"xanchor\": \"left\", \"yref\": \"y1\", \"text\": \"19\", \"align\": \"left\", \"y\": 11, \"x\": 3.55, \"font\": {\"color\": \"#000000\"}, \"showarrow\": false}, {\"xref\": \"x1\", \"xanchor\": \"left\", \"yref\": \"y1\", \"text\": \"San Jose\", \"align\": \"left\", \"y\": 11, \"x\": 4.55, \"font\": {\"color\": \"#000000\"}, \"showarrow\": false}, {\"xref\": \"x1\", \"xanchor\": \"left\", \"yref\": \"y1\", \"text\": \"2013-08-07 00:00:00\", \"align\": \"left\", \"y\": 11, \"x\": 5.55, \"font\": {\"color\": \"#000000\"}, \"showarrow\": false}, {\"xref\": \"x1\", \"xanchor\": \"left\", \"yref\": \"y1\", \"text\": \"13\", \"align\": \"left\", \"y\": 12, \"x\": -0.45, \"font\": {\"color\": \"#000000\"}, \"showarrow\": false}, {\"xref\": \"x1\", \"xanchor\": \"left\", \"yref\": \"y1\", \"text\": \"St James Park\", \"align\": \"left\", \"y\": 12, \"x\": 0.55, \"font\": {\"color\": \"#000000\"}, \"showarrow\": false}, {\"xref\": \"x1\", \"xanchor\": \"left\", \"yref\": \"y1\", \"text\": \"37.339301\", \"align\": \"left\", \"y\": 12, \"x\": 1.55, \"font\": {\"color\": \"#000000\"}, \"showarrow\": false}, {\"xref\": \"x1\", \"xanchor\": \"left\", \"yref\": \"y1\", \"text\": \"-121.889937\", \"align\": \"left\", \"y\": 12, \"x\": 2.55, \"font\": {\"color\": \"#000000\"}, \"showarrow\": false}, {\"xref\": \"x1\", \"xanchor\": \"left\", \"yref\": \"y1\", \"text\": \"15\", \"align\": \"left\", \"y\": 12, \"x\": 3.55, \"font\": {\"color\": \"#000000\"}, \"showarrow\": false}, {\"xref\": \"x1\", \"xanchor\": \"left\", \"yref\": \"y1\", \"text\": \"San Jose\", \"align\": \"left\", \"y\": 12, \"x\": 4.55, \"font\": {\"color\": \"#000000\"}, \"showarrow\": false}, {\"xref\": \"x1\", \"xanchor\": \"left\", \"yref\": \"y1\", \"text\": \"2013-08-06 00:00:00\", \"align\": \"left\", \"y\": 12, \"x\": 5.55, \"font\": {\"color\": \"#000000\"}, \"showarrow\": false}, {\"xref\": \"x1\", \"xanchor\": \"left\", \"yref\": \"y1\", \"text\": \"14\", \"align\": \"left\", \"y\": 13, \"x\": -0.45, \"font\": {\"color\": \"#000000\"}, \"showarrow\": false}, {\"xref\": \"x1\", \"xanchor\": \"left\", \"yref\": \"y1\", \"text\": \"Arena Green / SAP Center\", \"align\": \"left\", \"y\": 13, \"x\": 0.55, \"font\": {\"color\": \"#000000\"}, \"showarrow\": false}, {\"xref\": \"x1\", \"xanchor\": \"left\", \"yref\": \"y1\", \"text\": \"37.332692\", \"align\": \"left\", \"y\": 13, \"x\": 1.55, \"font\": {\"color\": \"#000000\"}, \"showarrow\": false}, {\"xref\": \"x1\", \"xanchor\": \"left\", \"yref\": \"y1\", \"text\": \"-121.900084\", \"align\": \"left\", \"y\": 13, \"x\": 2.55, \"font\": {\"color\": \"#000000\"}, \"showarrow\": false}, {\"xref\": \"x1\", \"xanchor\": \"left\", \"yref\": \"y1\", \"text\": \"19\", \"align\": \"left\", \"y\": 13, \"x\": 3.55, \"font\": {\"color\": \"#000000\"}, \"showarrow\": false}, {\"xref\": \"x1\", \"xanchor\": \"left\", \"yref\": \"y1\", \"text\": \"San Jose\", \"align\": \"left\", \"y\": 13, \"x\": 4.55, \"font\": {\"color\": \"#000000\"}, \"showarrow\": false}, {\"xref\": \"x1\", \"xanchor\": \"left\", \"yref\": \"y1\", \"text\": \"2013-08-05 00:00:00\", \"align\": \"left\", \"y\": 13, \"x\": 5.55, \"font\": {\"color\": \"#000000\"}, \"showarrow\": false}, {\"xref\": \"x1\", \"xanchor\": \"left\", \"yref\": \"y1\", \"text\": \"16\", \"align\": \"left\", \"y\": 14, \"x\": -0.45, \"font\": {\"color\": \"#000000\"}, \"showarrow\": false}, {\"xref\": \"x1\", \"xanchor\": \"left\", \"yref\": \"y1\", \"text\": \"SJSU - San Salvador at 9th\", \"align\": \"left\", \"y\": 14, \"x\": 0.55, \"font\": {\"color\": \"#000000\"}, \"showarrow\": false}, {\"xref\": \"x1\", \"xanchor\": \"left\", \"yref\": \"y1\", \"text\": \"37.333955\", \"align\": \"left\", \"y\": 14, \"x\": 1.55, \"font\": {\"color\": \"#000000\"}, \"showarrow\": false}, {\"xref\": \"x1\", \"xanchor\": \"left\", \"yref\": \"y1\", \"text\": \"-121.877349\", \"align\": \"left\", \"y\": 14, \"x\": 2.55, \"font\": {\"color\": \"#000000\"}, \"showarrow\": false}, {\"xref\": \"x1\", \"xanchor\": \"left\", \"yref\": \"y1\", \"text\": \"15\", \"align\": \"left\", \"y\": 14, \"x\": 3.55, \"font\": {\"color\": \"#000000\"}, \"showarrow\": false}, {\"xref\": \"x1\", \"xanchor\": \"left\", \"yref\": \"y1\", \"text\": \"San Jose\", \"align\": \"left\", \"y\": 14, \"x\": 4.55, \"font\": {\"color\": \"#000000\"}, \"showarrow\": false}, {\"xref\": \"x1\", \"xanchor\": \"left\", \"yref\": \"y1\", \"text\": \"2013-08-07 00:00:00\", \"align\": \"left\", \"y\": 14, \"x\": 5.55, \"font\": {\"color\": \"#000000\"}, \"showarrow\": false}, {\"xref\": \"x1\", \"xanchor\": \"left\", \"yref\": \"y1\", \"text\": \"21\", \"align\": \"left\", \"y\": 15, \"x\": -0.45, \"font\": {\"color\": \"#000000\"}, \"showarrow\": false}, {\"xref\": \"x1\", \"xanchor\": \"left\", \"yref\": \"y1\", \"text\": \"Franklin at Maple\", \"align\": \"left\", \"y\": 15, \"x\": 0.55, \"font\": {\"color\": \"#000000\"}, \"showarrow\": false}, {\"xref\": \"x1\", \"xanchor\": \"left\", \"yref\": \"y1\", \"text\": \"37.481758\", \"align\": \"left\", \"y\": 15, \"x\": 1.55, \"font\": {\"color\": \"#000000\"}, \"showarrow\": false}, {\"xref\": \"x1\", \"xanchor\": \"left\", \"yref\": \"y1\", \"text\": \"-122.226904\", \"align\": \"left\", \"y\": 15, \"x\": 2.55, \"font\": {\"color\": \"#000000\"}, \"showarrow\": false}, {\"xref\": \"x1\", \"xanchor\": \"left\", \"yref\": \"y1\", \"text\": \"15\", \"align\": \"left\", \"y\": 15, \"x\": 3.55, \"font\": {\"color\": \"#000000\"}, \"showarrow\": false}, {\"xref\": \"x1\", \"xanchor\": \"left\", \"yref\": \"y1\", \"text\": \"Redwood City\", \"align\": \"left\", \"y\": 15, \"x\": 4.55, \"font\": {\"color\": \"#000000\"}, \"showarrow\": false}, {\"xref\": \"x1\", \"xanchor\": \"left\", \"yref\": \"y1\", \"text\": \"2013-08-12 00:00:00\", \"align\": \"left\", \"y\": 15, \"x\": 5.55, \"font\": {\"color\": \"#000000\"}, \"showarrow\": false}, {\"xref\": \"x1\", \"xanchor\": \"left\", \"yref\": \"y1\", \"text\": \"22\", \"align\": \"left\", \"y\": 16, \"x\": -0.45, \"font\": {\"color\": \"#000000\"}, \"showarrow\": false}, {\"xref\": \"x1\", \"xanchor\": \"left\", \"yref\": \"y1\", \"text\": \"Redwood City Caltrain Station\", \"align\": \"left\", \"y\": 16, \"x\": 0.55, \"font\": {\"color\": \"#000000\"}, \"showarrow\": false}, {\"xref\": \"x1\", \"xanchor\": \"left\", \"yref\": \"y1\", \"text\": \"37.486078\", \"align\": \"left\", \"y\": 16, \"x\": 1.55, \"font\": {\"color\": \"#000000\"}, \"showarrow\": false}, {\"xref\": \"x1\", \"xanchor\": \"left\", \"yref\": \"y1\", \"text\": \"-122.232089\", \"align\": \"left\", \"y\": 16, \"x\": 2.55, \"font\": {\"color\": \"#000000\"}, \"showarrow\": false}, {\"xref\": \"x1\", \"xanchor\": \"left\", \"yref\": \"y1\", \"text\": \"25\", \"align\": \"left\", \"y\": 16, \"x\": 3.55, \"font\": {\"color\": \"#000000\"}, \"showarrow\": false}, {\"xref\": \"x1\", \"xanchor\": \"left\", \"yref\": \"y1\", \"text\": \"Redwood City\", \"align\": \"left\", \"y\": 16, \"x\": 4.55, \"font\": {\"color\": \"#000000\"}, \"showarrow\": false}, {\"xref\": \"x1\", \"xanchor\": \"left\", \"yref\": \"y1\", \"text\": \"2013-08-15 00:00:00\", \"align\": \"left\", \"y\": 16, \"x\": 5.55, \"font\": {\"color\": \"#000000\"}, \"showarrow\": false}, {\"xref\": \"x1\", \"xanchor\": \"left\", \"yref\": \"y1\", \"text\": \"23\", \"align\": \"left\", \"y\": 17, \"x\": -0.45, \"font\": {\"color\": \"#000000\"}, \"showarrow\": false}, {\"xref\": \"x1\", \"xanchor\": \"left\", \"yref\": \"y1\", \"text\": \"San Mateo County Center\", \"align\": \"left\", \"y\": 17, \"x\": 0.55, \"font\": {\"color\": \"#000000\"}, \"showarrow\": false}, {\"xref\": \"x1\", \"xanchor\": \"left\", \"yref\": \"y1\", \"text\": \"37.487616\", \"align\": \"left\", \"y\": 17, \"x\": 1.55, \"font\": {\"color\": \"#000000\"}, \"showarrow\": false}, {\"xref\": \"x1\", \"xanchor\": \"left\", \"yref\": \"y1\", \"text\": \"-122.229951\", \"align\": \"left\", \"y\": 17, \"x\": 2.55, \"font\": {\"color\": \"#000000\"}, \"showarrow\": false}, {\"xref\": \"x1\", \"xanchor\": \"left\", \"yref\": \"y1\", \"text\": \"15\", \"align\": \"left\", \"y\": 17, \"x\": 3.55, \"font\": {\"color\": \"#000000\"}, \"showarrow\": false}, {\"xref\": \"x1\", \"xanchor\": \"left\", \"yref\": \"y1\", \"text\": \"Redwood City\", \"align\": \"left\", \"y\": 17, \"x\": 4.55, \"font\": {\"color\": \"#000000\"}, \"showarrow\": false}, {\"xref\": \"x1\", \"xanchor\": \"left\", \"yref\": \"y1\", \"text\": \"2013-08-15 00:00:00\", \"align\": \"left\", \"y\": 17, \"x\": 5.55, \"font\": {\"color\": \"#000000\"}, \"showarrow\": false}, {\"xref\": \"x1\", \"xanchor\": \"left\", \"yref\": \"y1\", \"text\": \"24\", \"align\": \"left\", \"y\": 18, \"x\": -0.45, \"font\": {\"color\": \"#000000\"}, \"showarrow\": false}, {\"xref\": \"x1\", \"xanchor\": \"left\", \"yref\": \"y1\", \"text\": \"Redwood City Public Library\", \"align\": \"left\", \"y\": 18, \"x\": 0.55, \"font\": {\"color\": \"#000000\"}, \"showarrow\": false}, {\"xref\": \"x1\", \"xanchor\": \"left\", \"yref\": \"y1\", \"text\": \"37.484219\", \"align\": \"left\", \"y\": 18, \"x\": 1.55, \"font\": {\"color\": \"#000000\"}, \"showarrow\": false}, {\"xref\": \"x1\", \"xanchor\": \"left\", \"yref\": \"y1\", \"text\": \"-122.227424\", \"align\": \"left\", \"y\": 18, \"x\": 2.55, \"font\": {\"color\": \"#000000\"}, \"showarrow\": false}, {\"xref\": \"x1\", \"xanchor\": \"left\", \"yref\": \"y1\", \"text\": \"15\", \"align\": \"left\", \"y\": 18, \"x\": 3.55, \"font\": {\"color\": \"#000000\"}, \"showarrow\": false}, {\"xref\": \"x1\", \"xanchor\": \"left\", \"yref\": \"y1\", \"text\": \"Redwood City\", \"align\": \"left\", \"y\": 18, \"x\": 4.55, \"font\": {\"color\": \"#000000\"}, \"showarrow\": false}, {\"xref\": \"x1\", \"xanchor\": \"left\", \"yref\": \"y1\", \"text\": \"2013-08-12 00:00:00\", \"align\": \"left\", \"y\": 18, \"x\": 5.55, \"font\": {\"color\": \"#000000\"}, \"showarrow\": false}, {\"xref\": \"x1\", \"xanchor\": \"left\", \"yref\": \"y1\", \"text\": \"25\", \"align\": \"left\", \"y\": 19, \"x\": -0.45, \"font\": {\"color\": \"#000000\"}, \"showarrow\": false}, {\"xref\": \"x1\", \"xanchor\": \"left\", \"yref\": \"y1\", \"text\": \"Stanford in Redwood City\", \"align\": \"left\", \"y\": 19, \"x\": 0.55, \"font\": {\"color\": \"#000000\"}, \"showarrow\": false}, {\"xref\": \"x1\", \"xanchor\": \"left\", \"yref\": \"y1\", \"text\": \"37.48537\", \"align\": \"left\", \"y\": 19, \"x\": 1.55, \"font\": {\"color\": \"#000000\"}, \"showarrow\": false}, {\"xref\": \"x1\", \"xanchor\": \"left\", \"yref\": \"y1\", \"text\": \"-122.203288\", \"align\": \"left\", \"y\": 19, \"x\": 2.55, \"font\": {\"color\": \"#000000\"}, \"showarrow\": false}, {\"xref\": \"x1\", \"xanchor\": \"left\", \"yref\": \"y1\", \"text\": \"15\", \"align\": \"left\", \"y\": 19, \"x\": 3.55, \"font\": {\"color\": \"#000000\"}, \"showarrow\": false}, {\"xref\": \"x1\", \"xanchor\": \"left\", \"yref\": \"y1\", \"text\": \"Redwood City\", \"align\": \"left\", \"y\": 19, \"x\": 4.55, \"font\": {\"color\": \"#000000\"}, \"showarrow\": false}, {\"xref\": \"x1\", \"xanchor\": \"left\", \"yref\": \"y1\", \"text\": \"2013-08-12 00:00:00\", \"align\": \"left\", \"y\": 19, \"x\": 5.55, \"font\": {\"color\": \"#000000\"}, \"showarrow\": false}, {\"xref\": \"x1\", \"xanchor\": \"left\", \"yref\": \"y1\", \"text\": \"26\", \"align\": \"left\", \"y\": 20, \"x\": -0.45, \"font\": {\"color\": \"#000000\"}, \"showarrow\": false}, {\"xref\": \"x1\", \"xanchor\": \"left\", \"yref\": \"y1\", \"text\": \"Redwood City Medical Center\", \"align\": \"left\", \"y\": 20, \"x\": 0.55, \"font\": {\"color\": \"#000000\"}, \"showarrow\": false}, {\"xref\": \"x1\", \"xanchor\": \"left\", \"yref\": \"y1\", \"text\": \"37.487682\", \"align\": \"left\", \"y\": 20, \"x\": 1.55, \"font\": {\"color\": \"#000000\"}, \"showarrow\": false}, {\"xref\": \"x1\", \"xanchor\": \"left\", \"yref\": \"y1\", \"text\": \"-122.223492\", \"align\": \"left\", \"y\": 20, \"x\": 2.55, \"font\": {\"color\": \"#000000\"}, \"showarrow\": false}, {\"xref\": \"x1\", \"xanchor\": \"left\", \"yref\": \"y1\", \"text\": \"15\", \"align\": \"left\", \"y\": 20, \"x\": 3.55, \"font\": {\"color\": \"#000000\"}, \"showarrow\": false}, {\"xref\": \"x1\", \"xanchor\": \"left\", \"yref\": \"y1\", \"text\": \"Redwood City\", \"align\": \"left\", \"y\": 20, \"x\": 4.55, \"font\": {\"color\": \"#000000\"}, \"showarrow\": false}, {\"xref\": \"x1\", \"xanchor\": \"left\", \"yref\": \"y1\", \"text\": \"2013-08-12 00:00:00\", \"align\": \"left\", \"y\": 20, \"x\": 5.55, \"font\": {\"color\": \"#000000\"}, \"showarrow\": false}, {\"xref\": \"x1\", \"xanchor\": \"left\", \"yref\": \"y1\", \"text\": \"27\", \"align\": \"left\", \"y\": 21, \"x\": -0.45, \"font\": {\"color\": \"#000000\"}, \"showarrow\": false}, {\"xref\": \"x1\", \"xanchor\": \"left\", \"yref\": \"y1\", \"text\": \"Mountain View City Hall\", \"align\": \"left\", \"y\": 21, \"x\": 0.55, \"font\": {\"color\": \"#000000\"}, \"showarrow\": false}, {\"xref\": \"x1\", \"xanchor\": \"left\", \"yref\": \"y1\", \"text\": \"37.389218\", \"align\": \"left\", \"y\": 21, \"x\": 1.55, \"font\": {\"color\": \"#000000\"}, \"showarrow\": false}, {\"xref\": \"x1\", \"xanchor\": \"left\", \"yref\": \"y1\", \"text\": \"-122.081896\", \"align\": \"left\", \"y\": 21, \"x\": 2.55, \"font\": {\"color\": \"#000000\"}, \"showarrow\": false}, {\"xref\": \"x1\", \"xanchor\": \"left\", \"yref\": \"y1\", \"text\": \"15\", \"align\": \"left\", \"y\": 21, \"x\": 3.55, \"font\": {\"color\": \"#000000\"}, \"showarrow\": false}, {\"xref\": \"x1\", \"xanchor\": \"left\", \"yref\": \"y1\", \"text\": \"Mountain View\", \"align\": \"left\", \"y\": 21, \"x\": 4.55, \"font\": {\"color\": \"#000000\"}, \"showarrow\": false}, {\"xref\": \"x1\", \"xanchor\": \"left\", \"yref\": \"y1\", \"text\": \"2013-08-16 00:00:00\", \"align\": \"left\", \"y\": 21, \"x\": 5.55, \"font\": {\"color\": \"#000000\"}, \"showarrow\": false}, {\"xref\": \"x1\", \"xanchor\": \"left\", \"yref\": \"y1\", \"text\": \"28\", \"align\": \"left\", \"y\": 22, \"x\": -0.45, \"font\": {\"color\": \"#000000\"}, \"showarrow\": false}, {\"xref\": \"x1\", \"xanchor\": \"left\", \"yref\": \"y1\", \"text\": \"Mountain View Caltrain Station\", \"align\": \"left\", \"y\": 22, \"x\": 0.55, \"font\": {\"color\": \"#000000\"}, \"showarrow\": false}, {\"xref\": \"x1\", \"xanchor\": \"left\", \"yref\": \"y1\", \"text\": \"37.394358\", \"align\": \"left\", \"y\": 22, \"x\": 1.55, \"font\": {\"color\": \"#000000\"}, \"showarrow\": false}, {\"xref\": \"x1\", \"xanchor\": \"left\", \"yref\": \"y1\", \"text\": \"-122.076713\", \"align\": \"left\", \"y\": 22, \"x\": 2.55, \"font\": {\"color\": \"#000000\"}, \"showarrow\": false}, {\"xref\": \"x1\", \"xanchor\": \"left\", \"yref\": \"y1\", \"text\": \"23\", \"align\": \"left\", \"y\": 22, \"x\": 3.55, \"font\": {\"color\": \"#000000\"}, \"showarrow\": false}, {\"xref\": \"x1\", \"xanchor\": \"left\", \"yref\": \"y1\", \"text\": \"Mountain View\", \"align\": \"left\", \"y\": 22, \"x\": 4.55, \"font\": {\"color\": \"#000000\"}, \"showarrow\": false}, {\"xref\": \"x1\", \"xanchor\": \"left\", \"yref\": \"y1\", \"text\": \"2013-08-15 00:00:00\", \"align\": \"left\", \"y\": 22, \"x\": 5.55, \"font\": {\"color\": \"#000000\"}, \"showarrow\": false}, {\"xref\": \"x1\", \"xanchor\": \"left\", \"yref\": \"y1\", \"text\": \"29\", \"align\": \"left\", \"y\": 23, \"x\": -0.45, \"font\": {\"color\": \"#000000\"}, \"showarrow\": false}, {\"xref\": \"x1\", \"xanchor\": \"left\", \"yref\": \"y1\", \"text\": \"San Antonio Caltrain Station\", \"align\": \"left\", \"y\": 23, \"x\": 0.55, \"font\": {\"color\": \"#000000\"}, \"showarrow\": false}, {\"xref\": \"x1\", \"xanchor\": \"left\", \"yref\": \"y1\", \"text\": \"37.40694\", \"align\": \"left\", \"y\": 23, \"x\": 1.55, \"font\": {\"color\": \"#000000\"}, \"showarrow\": false}, {\"xref\": \"x1\", \"xanchor\": \"left\", \"yref\": \"y1\", \"text\": \"-122.106758\", \"align\": \"left\", \"y\": 23, \"x\": 2.55, \"font\": {\"color\": \"#000000\"}, \"showarrow\": false}, {\"xref\": \"x1\", \"xanchor\": \"left\", \"yref\": \"y1\", \"text\": \"23\", \"align\": \"left\", \"y\": 23, \"x\": 3.55, \"font\": {\"color\": \"#000000\"}, \"showarrow\": false}, {\"xref\": \"x1\", \"xanchor\": \"left\", \"yref\": \"y1\", \"text\": \"Mountain View\", \"align\": \"left\", \"y\": 23, \"x\": 4.55, \"font\": {\"color\": \"#000000\"}, \"showarrow\": false}, {\"xref\": \"x1\", \"xanchor\": \"left\", \"yref\": \"y1\", \"text\": \"2013-08-15 00:00:00\", \"align\": \"left\", \"y\": 23, \"x\": 5.55, \"font\": {\"color\": \"#000000\"}, \"showarrow\": false}, {\"xref\": \"x1\", \"xanchor\": \"left\", \"yref\": \"y1\", \"text\": \"30\", \"align\": \"left\", \"y\": 24, \"x\": -0.45, \"font\": {\"color\": \"#000000\"}, \"showarrow\": false}, {\"xref\": \"x1\", \"xanchor\": \"left\", \"yref\": \"y1\", \"text\": \"Evelyn Park and Ride\", \"align\": \"left\", \"y\": 24, \"x\": 0.55, \"font\": {\"color\": \"#000000\"}, \"showarrow\": false}, {\"xref\": \"x1\", \"xanchor\": \"left\", \"yref\": \"y1\", \"text\": \"37.390277\", \"align\": \"left\", \"y\": 24, \"x\": 1.55, \"font\": {\"color\": \"#000000\"}, \"showarrow\": false}, {\"xref\": \"x1\", \"xanchor\": \"left\", \"yref\": \"y1\", \"text\": \"-122.066553\", \"align\": \"left\", \"y\": 24, \"x\": 2.55, \"font\": {\"color\": \"#000000\"}, \"showarrow\": false}, {\"xref\": \"x1\", \"xanchor\": \"left\", \"yref\": \"y1\", \"text\": \"15\", \"align\": \"left\", \"y\": 24, \"x\": 3.55, \"font\": {\"color\": \"#000000\"}, \"showarrow\": false}, {\"xref\": \"x1\", \"xanchor\": \"left\", \"yref\": \"y1\", \"text\": \"Mountain View\", \"align\": \"left\", \"y\": 24, \"x\": 4.55, \"font\": {\"color\": \"#000000\"}, \"showarrow\": false}, {\"xref\": \"x1\", \"xanchor\": \"left\", \"yref\": \"y1\", \"text\": \"2013-08-16 00:00:00\", \"align\": \"left\", \"y\": 24, \"x\": 5.55, \"font\": {\"color\": \"#000000\"}, \"showarrow\": false}, {\"xref\": \"x1\", \"xanchor\": \"left\", \"yref\": \"y1\", \"text\": \"31\", \"align\": \"left\", \"y\": 25, \"x\": -0.45, \"font\": {\"color\": \"#000000\"}, \"showarrow\": false}, {\"xref\": \"x1\", \"xanchor\": \"left\", \"yref\": \"y1\", \"text\": \"San Antonio Shopping Center\", \"align\": \"left\", \"y\": 25, \"x\": 0.55, \"font\": {\"color\": \"#000000\"}, \"showarrow\": false}, {\"xref\": \"x1\", \"xanchor\": \"left\", \"yref\": \"y1\", \"text\": \"37.400443\", \"align\": \"left\", \"y\": 25, \"x\": 1.55, \"font\": {\"color\": \"#000000\"}, \"showarrow\": false}, {\"xref\": \"x1\", \"xanchor\": \"left\", \"yref\": \"y1\", \"text\": \"-122.108338\", \"align\": \"left\", \"y\": 25, \"x\": 2.55, \"font\": {\"color\": \"#000000\"}, \"showarrow\": false}, {\"xref\": \"x1\", \"xanchor\": \"left\", \"yref\": \"y1\", \"text\": \"15\", \"align\": \"left\", \"y\": 25, \"x\": 3.55, \"font\": {\"color\": \"#000000\"}, \"showarrow\": false}, {\"xref\": \"x1\", \"xanchor\": \"left\", \"yref\": \"y1\", \"text\": \"Mountain View\", \"align\": \"left\", \"y\": 25, \"x\": 4.55, \"font\": {\"color\": \"#000000\"}, \"showarrow\": false}, {\"xref\": \"x1\", \"xanchor\": \"left\", \"yref\": \"y1\", \"text\": \"2013-12-31 00:00:00\", \"align\": \"left\", \"y\": 25, \"x\": 5.55, \"font\": {\"color\": \"#000000\"}, \"showarrow\": false}, {\"xref\": \"x1\", \"xanchor\": \"left\", \"yref\": \"y1\", \"text\": \"32\", \"align\": \"left\", \"y\": 26, \"x\": -0.45, \"font\": {\"color\": \"#000000\"}, \"showarrow\": false}, {\"xref\": \"x1\", \"xanchor\": \"left\", \"yref\": \"y1\", \"text\": \"Castro Street and El Camino Real\", \"align\": \"left\", \"y\": 26, \"x\": 0.55, \"font\": {\"color\": \"#000000\"}, \"showarrow\": false}, {\"xref\": \"x1\", \"xanchor\": \"left\", \"yref\": \"y1\", \"text\": \"37.385956\", \"align\": \"left\", \"y\": 26, \"x\": 1.55, \"font\": {\"color\": \"#000000\"}, \"showarrow\": false}, {\"xref\": \"x1\", \"xanchor\": \"left\", \"yref\": \"y1\", \"text\": \"-122.083678\", \"align\": \"left\", \"y\": 26, \"x\": 2.55, \"font\": {\"color\": \"#000000\"}, \"showarrow\": false}, {\"xref\": \"x1\", \"xanchor\": \"left\", \"yref\": \"y1\", \"text\": \"11\", \"align\": \"left\", \"y\": 26, \"x\": 3.55, \"font\": {\"color\": \"#000000\"}, \"showarrow\": false}, {\"xref\": \"x1\", \"xanchor\": \"left\", \"yref\": \"y1\", \"text\": \"Mountain View\", \"align\": \"left\", \"y\": 26, \"x\": 4.55, \"font\": {\"color\": \"#000000\"}, \"showarrow\": false}, {\"xref\": \"x1\", \"xanchor\": \"left\", \"yref\": \"y1\", \"text\": \"2013-12-31 00:00:00\", \"align\": \"left\", \"y\": 26, \"x\": 5.55, \"font\": {\"color\": \"#000000\"}, \"showarrow\": false}, {\"xref\": \"x1\", \"xanchor\": \"left\", \"yref\": \"y1\", \"text\": \"33\", \"align\": \"left\", \"y\": 27, \"x\": -0.45, \"font\": {\"color\": \"#000000\"}, \"showarrow\": false}, {\"xref\": \"x1\", \"xanchor\": \"left\", \"yref\": \"y1\", \"text\": \"Rengstorff Avenue / California Street\", \"align\": \"left\", \"y\": 27, \"x\": 0.55, \"font\": {\"color\": \"#000000\"}, \"showarrow\": false}, {\"xref\": \"x1\", \"xanchor\": \"left\", \"yref\": \"y1\", \"text\": \"37.400241\", \"align\": \"left\", \"y\": 27, \"x\": 1.55, \"font\": {\"color\": \"#000000\"}, \"showarrow\": false}, {\"xref\": \"x1\", \"xanchor\": \"left\", \"yref\": \"y1\", \"text\": \"-122.099076\", \"align\": \"left\", \"y\": 27, \"x\": 2.55, \"font\": {\"color\": \"#000000\"}, \"showarrow\": false}, {\"xref\": \"x1\", \"xanchor\": \"left\", \"yref\": \"y1\", \"text\": \"15\", \"align\": \"left\", \"y\": 27, \"x\": 3.55, \"font\": {\"color\": \"#000000\"}, \"showarrow\": false}, {\"xref\": \"x1\", \"xanchor\": \"left\", \"yref\": \"y1\", \"text\": \"Mountain View\", \"align\": \"left\", \"y\": 27, \"x\": 4.55, \"font\": {\"color\": \"#000000\"}, \"showarrow\": false}, {\"xref\": \"x1\", \"xanchor\": \"left\", \"yref\": \"y1\", \"text\": \"2013-08-16 00:00:00\", \"align\": \"left\", \"y\": 27, \"x\": 5.55, \"font\": {\"color\": \"#000000\"}, \"showarrow\": false}, {\"xref\": \"x1\", \"xanchor\": \"left\", \"yref\": \"y1\", \"text\": \"34\", \"align\": \"left\", \"y\": 28, \"x\": -0.45, \"font\": {\"color\": \"#000000\"}, \"showarrow\": false}, {\"xref\": \"x1\", \"xanchor\": \"left\", \"yref\": \"y1\", \"text\": \"Palo Alto Caltrain Station\", \"align\": \"left\", \"y\": 28, \"x\": 0.55, \"font\": {\"color\": \"#000000\"}, \"showarrow\": false}, {\"xref\": \"x1\", \"xanchor\": \"left\", \"yref\": \"y1\", \"text\": \"37.443988\", \"align\": \"left\", \"y\": 28, \"x\": 1.55, \"font\": {\"color\": \"#000000\"}, \"showarrow\": false}, {\"xref\": \"x1\", \"xanchor\": \"left\", \"yref\": \"y1\", \"text\": \"-122.164759\", \"align\": \"left\", \"y\": 28, \"x\": 2.55, \"font\": {\"color\": \"#000000\"}, \"showarrow\": false}, {\"xref\": \"x1\", \"xanchor\": \"left\", \"yref\": \"y1\", \"text\": \"23\", \"align\": \"left\", \"y\": 28, \"x\": 3.55, \"font\": {\"color\": \"#000000\"}, \"showarrow\": false}, {\"xref\": \"x1\", \"xanchor\": \"left\", \"yref\": \"y1\", \"text\": \"Palo Alto\", \"align\": \"left\", \"y\": 28, \"x\": 4.55, \"font\": {\"color\": \"#000000\"}, \"showarrow\": false}, {\"xref\": \"x1\", \"xanchor\": \"left\", \"yref\": \"y1\", \"text\": \"2013-08-14 00:00:00\", \"align\": \"left\", \"y\": 28, \"x\": 5.55, \"font\": {\"color\": \"#000000\"}, \"showarrow\": false}, {\"xref\": \"x1\", \"xanchor\": \"left\", \"yref\": \"y1\", \"text\": \"35\", \"align\": \"left\", \"y\": 29, \"x\": -0.45, \"font\": {\"color\": \"#000000\"}, \"showarrow\": false}, {\"xref\": \"x1\", \"xanchor\": \"left\", \"yref\": \"y1\", \"text\": \"University and Emerson\", \"align\": \"left\", \"y\": 29, \"x\": 0.55, \"font\": {\"color\": \"#000000\"}, \"showarrow\": false}, {\"xref\": \"x1\", \"xanchor\": \"left\", \"yref\": \"y1\", \"text\": \"37.444521\", \"align\": \"left\", \"y\": 29, \"x\": 1.55, \"font\": {\"color\": \"#000000\"}, \"showarrow\": false}, {\"xref\": \"x1\", \"xanchor\": \"left\", \"yref\": \"y1\", \"text\": \"-122.163093\", \"align\": \"left\", \"y\": 29, \"x\": 2.55, \"font\": {\"color\": \"#000000\"}, \"showarrow\": false}, {\"xref\": \"x1\", \"xanchor\": \"left\", \"yref\": \"y1\", \"text\": \"11\", \"align\": \"left\", \"y\": 29, \"x\": 3.55, \"font\": {\"color\": \"#000000\"}, \"showarrow\": false}, {\"xref\": \"x1\", \"xanchor\": \"left\", \"yref\": \"y1\", \"text\": \"Palo Alto\", \"align\": \"left\", \"y\": 29, \"x\": 4.55, \"font\": {\"color\": \"#000000\"}, \"showarrow\": false}, {\"xref\": \"x1\", \"xanchor\": \"left\", \"yref\": \"y1\", \"text\": \"2013-08-15 00:00:00\", \"align\": \"left\", \"y\": 29, \"x\": 5.55, \"font\": {\"color\": \"#000000\"}, \"showarrow\": false}, {\"xref\": \"x1\", \"xanchor\": \"left\", \"yref\": \"y1\", \"text\": \"36\", \"align\": \"left\", \"y\": 30, \"x\": -0.45, \"font\": {\"color\": \"#000000\"}, \"showarrow\": false}, {\"xref\": \"x1\", \"xanchor\": \"left\", \"yref\": \"y1\", \"text\": \"California Ave Caltrain Station\", \"align\": \"left\", \"y\": 30, \"x\": 0.55, \"font\": {\"color\": \"#000000\"}, \"showarrow\": false}, {\"xref\": \"x1\", \"xanchor\": \"left\", \"yref\": \"y1\", \"text\": \"37.429082\", \"align\": \"left\", \"y\": 30, \"x\": 1.55, \"font\": {\"color\": \"#000000\"}, \"showarrow\": false}, {\"xref\": \"x1\", \"xanchor\": \"left\", \"yref\": \"y1\", \"text\": \"-122.142805\", \"align\": \"left\", \"y\": 30, \"x\": 2.55, \"font\": {\"color\": \"#000000\"}, \"showarrow\": false}, {\"xref\": \"x1\", \"xanchor\": \"left\", \"yref\": \"y1\", \"text\": \"15\", \"align\": \"left\", \"y\": 30, \"x\": 3.55, \"font\": {\"color\": \"#000000\"}, \"showarrow\": false}, {\"xref\": \"x1\", \"xanchor\": \"left\", \"yref\": \"y1\", \"text\": \"Palo Alto\", \"align\": \"left\", \"y\": 30, \"x\": 4.55, \"font\": {\"color\": \"#000000\"}, \"showarrow\": false}, {\"xref\": \"x1\", \"xanchor\": \"left\", \"yref\": \"y1\", \"text\": \"2013-08-14 00:00:00\", \"align\": \"left\", \"y\": 30, \"x\": 5.55, \"font\": {\"color\": \"#000000\"}, \"showarrow\": false}, {\"xref\": \"x1\", \"xanchor\": \"left\", \"yref\": \"y1\", \"text\": \"37\", \"align\": \"left\", \"y\": 31, \"x\": -0.45, \"font\": {\"color\": \"#000000\"}, \"showarrow\": false}, {\"xref\": \"x1\", \"xanchor\": \"left\", \"yref\": \"y1\", \"text\": \"Cowper at University\", \"align\": \"left\", \"y\": 31, \"x\": 0.55, \"font\": {\"color\": \"#000000\"}, \"showarrow\": false}, {\"xref\": \"x1\", \"xanchor\": \"left\", \"yref\": \"y1\", \"text\": \"37.448598\", \"align\": \"left\", \"y\": 31, \"x\": 1.55, \"font\": {\"color\": \"#000000\"}, \"showarrow\": false}, {\"xref\": \"x1\", \"xanchor\": \"left\", \"yref\": \"y1\", \"text\": \"-122.159504\", \"align\": \"left\", \"y\": 31, \"x\": 2.55, \"font\": {\"color\": \"#000000\"}, \"showarrow\": false}, {\"xref\": \"x1\", \"xanchor\": \"left\", \"yref\": \"y1\", \"text\": \"11\", \"align\": \"left\", \"y\": 31, \"x\": 3.55, \"font\": {\"color\": \"#000000\"}, \"showarrow\": false}, {\"xref\": \"x1\", \"xanchor\": \"left\", \"yref\": \"y1\", \"text\": \"Palo Alto\", \"align\": \"left\", \"y\": 31, \"x\": 4.55, \"font\": {\"color\": \"#000000\"}, \"showarrow\": false}, {\"xref\": \"x1\", \"xanchor\": \"left\", \"yref\": \"y1\", \"text\": \"2013-08-14 00:00:00\", \"align\": \"left\", \"y\": 31, \"x\": 5.55, \"font\": {\"color\": \"#000000\"}, \"showarrow\": false}, {\"xref\": \"x1\", \"xanchor\": \"left\", \"yref\": \"y1\", \"text\": \"38\", \"align\": \"left\", \"y\": 32, \"x\": -0.45, \"font\": {\"color\": \"#000000\"}, \"showarrow\": false}, {\"xref\": \"x1\", \"xanchor\": \"left\", \"yref\": \"y1\", \"text\": \"Park at Olive\", \"align\": \"left\", \"y\": 32, \"x\": 0.55, \"font\": {\"color\": \"#000000\"}, \"showarrow\": false}, {\"xref\": \"x1\", \"xanchor\": \"left\", \"yref\": \"y1\", \"text\": \"37.4256839\", \"align\": \"left\", \"y\": 32, \"x\": 1.55, \"font\": {\"color\": \"#000000\"}, \"showarrow\": false}, {\"xref\": \"x1\", \"xanchor\": \"left\", \"yref\": \"y1\", \"text\": \"-122.1377775\", \"align\": \"left\", \"y\": 32, \"x\": 2.55, \"font\": {\"color\": \"#000000\"}, \"showarrow\": false}, {\"xref\": \"x1\", \"xanchor\": \"left\", \"yref\": \"y1\", \"text\": \"15\", \"align\": \"left\", \"y\": 32, \"x\": 3.55, \"font\": {\"color\": \"#000000\"}, \"showarrow\": false}, {\"xref\": \"x1\", \"xanchor\": \"left\", \"yref\": \"y1\", \"text\": \"Palo Alto\", \"align\": \"left\", \"y\": 32, \"x\": 4.55, \"font\": {\"color\": \"#000000\"}, \"showarrow\": false}, {\"xref\": \"x1\", \"xanchor\": \"left\", \"yref\": \"y1\", \"text\": \"2013-08-14 00:00:00\", \"align\": \"left\", \"y\": 32, \"x\": 5.55, \"font\": {\"color\": \"#000000\"}, \"showarrow\": false}, {\"xref\": \"x1\", \"xanchor\": \"left\", \"yref\": \"y1\", \"text\": \"41\", \"align\": \"left\", \"y\": 33, \"x\": -0.45, \"font\": {\"color\": \"#000000\"}, \"showarrow\": false}, {\"xref\": \"x1\", \"xanchor\": \"left\", \"yref\": \"y1\", \"text\": \"Clay at Battery\", \"align\": \"left\", \"y\": 33, \"x\": 0.55, \"font\": {\"color\": \"#000000\"}, \"showarrow\": false}, {\"xref\": \"x1\", \"xanchor\": \"left\", \"yref\": \"y1\", \"text\": \"37.795001\", \"align\": \"left\", \"y\": 33, \"x\": 1.55, \"font\": {\"color\": \"#000000\"}, \"showarrow\": false}, {\"xref\": \"x1\", \"xanchor\": \"left\", \"yref\": \"y1\", \"text\": \"-122.39997\", \"align\": \"left\", \"y\": 33, \"x\": 2.55, \"font\": {\"color\": \"#000000\"}, \"showarrow\": false}, {\"xref\": \"x1\", \"xanchor\": \"left\", \"yref\": \"y1\", \"text\": \"15\", \"align\": \"left\", \"y\": 33, \"x\": 3.55, \"font\": {\"color\": \"#000000\"}, \"showarrow\": false}, {\"xref\": \"x1\", \"xanchor\": \"left\", \"yref\": \"y1\", \"text\": \"San Francisco\", \"align\": \"left\", \"y\": 33, \"x\": 4.55, \"font\": {\"color\": \"#000000\"}, \"showarrow\": false}, {\"xref\": \"x1\", \"xanchor\": \"left\", \"yref\": \"y1\", \"text\": \"2013-08-19 00:00:00\", \"align\": \"left\", \"y\": 33, \"x\": 5.55, \"font\": {\"color\": \"#000000\"}, \"showarrow\": false}, {\"xref\": \"x1\", \"xanchor\": \"left\", \"yref\": \"y1\", \"text\": \"42\", \"align\": \"left\", \"y\": 34, \"x\": -0.45, \"font\": {\"color\": \"#000000\"}, \"showarrow\": false}, {\"xref\": \"x1\", \"xanchor\": \"left\", \"yref\": \"y1\", \"text\": \"Davis at Jackson\", \"align\": \"left\", \"y\": 34, \"x\": 0.55, \"font\": {\"color\": \"#000000\"}, \"showarrow\": false}, {\"xref\": \"x1\", \"xanchor\": \"left\", \"yref\": \"y1\", \"text\": \"37.79728\", \"align\": \"left\", \"y\": 34, \"x\": 1.55, \"font\": {\"color\": \"#000000\"}, \"showarrow\": false}, {\"xref\": \"x1\", \"xanchor\": \"left\", \"yref\": \"y1\", \"text\": \"-122.398436\", \"align\": \"left\", \"y\": 34, \"x\": 2.55, \"font\": {\"color\": \"#000000\"}, \"showarrow\": false}, {\"xref\": \"x1\", \"xanchor\": \"left\", \"yref\": \"y1\", \"text\": \"15\", \"align\": \"left\", \"y\": 34, \"x\": 3.55, \"font\": {\"color\": \"#000000\"}, \"showarrow\": false}, {\"xref\": \"x1\", \"xanchor\": \"left\", \"yref\": \"y1\", \"text\": \"San Francisco\", \"align\": \"left\", \"y\": 34, \"x\": 4.55, \"font\": {\"color\": \"#000000\"}, \"showarrow\": false}, {\"xref\": \"x1\", \"xanchor\": \"left\", \"yref\": \"y1\", \"text\": \"2013-08-19 00:00:00\", \"align\": \"left\", \"y\": 34, \"x\": 5.55, \"font\": {\"color\": \"#000000\"}, \"showarrow\": false}, {\"xref\": \"x1\", \"xanchor\": \"left\", \"yref\": \"y1\", \"text\": \"45\", \"align\": \"left\", \"y\": 35, \"x\": -0.45, \"font\": {\"color\": \"#000000\"}, \"showarrow\": false}, {\"xref\": \"x1\", \"xanchor\": \"left\", \"yref\": \"y1\", \"text\": \"Commercial at Montgomery\", \"align\": \"left\", \"y\": 35, \"x\": 0.55, \"font\": {\"color\": \"#000000\"}, \"showarrow\": false}, {\"xref\": \"x1\", \"xanchor\": \"left\", \"yref\": \"y1\", \"text\": \"37.794231\", \"align\": \"left\", \"y\": 35, \"x\": 1.55, \"font\": {\"color\": \"#000000\"}, \"showarrow\": false}, {\"xref\": \"x1\", \"xanchor\": \"left\", \"yref\": \"y1\", \"text\": \"-122.402923\", \"align\": \"left\", \"y\": 35, \"x\": 2.55, \"font\": {\"color\": \"#000000\"}, \"showarrow\": false}, {\"xref\": \"x1\", \"xanchor\": \"left\", \"yref\": \"y1\", \"text\": \"15\", \"align\": \"left\", \"y\": 35, \"x\": 3.55, \"font\": {\"color\": \"#000000\"}, \"showarrow\": false}, {\"xref\": \"x1\", \"xanchor\": \"left\", \"yref\": \"y1\", \"text\": \"San Francisco\", \"align\": \"left\", \"y\": 35, \"x\": 4.55, \"font\": {\"color\": \"#000000\"}, \"showarrow\": false}, {\"xref\": \"x1\", \"xanchor\": \"left\", \"yref\": \"y1\", \"text\": \"2013-08-19 00:00:00\", \"align\": \"left\", \"y\": 35, \"x\": 5.55, \"font\": {\"color\": \"#000000\"}, \"showarrow\": false}, {\"xref\": \"x1\", \"xanchor\": \"left\", \"yref\": \"y1\", \"text\": \"46\", \"align\": \"left\", \"y\": 36, \"x\": -0.45, \"font\": {\"color\": \"#000000\"}, \"showarrow\": false}, {\"xref\": \"x1\", \"xanchor\": \"left\", \"yref\": \"y1\", \"text\": \"Washington at Kearney\", \"align\": \"left\", \"y\": 36, \"x\": 0.55, \"font\": {\"color\": \"#000000\"}, \"showarrow\": false}, {\"xref\": \"x1\", \"xanchor\": \"left\", \"yref\": \"y1\", \"text\": \"37.795425\", \"align\": \"left\", \"y\": 36, \"x\": 1.55, \"font\": {\"color\": \"#000000\"}, \"showarrow\": false}, {\"xref\": \"x1\", \"xanchor\": \"left\", \"yref\": \"y1\", \"text\": \"-122.404767\", \"align\": \"left\", \"y\": 36, \"x\": 2.55, \"font\": {\"color\": \"#000000\"}, \"showarrow\": false}, {\"xref\": \"x1\", \"xanchor\": \"left\", \"yref\": \"y1\", \"text\": \"15\", \"align\": \"left\", \"y\": 36, \"x\": 3.55, \"font\": {\"color\": \"#000000\"}, \"showarrow\": false}, {\"xref\": \"x1\", \"xanchor\": \"left\", \"yref\": \"y1\", \"text\": \"San Francisco\", \"align\": \"left\", \"y\": 36, \"x\": 4.55, \"font\": {\"color\": \"#000000\"}, \"showarrow\": false}, {\"xref\": \"x1\", \"xanchor\": \"left\", \"yref\": \"y1\", \"text\": \"2013-08-19 00:00:00\", \"align\": \"left\", \"y\": 36, \"x\": 5.55, \"font\": {\"color\": \"#000000\"}, \"showarrow\": false}, {\"xref\": \"x1\", \"xanchor\": \"left\", \"yref\": \"y1\", \"text\": \"47\", \"align\": \"left\", \"y\": 37, \"x\": -0.45, \"font\": {\"color\": \"#000000\"}, \"showarrow\": false}, {\"xref\": \"x1\", \"xanchor\": \"left\", \"yref\": \"y1\", \"text\": \"Post at Kearney\", \"align\": \"left\", \"y\": 37, \"x\": 0.55, \"font\": {\"color\": \"#000000\"}, \"showarrow\": false}, {\"xref\": \"x1\", \"xanchor\": \"left\", \"yref\": \"y1\", \"text\": \"37.788975\", \"align\": \"left\", \"y\": 37, \"x\": 1.55, \"font\": {\"color\": \"#000000\"}, \"showarrow\": false}, {\"xref\": \"x1\", \"xanchor\": \"left\", \"yref\": \"y1\", \"text\": \"-122.403452\", \"align\": \"left\", \"y\": 37, \"x\": 2.55, \"font\": {\"color\": \"#000000\"}, \"showarrow\": false}, {\"xref\": \"x1\", \"xanchor\": \"left\", \"yref\": \"y1\", \"text\": \"19\", \"align\": \"left\", \"y\": 37, \"x\": 3.55, \"font\": {\"color\": \"#000000\"}, \"showarrow\": false}, {\"xref\": \"x1\", \"xanchor\": \"left\", \"yref\": \"y1\", \"text\": \"San Francisco\", \"align\": \"left\", \"y\": 37, \"x\": 4.55, \"font\": {\"color\": \"#000000\"}, \"showarrow\": false}, {\"xref\": \"x1\", \"xanchor\": \"left\", \"yref\": \"y1\", \"text\": \"2013-08-19 00:00:00\", \"align\": \"left\", \"y\": 37, \"x\": 5.55, \"font\": {\"color\": \"#000000\"}, \"showarrow\": false}, {\"xref\": \"x1\", \"xanchor\": \"left\", \"yref\": \"y1\", \"text\": \"48\", \"align\": \"left\", \"y\": 38, \"x\": -0.45, \"font\": {\"color\": \"#000000\"}, \"showarrow\": false}, {\"xref\": \"x1\", \"xanchor\": \"left\", \"yref\": \"y1\", \"text\": \"Embarcadero at Vallejo\", \"align\": \"left\", \"y\": 38, \"x\": 0.55, \"font\": {\"color\": \"#000000\"}, \"showarrow\": false}, {\"xref\": \"x1\", \"xanchor\": \"left\", \"yref\": \"y1\", \"text\": \"37.799953\", \"align\": \"left\", \"y\": 38, \"x\": 1.55, \"font\": {\"color\": \"#000000\"}, \"showarrow\": false}, {\"xref\": \"x1\", \"xanchor\": \"left\", \"yref\": \"y1\", \"text\": \"-122.398525\", \"align\": \"left\", \"y\": 38, \"x\": 2.55, \"font\": {\"color\": \"#000000\"}, \"showarrow\": false}, {\"xref\": \"x1\", \"xanchor\": \"left\", \"yref\": \"y1\", \"text\": \"15\", \"align\": \"left\", \"y\": 38, \"x\": 3.55, \"font\": {\"color\": \"#000000\"}, \"showarrow\": false}, {\"xref\": \"x1\", \"xanchor\": \"left\", \"yref\": \"y1\", \"text\": \"San Francisco\", \"align\": \"left\", \"y\": 38, \"x\": 4.55, \"font\": {\"color\": \"#000000\"}, \"showarrow\": false}, {\"xref\": \"x1\", \"xanchor\": \"left\", \"yref\": \"y1\", \"text\": \"2013-08-19 00:00:00\", \"align\": \"left\", \"y\": 38, \"x\": 5.55, \"font\": {\"color\": \"#000000\"}, \"showarrow\": false}, {\"xref\": \"x1\", \"xanchor\": \"left\", \"yref\": \"y1\", \"text\": \"49\", \"align\": \"left\", \"y\": 39, \"x\": -0.45, \"font\": {\"color\": \"#000000\"}, \"showarrow\": false}, {\"xref\": \"x1\", \"xanchor\": \"left\", \"yref\": \"y1\", \"text\": \"Spear at Folsom\", \"align\": \"left\", \"y\": 39, \"x\": 0.55, \"font\": {\"color\": \"#000000\"}, \"showarrow\": false}, {\"xref\": \"x1\", \"xanchor\": \"left\", \"yref\": \"y1\", \"text\": \"37.790302\", \"align\": \"left\", \"y\": 39, \"x\": 1.55, \"font\": {\"color\": \"#000000\"}, \"showarrow\": false}, {\"xref\": \"x1\", \"xanchor\": \"left\", \"yref\": \"y1\", \"text\": \"-122.390637\", \"align\": \"left\", \"y\": 39, \"x\": 2.55, \"font\": {\"color\": \"#000000\"}, \"showarrow\": false}, {\"xref\": \"x1\", \"xanchor\": \"left\", \"yref\": \"y1\", \"text\": \"19\", \"align\": \"left\", \"y\": 39, \"x\": 3.55, \"font\": {\"color\": \"#000000\"}, \"showarrow\": false}, {\"xref\": \"x1\", \"xanchor\": \"left\", \"yref\": \"y1\", \"text\": \"San Francisco\", \"align\": \"left\", \"y\": 39, \"x\": 4.55, \"font\": {\"color\": \"#000000\"}, \"showarrow\": false}, {\"xref\": \"x1\", \"xanchor\": \"left\", \"yref\": \"y1\", \"text\": \"2013-08-20 00:00:00\", \"align\": \"left\", \"y\": 39, \"x\": 5.55, \"font\": {\"color\": \"#000000\"}, \"showarrow\": false}, {\"xref\": \"x1\", \"xanchor\": \"left\", \"yref\": \"y1\", \"text\": \"50\", \"align\": \"left\", \"y\": 40, \"x\": -0.45, \"font\": {\"color\": \"#000000\"}, \"showarrow\": false}, {\"xref\": \"x1\", \"xanchor\": \"left\", \"yref\": \"y1\", \"text\": \"Harry Bridges Plaza (Ferry Building)\", \"align\": \"left\", \"y\": 40, \"x\": 0.55, \"font\": {\"color\": \"#000000\"}, \"showarrow\": false}, {\"xref\": \"x1\", \"xanchor\": \"left\", \"yref\": \"y1\", \"text\": \"37.795392\", \"align\": \"left\", \"y\": 40, \"x\": 1.55, \"font\": {\"color\": \"#000000\"}, \"showarrow\": false}, {\"xref\": \"x1\", \"xanchor\": \"left\", \"yref\": \"y1\", \"text\": \"-122.394203\", \"align\": \"left\", \"y\": 40, \"x\": 2.55, \"font\": {\"color\": \"#000000\"}, \"showarrow\": false}, {\"xref\": \"x1\", \"xanchor\": \"left\", \"yref\": \"y1\", \"text\": \"23\", \"align\": \"left\", \"y\": 40, \"x\": 3.55, \"font\": {\"color\": \"#000000\"}, \"showarrow\": false}, {\"xref\": \"x1\", \"xanchor\": \"left\", \"yref\": \"y1\", \"text\": \"San Francisco\", \"align\": \"left\", \"y\": 40, \"x\": 4.55, \"font\": {\"color\": \"#000000\"}, \"showarrow\": false}, {\"xref\": \"x1\", \"xanchor\": \"left\", \"yref\": \"y1\", \"text\": \"2013-08-20 00:00:00\", \"align\": \"left\", \"y\": 40, \"x\": 5.55, \"font\": {\"color\": \"#000000\"}, \"showarrow\": false}, {\"xref\": \"x1\", \"xanchor\": \"left\", \"yref\": \"y1\", \"text\": \"51\", \"align\": \"left\", \"y\": 41, \"x\": -0.45, \"font\": {\"color\": \"#000000\"}, \"showarrow\": false}, {\"xref\": \"x1\", \"xanchor\": \"left\", \"yref\": \"y1\", \"text\": \"Embarcadero at Folsom\", \"align\": \"left\", \"y\": 41, \"x\": 0.55, \"font\": {\"color\": \"#000000\"}, \"showarrow\": false}, {\"xref\": \"x1\", \"xanchor\": \"left\", \"yref\": \"y1\", \"text\": \"37.791464\", \"align\": \"left\", \"y\": 41, \"x\": 1.55, \"font\": {\"color\": \"#000000\"}, \"showarrow\": false}, {\"xref\": \"x1\", \"xanchor\": \"left\", \"yref\": \"y1\", \"text\": \"-122.391034\", \"align\": \"left\", \"y\": 41, \"x\": 2.55, \"font\": {\"color\": \"#000000\"}, \"showarrow\": false}, {\"xref\": \"x1\", \"xanchor\": \"left\", \"yref\": \"y1\", \"text\": \"19\", \"align\": \"left\", \"y\": 41, \"x\": 3.55, \"font\": {\"color\": \"#000000\"}, \"showarrow\": false}, {\"xref\": \"x1\", \"xanchor\": \"left\", \"yref\": \"y1\", \"text\": \"San Francisco\", \"align\": \"left\", \"y\": 41, \"x\": 4.55, \"font\": {\"color\": \"#000000\"}, \"showarrow\": false}, {\"xref\": \"x1\", \"xanchor\": \"left\", \"yref\": \"y1\", \"text\": \"2013-08-20 00:00:00\", \"align\": \"left\", \"y\": 41, \"x\": 5.55, \"font\": {\"color\": \"#000000\"}, \"showarrow\": false}, {\"xref\": \"x1\", \"xanchor\": \"left\", \"yref\": \"y1\", \"text\": \"39\", \"align\": \"left\", \"y\": 42, \"x\": -0.45, \"font\": {\"color\": \"#000000\"}, \"showarrow\": false}, {\"xref\": \"x1\", \"xanchor\": \"left\", \"yref\": \"y1\", \"text\": \"Powell Street BART\", \"align\": \"left\", \"y\": 42, \"x\": 0.55, \"font\": {\"color\": \"#000000\"}, \"showarrow\": false}, {\"xref\": \"x1\", \"xanchor\": \"left\", \"yref\": \"y1\", \"text\": \"37.783871\", \"align\": \"left\", \"y\": 42, \"x\": 1.55, \"font\": {\"color\": \"#000000\"}, \"showarrow\": false}, {\"xref\": \"x1\", \"xanchor\": \"left\", \"yref\": \"y1\", \"text\": \"-122.408433\", \"align\": \"left\", \"y\": 42, \"x\": 2.55, \"font\": {\"color\": \"#000000\"}, \"showarrow\": false}, {\"xref\": \"x1\", \"xanchor\": \"left\", \"yref\": \"y1\", \"text\": \"19\", \"align\": \"left\", \"y\": 42, \"x\": 3.55, \"font\": {\"color\": \"#000000\"}, \"showarrow\": false}, {\"xref\": \"x1\", \"xanchor\": \"left\", \"yref\": \"y1\", \"text\": \"San Francisco\", \"align\": \"left\", \"y\": 42, \"x\": 4.55, \"font\": {\"color\": \"#000000\"}, \"showarrow\": false}, {\"xref\": \"x1\", \"xanchor\": \"left\", \"yref\": \"y1\", \"text\": \"2013-08-25 00:00:00\", \"align\": \"left\", \"y\": 42, \"x\": 5.55, \"font\": {\"color\": \"#000000\"}, \"showarrow\": false}, {\"xref\": \"x1\", \"xanchor\": \"left\", \"yref\": \"y1\", \"text\": \"54\", \"align\": \"left\", \"y\": 43, \"x\": -0.45, \"font\": {\"color\": \"#000000\"}, \"showarrow\": false}, {\"xref\": \"x1\", \"xanchor\": \"left\", \"yref\": \"y1\", \"text\": \"Embarcadero at Bryant\", \"align\": \"left\", \"y\": 43, \"x\": 0.55, \"font\": {\"color\": \"#000000\"}, \"showarrow\": false}, {\"xref\": \"x1\", \"xanchor\": \"left\", \"yref\": \"y1\", \"text\": \"37.787152\", \"align\": \"left\", \"y\": 43, \"x\": 1.55, \"font\": {\"color\": \"#000000\"}, \"showarrow\": false}, {\"xref\": \"x1\", \"xanchor\": \"left\", \"yref\": \"y1\", \"text\": \"-122.388013\", \"align\": \"left\", \"y\": 43, \"x\": 2.55, \"font\": {\"color\": \"#000000\"}, \"showarrow\": false}, {\"xref\": \"x1\", \"xanchor\": \"left\", \"yref\": \"y1\", \"text\": \"15\", \"align\": \"left\", \"y\": 43, \"x\": 3.55, \"font\": {\"color\": \"#000000\"}, \"showarrow\": false}, {\"xref\": \"x1\", \"xanchor\": \"left\", \"yref\": \"y1\", \"text\": \"San Francisco\", \"align\": \"left\", \"y\": 43, \"x\": 4.55, \"font\": {\"color\": \"#000000\"}, \"showarrow\": false}, {\"xref\": \"x1\", \"xanchor\": \"left\", \"yref\": \"y1\", \"text\": \"2013-08-20 00:00:00\", \"align\": \"left\", \"y\": 43, \"x\": 5.55, \"font\": {\"color\": \"#000000\"}, \"showarrow\": false}, {\"xref\": \"x1\", \"xanchor\": \"left\", \"yref\": \"y1\", \"text\": \"55\", \"align\": \"left\", \"y\": 44, \"x\": -0.45, \"font\": {\"color\": \"#000000\"}, \"showarrow\": false}, {\"xref\": \"x1\", \"xanchor\": \"left\", \"yref\": \"y1\", \"text\": \"Temporary Transbay Terminal (Howard at Beale)\", \"align\": \"left\", \"y\": 44, \"x\": 0.55, \"font\": {\"color\": \"#000000\"}, \"showarrow\": false}, {\"xref\": \"x1\", \"xanchor\": \"left\", \"yref\": \"y1\", \"text\": \"37.789756\", \"align\": \"left\", \"y\": 44, \"x\": 1.55, \"font\": {\"color\": \"#000000\"}, \"showarrow\": false}, {\"xref\": \"x1\", \"xanchor\": \"left\", \"yref\": \"y1\", \"text\": \"-122.394643\", \"align\": \"left\", \"y\": 44, \"x\": 2.55, \"font\": {\"color\": \"#000000\"}, \"showarrow\": false}, {\"xref\": \"x1\", \"xanchor\": \"left\", \"yref\": \"y1\", \"text\": \"23\", \"align\": \"left\", \"y\": 44, \"x\": 3.55, \"font\": {\"color\": \"#000000\"}, \"showarrow\": false}, {\"xref\": \"x1\", \"xanchor\": \"left\", \"yref\": \"y1\", \"text\": \"San Francisco\", \"align\": \"left\", \"y\": 44, \"x\": 4.55, \"font\": {\"color\": \"#000000\"}, \"showarrow\": false}, {\"xref\": \"x1\", \"xanchor\": \"left\", \"yref\": \"y1\", \"text\": \"2013-08-20 00:00:00\", \"align\": \"left\", \"y\": 44, \"x\": 5.55, \"font\": {\"color\": \"#000000\"}, \"showarrow\": false}, {\"xref\": \"x1\", \"xanchor\": \"left\", \"yref\": \"y1\", \"text\": \"56\", \"align\": \"left\", \"y\": 45, \"x\": -0.45, \"font\": {\"color\": \"#000000\"}, \"showarrow\": false}, {\"xref\": \"x1\", \"xanchor\": \"left\", \"yref\": \"y1\", \"text\": \"Beale at Market\", \"align\": \"left\", \"y\": 45, \"x\": 0.55, \"font\": {\"color\": \"#000000\"}, \"showarrow\": false}, {\"xref\": \"x1\", \"xanchor\": \"left\", \"yref\": \"y1\", \"text\": \"37.792251\", \"align\": \"left\", \"y\": 45, \"x\": 1.55, \"font\": {\"color\": \"#000000\"}, \"showarrow\": false}, {\"xref\": \"x1\", \"xanchor\": \"left\", \"yref\": \"y1\", \"text\": \"-122.397086\", \"align\": \"left\", \"y\": 45, \"x\": 2.55, \"font\": {\"color\": \"#000000\"}, \"showarrow\": false}, {\"xref\": \"x1\", \"xanchor\": \"left\", \"yref\": \"y1\", \"text\": \"19\", \"align\": \"left\", \"y\": 45, \"x\": 3.55, \"font\": {\"color\": \"#000000\"}, \"showarrow\": false}, {\"xref\": \"x1\", \"xanchor\": \"left\", \"yref\": \"y1\", \"text\": \"San Francisco\", \"align\": \"left\", \"y\": 45, \"x\": 4.55, \"font\": {\"color\": \"#000000\"}, \"showarrow\": false}, {\"xref\": \"x1\", \"xanchor\": \"left\", \"yref\": \"y1\", \"text\": \"2013-08-20 00:00:00\", \"align\": \"left\", \"y\": 45, \"x\": 5.55, \"font\": {\"color\": \"#000000\"}, \"showarrow\": false}, {\"xref\": \"x1\", \"xanchor\": \"left\", \"yref\": \"y1\", \"text\": \"57\", \"align\": \"left\", \"y\": 46, \"x\": -0.45, \"font\": {\"color\": \"#000000\"}, \"showarrow\": false}, {\"xref\": \"x1\", \"xanchor\": \"left\", \"yref\": \"y1\", \"text\": \"5th at Howard\", \"align\": \"left\", \"y\": 46, \"x\": 0.55, \"font\": {\"color\": \"#000000\"}, \"showarrow\": false}, {\"xref\": \"x1\", \"xanchor\": \"left\", \"yref\": \"y1\", \"text\": \"37.781752\", \"align\": \"left\", \"y\": 46, \"x\": 1.55, \"font\": {\"color\": \"#000000\"}, \"showarrow\": false}, {\"xref\": \"x1\", \"xanchor\": \"left\", \"yref\": \"y1\", \"text\": \"-122.405127\", \"align\": \"left\", \"y\": 46, \"x\": 2.55, \"font\": {\"color\": \"#000000\"}, \"showarrow\": false}, {\"xref\": \"x1\", \"xanchor\": \"left\", \"yref\": \"y1\", \"text\": \"15\", \"align\": \"left\", \"y\": 46, \"x\": 3.55, \"font\": {\"color\": \"#000000\"}, \"showarrow\": false}, {\"xref\": \"x1\", \"xanchor\": \"left\", \"yref\": \"y1\", \"text\": \"San Francisco\", \"align\": \"left\", \"y\": 46, \"x\": 4.55, \"font\": {\"color\": \"#000000\"}, \"showarrow\": false}, {\"xref\": \"x1\", \"xanchor\": \"left\", \"yref\": \"y1\", \"text\": \"2013-08-21 00:00:00\", \"align\": \"left\", \"y\": 46, \"x\": 5.55, \"font\": {\"color\": \"#000000\"}, \"showarrow\": false}, {\"xref\": \"x1\", \"xanchor\": \"left\", \"yref\": \"y1\", \"text\": \"58\", \"align\": \"left\", \"y\": 47, \"x\": -0.45, \"font\": {\"color\": \"#000000\"}, \"showarrow\": false}, {\"xref\": \"x1\", \"xanchor\": \"left\", \"yref\": \"y1\", \"text\": \"San Francisco City Hall\", \"align\": \"left\", \"y\": 47, \"x\": 0.55, \"font\": {\"color\": \"#000000\"}, \"showarrow\": false}, {\"xref\": \"x1\", \"xanchor\": \"left\", \"yref\": \"y1\", \"text\": \"37.77865\", \"align\": \"left\", \"y\": 47, \"x\": 1.55, \"font\": {\"color\": \"#000000\"}, \"showarrow\": false}, {\"xref\": \"x1\", \"xanchor\": \"left\", \"yref\": \"y1\", \"text\": \"-122.418235\", \"align\": \"left\", \"y\": 47, \"x\": 2.55, \"font\": {\"color\": \"#000000\"}, \"showarrow\": false}, {\"xref\": \"x1\", \"xanchor\": \"left\", \"yref\": \"y1\", \"text\": \"19\", \"align\": \"left\", \"y\": 47, \"x\": 3.55, \"font\": {\"color\": \"#000000\"}, \"showarrow\": false}, {\"xref\": \"x1\", \"xanchor\": \"left\", \"yref\": \"y1\", \"text\": \"San Francisco\", \"align\": \"left\", \"y\": 47, \"x\": 4.55, \"font\": {\"color\": \"#000000\"}, \"showarrow\": false}, {\"xref\": \"x1\", \"xanchor\": \"left\", \"yref\": \"y1\", \"text\": \"2013-08-21 00:00:00\", \"align\": \"left\", \"y\": 47, \"x\": 5.55, \"font\": {\"color\": \"#000000\"}, \"showarrow\": false}, {\"xref\": \"x1\", \"xanchor\": \"left\", \"yref\": \"y1\", \"text\": \"59\", \"align\": \"left\", \"y\": 48, \"x\": -0.45, \"font\": {\"color\": \"#000000\"}, \"showarrow\": false}, {\"xref\": \"x1\", \"xanchor\": \"left\", \"yref\": \"y1\", \"text\": \"Golden Gate at Polk\", \"align\": \"left\", \"y\": 48, \"x\": 0.55, \"font\": {\"color\": \"#000000\"}, \"showarrow\": false}, {\"xref\": \"x1\", \"xanchor\": \"left\", \"yref\": \"y1\", \"text\": \"37.781332\", \"align\": \"left\", \"y\": 48, \"x\": 1.55, \"font\": {\"color\": \"#000000\"}, \"showarrow\": false}, {\"xref\": \"x1\", \"xanchor\": \"left\", \"yref\": \"y1\", \"text\": \"-122.418603\", \"align\": \"left\", \"y\": 48, \"x\": 2.55, \"font\": {\"color\": \"#000000\"}, \"showarrow\": false}, {\"xref\": \"x1\", \"xanchor\": \"left\", \"yref\": \"y1\", \"text\": \"23\", \"align\": \"left\", \"y\": 48, \"x\": 3.55, \"font\": {\"color\": \"#000000\"}, \"showarrow\": false}, {\"xref\": \"x1\", \"xanchor\": \"left\", \"yref\": \"y1\", \"text\": \"San Francisco\", \"align\": \"left\", \"y\": 48, \"x\": 4.55, \"font\": {\"color\": \"#000000\"}, \"showarrow\": false}, {\"xref\": \"x1\", \"xanchor\": \"left\", \"yref\": \"y1\", \"text\": \"2013-08-21 00:00:00\", \"align\": \"left\", \"y\": 48, \"x\": 5.55, \"font\": {\"color\": \"#000000\"}, \"showarrow\": false}, {\"xref\": \"x1\", \"xanchor\": \"left\", \"yref\": \"y1\", \"text\": \"60\", \"align\": \"left\", \"y\": 49, \"x\": -0.45, \"font\": {\"color\": \"#000000\"}, \"showarrow\": false}, {\"xref\": \"x1\", \"xanchor\": \"left\", \"yref\": \"y1\", \"text\": \"Embarcadero at Sansome\", \"align\": \"left\", \"y\": 49, \"x\": 0.55, \"font\": {\"color\": \"#000000\"}, \"showarrow\": false}, {\"xref\": \"x1\", \"xanchor\": \"left\", \"yref\": \"y1\", \"text\": \"37.80477\", \"align\": \"left\", \"y\": 49, \"x\": 1.55, \"font\": {\"color\": \"#000000\"}, \"showarrow\": false}, {\"xref\": \"x1\", \"xanchor\": \"left\", \"yref\": \"y1\", \"text\": \"-122.403234\", \"align\": \"left\", \"y\": 49, \"x\": 2.55, \"font\": {\"color\": \"#000000\"}, \"showarrow\": false}, {\"xref\": \"x1\", \"xanchor\": \"left\", \"yref\": \"y1\", \"text\": \"15\", \"align\": \"left\", \"y\": 49, \"x\": 3.55, \"font\": {\"color\": \"#000000\"}, \"showarrow\": false}, {\"xref\": \"x1\", \"xanchor\": \"left\", \"yref\": \"y1\", \"text\": \"San Francisco\", \"align\": \"left\", \"y\": 49, \"x\": 4.55, \"font\": {\"color\": \"#000000\"}, \"showarrow\": false}, {\"xref\": \"x1\", \"xanchor\": \"left\", \"yref\": \"y1\", \"text\": \"2013-08-21 00:00:00\", \"align\": \"left\", \"y\": 49, \"x\": 5.55, \"font\": {\"color\": \"#000000\"}, \"showarrow\": false}, {\"xref\": \"x1\", \"xanchor\": \"left\", \"yref\": \"y1\", \"text\": \"61\", \"align\": \"left\", \"y\": 50, \"x\": -0.45, \"font\": {\"color\": \"#000000\"}, \"showarrow\": false}, {\"xref\": \"x1\", \"xanchor\": \"left\", \"yref\": \"y1\", \"text\": \"2nd at Townsend\", \"align\": \"left\", \"y\": 50, \"x\": 0.55, \"font\": {\"color\": \"#000000\"}, \"showarrow\": false}, {\"xref\": \"x1\", \"xanchor\": \"left\", \"yref\": \"y1\", \"text\": \"37.780526\", \"align\": \"left\", \"y\": 50, \"x\": 1.55, \"font\": {\"color\": \"#000000\"}, \"showarrow\": false}, {\"xref\": \"x1\", \"xanchor\": \"left\", \"yref\": \"y1\", \"text\": \"-122.390288\", \"align\": \"left\", \"y\": 50, \"x\": 2.55, \"font\": {\"color\": \"#000000\"}, \"showarrow\": false}, {\"xref\": \"x1\", \"xanchor\": \"left\", \"yref\": \"y1\", \"text\": \"27\", \"align\": \"left\", \"y\": 50, \"x\": 3.55, \"font\": {\"color\": \"#000000\"}, \"showarrow\": false}, {\"xref\": \"x1\", \"xanchor\": \"left\", \"yref\": \"y1\", \"text\": \"San Francisco\", \"align\": \"left\", \"y\": 50, \"x\": 4.55, \"font\": {\"color\": \"#000000\"}, \"showarrow\": false}, {\"xref\": \"x1\", \"xanchor\": \"left\", \"yref\": \"y1\", \"text\": \"2013-08-22 00:00:00\", \"align\": \"left\", \"y\": 50, \"x\": 5.55, \"font\": {\"color\": \"#000000\"}, \"showarrow\": false}, {\"xref\": \"x1\", \"xanchor\": \"left\", \"yref\": \"y1\", \"text\": \"62\", \"align\": \"left\", \"y\": 51, \"x\": -0.45, \"font\": {\"color\": \"#000000\"}, \"showarrow\": false}, {\"xref\": \"x1\", \"xanchor\": \"left\", \"yref\": \"y1\", \"text\": \"2nd at Folsom\", \"align\": \"left\", \"y\": 51, \"x\": 0.55, \"font\": {\"color\": \"#000000\"}, \"showarrow\": false}, {\"xref\": \"x1\", \"xanchor\": \"left\", \"yref\": \"y1\", \"text\": \"37.785299\", \"align\": \"left\", \"y\": 51, \"x\": 1.55, \"font\": {\"color\": \"#000000\"}, \"showarrow\": false}, {\"xref\": \"x1\", \"xanchor\": \"left\", \"yref\": \"y1\", \"text\": \"-122.396236\", \"align\": \"left\", \"y\": 51, \"x\": 2.55, \"font\": {\"color\": \"#000000\"}, \"showarrow\": false}, {\"xref\": \"x1\", \"xanchor\": \"left\", \"yref\": \"y1\", \"text\": \"19\", \"align\": \"left\", \"y\": 51, \"x\": 3.55, \"font\": {\"color\": \"#000000\"}, \"showarrow\": false}, {\"xref\": \"x1\", \"xanchor\": \"left\", \"yref\": \"y1\", \"text\": \"San Francisco\", \"align\": \"left\", \"y\": 51, \"x\": 4.55, \"font\": {\"color\": \"#000000\"}, \"showarrow\": false}, {\"xref\": \"x1\", \"xanchor\": \"left\", \"yref\": \"y1\", \"text\": \"2013-08-22 00:00:00\", \"align\": \"left\", \"y\": 51, \"x\": 5.55, \"font\": {\"color\": \"#000000\"}, \"showarrow\": false}, {\"xref\": \"x1\", \"xanchor\": \"left\", \"yref\": \"y1\", \"text\": \"63\", \"align\": \"left\", \"y\": 52, \"x\": -0.45, \"font\": {\"color\": \"#000000\"}, \"showarrow\": false}, {\"xref\": \"x1\", \"xanchor\": \"left\", \"yref\": \"y1\", \"text\": \"Howard at 2nd\", \"align\": \"left\", \"y\": 52, \"x\": 0.55, \"font\": {\"color\": \"#000000\"}, \"showarrow\": false}, {\"xref\": \"x1\", \"xanchor\": \"left\", \"yref\": \"y1\", \"text\": \"37.786978\", \"align\": \"left\", \"y\": 52, \"x\": 1.55, \"font\": {\"color\": \"#000000\"}, \"showarrow\": false}, {\"xref\": \"x1\", \"xanchor\": \"left\", \"yref\": \"y1\", \"text\": \"-122.398108\", \"align\": \"left\", \"y\": 52, \"x\": 2.55, \"font\": {\"color\": \"#000000\"}, \"showarrow\": false}, {\"xref\": \"x1\", \"xanchor\": \"left\", \"yref\": \"y1\", \"text\": \"19\", \"align\": \"left\", \"y\": 52, \"x\": 3.55, \"font\": {\"color\": \"#000000\"}, \"showarrow\": false}, {\"xref\": \"x1\", \"xanchor\": \"left\", \"yref\": \"y1\", \"text\": \"San Francisco\", \"align\": \"left\", \"y\": 52, \"x\": 4.55, \"font\": {\"color\": \"#000000\"}, \"showarrow\": false}, {\"xref\": \"x1\", \"xanchor\": \"left\", \"yref\": \"y1\", \"text\": \"2013-08-22 00:00:00\", \"align\": \"left\", \"y\": 52, \"x\": 5.55, \"font\": {\"color\": \"#000000\"}, \"showarrow\": false}, {\"xref\": \"x1\", \"xanchor\": \"left\", \"yref\": \"y1\", \"text\": \"64\", \"align\": \"left\", \"y\": 53, \"x\": -0.45, \"font\": {\"color\": \"#000000\"}, \"showarrow\": false}, {\"xref\": \"x1\", \"xanchor\": \"left\", \"yref\": \"y1\", \"text\": \"2nd at South Park\", \"align\": \"left\", \"y\": 53, \"x\": 0.55, \"font\": {\"color\": \"#000000\"}, \"showarrow\": false}, {\"xref\": \"x1\", \"xanchor\": \"left\", \"yref\": \"y1\", \"text\": \"37.782259\", \"align\": \"left\", \"y\": 53, \"x\": 1.55, \"font\": {\"color\": \"#000000\"}, \"showarrow\": false}, {\"xref\": \"x1\", \"xanchor\": \"left\", \"yref\": \"y1\", \"text\": \"-122.392738\", \"align\": \"left\", \"y\": 53, \"x\": 2.55, \"font\": {\"color\": \"#000000\"}, \"showarrow\": false}, {\"xref\": \"x1\", \"xanchor\": \"left\", \"yref\": \"y1\", \"text\": \"15\", \"align\": \"left\", \"y\": 53, \"x\": 3.55, \"font\": {\"color\": \"#000000\"}, \"showarrow\": false}, {\"xref\": \"x1\", \"xanchor\": \"left\", \"yref\": \"y1\", \"text\": \"San Francisco\", \"align\": \"left\", \"y\": 53, \"x\": 4.55, \"font\": {\"color\": \"#000000\"}, \"showarrow\": false}, {\"xref\": \"x1\", \"xanchor\": \"left\", \"yref\": \"y1\", \"text\": \"2013-08-22 00:00:00\", \"align\": \"left\", \"y\": 53, \"x\": 5.55, \"font\": {\"color\": \"#000000\"}, \"showarrow\": false}, {\"xref\": \"x1\", \"xanchor\": \"left\", \"yref\": \"y1\", \"text\": \"65\", \"align\": \"left\", \"y\": 54, \"x\": -0.45, \"font\": {\"color\": \"#000000\"}, \"showarrow\": false}, {\"xref\": \"x1\", \"xanchor\": \"left\", \"yref\": \"y1\", \"text\": \"Townsend at 7th\", \"align\": \"left\", \"y\": 54, \"x\": 0.55, \"font\": {\"color\": \"#000000\"}, \"showarrow\": false}, {\"xref\": \"x1\", \"xanchor\": \"left\", \"yref\": \"y1\", \"text\": \"37.771058\", \"align\": \"left\", \"y\": 54, \"x\": 1.55, \"font\": {\"color\": \"#000000\"}, \"showarrow\": false}, {\"xref\": \"x1\", \"xanchor\": \"left\", \"yref\": \"y1\", \"text\": \"-122.402717\", \"align\": \"left\", \"y\": 54, \"x\": 2.55, \"font\": {\"color\": \"#000000\"}, \"showarrow\": false}, {\"xref\": \"x1\", \"xanchor\": \"left\", \"yref\": \"y1\", \"text\": \"15\", \"align\": \"left\", \"y\": 54, \"x\": 3.55, \"font\": {\"color\": \"#000000\"}, \"showarrow\": false}, {\"xref\": \"x1\", \"xanchor\": \"left\", \"yref\": \"y1\", \"text\": \"San Francisco\", \"align\": \"left\", \"y\": 54, \"x\": 4.55, \"font\": {\"color\": \"#000000\"}, \"showarrow\": false}, {\"xref\": \"x1\", \"xanchor\": \"left\", \"yref\": \"y1\", \"text\": \"2013-08-22 00:00:00\", \"align\": \"left\", \"y\": 54, \"x\": 5.55, \"font\": {\"color\": \"#000000\"}, \"showarrow\": false}, {\"xref\": \"x1\", \"xanchor\": \"left\", \"yref\": \"y1\", \"text\": \"66\", \"align\": \"left\", \"y\": 55, \"x\": -0.45, \"font\": {\"color\": \"#000000\"}, \"showarrow\": false}, {\"xref\": \"x1\", \"xanchor\": \"left\", \"yref\": \"y1\", \"text\": \"South Van Ness at Market\", \"align\": \"left\", \"y\": 55, \"x\": 0.55, \"font\": {\"color\": \"#000000\"}, \"showarrow\": false}, {\"xref\": \"x1\", \"xanchor\": \"left\", \"yref\": \"y1\", \"text\": \"37.774814\", \"align\": \"left\", \"y\": 55, \"x\": 1.55, \"font\": {\"color\": \"#000000\"}, \"showarrow\": false}, {\"xref\": \"x1\", \"xanchor\": \"left\", \"yref\": \"y1\", \"text\": \"-122.418954\", \"align\": \"left\", \"y\": 55, \"x\": 2.55, \"font\": {\"color\": \"#000000\"}, \"showarrow\": false}, {\"xref\": \"x1\", \"xanchor\": \"left\", \"yref\": \"y1\", \"text\": \"19\", \"align\": \"left\", \"y\": 55, \"x\": 3.55, \"font\": {\"color\": \"#000000\"}, \"showarrow\": false}, {\"xref\": \"x1\", \"xanchor\": \"left\", \"yref\": \"y1\", \"text\": \"San Francisco\", \"align\": \"left\", \"y\": 55, \"x\": 4.55, \"font\": {\"color\": \"#000000\"}, \"showarrow\": false}, {\"xref\": \"x1\", \"xanchor\": \"left\", \"yref\": \"y1\", \"text\": \"2013-08-23 00:00:00\", \"align\": \"left\", \"y\": 55, \"x\": 5.55, \"font\": {\"color\": \"#000000\"}, \"showarrow\": false}, {\"xref\": \"x1\", \"xanchor\": \"left\", \"yref\": \"y1\", \"text\": \"67\", \"align\": \"left\", \"y\": 56, \"x\": -0.45, \"font\": {\"color\": \"#000000\"}, \"showarrow\": false}, {\"xref\": \"x1\", \"xanchor\": \"left\", \"yref\": \"y1\", \"text\": \"Market at 10th\", \"align\": \"left\", \"y\": 56, \"x\": 0.55, \"font\": {\"color\": \"#000000\"}, \"showarrow\": false}, {\"xref\": \"x1\", \"xanchor\": \"left\", \"yref\": \"y1\", \"text\": \"37.776619\", \"align\": \"left\", \"y\": 56, \"x\": 1.55, \"font\": {\"color\": \"#000000\"}, \"showarrow\": false}, {\"xref\": \"x1\", \"xanchor\": \"left\", \"yref\": \"y1\", \"text\": \"-122.417385\", \"align\": \"left\", \"y\": 56, \"x\": 2.55, \"font\": {\"color\": \"#000000\"}, \"showarrow\": false}, {\"xref\": \"x1\", \"xanchor\": \"left\", \"yref\": \"y1\", \"text\": \"27\", \"align\": \"left\", \"y\": 56, \"x\": 3.55, \"font\": {\"color\": \"#000000\"}, \"showarrow\": false}, {\"xref\": \"x1\", \"xanchor\": \"left\", \"yref\": \"y1\", \"text\": \"San Francisco\", \"align\": \"left\", \"y\": 56, \"x\": 4.55, \"font\": {\"color\": \"#000000\"}, \"showarrow\": false}, {\"xref\": \"x1\", \"xanchor\": \"left\", \"yref\": \"y1\", \"text\": \"2013-08-23 00:00:00\", \"align\": \"left\", \"y\": 56, \"x\": 5.55, \"font\": {\"color\": \"#000000\"}, \"showarrow\": false}, {\"xref\": \"x1\", \"xanchor\": \"left\", \"yref\": \"y1\", \"text\": \"68\", \"align\": \"left\", \"y\": 57, \"x\": -0.45, \"font\": {\"color\": \"#000000\"}, \"showarrow\": false}, {\"xref\": \"x1\", \"xanchor\": \"left\", \"yref\": \"y1\", \"text\": \"Yerba Buena Center of the Arts (3rd @ Howard)\", \"align\": \"left\", \"y\": 57, \"x\": 0.55, \"font\": {\"color\": \"#000000\"}, \"showarrow\": false}, {\"xref\": \"x1\", \"xanchor\": \"left\", \"yref\": \"y1\", \"text\": \"37.784878\", \"align\": \"left\", \"y\": 57, \"x\": 1.55, \"font\": {\"color\": \"#000000\"}, \"showarrow\": false}, {\"xref\": \"x1\", \"xanchor\": \"left\", \"yref\": \"y1\", \"text\": \"-122.401014\", \"align\": \"left\", \"y\": 57, \"x\": 2.55, \"font\": {\"color\": \"#000000\"}, \"showarrow\": false}, {\"xref\": \"x1\", \"xanchor\": \"left\", \"yref\": \"y1\", \"text\": \"19\", \"align\": \"left\", \"y\": 57, \"x\": 3.55, \"font\": {\"color\": \"#000000\"}, \"showarrow\": false}, {\"xref\": \"x1\", \"xanchor\": \"left\", \"yref\": \"y1\", \"text\": \"San Francisco\", \"align\": \"left\", \"y\": 57, \"x\": 4.55, \"font\": {\"color\": \"#000000\"}, \"showarrow\": false}, {\"xref\": \"x1\", \"xanchor\": \"left\", \"yref\": \"y1\", \"text\": \"2013-08-23 00:00:00\", \"align\": \"left\", \"y\": 57, \"x\": 5.55, \"font\": {\"color\": \"#000000\"}, \"showarrow\": false}, {\"xref\": \"x1\", \"xanchor\": \"left\", \"yref\": \"y1\", \"text\": \"69\", \"align\": \"left\", \"y\": 58, \"x\": -0.45, \"font\": {\"color\": \"#000000\"}, \"showarrow\": false}, {\"xref\": \"x1\", \"xanchor\": \"left\", \"yref\": \"y1\", \"text\": \"San Francisco Caltrain 2 (330 Townsend)\", \"align\": \"left\", \"y\": 58, \"x\": 0.55, \"font\": {\"color\": \"#000000\"}, \"showarrow\": false}, {\"xref\": \"x1\", \"xanchor\": \"left\", \"yref\": \"y1\", \"text\": \"37.7766\", \"align\": \"left\", \"y\": 58, \"x\": 1.55, \"font\": {\"color\": \"#000000\"}, \"showarrow\": false}, {\"xref\": \"x1\", \"xanchor\": \"left\", \"yref\": \"y1\", \"text\": \"-122.39547\", \"align\": \"left\", \"y\": 58, \"x\": 2.55, \"font\": {\"color\": \"#000000\"}, \"showarrow\": false}, {\"xref\": \"x1\", \"xanchor\": \"left\", \"yref\": \"y1\", \"text\": \"23\", \"align\": \"left\", \"y\": 58, \"x\": 3.55, \"font\": {\"color\": \"#000000\"}, \"showarrow\": false}, {\"xref\": \"x1\", \"xanchor\": \"left\", \"yref\": \"y1\", \"text\": \"San Francisco\", \"align\": \"left\", \"y\": 58, \"x\": 4.55, \"font\": {\"color\": \"#000000\"}, \"showarrow\": false}, {\"xref\": \"x1\", \"xanchor\": \"left\", \"yref\": \"y1\", \"text\": \"2013-08-23 00:00:00\", \"align\": \"left\", \"y\": 58, \"x\": 5.55, \"font\": {\"color\": \"#000000\"}, \"showarrow\": false}, {\"xref\": \"x1\", \"xanchor\": \"left\", \"yref\": \"y1\", \"text\": \"70\", \"align\": \"left\", \"y\": 59, \"x\": -0.45, \"font\": {\"color\": \"#000000\"}, \"showarrow\": false}, {\"xref\": \"x1\", \"xanchor\": \"left\", \"yref\": \"y1\", \"text\": \"San Francisco Caltrain (Townsend at 4th)\", \"align\": \"left\", \"y\": 59, \"x\": 0.55, \"font\": {\"color\": \"#000000\"}, \"showarrow\": false}, {\"xref\": \"x1\", \"xanchor\": \"left\", \"yref\": \"y1\", \"text\": \"37.776617\", \"align\": \"left\", \"y\": 59, \"x\": 1.55, \"font\": {\"color\": \"#000000\"}, \"showarrow\": false}, {\"xref\": \"x1\", \"xanchor\": \"left\", \"yref\": \"y1\", \"text\": \"-122.39526\", \"align\": \"left\", \"y\": 59, \"x\": 2.55, \"font\": {\"color\": \"#000000\"}, \"showarrow\": false}, {\"xref\": \"x1\", \"xanchor\": \"left\", \"yref\": \"y1\", \"text\": \"19\", \"align\": \"left\", \"y\": 59, \"x\": 3.55, \"font\": {\"color\": \"#000000\"}, \"showarrow\": false}, {\"xref\": \"x1\", \"xanchor\": \"left\", \"yref\": \"y1\", \"text\": \"San Francisco\", \"align\": \"left\", \"y\": 59, \"x\": 4.55, \"font\": {\"color\": \"#000000\"}, \"showarrow\": false}, {\"xref\": \"x1\", \"xanchor\": \"left\", \"yref\": \"y1\", \"text\": \"2013-08-23 00:00:00\", \"align\": \"left\", \"y\": 59, \"x\": 5.55, \"font\": {\"color\": \"#000000\"}, \"showarrow\": false}, {\"xref\": \"x1\", \"xanchor\": \"left\", \"yref\": \"y1\", \"text\": \"71\", \"align\": \"left\", \"y\": 60, \"x\": -0.45, \"font\": {\"color\": \"#000000\"}, \"showarrow\": false}, {\"xref\": \"x1\", \"xanchor\": \"left\", \"yref\": \"y1\", \"text\": \"Powell at Post (Union Square)\", \"align\": \"left\", \"y\": 60, \"x\": 0.55, \"font\": {\"color\": \"#000000\"}, \"showarrow\": false}, {\"xref\": \"x1\", \"xanchor\": \"left\", \"yref\": \"y1\", \"text\": \"37.788446\", \"align\": \"left\", \"y\": 60, \"x\": 1.55, \"font\": {\"color\": \"#000000\"}, \"showarrow\": false}, {\"xref\": \"x1\", \"xanchor\": \"left\", \"yref\": \"y1\", \"text\": \"-122.408499\", \"align\": \"left\", \"y\": 60, \"x\": 2.55, \"font\": {\"color\": \"#000000\"}, \"showarrow\": false}, {\"xref\": \"x1\", \"xanchor\": \"left\", \"yref\": \"y1\", \"text\": \"19\", \"align\": \"left\", \"y\": 60, \"x\": 3.55, \"font\": {\"color\": \"#000000\"}, \"showarrow\": false}, {\"xref\": \"x1\", \"xanchor\": \"left\", \"yref\": \"y1\", \"text\": \"San Francisco\", \"align\": \"left\", \"y\": 60, \"x\": 4.55, \"font\": {\"color\": \"#000000\"}, \"showarrow\": false}, {\"xref\": \"x1\", \"xanchor\": \"left\", \"yref\": \"y1\", \"text\": \"2013-08-23 00:00:00\", \"align\": \"left\", \"y\": 60, \"x\": 5.55, \"font\": {\"color\": \"#000000\"}, \"showarrow\": false}, {\"xref\": \"x1\", \"xanchor\": \"left\", \"yref\": \"y1\", \"text\": \"72\", \"align\": \"left\", \"y\": 61, \"x\": -0.45, \"font\": {\"color\": \"#000000\"}, \"showarrow\": false}, {\"xref\": \"x1\", \"xanchor\": \"left\", \"yref\": \"y1\", \"text\": \"Civic Center BART (7th at Market)\", \"align\": \"left\", \"y\": 61, \"x\": 0.55, \"font\": {\"color\": \"#000000\"}, \"showarrow\": false}, {\"xref\": \"x1\", \"xanchor\": \"left\", \"yref\": \"y1\", \"text\": \"37.781039\", \"align\": \"left\", \"y\": 61, \"x\": 1.55, \"font\": {\"color\": \"#000000\"}, \"showarrow\": false}, {\"xref\": \"x1\", \"xanchor\": \"left\", \"yref\": \"y1\", \"text\": \"-122.411748\", \"align\": \"left\", \"y\": 61, \"x\": 2.55, \"font\": {\"color\": \"#000000\"}, \"showarrow\": false}, {\"xref\": \"x1\", \"xanchor\": \"left\", \"yref\": \"y1\", \"text\": \"23\", \"align\": \"left\", \"y\": 61, \"x\": 3.55, \"font\": {\"color\": \"#000000\"}, \"showarrow\": false}, {\"xref\": \"x1\", \"xanchor\": \"left\", \"yref\": \"y1\", \"text\": \"San Francisco\", \"align\": \"left\", \"y\": 61, \"x\": 4.55, \"font\": {\"color\": \"#000000\"}, \"showarrow\": false}, {\"xref\": \"x1\", \"xanchor\": \"left\", \"yref\": \"y1\", \"text\": \"2013-08-23 00:00:00\", \"align\": \"left\", \"y\": 61, \"x\": 5.55, \"font\": {\"color\": \"#000000\"}, \"showarrow\": false}, {\"xref\": \"x1\", \"xanchor\": \"left\", \"yref\": \"y1\", \"text\": \"73\", \"align\": \"left\", \"y\": 62, \"x\": -0.45, \"font\": {\"color\": \"#000000\"}, \"showarrow\": false}, {\"xref\": \"x1\", \"xanchor\": \"left\", \"yref\": \"y1\", \"text\": \"Grant Avenue at Columbus Avenue\", \"align\": \"left\", \"y\": 62, \"x\": 0.55, \"font\": {\"color\": \"#000000\"}, \"showarrow\": false}, {\"xref\": \"x1\", \"xanchor\": \"left\", \"yref\": \"y1\", \"text\": \"37.798522\", \"align\": \"left\", \"y\": 62, \"x\": 1.55, \"font\": {\"color\": \"#000000\"}, \"showarrow\": false}, {\"xref\": \"x1\", \"xanchor\": \"left\", \"yref\": \"y1\", \"text\": \"-122.407245\", \"align\": \"left\", \"y\": 62, \"x\": 2.55, \"font\": {\"color\": \"#000000\"}, \"showarrow\": false}, {\"xref\": \"x1\", \"xanchor\": \"left\", \"yref\": \"y1\", \"text\": \"15\", \"align\": \"left\", \"y\": 62, \"x\": 3.55, \"font\": {\"color\": \"#000000\"}, \"showarrow\": false}, {\"xref\": \"x1\", \"xanchor\": \"left\", \"yref\": \"y1\", \"text\": \"San Francisco\", \"align\": \"left\", \"y\": 62, \"x\": 4.55, \"font\": {\"color\": \"#000000\"}, \"showarrow\": false}, {\"xref\": \"x1\", \"xanchor\": \"left\", \"yref\": \"y1\", \"text\": \"2013-08-21 00:00:00\", \"align\": \"left\", \"y\": 62, \"x\": 5.55, \"font\": {\"color\": \"#000000\"}, \"showarrow\": false}, {\"xref\": \"x1\", \"xanchor\": \"left\", \"yref\": \"y1\", \"text\": \"74\", \"align\": \"left\", \"y\": 63, \"x\": -0.45, \"font\": {\"color\": \"#000000\"}, \"showarrow\": false}, {\"xref\": \"x1\", \"xanchor\": \"left\", \"yref\": \"y1\", \"text\": \"Steuart at Market\", \"align\": \"left\", \"y\": 63, \"x\": 0.55, \"font\": {\"color\": \"#000000\"}, \"showarrow\": false}, {\"xref\": \"x1\", \"xanchor\": \"left\", \"yref\": \"y1\", \"text\": \"37.794139\", \"align\": \"left\", \"y\": 63, \"x\": 1.55, \"font\": {\"color\": \"#000000\"}, \"showarrow\": false}, {\"xref\": \"x1\", \"xanchor\": \"left\", \"yref\": \"y1\", \"text\": \"-122.394434\", \"align\": \"left\", \"y\": 63, \"x\": 2.55, \"font\": {\"color\": \"#000000\"}, \"showarrow\": false}, {\"xref\": \"x1\", \"xanchor\": \"left\", \"yref\": \"y1\", \"text\": \"23\", \"align\": \"left\", \"y\": 63, \"x\": 3.55, \"font\": {\"color\": \"#000000\"}, \"showarrow\": false}, {\"xref\": \"x1\", \"xanchor\": \"left\", \"yref\": \"y1\", \"text\": \"San Francisco\", \"align\": \"left\", \"y\": 63, \"x\": 4.55, \"font\": {\"color\": \"#000000\"}, \"showarrow\": false}, {\"xref\": \"x1\", \"xanchor\": \"left\", \"yref\": \"y1\", \"text\": \"2013-08-25 00:00:00\", \"align\": \"left\", \"y\": 63, \"x\": 5.55, \"font\": {\"color\": \"#000000\"}, \"showarrow\": false}, {\"xref\": \"x1\", \"xanchor\": \"left\", \"yref\": \"y1\", \"text\": \"75\", \"align\": \"left\", \"y\": 64, \"x\": -0.45, \"font\": {\"color\": \"#000000\"}, \"showarrow\": false}, {\"xref\": \"x1\", \"xanchor\": \"left\", \"yref\": \"y1\", \"text\": \"Mechanics Plaza (Market at Battery)\", \"align\": \"left\", \"y\": 64, \"x\": 0.55, \"font\": {\"color\": \"#000000\"}, \"showarrow\": false}, {\"xref\": \"x1\", \"xanchor\": \"left\", \"yref\": \"y1\", \"text\": \"37.7913\", \"align\": \"left\", \"y\": 64, \"x\": 1.55, \"font\": {\"color\": \"#000000\"}, \"showarrow\": false}, {\"xref\": \"x1\", \"xanchor\": \"left\", \"yref\": \"y1\", \"text\": \"-122.399051\", \"align\": \"left\", \"y\": 64, \"x\": 2.55, \"font\": {\"color\": \"#000000\"}, \"showarrow\": false}, {\"xref\": \"x1\", \"xanchor\": \"left\", \"yref\": \"y1\", \"text\": \"19\", \"align\": \"left\", \"y\": 64, \"x\": 3.55, \"font\": {\"color\": \"#000000\"}, \"showarrow\": false}, {\"xref\": \"x1\", \"xanchor\": \"left\", \"yref\": \"y1\", \"text\": \"San Francisco\", \"align\": \"left\", \"y\": 64, \"x\": 4.55, \"font\": {\"color\": \"#000000\"}, \"showarrow\": false}, {\"xref\": \"x1\", \"xanchor\": \"left\", \"yref\": \"y1\", \"text\": \"2013-08-25 00:00:00\", \"align\": \"left\", \"y\": 64, \"x\": 5.55, \"font\": {\"color\": \"#000000\"}, \"showarrow\": false}, {\"xref\": \"x1\", \"xanchor\": \"left\", \"yref\": \"y1\", \"text\": \"76\", \"align\": \"left\", \"y\": 65, \"x\": -0.45, \"font\": {\"color\": \"#000000\"}, \"showarrow\": false}, {\"xref\": \"x1\", \"xanchor\": \"left\", \"yref\": \"y1\", \"text\": \"Market at 4th\", \"align\": \"left\", \"y\": 65, \"x\": 0.55, \"font\": {\"color\": \"#000000\"}, \"showarrow\": false}, {\"xref\": \"x1\", \"xanchor\": \"left\", \"yref\": \"y1\", \"text\": \"37.786305\", \"align\": \"left\", \"y\": 65, \"x\": 1.55, \"font\": {\"color\": \"#000000\"}, \"showarrow\": false}, {\"xref\": \"x1\", \"xanchor\": \"left\", \"yref\": \"y1\", \"text\": \"-122.404966\", \"align\": \"left\", \"y\": 65, \"x\": 2.55, \"font\": {\"color\": \"#000000\"}, \"showarrow\": false}, {\"xref\": \"x1\", \"xanchor\": \"left\", \"yref\": \"y1\", \"text\": \"19\", \"align\": \"left\", \"y\": 65, \"x\": 3.55, \"font\": {\"color\": \"#000000\"}, \"showarrow\": false}, {\"xref\": \"x1\", \"xanchor\": \"left\", \"yref\": \"y1\", \"text\": \"San Francisco\", \"align\": \"left\", \"y\": 65, \"x\": 4.55, \"font\": {\"color\": \"#000000\"}, \"showarrow\": false}, {\"xref\": \"x1\", \"xanchor\": \"left\", \"yref\": \"y1\", \"text\": \"2013-08-25 00:00:00\", \"align\": \"left\", \"y\": 65, \"x\": 5.55, \"font\": {\"color\": \"#000000\"}, \"showarrow\": false}, {\"xref\": \"x1\", \"xanchor\": \"left\", \"yref\": \"y1\", \"text\": \"77\", \"align\": \"left\", \"y\": 66, \"x\": -0.45, \"font\": {\"color\": \"#000000\"}, \"showarrow\": false}, {\"xref\": \"x1\", \"xanchor\": \"left\", \"yref\": \"y1\", \"text\": \"Market at Sansome\", \"align\": \"left\", \"y\": 66, \"x\": 0.55, \"font\": {\"color\": \"#000000\"}, \"showarrow\": false}, {\"xref\": \"x1\", \"xanchor\": \"left\", \"yref\": \"y1\", \"text\": \"37.789625\", \"align\": \"left\", \"y\": 66, \"x\": 1.55, \"font\": {\"color\": \"#000000\"}, \"showarrow\": false}, {\"xref\": \"x1\", \"xanchor\": \"left\", \"yref\": \"y1\", \"text\": \"-122.400811\", \"align\": \"left\", \"y\": 66, \"x\": 2.55, \"font\": {\"color\": \"#000000\"}, \"showarrow\": false}, {\"xref\": \"x1\", \"xanchor\": \"left\", \"yref\": \"y1\", \"text\": \"27\", \"align\": \"left\", \"y\": 66, \"x\": 3.55, \"font\": {\"color\": \"#000000\"}, \"showarrow\": false}, {\"xref\": \"x1\", \"xanchor\": \"left\", \"yref\": \"y1\", \"text\": \"San Francisco\", \"align\": \"left\", \"y\": 66, \"x\": 4.55, \"font\": {\"color\": \"#000000\"}, \"showarrow\": false}, {\"xref\": \"x1\", \"xanchor\": \"left\", \"yref\": \"y1\", \"text\": \"2013-08-25 00:00:00\", \"align\": \"left\", \"y\": 66, \"x\": 5.55, \"font\": {\"color\": \"#000000\"}, \"showarrow\": false}, {\"xref\": \"x1\", \"xanchor\": \"left\", \"yref\": \"y1\", \"text\": \"80\", \"align\": \"left\", \"y\": 67, \"x\": -0.45, \"font\": {\"color\": \"#000000\"}, \"showarrow\": false}, {\"xref\": \"x1\", \"xanchor\": \"left\", \"yref\": \"y1\", \"text\": \"Santa Clara County Civic Center\", \"align\": \"left\", \"y\": 67, \"x\": 0.55, \"font\": {\"color\": \"#000000\"}, \"showarrow\": false}, {\"xref\": \"x1\", \"xanchor\": \"left\", \"yref\": \"y1\", \"text\": \"37.352601\", \"align\": \"left\", \"y\": 67, \"x\": 1.55, \"font\": {\"color\": \"#000000\"}, \"showarrow\": false}, {\"xref\": \"x1\", \"xanchor\": \"left\", \"yref\": \"y1\", \"text\": \"-121.905733\", \"align\": \"left\", \"y\": 67, \"x\": 2.55, \"font\": {\"color\": \"#000000\"}, \"showarrow\": false}, {\"xref\": \"x1\", \"xanchor\": \"left\", \"yref\": \"y1\", \"text\": \"15\", \"align\": \"left\", \"y\": 67, \"x\": 3.55, \"font\": {\"color\": \"#000000\"}, \"showarrow\": false}, {\"xref\": \"x1\", \"xanchor\": \"left\", \"yref\": \"y1\", \"text\": \"San Jose\", \"align\": \"left\", \"y\": 67, \"x\": 4.55, \"font\": {\"color\": \"#000000\"}, \"showarrow\": false}, {\"xref\": \"x1\", \"xanchor\": \"left\", \"yref\": \"y1\", \"text\": \"2013-12-31 00:00:00\", \"align\": \"left\", \"y\": 67, \"x\": 5.55, \"font\": {\"color\": \"#000000\"}, \"showarrow\": false}, {\"xref\": \"x1\", \"xanchor\": \"left\", \"yref\": \"y1\", \"text\": \"82\", \"align\": \"left\", \"y\": 68, \"x\": -0.45, \"font\": {\"color\": \"#000000\"}, \"showarrow\": false}, {\"xref\": \"x1\", \"xanchor\": \"left\", \"yref\": \"y1\", \"text\": \"Broadway St at Battery St\", \"align\": \"left\", \"y\": 68, \"x\": 0.55, \"font\": {\"color\": \"#000000\"}, \"showarrow\": false}, {\"xref\": \"x1\", \"xanchor\": \"left\", \"yref\": \"y1\", \"text\": \"37.798541\", \"align\": \"left\", \"y\": 68, \"x\": 1.55, \"font\": {\"color\": \"#000000\"}, \"showarrow\": false}, {\"xref\": \"x1\", \"xanchor\": \"left\", \"yref\": \"y1\", \"text\": \"-122.400862\", \"align\": \"left\", \"y\": 68, \"x\": 2.55, \"font\": {\"color\": \"#000000\"}, \"showarrow\": false}, {\"xref\": \"x1\", \"xanchor\": \"left\", \"yref\": \"y1\", \"text\": \"15\", \"align\": \"left\", \"y\": 68, \"x\": 3.55, \"font\": {\"color\": \"#000000\"}, \"showarrow\": false}, {\"xref\": \"x1\", \"xanchor\": \"left\", \"yref\": \"y1\", \"text\": \"San Francisco\", \"align\": \"left\", \"y\": 68, \"x\": 4.55, \"font\": {\"color\": \"#000000\"}, \"showarrow\": false}, {\"xref\": \"x1\", \"xanchor\": \"left\", \"yref\": \"y1\", \"text\": \"2014-01-22 00:00:00\", \"align\": \"left\", \"y\": 68, \"x\": 5.55, \"font\": {\"color\": \"#000000\"}, \"showarrow\": false}, {\"xref\": \"x1\", \"xanchor\": \"left\", \"yref\": \"y1\", \"text\": \"83\", \"align\": \"left\", \"y\": 69, \"x\": -0.45, \"font\": {\"color\": \"#000000\"}, \"showarrow\": false}, {\"xref\": \"x1\", \"xanchor\": \"left\", \"yref\": \"y1\", \"text\": \"Mezes Park\", \"align\": \"left\", \"y\": 69, \"x\": 0.55, \"font\": {\"color\": \"#000000\"}, \"showarrow\": false}, {\"xref\": \"x1\", \"xanchor\": \"left\", \"yref\": \"y1\", \"text\": \"37.491269\", \"align\": \"left\", \"y\": 69, \"x\": 1.55, \"font\": {\"color\": \"#000000\"}, \"showarrow\": false}, {\"xref\": \"x1\", \"xanchor\": \"left\", \"yref\": \"y1\", \"text\": \"-122.236234\", \"align\": \"left\", \"y\": 69, \"x\": 2.55, \"font\": {\"color\": \"#000000\"}, \"showarrow\": false}, {\"xref\": \"x1\", \"xanchor\": \"left\", \"yref\": \"y1\", \"text\": \"15\", \"align\": \"left\", \"y\": 69, \"x\": 3.55, \"font\": {\"color\": \"#000000\"}, \"showarrow\": false}, {\"xref\": \"x1\", \"xanchor\": \"left\", \"yref\": \"y1\", \"text\": \"Redwood City\", \"align\": \"left\", \"y\": 69, \"x\": 4.55, \"font\": {\"color\": \"#000000\"}, \"showarrow\": false}, {\"xref\": \"x1\", \"xanchor\": \"left\", \"yref\": \"y1\", \"text\": \"2014-02-20 00:00:00\", \"align\": \"left\", \"y\": 69, \"x\": 5.55, \"font\": {\"color\": \"#000000\"}, \"showarrow\": false}, {\"xref\": \"x1\", \"xanchor\": \"left\", \"yref\": \"y1\", \"text\": \"84\", \"align\": \"left\", \"y\": 70, \"x\": -0.45, \"font\": {\"color\": \"#000000\"}, \"showarrow\": false}, {\"xref\": \"x1\", \"xanchor\": \"left\", \"yref\": \"y1\", \"text\": \"Ryland Park\", \"align\": \"left\", \"y\": 70, \"x\": 0.55, \"font\": {\"color\": \"#000000\"}, \"showarrow\": false}, {\"xref\": \"x1\", \"xanchor\": \"left\", \"yref\": \"y1\", \"text\": \"37.342725\", \"align\": \"left\", \"y\": 70, \"x\": 1.55, \"font\": {\"color\": \"#000000\"}, \"showarrow\": false}, {\"xref\": \"x1\", \"xanchor\": \"left\", \"yref\": \"y1\", \"text\": \"-121.895617\", \"align\": \"left\", \"y\": 70, \"x\": 2.55, \"font\": {\"color\": \"#000000\"}, \"showarrow\": false}, {\"xref\": \"x1\", \"xanchor\": \"left\", \"yref\": \"y1\", \"text\": \"15\", \"align\": \"left\", \"y\": 70, \"x\": 3.55, \"font\": {\"color\": \"#000000\"}, \"showarrow\": false}, {\"xref\": \"x1\", \"xanchor\": \"left\", \"yref\": \"y1\", \"text\": \"San Jose\", \"align\": \"left\", \"y\": 70, \"x\": 4.55, \"font\": {\"color\": \"#000000\"}, \"showarrow\": false}, {\"xref\": \"x1\", \"xanchor\": \"left\", \"yref\": \"y1\", \"text\": \"2014-04-09 00:00:00\", \"align\": \"left\", \"y\": 70, \"x\": 5.55, \"font\": {\"color\": \"#000000\"}, \"showarrow\": false}], \"xaxis\": {\"showticklabels\": false, \"tick0\": -0.5, \"ticks\": \"\", \"gridwidth\": 2, \"dtick\": 1, \"zeroline\": false}, \"height\": 2180}, {\"linkText\": \"Export to plot.ly\", \"showLink\": true})});</script>"
      ],
      "text/vnd.plotly.v1+html": [
       "<div id=\"c2fdd6bd-6b21-4555-bd60-b3245ad17e07\" style=\"height: 2180px; width: 100%;\" class=\"plotly-graph-div\"></div><script type=\"text/javascript\">require([\"plotly\"], function(Plotly) { window.PLOTLYENV=window.PLOTLYENV || {};window.PLOTLYENV.BASE_URL=\"https://plot.ly\";Plotly.newPlot(\"c2fdd6bd-6b21-4555-bd60-b3245ad17e07\", [{\"opacity\": 0.75, \"colorscale\": [[0, \"#00083e\"], [0.5, \"#ededee\"], [1, \"#ffffff\"]], \"showscale\": false, \"hoverinfo\": \"none\", \"z\": [[0, 0, 0, 0, 0, 0, 0], [0.5, 0.5, 0.5, 0.5, 0.5, 0.5, 0.5], [1, 1, 1, 1, 1, 1, 1], [0.5, 0.5, 0.5, 0.5, 0.5, 0.5, 0.5], [1, 1, 1, 1, 1, 1, 1], [0.5, 0.5, 0.5, 0.5, 0.5, 0.5, 0.5], [1, 1, 1, 1, 1, 1, 1], [0.5, 0.5, 0.5, 0.5, 0.5, 0.5, 0.5], [1, 1, 1, 1, 1, 1, 1], [0.5, 0.5, 0.5, 0.5, 0.5, 0.5, 0.5], [1, 1, 1, 1, 1, 1, 1], [0.5, 0.5, 0.5, 0.5, 0.5, 0.5, 0.5], [1, 1, 1, 1, 1, 1, 1], [0.5, 0.5, 0.5, 0.5, 0.5, 0.5, 0.5], [1, 1, 1, 1, 1, 1, 1], [0.5, 0.5, 0.5, 0.5, 0.5, 0.5, 0.5], [1, 1, 1, 1, 1, 1, 1], [0.5, 0.5, 0.5, 0.5, 0.5, 0.5, 0.5], [1, 1, 1, 1, 1, 1, 1], [0.5, 0.5, 0.5, 0.5, 0.5, 0.5, 0.5], [1, 1, 1, 1, 1, 1, 1], [0.5, 0.5, 0.5, 0.5, 0.5, 0.5, 0.5], [1, 1, 1, 1, 1, 1, 1], [0.5, 0.5, 0.5, 0.5, 0.5, 0.5, 0.5], [1, 1, 1, 1, 1, 1, 1], [0.5, 0.5, 0.5, 0.5, 0.5, 0.5, 0.5], [1, 1, 1, 1, 1, 1, 1], [0.5, 0.5, 0.5, 0.5, 0.5, 0.5, 0.5], [1, 1, 1, 1, 1, 1, 1], [0.5, 0.5, 0.5, 0.5, 0.5, 0.5, 0.5], [1, 1, 1, 1, 1, 1, 1], [0.5, 0.5, 0.5, 0.5, 0.5, 0.5, 0.5], [1, 1, 1, 1, 1, 1, 1], [0.5, 0.5, 0.5, 0.5, 0.5, 0.5, 0.5], [1, 1, 1, 1, 1, 1, 1], [0.5, 0.5, 0.5, 0.5, 0.5, 0.5, 0.5], [1, 1, 1, 1, 1, 1, 1], [0.5, 0.5, 0.5, 0.5, 0.5, 0.5, 0.5], [1, 1, 1, 1, 1, 1, 1], [0.5, 0.5, 0.5, 0.5, 0.5, 0.5, 0.5], [1, 1, 1, 1, 1, 1, 1], [0.5, 0.5, 0.5, 0.5, 0.5, 0.5, 0.5], [1, 1, 1, 1, 1, 1, 1], [0.5, 0.5, 0.5, 0.5, 0.5, 0.5, 0.5], [1, 1, 1, 1, 1, 1, 1], [0.5, 0.5, 0.5, 0.5, 0.5, 0.5, 0.5], [1, 1, 1, 1, 1, 1, 1], [0.5, 0.5, 0.5, 0.5, 0.5, 0.5, 0.5], [1, 1, 1, 1, 1, 1, 1], [0.5, 0.5, 0.5, 0.5, 0.5, 0.5, 0.5], [1, 1, 1, 1, 1, 1, 1], [0.5, 0.5, 0.5, 0.5, 0.5, 0.5, 0.5], [1, 1, 1, 1, 1, 1, 1], [0.5, 0.5, 0.5, 0.5, 0.5, 0.5, 0.5], [1, 1, 1, 1, 1, 1, 1], [0.5, 0.5, 0.5, 0.5, 0.5, 0.5, 0.5], [1, 1, 1, 1, 1, 1, 1], [0.5, 0.5, 0.5, 0.5, 0.5, 0.5, 0.5], [1, 1, 1, 1, 1, 1, 1], [0.5, 0.5, 0.5, 0.5, 0.5, 0.5, 0.5], [1, 1, 1, 1, 1, 1, 1], [0.5, 0.5, 0.5, 0.5, 0.5, 0.5, 0.5], [1, 1, 1, 1, 1, 1, 1], [0.5, 0.5, 0.5, 0.5, 0.5, 0.5, 0.5], [1, 1, 1, 1, 1, 1, 1], [0.5, 0.5, 0.5, 0.5, 0.5, 0.5, 0.5], [1, 1, 1, 1, 1, 1, 1], [0.5, 0.5, 0.5, 0.5, 0.5, 0.5, 0.5], [1, 1, 1, 1, 1, 1, 1], [0.5, 0.5, 0.5, 0.5, 0.5, 0.5, 0.5], [1, 1, 1, 1, 1, 1, 1]], \"type\": \"heatmap\"}], {\"yaxis\": {\"showticklabels\": false, \"tick0\": 0.5, \"ticks\": \"\", \"gridwidth\": 2, \"dtick\": 1, \"zeroline\": false, \"autorange\": \"reversed\"}, \"margin\": {\"r\": 0, \"b\": 0, \"l\": 0, \"t\": 0}, \"annotations\": [{\"xref\": \"x1\", \"xanchor\": \"left\", \"yref\": \"y1\", \"text\": \"<b>id</b>\", \"align\": \"left\", \"y\": 0, \"x\": -0.45, \"font\": {\"color\": \"#ffffff\"}, \"showarrow\": false}, {\"xref\": \"x1\", \"xanchor\": \"left\", \"yref\": \"y1\", \"text\": \"<b>name</b>\", \"align\": \"left\", \"y\": 0, \"x\": 0.55, \"font\": {\"color\": \"#ffffff\"}, \"showarrow\": false}, {\"xref\": \"x1\", \"xanchor\": \"left\", \"yref\": \"y1\", \"text\": \"<b>lat</b>\", \"align\": \"left\", \"y\": 0, \"x\": 1.55, \"font\": {\"color\": \"#ffffff\"}, \"showarrow\": false}, {\"xref\": \"x1\", \"xanchor\": \"left\", \"yref\": \"y1\", \"text\": \"<b>long</b>\", \"align\": \"left\", \"y\": 0, \"x\": 2.55, \"font\": {\"color\": \"#ffffff\"}, \"showarrow\": false}, {\"xref\": \"x1\", \"xanchor\": \"left\", \"yref\": \"y1\", \"text\": \"<b>dock_count</b>\", \"align\": \"left\", \"y\": 0, \"x\": 3.55, \"font\": {\"color\": \"#ffffff\"}, \"showarrow\": false}, {\"xref\": \"x1\", \"xanchor\": \"left\", \"yref\": \"y1\", \"text\": \"<b>city</b>\", \"align\": \"left\", \"y\": 0, \"x\": 4.55, \"font\": {\"color\": \"#ffffff\"}, \"showarrow\": false}, {\"xref\": \"x1\", \"xanchor\": \"left\", \"yref\": \"y1\", \"text\": \"<b>installation_date</b>\", \"align\": \"left\", \"y\": 0, \"x\": 5.55, \"font\": {\"color\": \"#ffffff\"}, \"showarrow\": false}, {\"xref\": \"x1\", \"xanchor\": \"left\", \"yref\": \"y1\", \"text\": \"2\", \"align\": \"left\", \"y\": 1, \"x\": -0.45, \"font\": {\"color\": \"#000000\"}, \"showarrow\": false}, {\"xref\": \"x1\", \"xanchor\": \"left\", \"yref\": \"y1\", \"text\": \"San Jose Diridon Caltrain Station\", \"align\": \"left\", \"y\": 1, \"x\": 0.55, \"font\": {\"color\": \"#000000\"}, \"showarrow\": false}, {\"xref\": \"x1\", \"xanchor\": \"left\", \"yref\": \"y1\", \"text\": \"37.329732\", \"align\": \"left\", \"y\": 1, \"x\": 1.55, \"font\": {\"color\": \"#000000\"}, \"showarrow\": false}, {\"xref\": \"x1\", \"xanchor\": \"left\", \"yref\": \"y1\", \"text\": \"-121.901782\", \"align\": \"left\", \"y\": 1, \"x\": 2.55, \"font\": {\"color\": \"#000000\"}, \"showarrow\": false}, {\"xref\": \"x1\", \"xanchor\": \"left\", \"yref\": \"y1\", \"text\": \"27\", \"align\": \"left\", \"y\": 1, \"x\": 3.55, \"font\": {\"color\": \"#000000\"}, \"showarrow\": false}, {\"xref\": \"x1\", \"xanchor\": \"left\", \"yref\": \"y1\", \"text\": \"San Jose\", \"align\": \"left\", \"y\": 1, \"x\": 4.55, \"font\": {\"color\": \"#000000\"}, \"showarrow\": false}, {\"xref\": \"x1\", \"xanchor\": \"left\", \"yref\": \"y1\", \"text\": \"2013-08-06 00:00:00\", \"align\": \"left\", \"y\": 1, \"x\": 5.55, \"font\": {\"color\": \"#000000\"}, \"showarrow\": false}, {\"xref\": \"x1\", \"xanchor\": \"left\", \"yref\": \"y1\", \"text\": \"3\", \"align\": \"left\", \"y\": 2, \"x\": -0.45, \"font\": {\"color\": \"#000000\"}, \"showarrow\": false}, {\"xref\": \"x1\", \"xanchor\": \"left\", \"yref\": \"y1\", \"text\": \"San Jose Civic Center\", \"align\": \"left\", \"y\": 2, \"x\": 0.55, \"font\": {\"color\": \"#000000\"}, \"showarrow\": false}, {\"xref\": \"x1\", \"xanchor\": \"left\", \"yref\": \"y1\", \"text\": \"37.330698\", \"align\": \"left\", \"y\": 2, \"x\": 1.55, \"font\": {\"color\": \"#000000\"}, \"showarrow\": false}, {\"xref\": \"x1\", \"xanchor\": \"left\", \"yref\": \"y1\", \"text\": \"-121.888979\", \"align\": \"left\", \"y\": 2, \"x\": 2.55, \"font\": {\"color\": \"#000000\"}, \"showarrow\": false}, {\"xref\": \"x1\", \"xanchor\": \"left\", \"yref\": \"y1\", \"text\": \"15\", \"align\": \"left\", \"y\": 2, \"x\": 3.55, \"font\": {\"color\": \"#000000\"}, \"showarrow\": false}, {\"xref\": \"x1\", \"xanchor\": \"left\", \"yref\": \"y1\", \"text\": \"San Jose\", \"align\": \"left\", \"y\": 2, \"x\": 4.55, \"font\": {\"color\": \"#000000\"}, \"showarrow\": false}, {\"xref\": \"x1\", \"xanchor\": \"left\", \"yref\": \"y1\", \"text\": \"2013-08-05 00:00:00\", \"align\": \"left\", \"y\": 2, \"x\": 5.55, \"font\": {\"color\": \"#000000\"}, \"showarrow\": false}, {\"xref\": \"x1\", \"xanchor\": \"left\", \"yref\": \"y1\", \"text\": \"4\", \"align\": \"left\", \"y\": 3, \"x\": -0.45, \"font\": {\"color\": \"#000000\"}, \"showarrow\": false}, {\"xref\": \"x1\", \"xanchor\": \"left\", \"yref\": \"y1\", \"text\": \"Santa Clara at Almaden\", \"align\": \"left\", \"y\": 3, \"x\": 0.55, \"font\": {\"color\": \"#000000\"}, \"showarrow\": false}, {\"xref\": \"x1\", \"xanchor\": \"left\", \"yref\": \"y1\", \"text\": \"37.333988\", \"align\": \"left\", \"y\": 3, \"x\": 1.55, \"font\": {\"color\": \"#000000\"}, \"showarrow\": false}, {\"xref\": \"x1\", \"xanchor\": \"left\", \"yref\": \"y1\", \"text\": \"-121.894902\", \"align\": \"left\", \"y\": 3, \"x\": 2.55, \"font\": {\"color\": \"#000000\"}, \"showarrow\": false}, {\"xref\": \"x1\", \"xanchor\": \"left\", \"yref\": \"y1\", \"text\": \"11\", \"align\": \"left\", \"y\": 3, \"x\": 3.55, \"font\": {\"color\": \"#000000\"}, \"showarrow\": false}, {\"xref\": \"x1\", \"xanchor\": \"left\", \"yref\": \"y1\", \"text\": \"San Jose\", \"align\": \"left\", \"y\": 3, \"x\": 4.55, \"font\": {\"color\": \"#000000\"}, \"showarrow\": false}, {\"xref\": \"x1\", \"xanchor\": \"left\", \"yref\": \"y1\", \"text\": \"2013-08-06 00:00:00\", \"align\": \"left\", \"y\": 3, \"x\": 5.55, \"font\": {\"color\": \"#000000\"}, \"showarrow\": false}, {\"xref\": \"x1\", \"xanchor\": \"left\", \"yref\": \"y1\", \"text\": \"5\", \"align\": \"left\", \"y\": 4, \"x\": -0.45, \"font\": {\"color\": \"#000000\"}, \"showarrow\": false}, {\"xref\": \"x1\", \"xanchor\": \"left\", \"yref\": \"y1\", \"text\": \"Adobe on Almaden\", \"align\": \"left\", \"y\": 4, \"x\": 0.55, \"font\": {\"color\": \"#000000\"}, \"showarrow\": false}, {\"xref\": \"x1\", \"xanchor\": \"left\", \"yref\": \"y1\", \"text\": \"37.331415\", \"align\": \"left\", \"y\": 4, \"x\": 1.55, \"font\": {\"color\": \"#000000\"}, \"showarrow\": false}, {\"xref\": \"x1\", \"xanchor\": \"left\", \"yref\": \"y1\", \"text\": \"-121.8932\", \"align\": \"left\", \"y\": 4, \"x\": 2.55, \"font\": {\"color\": \"#000000\"}, \"showarrow\": false}, {\"xref\": \"x1\", \"xanchor\": \"left\", \"yref\": \"y1\", \"text\": \"19\", \"align\": \"left\", \"y\": 4, \"x\": 3.55, \"font\": {\"color\": \"#000000\"}, \"showarrow\": false}, {\"xref\": \"x1\", \"xanchor\": \"left\", \"yref\": \"y1\", \"text\": \"San Jose\", \"align\": \"left\", \"y\": 4, \"x\": 4.55, \"font\": {\"color\": \"#000000\"}, \"showarrow\": false}, {\"xref\": \"x1\", \"xanchor\": \"left\", \"yref\": \"y1\", \"text\": \"2013-08-05 00:00:00\", \"align\": \"left\", \"y\": 4, \"x\": 5.55, \"font\": {\"color\": \"#000000\"}, \"showarrow\": false}, {\"xref\": \"x1\", \"xanchor\": \"left\", \"yref\": \"y1\", \"text\": \"6\", \"align\": \"left\", \"y\": 5, \"x\": -0.45, \"font\": {\"color\": \"#000000\"}, \"showarrow\": false}, {\"xref\": \"x1\", \"xanchor\": \"left\", \"yref\": \"y1\", \"text\": \"San Pedro Square\", \"align\": \"left\", \"y\": 5, \"x\": 0.55, \"font\": {\"color\": \"#000000\"}, \"showarrow\": false}, {\"xref\": \"x1\", \"xanchor\": \"left\", \"yref\": \"y1\", \"text\": \"37.336721\", \"align\": \"left\", \"y\": 5, \"x\": 1.55, \"font\": {\"color\": \"#000000\"}, \"showarrow\": false}, {\"xref\": \"x1\", \"xanchor\": \"left\", \"yref\": \"y1\", \"text\": \"-121.894074\", \"align\": \"left\", \"y\": 5, \"x\": 2.55, \"font\": {\"color\": \"#000000\"}, \"showarrow\": false}, {\"xref\": \"x1\", \"xanchor\": \"left\", \"yref\": \"y1\", \"text\": \"15\", \"align\": \"left\", \"y\": 5, \"x\": 3.55, \"font\": {\"color\": \"#000000\"}, \"showarrow\": false}, {\"xref\": \"x1\", \"xanchor\": \"left\", \"yref\": \"y1\", \"text\": \"San Jose\", \"align\": \"left\", \"y\": 5, \"x\": 4.55, \"font\": {\"color\": \"#000000\"}, \"showarrow\": false}, {\"xref\": \"x1\", \"xanchor\": \"left\", \"yref\": \"y1\", \"text\": \"2013-08-07 00:00:00\", \"align\": \"left\", \"y\": 5, \"x\": 5.55, \"font\": {\"color\": \"#000000\"}, \"showarrow\": false}, {\"xref\": \"x1\", \"xanchor\": \"left\", \"yref\": \"y1\", \"text\": \"7\", \"align\": \"left\", \"y\": 6, \"x\": -0.45, \"font\": {\"color\": \"#000000\"}, \"showarrow\": false}, {\"xref\": \"x1\", \"xanchor\": \"left\", \"yref\": \"y1\", \"text\": \"Paseo de San Antonio\", \"align\": \"left\", \"y\": 6, \"x\": 0.55, \"font\": {\"color\": \"#000000\"}, \"showarrow\": false}, {\"xref\": \"x1\", \"xanchor\": \"left\", \"yref\": \"y1\", \"text\": \"37.333798\", \"align\": \"left\", \"y\": 6, \"x\": 1.55, \"font\": {\"color\": \"#000000\"}, \"showarrow\": false}, {\"xref\": \"x1\", \"xanchor\": \"left\", \"yref\": \"y1\", \"text\": \"-121.886943\", \"align\": \"left\", \"y\": 6, \"x\": 2.55, \"font\": {\"color\": \"#000000\"}, \"showarrow\": false}, {\"xref\": \"x1\", \"xanchor\": \"left\", \"yref\": \"y1\", \"text\": \"15\", \"align\": \"left\", \"y\": 6, \"x\": 3.55, \"font\": {\"color\": \"#000000\"}, \"showarrow\": false}, {\"xref\": \"x1\", \"xanchor\": \"left\", \"yref\": \"y1\", \"text\": \"San Jose\", \"align\": \"left\", \"y\": 6, \"x\": 4.55, \"font\": {\"color\": \"#000000\"}, \"showarrow\": false}, {\"xref\": \"x1\", \"xanchor\": \"left\", \"yref\": \"y1\", \"text\": \"2013-08-07 00:00:00\", \"align\": \"left\", \"y\": 6, \"x\": 5.55, \"font\": {\"color\": \"#000000\"}, \"showarrow\": false}, {\"xref\": \"x1\", \"xanchor\": \"left\", \"yref\": \"y1\", \"text\": \"8\", \"align\": \"left\", \"y\": 7, \"x\": -0.45, \"font\": {\"color\": \"#000000\"}, \"showarrow\": false}, {\"xref\": \"x1\", \"xanchor\": \"left\", \"yref\": \"y1\", \"text\": \"San Salvador at 1st\", \"align\": \"left\", \"y\": 7, \"x\": 0.55, \"font\": {\"color\": \"#000000\"}, \"showarrow\": false}, {\"xref\": \"x1\", \"xanchor\": \"left\", \"yref\": \"y1\", \"text\": \"37.330165\", \"align\": \"left\", \"y\": 7, \"x\": 1.55, \"font\": {\"color\": \"#000000\"}, \"showarrow\": false}, {\"xref\": \"x1\", \"xanchor\": \"left\", \"yref\": \"y1\", \"text\": \"-121.885831\", \"align\": \"left\", \"y\": 7, \"x\": 2.55, \"font\": {\"color\": \"#000000\"}, \"showarrow\": false}, {\"xref\": \"x1\", \"xanchor\": \"left\", \"yref\": \"y1\", \"text\": \"15\", \"align\": \"left\", \"y\": 7, \"x\": 3.55, \"font\": {\"color\": \"#000000\"}, \"showarrow\": false}, {\"xref\": \"x1\", \"xanchor\": \"left\", \"yref\": \"y1\", \"text\": \"San Jose\", \"align\": \"left\", \"y\": 7, \"x\": 4.55, \"font\": {\"color\": \"#000000\"}, \"showarrow\": false}, {\"xref\": \"x1\", \"xanchor\": \"left\", \"yref\": \"y1\", \"text\": \"2013-08-05 00:00:00\", \"align\": \"left\", \"y\": 7, \"x\": 5.55, \"font\": {\"color\": \"#000000\"}, \"showarrow\": false}, {\"xref\": \"x1\", \"xanchor\": \"left\", \"yref\": \"y1\", \"text\": \"9\", \"align\": \"left\", \"y\": 8, \"x\": -0.45, \"font\": {\"color\": \"#000000\"}, \"showarrow\": false}, {\"xref\": \"x1\", \"xanchor\": \"left\", \"yref\": \"y1\", \"text\": \"Japantown\", \"align\": \"left\", \"y\": 8, \"x\": 0.55, \"font\": {\"color\": \"#000000\"}, \"showarrow\": false}, {\"xref\": \"x1\", \"xanchor\": \"left\", \"yref\": \"y1\", \"text\": \"37.348742\", \"align\": \"left\", \"y\": 8, \"x\": 1.55, \"font\": {\"color\": \"#000000\"}, \"showarrow\": false}, {\"xref\": \"x1\", \"xanchor\": \"left\", \"yref\": \"y1\", \"text\": \"-121.894715\", \"align\": \"left\", \"y\": 8, \"x\": 2.55, \"font\": {\"color\": \"#000000\"}, \"showarrow\": false}, {\"xref\": \"x1\", \"xanchor\": \"left\", \"yref\": \"y1\", \"text\": \"15\", \"align\": \"left\", \"y\": 8, \"x\": 3.55, \"font\": {\"color\": \"#000000\"}, \"showarrow\": false}, {\"xref\": \"x1\", \"xanchor\": \"left\", \"yref\": \"y1\", \"text\": \"San Jose\", \"align\": \"left\", \"y\": 8, \"x\": 4.55, \"font\": {\"color\": \"#000000\"}, \"showarrow\": false}, {\"xref\": \"x1\", \"xanchor\": \"left\", \"yref\": \"y1\", \"text\": \"2013-08-05 00:00:00\", \"align\": \"left\", \"y\": 8, \"x\": 5.55, \"font\": {\"color\": \"#000000\"}, \"showarrow\": false}, {\"xref\": \"x1\", \"xanchor\": \"left\", \"yref\": \"y1\", \"text\": \"10\", \"align\": \"left\", \"y\": 9, \"x\": -0.45, \"font\": {\"color\": \"#000000\"}, \"showarrow\": false}, {\"xref\": \"x1\", \"xanchor\": \"left\", \"yref\": \"y1\", \"text\": \"San Jose City Hall\", \"align\": \"left\", \"y\": 9, \"x\": 0.55, \"font\": {\"color\": \"#000000\"}, \"showarrow\": false}, {\"xref\": \"x1\", \"xanchor\": \"left\", \"yref\": \"y1\", \"text\": \"37.337391\", \"align\": \"left\", \"y\": 9, \"x\": 1.55, \"font\": {\"color\": \"#000000\"}, \"showarrow\": false}, {\"xref\": \"x1\", \"xanchor\": \"left\", \"yref\": \"y1\", \"text\": \"-121.886995\", \"align\": \"left\", \"y\": 9, \"x\": 2.55, \"font\": {\"color\": \"#000000\"}, \"showarrow\": false}, {\"xref\": \"x1\", \"xanchor\": \"left\", \"yref\": \"y1\", \"text\": \"15\", \"align\": \"left\", \"y\": 9, \"x\": 3.55, \"font\": {\"color\": \"#000000\"}, \"showarrow\": false}, {\"xref\": \"x1\", \"xanchor\": \"left\", \"yref\": \"y1\", \"text\": \"San Jose\", \"align\": \"left\", \"y\": 9, \"x\": 4.55, \"font\": {\"color\": \"#000000\"}, \"showarrow\": false}, {\"xref\": \"x1\", \"xanchor\": \"left\", \"yref\": \"y1\", \"text\": \"2013-08-06 00:00:00\", \"align\": \"left\", \"y\": 9, \"x\": 5.55, \"font\": {\"color\": \"#000000\"}, \"showarrow\": false}, {\"xref\": \"x1\", \"xanchor\": \"left\", \"yref\": \"y1\", \"text\": \"11\", \"align\": \"left\", \"y\": 10, \"x\": -0.45, \"font\": {\"color\": \"#000000\"}, \"showarrow\": false}, {\"xref\": \"x1\", \"xanchor\": \"left\", \"yref\": \"y1\", \"text\": \"MLK Library\", \"align\": \"left\", \"y\": 10, \"x\": 0.55, \"font\": {\"color\": \"#000000\"}, \"showarrow\": false}, {\"xref\": \"x1\", \"xanchor\": \"left\", \"yref\": \"y1\", \"text\": \"37.335885\", \"align\": \"left\", \"y\": 10, \"x\": 1.55, \"font\": {\"color\": \"#000000\"}, \"showarrow\": false}, {\"xref\": \"x1\", \"xanchor\": \"left\", \"yref\": \"y1\", \"text\": \"-121.88566\", \"align\": \"left\", \"y\": 10, \"x\": 2.55, \"font\": {\"color\": \"#000000\"}, \"showarrow\": false}, {\"xref\": \"x1\", \"xanchor\": \"left\", \"yref\": \"y1\", \"text\": \"19\", \"align\": \"left\", \"y\": 10, \"x\": 3.55, \"font\": {\"color\": \"#000000\"}, \"showarrow\": false}, {\"xref\": \"x1\", \"xanchor\": \"left\", \"yref\": \"y1\", \"text\": \"San Jose\", \"align\": \"left\", \"y\": 10, \"x\": 4.55, \"font\": {\"color\": \"#000000\"}, \"showarrow\": false}, {\"xref\": \"x1\", \"xanchor\": \"left\", \"yref\": \"y1\", \"text\": \"2013-08-06 00:00:00\", \"align\": \"left\", \"y\": 10, \"x\": 5.55, \"font\": {\"color\": \"#000000\"}, \"showarrow\": false}, {\"xref\": \"x1\", \"xanchor\": \"left\", \"yref\": \"y1\", \"text\": \"12\", \"align\": \"left\", \"y\": 11, \"x\": -0.45, \"font\": {\"color\": \"#000000\"}, \"showarrow\": false}, {\"xref\": \"x1\", \"xanchor\": \"left\", \"yref\": \"y1\", \"text\": \"SJSU 4th at San Carlos\", \"align\": \"left\", \"y\": 11, \"x\": 0.55, \"font\": {\"color\": \"#000000\"}, \"showarrow\": false}, {\"xref\": \"x1\", \"xanchor\": \"left\", \"yref\": \"y1\", \"text\": \"37.332808\", \"align\": \"left\", \"y\": 11, \"x\": 1.55, \"font\": {\"color\": \"#000000\"}, \"showarrow\": false}, {\"xref\": \"x1\", \"xanchor\": \"left\", \"yref\": \"y1\", \"text\": \"-121.883891\", \"align\": \"left\", \"y\": 11, \"x\": 2.55, \"font\": {\"color\": \"#000000\"}, \"showarrow\": false}, {\"xref\": \"x1\", \"xanchor\": \"left\", \"yref\": \"y1\", \"text\": \"19\", \"align\": \"left\", \"y\": 11, \"x\": 3.55, \"font\": {\"color\": \"#000000\"}, \"showarrow\": false}, {\"xref\": \"x1\", \"xanchor\": \"left\", \"yref\": \"y1\", \"text\": \"San Jose\", \"align\": \"left\", \"y\": 11, \"x\": 4.55, \"font\": {\"color\": \"#000000\"}, \"showarrow\": false}, {\"xref\": \"x1\", \"xanchor\": \"left\", \"yref\": \"y1\", \"text\": \"2013-08-07 00:00:00\", \"align\": \"left\", \"y\": 11, \"x\": 5.55, \"font\": {\"color\": \"#000000\"}, \"showarrow\": false}, {\"xref\": \"x1\", \"xanchor\": \"left\", \"yref\": \"y1\", \"text\": \"13\", \"align\": \"left\", \"y\": 12, \"x\": -0.45, \"font\": {\"color\": \"#000000\"}, \"showarrow\": false}, {\"xref\": \"x1\", \"xanchor\": \"left\", \"yref\": \"y1\", \"text\": \"St James Park\", \"align\": \"left\", \"y\": 12, \"x\": 0.55, \"font\": {\"color\": \"#000000\"}, \"showarrow\": false}, {\"xref\": \"x1\", \"xanchor\": \"left\", \"yref\": \"y1\", \"text\": \"37.339301\", \"align\": \"left\", \"y\": 12, \"x\": 1.55, \"font\": {\"color\": \"#000000\"}, \"showarrow\": false}, {\"xref\": \"x1\", \"xanchor\": \"left\", \"yref\": \"y1\", \"text\": \"-121.889937\", \"align\": \"left\", \"y\": 12, \"x\": 2.55, \"font\": {\"color\": \"#000000\"}, \"showarrow\": false}, {\"xref\": \"x1\", \"xanchor\": \"left\", \"yref\": \"y1\", \"text\": \"15\", \"align\": \"left\", \"y\": 12, \"x\": 3.55, \"font\": {\"color\": \"#000000\"}, \"showarrow\": false}, {\"xref\": \"x1\", \"xanchor\": \"left\", \"yref\": \"y1\", \"text\": \"San Jose\", \"align\": \"left\", \"y\": 12, \"x\": 4.55, \"font\": {\"color\": \"#000000\"}, \"showarrow\": false}, {\"xref\": \"x1\", \"xanchor\": \"left\", \"yref\": \"y1\", \"text\": \"2013-08-06 00:00:00\", \"align\": \"left\", \"y\": 12, \"x\": 5.55, \"font\": {\"color\": \"#000000\"}, \"showarrow\": false}, {\"xref\": \"x1\", \"xanchor\": \"left\", \"yref\": \"y1\", \"text\": \"14\", \"align\": \"left\", \"y\": 13, \"x\": -0.45, \"font\": {\"color\": \"#000000\"}, \"showarrow\": false}, {\"xref\": \"x1\", \"xanchor\": \"left\", \"yref\": \"y1\", \"text\": \"Arena Green / SAP Center\", \"align\": \"left\", \"y\": 13, \"x\": 0.55, \"font\": {\"color\": \"#000000\"}, \"showarrow\": false}, {\"xref\": \"x1\", \"xanchor\": \"left\", \"yref\": \"y1\", \"text\": \"37.332692\", \"align\": \"left\", \"y\": 13, \"x\": 1.55, \"font\": {\"color\": \"#000000\"}, \"showarrow\": false}, {\"xref\": \"x1\", \"xanchor\": \"left\", \"yref\": \"y1\", \"text\": \"-121.900084\", \"align\": \"left\", \"y\": 13, \"x\": 2.55, \"font\": {\"color\": \"#000000\"}, \"showarrow\": false}, {\"xref\": \"x1\", \"xanchor\": \"left\", \"yref\": \"y1\", \"text\": \"19\", \"align\": \"left\", \"y\": 13, \"x\": 3.55, \"font\": {\"color\": \"#000000\"}, \"showarrow\": false}, {\"xref\": \"x1\", \"xanchor\": \"left\", \"yref\": \"y1\", \"text\": \"San Jose\", \"align\": \"left\", \"y\": 13, \"x\": 4.55, \"font\": {\"color\": \"#000000\"}, \"showarrow\": false}, {\"xref\": \"x1\", \"xanchor\": \"left\", \"yref\": \"y1\", \"text\": \"2013-08-05 00:00:00\", \"align\": \"left\", \"y\": 13, \"x\": 5.55, \"font\": {\"color\": \"#000000\"}, \"showarrow\": false}, {\"xref\": \"x1\", \"xanchor\": \"left\", \"yref\": \"y1\", \"text\": \"16\", \"align\": \"left\", \"y\": 14, \"x\": -0.45, \"font\": {\"color\": \"#000000\"}, \"showarrow\": false}, {\"xref\": \"x1\", \"xanchor\": \"left\", \"yref\": \"y1\", \"text\": \"SJSU - San Salvador at 9th\", \"align\": \"left\", \"y\": 14, \"x\": 0.55, \"font\": {\"color\": \"#000000\"}, \"showarrow\": false}, {\"xref\": \"x1\", \"xanchor\": \"left\", \"yref\": \"y1\", \"text\": \"37.333955\", \"align\": \"left\", \"y\": 14, \"x\": 1.55, \"font\": {\"color\": \"#000000\"}, \"showarrow\": false}, {\"xref\": \"x1\", \"xanchor\": \"left\", \"yref\": \"y1\", \"text\": \"-121.877349\", \"align\": \"left\", \"y\": 14, \"x\": 2.55, \"font\": {\"color\": \"#000000\"}, \"showarrow\": false}, {\"xref\": \"x1\", \"xanchor\": \"left\", \"yref\": \"y1\", \"text\": \"15\", \"align\": \"left\", \"y\": 14, \"x\": 3.55, \"font\": {\"color\": \"#000000\"}, \"showarrow\": false}, {\"xref\": \"x1\", \"xanchor\": \"left\", \"yref\": \"y1\", \"text\": \"San Jose\", \"align\": \"left\", \"y\": 14, \"x\": 4.55, \"font\": {\"color\": \"#000000\"}, \"showarrow\": false}, {\"xref\": \"x1\", \"xanchor\": \"left\", \"yref\": \"y1\", \"text\": \"2013-08-07 00:00:00\", \"align\": \"left\", \"y\": 14, \"x\": 5.55, \"font\": {\"color\": \"#000000\"}, \"showarrow\": false}, {\"xref\": \"x1\", \"xanchor\": \"left\", \"yref\": \"y1\", \"text\": \"21\", \"align\": \"left\", \"y\": 15, \"x\": -0.45, \"font\": {\"color\": \"#000000\"}, \"showarrow\": false}, {\"xref\": \"x1\", \"xanchor\": \"left\", \"yref\": \"y1\", \"text\": \"Franklin at Maple\", \"align\": \"left\", \"y\": 15, \"x\": 0.55, \"font\": {\"color\": \"#000000\"}, \"showarrow\": false}, {\"xref\": \"x1\", \"xanchor\": \"left\", \"yref\": \"y1\", \"text\": \"37.481758\", \"align\": \"left\", \"y\": 15, \"x\": 1.55, \"font\": {\"color\": \"#000000\"}, \"showarrow\": false}, {\"xref\": \"x1\", \"xanchor\": \"left\", \"yref\": \"y1\", \"text\": \"-122.226904\", \"align\": \"left\", \"y\": 15, \"x\": 2.55, \"font\": {\"color\": \"#000000\"}, \"showarrow\": false}, {\"xref\": \"x1\", \"xanchor\": \"left\", \"yref\": \"y1\", \"text\": \"15\", \"align\": \"left\", \"y\": 15, \"x\": 3.55, \"font\": {\"color\": \"#000000\"}, \"showarrow\": false}, {\"xref\": \"x1\", \"xanchor\": \"left\", \"yref\": \"y1\", \"text\": \"Redwood City\", \"align\": \"left\", \"y\": 15, \"x\": 4.55, \"font\": {\"color\": \"#000000\"}, \"showarrow\": false}, {\"xref\": \"x1\", \"xanchor\": \"left\", \"yref\": \"y1\", \"text\": \"2013-08-12 00:00:00\", \"align\": \"left\", \"y\": 15, \"x\": 5.55, \"font\": {\"color\": \"#000000\"}, \"showarrow\": false}, {\"xref\": \"x1\", \"xanchor\": \"left\", \"yref\": \"y1\", \"text\": \"22\", \"align\": \"left\", \"y\": 16, \"x\": -0.45, \"font\": {\"color\": \"#000000\"}, \"showarrow\": false}, {\"xref\": \"x1\", \"xanchor\": \"left\", \"yref\": \"y1\", \"text\": \"Redwood City Caltrain Station\", \"align\": \"left\", \"y\": 16, \"x\": 0.55, \"font\": {\"color\": \"#000000\"}, \"showarrow\": false}, {\"xref\": \"x1\", \"xanchor\": \"left\", \"yref\": \"y1\", \"text\": \"37.486078\", \"align\": \"left\", \"y\": 16, \"x\": 1.55, \"font\": {\"color\": \"#000000\"}, \"showarrow\": false}, {\"xref\": \"x1\", \"xanchor\": \"left\", \"yref\": \"y1\", \"text\": \"-122.232089\", \"align\": \"left\", \"y\": 16, \"x\": 2.55, \"font\": {\"color\": \"#000000\"}, \"showarrow\": false}, {\"xref\": \"x1\", \"xanchor\": \"left\", \"yref\": \"y1\", \"text\": \"25\", \"align\": \"left\", \"y\": 16, \"x\": 3.55, \"font\": {\"color\": \"#000000\"}, \"showarrow\": false}, {\"xref\": \"x1\", \"xanchor\": \"left\", \"yref\": \"y1\", \"text\": \"Redwood City\", \"align\": \"left\", \"y\": 16, \"x\": 4.55, \"font\": {\"color\": \"#000000\"}, \"showarrow\": false}, {\"xref\": \"x1\", \"xanchor\": \"left\", \"yref\": \"y1\", \"text\": \"2013-08-15 00:00:00\", \"align\": \"left\", \"y\": 16, \"x\": 5.55, \"font\": {\"color\": \"#000000\"}, \"showarrow\": false}, {\"xref\": \"x1\", \"xanchor\": \"left\", \"yref\": \"y1\", \"text\": \"23\", \"align\": \"left\", \"y\": 17, \"x\": -0.45, \"font\": {\"color\": \"#000000\"}, \"showarrow\": false}, {\"xref\": \"x1\", \"xanchor\": \"left\", \"yref\": \"y1\", \"text\": \"San Mateo County Center\", \"align\": \"left\", \"y\": 17, \"x\": 0.55, \"font\": {\"color\": \"#000000\"}, \"showarrow\": false}, {\"xref\": \"x1\", \"xanchor\": \"left\", \"yref\": \"y1\", \"text\": \"37.487616\", \"align\": \"left\", \"y\": 17, \"x\": 1.55, \"font\": {\"color\": \"#000000\"}, \"showarrow\": false}, {\"xref\": \"x1\", \"xanchor\": \"left\", \"yref\": \"y1\", \"text\": \"-122.229951\", \"align\": \"left\", \"y\": 17, \"x\": 2.55, \"font\": {\"color\": \"#000000\"}, \"showarrow\": false}, {\"xref\": \"x1\", \"xanchor\": \"left\", \"yref\": \"y1\", \"text\": \"15\", \"align\": \"left\", \"y\": 17, \"x\": 3.55, \"font\": {\"color\": \"#000000\"}, \"showarrow\": false}, {\"xref\": \"x1\", \"xanchor\": \"left\", \"yref\": \"y1\", \"text\": \"Redwood City\", \"align\": \"left\", \"y\": 17, \"x\": 4.55, \"font\": {\"color\": \"#000000\"}, \"showarrow\": false}, {\"xref\": \"x1\", \"xanchor\": \"left\", \"yref\": \"y1\", \"text\": \"2013-08-15 00:00:00\", \"align\": \"left\", \"y\": 17, \"x\": 5.55, \"font\": {\"color\": \"#000000\"}, \"showarrow\": false}, {\"xref\": \"x1\", \"xanchor\": \"left\", \"yref\": \"y1\", \"text\": \"24\", \"align\": \"left\", \"y\": 18, \"x\": -0.45, \"font\": {\"color\": \"#000000\"}, \"showarrow\": false}, {\"xref\": \"x1\", \"xanchor\": \"left\", \"yref\": \"y1\", \"text\": \"Redwood City Public Library\", \"align\": \"left\", \"y\": 18, \"x\": 0.55, \"font\": {\"color\": \"#000000\"}, \"showarrow\": false}, {\"xref\": \"x1\", \"xanchor\": \"left\", \"yref\": \"y1\", \"text\": \"37.484219\", \"align\": \"left\", \"y\": 18, \"x\": 1.55, \"font\": {\"color\": \"#000000\"}, \"showarrow\": false}, {\"xref\": \"x1\", \"xanchor\": \"left\", \"yref\": \"y1\", \"text\": \"-122.227424\", \"align\": \"left\", \"y\": 18, \"x\": 2.55, \"font\": {\"color\": \"#000000\"}, \"showarrow\": false}, {\"xref\": \"x1\", \"xanchor\": \"left\", \"yref\": \"y1\", \"text\": \"15\", \"align\": \"left\", \"y\": 18, \"x\": 3.55, \"font\": {\"color\": \"#000000\"}, \"showarrow\": false}, {\"xref\": \"x1\", \"xanchor\": \"left\", \"yref\": \"y1\", \"text\": \"Redwood City\", \"align\": \"left\", \"y\": 18, \"x\": 4.55, \"font\": {\"color\": \"#000000\"}, \"showarrow\": false}, {\"xref\": \"x1\", \"xanchor\": \"left\", \"yref\": \"y1\", \"text\": \"2013-08-12 00:00:00\", \"align\": \"left\", \"y\": 18, \"x\": 5.55, \"font\": {\"color\": \"#000000\"}, \"showarrow\": false}, {\"xref\": \"x1\", \"xanchor\": \"left\", \"yref\": \"y1\", \"text\": \"25\", \"align\": \"left\", \"y\": 19, \"x\": -0.45, \"font\": {\"color\": \"#000000\"}, \"showarrow\": false}, {\"xref\": \"x1\", \"xanchor\": \"left\", \"yref\": \"y1\", \"text\": \"Stanford in Redwood City\", \"align\": \"left\", \"y\": 19, \"x\": 0.55, \"font\": {\"color\": \"#000000\"}, \"showarrow\": false}, {\"xref\": \"x1\", \"xanchor\": \"left\", \"yref\": \"y1\", \"text\": \"37.48537\", \"align\": \"left\", \"y\": 19, \"x\": 1.55, \"font\": {\"color\": \"#000000\"}, \"showarrow\": false}, {\"xref\": \"x1\", \"xanchor\": \"left\", \"yref\": \"y1\", \"text\": \"-122.203288\", \"align\": \"left\", \"y\": 19, \"x\": 2.55, \"font\": {\"color\": \"#000000\"}, \"showarrow\": false}, {\"xref\": \"x1\", \"xanchor\": \"left\", \"yref\": \"y1\", \"text\": \"15\", \"align\": \"left\", \"y\": 19, \"x\": 3.55, \"font\": {\"color\": \"#000000\"}, \"showarrow\": false}, {\"xref\": \"x1\", \"xanchor\": \"left\", \"yref\": \"y1\", \"text\": \"Redwood City\", \"align\": \"left\", \"y\": 19, \"x\": 4.55, \"font\": {\"color\": \"#000000\"}, \"showarrow\": false}, {\"xref\": \"x1\", \"xanchor\": \"left\", \"yref\": \"y1\", \"text\": \"2013-08-12 00:00:00\", \"align\": \"left\", \"y\": 19, \"x\": 5.55, \"font\": {\"color\": \"#000000\"}, \"showarrow\": false}, {\"xref\": \"x1\", \"xanchor\": \"left\", \"yref\": \"y1\", \"text\": \"26\", \"align\": \"left\", \"y\": 20, \"x\": -0.45, \"font\": {\"color\": \"#000000\"}, \"showarrow\": false}, {\"xref\": \"x1\", \"xanchor\": \"left\", \"yref\": \"y1\", \"text\": \"Redwood City Medical Center\", \"align\": \"left\", \"y\": 20, \"x\": 0.55, \"font\": {\"color\": \"#000000\"}, \"showarrow\": false}, {\"xref\": \"x1\", \"xanchor\": \"left\", \"yref\": \"y1\", \"text\": \"37.487682\", \"align\": \"left\", \"y\": 20, \"x\": 1.55, \"font\": {\"color\": \"#000000\"}, \"showarrow\": false}, {\"xref\": \"x1\", \"xanchor\": \"left\", \"yref\": \"y1\", \"text\": \"-122.223492\", \"align\": \"left\", \"y\": 20, \"x\": 2.55, \"font\": {\"color\": \"#000000\"}, \"showarrow\": false}, {\"xref\": \"x1\", \"xanchor\": \"left\", \"yref\": \"y1\", \"text\": \"15\", \"align\": \"left\", \"y\": 20, \"x\": 3.55, \"font\": {\"color\": \"#000000\"}, \"showarrow\": false}, {\"xref\": \"x1\", \"xanchor\": \"left\", \"yref\": \"y1\", \"text\": \"Redwood City\", \"align\": \"left\", \"y\": 20, \"x\": 4.55, \"font\": {\"color\": \"#000000\"}, \"showarrow\": false}, {\"xref\": \"x1\", \"xanchor\": \"left\", \"yref\": \"y1\", \"text\": \"2013-08-12 00:00:00\", \"align\": \"left\", \"y\": 20, \"x\": 5.55, \"font\": {\"color\": \"#000000\"}, \"showarrow\": false}, {\"xref\": \"x1\", \"xanchor\": \"left\", \"yref\": \"y1\", \"text\": \"27\", \"align\": \"left\", \"y\": 21, \"x\": -0.45, \"font\": {\"color\": \"#000000\"}, \"showarrow\": false}, {\"xref\": \"x1\", \"xanchor\": \"left\", \"yref\": \"y1\", \"text\": \"Mountain View City Hall\", \"align\": \"left\", \"y\": 21, \"x\": 0.55, \"font\": {\"color\": \"#000000\"}, \"showarrow\": false}, {\"xref\": \"x1\", \"xanchor\": \"left\", \"yref\": \"y1\", \"text\": \"37.389218\", \"align\": \"left\", \"y\": 21, \"x\": 1.55, \"font\": {\"color\": \"#000000\"}, \"showarrow\": false}, {\"xref\": \"x1\", \"xanchor\": \"left\", \"yref\": \"y1\", \"text\": \"-122.081896\", \"align\": \"left\", \"y\": 21, \"x\": 2.55, \"font\": {\"color\": \"#000000\"}, \"showarrow\": false}, {\"xref\": \"x1\", \"xanchor\": \"left\", \"yref\": \"y1\", \"text\": \"15\", \"align\": \"left\", \"y\": 21, \"x\": 3.55, \"font\": {\"color\": \"#000000\"}, \"showarrow\": false}, {\"xref\": \"x1\", \"xanchor\": \"left\", \"yref\": \"y1\", \"text\": \"Mountain View\", \"align\": \"left\", \"y\": 21, \"x\": 4.55, \"font\": {\"color\": \"#000000\"}, \"showarrow\": false}, {\"xref\": \"x1\", \"xanchor\": \"left\", \"yref\": \"y1\", \"text\": \"2013-08-16 00:00:00\", \"align\": \"left\", \"y\": 21, \"x\": 5.55, \"font\": {\"color\": \"#000000\"}, \"showarrow\": false}, {\"xref\": \"x1\", \"xanchor\": \"left\", \"yref\": \"y1\", \"text\": \"28\", \"align\": \"left\", \"y\": 22, \"x\": -0.45, \"font\": {\"color\": \"#000000\"}, \"showarrow\": false}, {\"xref\": \"x1\", \"xanchor\": \"left\", \"yref\": \"y1\", \"text\": \"Mountain View Caltrain Station\", \"align\": \"left\", \"y\": 22, \"x\": 0.55, \"font\": {\"color\": \"#000000\"}, \"showarrow\": false}, {\"xref\": \"x1\", \"xanchor\": \"left\", \"yref\": \"y1\", \"text\": \"37.394358\", \"align\": \"left\", \"y\": 22, \"x\": 1.55, \"font\": {\"color\": \"#000000\"}, \"showarrow\": false}, {\"xref\": \"x1\", \"xanchor\": \"left\", \"yref\": \"y1\", \"text\": \"-122.076713\", \"align\": \"left\", \"y\": 22, \"x\": 2.55, \"font\": {\"color\": \"#000000\"}, \"showarrow\": false}, {\"xref\": \"x1\", \"xanchor\": \"left\", \"yref\": \"y1\", \"text\": \"23\", \"align\": \"left\", \"y\": 22, \"x\": 3.55, \"font\": {\"color\": \"#000000\"}, \"showarrow\": false}, {\"xref\": \"x1\", \"xanchor\": \"left\", \"yref\": \"y1\", \"text\": \"Mountain View\", \"align\": \"left\", \"y\": 22, \"x\": 4.55, \"font\": {\"color\": \"#000000\"}, \"showarrow\": false}, {\"xref\": \"x1\", \"xanchor\": \"left\", \"yref\": \"y1\", \"text\": \"2013-08-15 00:00:00\", \"align\": \"left\", \"y\": 22, \"x\": 5.55, \"font\": {\"color\": \"#000000\"}, \"showarrow\": false}, {\"xref\": \"x1\", \"xanchor\": \"left\", \"yref\": \"y1\", \"text\": \"29\", \"align\": \"left\", \"y\": 23, \"x\": -0.45, \"font\": {\"color\": \"#000000\"}, \"showarrow\": false}, {\"xref\": \"x1\", \"xanchor\": \"left\", \"yref\": \"y1\", \"text\": \"San Antonio Caltrain Station\", \"align\": \"left\", \"y\": 23, \"x\": 0.55, \"font\": {\"color\": \"#000000\"}, \"showarrow\": false}, {\"xref\": \"x1\", \"xanchor\": \"left\", \"yref\": \"y1\", \"text\": \"37.40694\", \"align\": \"left\", \"y\": 23, \"x\": 1.55, \"font\": {\"color\": \"#000000\"}, \"showarrow\": false}, {\"xref\": \"x1\", \"xanchor\": \"left\", \"yref\": \"y1\", \"text\": \"-122.106758\", \"align\": \"left\", \"y\": 23, \"x\": 2.55, \"font\": {\"color\": \"#000000\"}, \"showarrow\": false}, {\"xref\": \"x1\", \"xanchor\": \"left\", \"yref\": \"y1\", \"text\": \"23\", \"align\": \"left\", \"y\": 23, \"x\": 3.55, \"font\": {\"color\": \"#000000\"}, \"showarrow\": false}, {\"xref\": \"x1\", \"xanchor\": \"left\", \"yref\": \"y1\", \"text\": \"Mountain View\", \"align\": \"left\", \"y\": 23, \"x\": 4.55, \"font\": {\"color\": \"#000000\"}, \"showarrow\": false}, {\"xref\": \"x1\", \"xanchor\": \"left\", \"yref\": \"y1\", \"text\": \"2013-08-15 00:00:00\", \"align\": \"left\", \"y\": 23, \"x\": 5.55, \"font\": {\"color\": \"#000000\"}, \"showarrow\": false}, {\"xref\": \"x1\", \"xanchor\": \"left\", \"yref\": \"y1\", \"text\": \"30\", \"align\": \"left\", \"y\": 24, \"x\": -0.45, \"font\": {\"color\": \"#000000\"}, \"showarrow\": false}, {\"xref\": \"x1\", \"xanchor\": \"left\", \"yref\": \"y1\", \"text\": \"Evelyn Park and Ride\", \"align\": \"left\", \"y\": 24, \"x\": 0.55, \"font\": {\"color\": \"#000000\"}, \"showarrow\": false}, {\"xref\": \"x1\", \"xanchor\": \"left\", \"yref\": \"y1\", \"text\": \"37.390277\", \"align\": \"left\", \"y\": 24, \"x\": 1.55, \"font\": {\"color\": \"#000000\"}, \"showarrow\": false}, {\"xref\": \"x1\", \"xanchor\": \"left\", \"yref\": \"y1\", \"text\": \"-122.066553\", \"align\": \"left\", \"y\": 24, \"x\": 2.55, \"font\": {\"color\": \"#000000\"}, \"showarrow\": false}, {\"xref\": \"x1\", \"xanchor\": \"left\", \"yref\": \"y1\", \"text\": \"15\", \"align\": \"left\", \"y\": 24, \"x\": 3.55, \"font\": {\"color\": \"#000000\"}, \"showarrow\": false}, {\"xref\": \"x1\", \"xanchor\": \"left\", \"yref\": \"y1\", \"text\": \"Mountain View\", \"align\": \"left\", \"y\": 24, \"x\": 4.55, \"font\": {\"color\": \"#000000\"}, \"showarrow\": false}, {\"xref\": \"x1\", \"xanchor\": \"left\", \"yref\": \"y1\", \"text\": \"2013-08-16 00:00:00\", \"align\": \"left\", \"y\": 24, \"x\": 5.55, \"font\": {\"color\": \"#000000\"}, \"showarrow\": false}, {\"xref\": \"x1\", \"xanchor\": \"left\", \"yref\": \"y1\", \"text\": \"31\", \"align\": \"left\", \"y\": 25, \"x\": -0.45, \"font\": {\"color\": \"#000000\"}, \"showarrow\": false}, {\"xref\": \"x1\", \"xanchor\": \"left\", \"yref\": \"y1\", \"text\": \"San Antonio Shopping Center\", \"align\": \"left\", \"y\": 25, \"x\": 0.55, \"font\": {\"color\": \"#000000\"}, \"showarrow\": false}, {\"xref\": \"x1\", \"xanchor\": \"left\", \"yref\": \"y1\", \"text\": \"37.400443\", \"align\": \"left\", \"y\": 25, \"x\": 1.55, \"font\": {\"color\": \"#000000\"}, \"showarrow\": false}, {\"xref\": \"x1\", \"xanchor\": \"left\", \"yref\": \"y1\", \"text\": \"-122.108338\", \"align\": \"left\", \"y\": 25, \"x\": 2.55, \"font\": {\"color\": \"#000000\"}, \"showarrow\": false}, {\"xref\": \"x1\", \"xanchor\": \"left\", \"yref\": \"y1\", \"text\": \"15\", \"align\": \"left\", \"y\": 25, \"x\": 3.55, \"font\": {\"color\": \"#000000\"}, \"showarrow\": false}, {\"xref\": \"x1\", \"xanchor\": \"left\", \"yref\": \"y1\", \"text\": \"Mountain View\", \"align\": \"left\", \"y\": 25, \"x\": 4.55, \"font\": {\"color\": \"#000000\"}, \"showarrow\": false}, {\"xref\": \"x1\", \"xanchor\": \"left\", \"yref\": \"y1\", \"text\": \"2013-12-31 00:00:00\", \"align\": \"left\", \"y\": 25, \"x\": 5.55, \"font\": {\"color\": \"#000000\"}, \"showarrow\": false}, {\"xref\": \"x1\", \"xanchor\": \"left\", \"yref\": \"y1\", \"text\": \"32\", \"align\": \"left\", \"y\": 26, \"x\": -0.45, \"font\": {\"color\": \"#000000\"}, \"showarrow\": false}, {\"xref\": \"x1\", \"xanchor\": \"left\", \"yref\": \"y1\", \"text\": \"Castro Street and El Camino Real\", \"align\": \"left\", \"y\": 26, \"x\": 0.55, \"font\": {\"color\": \"#000000\"}, \"showarrow\": false}, {\"xref\": \"x1\", \"xanchor\": \"left\", \"yref\": \"y1\", \"text\": \"37.385956\", \"align\": \"left\", \"y\": 26, \"x\": 1.55, \"font\": {\"color\": \"#000000\"}, \"showarrow\": false}, {\"xref\": \"x1\", \"xanchor\": \"left\", \"yref\": \"y1\", \"text\": \"-122.083678\", \"align\": \"left\", \"y\": 26, \"x\": 2.55, \"font\": {\"color\": \"#000000\"}, \"showarrow\": false}, {\"xref\": \"x1\", \"xanchor\": \"left\", \"yref\": \"y1\", \"text\": \"11\", \"align\": \"left\", \"y\": 26, \"x\": 3.55, \"font\": {\"color\": \"#000000\"}, \"showarrow\": false}, {\"xref\": \"x1\", \"xanchor\": \"left\", \"yref\": \"y1\", \"text\": \"Mountain View\", \"align\": \"left\", \"y\": 26, \"x\": 4.55, \"font\": {\"color\": \"#000000\"}, \"showarrow\": false}, {\"xref\": \"x1\", \"xanchor\": \"left\", \"yref\": \"y1\", \"text\": \"2013-12-31 00:00:00\", \"align\": \"left\", \"y\": 26, \"x\": 5.55, \"font\": {\"color\": \"#000000\"}, \"showarrow\": false}, {\"xref\": \"x1\", \"xanchor\": \"left\", \"yref\": \"y1\", \"text\": \"33\", \"align\": \"left\", \"y\": 27, \"x\": -0.45, \"font\": {\"color\": \"#000000\"}, \"showarrow\": false}, {\"xref\": \"x1\", \"xanchor\": \"left\", \"yref\": \"y1\", \"text\": \"Rengstorff Avenue / California Street\", \"align\": \"left\", \"y\": 27, \"x\": 0.55, \"font\": {\"color\": \"#000000\"}, \"showarrow\": false}, {\"xref\": \"x1\", \"xanchor\": \"left\", \"yref\": \"y1\", \"text\": \"37.400241\", \"align\": \"left\", \"y\": 27, \"x\": 1.55, \"font\": {\"color\": \"#000000\"}, \"showarrow\": false}, {\"xref\": \"x1\", \"xanchor\": \"left\", \"yref\": \"y1\", \"text\": \"-122.099076\", \"align\": \"left\", \"y\": 27, \"x\": 2.55, \"font\": {\"color\": \"#000000\"}, \"showarrow\": false}, {\"xref\": \"x1\", \"xanchor\": \"left\", \"yref\": \"y1\", \"text\": \"15\", \"align\": \"left\", \"y\": 27, \"x\": 3.55, \"font\": {\"color\": \"#000000\"}, \"showarrow\": false}, {\"xref\": \"x1\", \"xanchor\": \"left\", \"yref\": \"y1\", \"text\": \"Mountain View\", \"align\": \"left\", \"y\": 27, \"x\": 4.55, \"font\": {\"color\": \"#000000\"}, \"showarrow\": false}, {\"xref\": \"x1\", \"xanchor\": \"left\", \"yref\": \"y1\", \"text\": \"2013-08-16 00:00:00\", \"align\": \"left\", \"y\": 27, \"x\": 5.55, \"font\": {\"color\": \"#000000\"}, \"showarrow\": false}, {\"xref\": \"x1\", \"xanchor\": \"left\", \"yref\": \"y1\", \"text\": \"34\", \"align\": \"left\", \"y\": 28, \"x\": -0.45, \"font\": {\"color\": \"#000000\"}, \"showarrow\": false}, {\"xref\": \"x1\", \"xanchor\": \"left\", \"yref\": \"y1\", \"text\": \"Palo Alto Caltrain Station\", \"align\": \"left\", \"y\": 28, \"x\": 0.55, \"font\": {\"color\": \"#000000\"}, \"showarrow\": false}, {\"xref\": \"x1\", \"xanchor\": \"left\", \"yref\": \"y1\", \"text\": \"37.443988\", \"align\": \"left\", \"y\": 28, \"x\": 1.55, \"font\": {\"color\": \"#000000\"}, \"showarrow\": false}, {\"xref\": \"x1\", \"xanchor\": \"left\", \"yref\": \"y1\", \"text\": \"-122.164759\", \"align\": \"left\", \"y\": 28, \"x\": 2.55, \"font\": {\"color\": \"#000000\"}, \"showarrow\": false}, {\"xref\": \"x1\", \"xanchor\": \"left\", \"yref\": \"y1\", \"text\": \"23\", \"align\": \"left\", \"y\": 28, \"x\": 3.55, \"font\": {\"color\": \"#000000\"}, \"showarrow\": false}, {\"xref\": \"x1\", \"xanchor\": \"left\", \"yref\": \"y1\", \"text\": \"Palo Alto\", \"align\": \"left\", \"y\": 28, \"x\": 4.55, \"font\": {\"color\": \"#000000\"}, \"showarrow\": false}, {\"xref\": \"x1\", \"xanchor\": \"left\", \"yref\": \"y1\", \"text\": \"2013-08-14 00:00:00\", \"align\": \"left\", \"y\": 28, \"x\": 5.55, \"font\": {\"color\": \"#000000\"}, \"showarrow\": false}, {\"xref\": \"x1\", \"xanchor\": \"left\", \"yref\": \"y1\", \"text\": \"35\", \"align\": \"left\", \"y\": 29, \"x\": -0.45, \"font\": {\"color\": \"#000000\"}, \"showarrow\": false}, {\"xref\": \"x1\", \"xanchor\": \"left\", \"yref\": \"y1\", \"text\": \"University and Emerson\", \"align\": \"left\", \"y\": 29, \"x\": 0.55, \"font\": {\"color\": \"#000000\"}, \"showarrow\": false}, {\"xref\": \"x1\", \"xanchor\": \"left\", \"yref\": \"y1\", \"text\": \"37.444521\", \"align\": \"left\", \"y\": 29, \"x\": 1.55, \"font\": {\"color\": \"#000000\"}, \"showarrow\": false}, {\"xref\": \"x1\", \"xanchor\": \"left\", \"yref\": \"y1\", \"text\": \"-122.163093\", \"align\": \"left\", \"y\": 29, \"x\": 2.55, \"font\": {\"color\": \"#000000\"}, \"showarrow\": false}, {\"xref\": \"x1\", \"xanchor\": \"left\", \"yref\": \"y1\", \"text\": \"11\", \"align\": \"left\", \"y\": 29, \"x\": 3.55, \"font\": {\"color\": \"#000000\"}, \"showarrow\": false}, {\"xref\": \"x1\", \"xanchor\": \"left\", \"yref\": \"y1\", \"text\": \"Palo Alto\", \"align\": \"left\", \"y\": 29, \"x\": 4.55, \"font\": {\"color\": \"#000000\"}, \"showarrow\": false}, {\"xref\": \"x1\", \"xanchor\": \"left\", \"yref\": \"y1\", \"text\": \"2013-08-15 00:00:00\", \"align\": \"left\", \"y\": 29, \"x\": 5.55, \"font\": {\"color\": \"#000000\"}, \"showarrow\": false}, {\"xref\": \"x1\", \"xanchor\": \"left\", \"yref\": \"y1\", \"text\": \"36\", \"align\": \"left\", \"y\": 30, \"x\": -0.45, \"font\": {\"color\": \"#000000\"}, \"showarrow\": false}, {\"xref\": \"x1\", \"xanchor\": \"left\", \"yref\": \"y1\", \"text\": \"California Ave Caltrain Station\", \"align\": \"left\", \"y\": 30, \"x\": 0.55, \"font\": {\"color\": \"#000000\"}, \"showarrow\": false}, {\"xref\": \"x1\", \"xanchor\": \"left\", \"yref\": \"y1\", \"text\": \"37.429082\", \"align\": \"left\", \"y\": 30, \"x\": 1.55, \"font\": {\"color\": \"#000000\"}, \"showarrow\": false}, {\"xref\": \"x1\", \"xanchor\": \"left\", \"yref\": \"y1\", \"text\": \"-122.142805\", \"align\": \"left\", \"y\": 30, \"x\": 2.55, \"font\": {\"color\": \"#000000\"}, \"showarrow\": false}, {\"xref\": \"x1\", \"xanchor\": \"left\", \"yref\": \"y1\", \"text\": \"15\", \"align\": \"left\", \"y\": 30, \"x\": 3.55, \"font\": {\"color\": \"#000000\"}, \"showarrow\": false}, {\"xref\": \"x1\", \"xanchor\": \"left\", \"yref\": \"y1\", \"text\": \"Palo Alto\", \"align\": \"left\", \"y\": 30, \"x\": 4.55, \"font\": {\"color\": \"#000000\"}, \"showarrow\": false}, {\"xref\": \"x1\", \"xanchor\": \"left\", \"yref\": \"y1\", \"text\": \"2013-08-14 00:00:00\", \"align\": \"left\", \"y\": 30, \"x\": 5.55, \"font\": {\"color\": \"#000000\"}, \"showarrow\": false}, {\"xref\": \"x1\", \"xanchor\": \"left\", \"yref\": \"y1\", \"text\": \"37\", \"align\": \"left\", \"y\": 31, \"x\": -0.45, \"font\": {\"color\": \"#000000\"}, \"showarrow\": false}, {\"xref\": \"x1\", \"xanchor\": \"left\", \"yref\": \"y1\", \"text\": \"Cowper at University\", \"align\": \"left\", \"y\": 31, \"x\": 0.55, \"font\": {\"color\": \"#000000\"}, \"showarrow\": false}, {\"xref\": \"x1\", \"xanchor\": \"left\", \"yref\": \"y1\", \"text\": \"37.448598\", \"align\": \"left\", \"y\": 31, \"x\": 1.55, \"font\": {\"color\": \"#000000\"}, \"showarrow\": false}, {\"xref\": \"x1\", \"xanchor\": \"left\", \"yref\": \"y1\", \"text\": \"-122.159504\", \"align\": \"left\", \"y\": 31, \"x\": 2.55, \"font\": {\"color\": \"#000000\"}, \"showarrow\": false}, {\"xref\": \"x1\", \"xanchor\": \"left\", \"yref\": \"y1\", \"text\": \"11\", \"align\": \"left\", \"y\": 31, \"x\": 3.55, \"font\": {\"color\": \"#000000\"}, \"showarrow\": false}, {\"xref\": \"x1\", \"xanchor\": \"left\", \"yref\": \"y1\", \"text\": \"Palo Alto\", \"align\": \"left\", \"y\": 31, \"x\": 4.55, \"font\": {\"color\": \"#000000\"}, \"showarrow\": false}, {\"xref\": \"x1\", \"xanchor\": \"left\", \"yref\": \"y1\", \"text\": \"2013-08-14 00:00:00\", \"align\": \"left\", \"y\": 31, \"x\": 5.55, \"font\": {\"color\": \"#000000\"}, \"showarrow\": false}, {\"xref\": \"x1\", \"xanchor\": \"left\", \"yref\": \"y1\", \"text\": \"38\", \"align\": \"left\", \"y\": 32, \"x\": -0.45, \"font\": {\"color\": \"#000000\"}, \"showarrow\": false}, {\"xref\": \"x1\", \"xanchor\": \"left\", \"yref\": \"y1\", \"text\": \"Park at Olive\", \"align\": \"left\", \"y\": 32, \"x\": 0.55, \"font\": {\"color\": \"#000000\"}, \"showarrow\": false}, {\"xref\": \"x1\", \"xanchor\": \"left\", \"yref\": \"y1\", \"text\": \"37.4256839\", \"align\": \"left\", \"y\": 32, \"x\": 1.55, \"font\": {\"color\": \"#000000\"}, \"showarrow\": false}, {\"xref\": \"x1\", \"xanchor\": \"left\", \"yref\": \"y1\", \"text\": \"-122.1377775\", \"align\": \"left\", \"y\": 32, \"x\": 2.55, \"font\": {\"color\": \"#000000\"}, \"showarrow\": false}, {\"xref\": \"x1\", \"xanchor\": \"left\", \"yref\": \"y1\", \"text\": \"15\", \"align\": \"left\", \"y\": 32, \"x\": 3.55, \"font\": {\"color\": \"#000000\"}, \"showarrow\": false}, {\"xref\": \"x1\", \"xanchor\": \"left\", \"yref\": \"y1\", \"text\": \"Palo Alto\", \"align\": \"left\", \"y\": 32, \"x\": 4.55, \"font\": {\"color\": \"#000000\"}, \"showarrow\": false}, {\"xref\": \"x1\", \"xanchor\": \"left\", \"yref\": \"y1\", \"text\": \"2013-08-14 00:00:00\", \"align\": \"left\", \"y\": 32, \"x\": 5.55, \"font\": {\"color\": \"#000000\"}, \"showarrow\": false}, {\"xref\": \"x1\", \"xanchor\": \"left\", \"yref\": \"y1\", \"text\": \"41\", \"align\": \"left\", \"y\": 33, \"x\": -0.45, \"font\": {\"color\": \"#000000\"}, \"showarrow\": false}, {\"xref\": \"x1\", \"xanchor\": \"left\", \"yref\": \"y1\", \"text\": \"Clay at Battery\", \"align\": \"left\", \"y\": 33, \"x\": 0.55, \"font\": {\"color\": \"#000000\"}, \"showarrow\": false}, {\"xref\": \"x1\", \"xanchor\": \"left\", \"yref\": \"y1\", \"text\": \"37.795001\", \"align\": \"left\", \"y\": 33, \"x\": 1.55, \"font\": {\"color\": \"#000000\"}, \"showarrow\": false}, {\"xref\": \"x1\", \"xanchor\": \"left\", \"yref\": \"y1\", \"text\": \"-122.39997\", \"align\": \"left\", \"y\": 33, \"x\": 2.55, \"font\": {\"color\": \"#000000\"}, \"showarrow\": false}, {\"xref\": \"x1\", \"xanchor\": \"left\", \"yref\": \"y1\", \"text\": \"15\", \"align\": \"left\", \"y\": 33, \"x\": 3.55, \"font\": {\"color\": \"#000000\"}, \"showarrow\": false}, {\"xref\": \"x1\", \"xanchor\": \"left\", \"yref\": \"y1\", \"text\": \"San Francisco\", \"align\": \"left\", \"y\": 33, \"x\": 4.55, \"font\": {\"color\": \"#000000\"}, \"showarrow\": false}, {\"xref\": \"x1\", \"xanchor\": \"left\", \"yref\": \"y1\", \"text\": \"2013-08-19 00:00:00\", \"align\": \"left\", \"y\": 33, \"x\": 5.55, \"font\": {\"color\": \"#000000\"}, \"showarrow\": false}, {\"xref\": \"x1\", \"xanchor\": \"left\", \"yref\": \"y1\", \"text\": \"42\", \"align\": \"left\", \"y\": 34, \"x\": -0.45, \"font\": {\"color\": \"#000000\"}, \"showarrow\": false}, {\"xref\": \"x1\", \"xanchor\": \"left\", \"yref\": \"y1\", \"text\": \"Davis at Jackson\", \"align\": \"left\", \"y\": 34, \"x\": 0.55, \"font\": {\"color\": \"#000000\"}, \"showarrow\": false}, {\"xref\": \"x1\", \"xanchor\": \"left\", \"yref\": \"y1\", \"text\": \"37.79728\", \"align\": \"left\", \"y\": 34, \"x\": 1.55, \"font\": {\"color\": \"#000000\"}, \"showarrow\": false}, {\"xref\": \"x1\", \"xanchor\": \"left\", \"yref\": \"y1\", \"text\": \"-122.398436\", \"align\": \"left\", \"y\": 34, \"x\": 2.55, \"font\": {\"color\": \"#000000\"}, \"showarrow\": false}, {\"xref\": \"x1\", \"xanchor\": \"left\", \"yref\": \"y1\", \"text\": \"15\", \"align\": \"left\", \"y\": 34, \"x\": 3.55, \"font\": {\"color\": \"#000000\"}, \"showarrow\": false}, {\"xref\": \"x1\", \"xanchor\": \"left\", \"yref\": \"y1\", \"text\": \"San Francisco\", \"align\": \"left\", \"y\": 34, \"x\": 4.55, \"font\": {\"color\": \"#000000\"}, \"showarrow\": false}, {\"xref\": \"x1\", \"xanchor\": \"left\", \"yref\": \"y1\", \"text\": \"2013-08-19 00:00:00\", \"align\": \"left\", \"y\": 34, \"x\": 5.55, \"font\": {\"color\": \"#000000\"}, \"showarrow\": false}, {\"xref\": \"x1\", \"xanchor\": \"left\", \"yref\": \"y1\", \"text\": \"45\", \"align\": \"left\", \"y\": 35, \"x\": -0.45, \"font\": {\"color\": \"#000000\"}, \"showarrow\": false}, {\"xref\": \"x1\", \"xanchor\": \"left\", \"yref\": \"y1\", \"text\": \"Commercial at Montgomery\", \"align\": \"left\", \"y\": 35, \"x\": 0.55, \"font\": {\"color\": \"#000000\"}, \"showarrow\": false}, {\"xref\": \"x1\", \"xanchor\": \"left\", \"yref\": \"y1\", \"text\": \"37.794231\", \"align\": \"left\", \"y\": 35, \"x\": 1.55, \"font\": {\"color\": \"#000000\"}, \"showarrow\": false}, {\"xref\": \"x1\", \"xanchor\": \"left\", \"yref\": \"y1\", \"text\": \"-122.402923\", \"align\": \"left\", \"y\": 35, \"x\": 2.55, \"font\": {\"color\": \"#000000\"}, \"showarrow\": false}, {\"xref\": \"x1\", \"xanchor\": \"left\", \"yref\": \"y1\", \"text\": \"15\", \"align\": \"left\", \"y\": 35, \"x\": 3.55, \"font\": {\"color\": \"#000000\"}, \"showarrow\": false}, {\"xref\": \"x1\", \"xanchor\": \"left\", \"yref\": \"y1\", \"text\": \"San Francisco\", \"align\": \"left\", \"y\": 35, \"x\": 4.55, \"font\": {\"color\": \"#000000\"}, \"showarrow\": false}, {\"xref\": \"x1\", \"xanchor\": \"left\", \"yref\": \"y1\", \"text\": \"2013-08-19 00:00:00\", \"align\": \"left\", \"y\": 35, \"x\": 5.55, \"font\": {\"color\": \"#000000\"}, \"showarrow\": false}, {\"xref\": \"x1\", \"xanchor\": \"left\", \"yref\": \"y1\", \"text\": \"46\", \"align\": \"left\", \"y\": 36, \"x\": -0.45, \"font\": {\"color\": \"#000000\"}, \"showarrow\": false}, {\"xref\": \"x1\", \"xanchor\": \"left\", \"yref\": \"y1\", \"text\": \"Washington at Kearney\", \"align\": \"left\", \"y\": 36, \"x\": 0.55, \"font\": {\"color\": \"#000000\"}, \"showarrow\": false}, {\"xref\": \"x1\", \"xanchor\": \"left\", \"yref\": \"y1\", \"text\": \"37.795425\", \"align\": \"left\", \"y\": 36, \"x\": 1.55, \"font\": {\"color\": \"#000000\"}, \"showarrow\": false}, {\"xref\": \"x1\", \"xanchor\": \"left\", \"yref\": \"y1\", \"text\": \"-122.404767\", \"align\": \"left\", \"y\": 36, \"x\": 2.55, \"font\": {\"color\": \"#000000\"}, \"showarrow\": false}, {\"xref\": \"x1\", \"xanchor\": \"left\", \"yref\": \"y1\", \"text\": \"15\", \"align\": \"left\", \"y\": 36, \"x\": 3.55, \"font\": {\"color\": \"#000000\"}, \"showarrow\": false}, {\"xref\": \"x1\", \"xanchor\": \"left\", \"yref\": \"y1\", \"text\": \"San Francisco\", \"align\": \"left\", \"y\": 36, \"x\": 4.55, \"font\": {\"color\": \"#000000\"}, \"showarrow\": false}, {\"xref\": \"x1\", \"xanchor\": \"left\", \"yref\": \"y1\", \"text\": \"2013-08-19 00:00:00\", \"align\": \"left\", \"y\": 36, \"x\": 5.55, \"font\": {\"color\": \"#000000\"}, \"showarrow\": false}, {\"xref\": \"x1\", \"xanchor\": \"left\", \"yref\": \"y1\", \"text\": \"47\", \"align\": \"left\", \"y\": 37, \"x\": -0.45, \"font\": {\"color\": \"#000000\"}, \"showarrow\": false}, {\"xref\": \"x1\", \"xanchor\": \"left\", \"yref\": \"y1\", \"text\": \"Post at Kearney\", \"align\": \"left\", \"y\": 37, \"x\": 0.55, \"font\": {\"color\": \"#000000\"}, \"showarrow\": false}, {\"xref\": \"x1\", \"xanchor\": \"left\", \"yref\": \"y1\", \"text\": \"37.788975\", \"align\": \"left\", \"y\": 37, \"x\": 1.55, \"font\": {\"color\": \"#000000\"}, \"showarrow\": false}, {\"xref\": \"x1\", \"xanchor\": \"left\", \"yref\": \"y1\", \"text\": \"-122.403452\", \"align\": \"left\", \"y\": 37, \"x\": 2.55, \"font\": {\"color\": \"#000000\"}, \"showarrow\": false}, {\"xref\": \"x1\", \"xanchor\": \"left\", \"yref\": \"y1\", \"text\": \"19\", \"align\": \"left\", \"y\": 37, \"x\": 3.55, \"font\": {\"color\": \"#000000\"}, \"showarrow\": false}, {\"xref\": \"x1\", \"xanchor\": \"left\", \"yref\": \"y1\", \"text\": \"San Francisco\", \"align\": \"left\", \"y\": 37, \"x\": 4.55, \"font\": {\"color\": \"#000000\"}, \"showarrow\": false}, {\"xref\": \"x1\", \"xanchor\": \"left\", \"yref\": \"y1\", \"text\": \"2013-08-19 00:00:00\", \"align\": \"left\", \"y\": 37, \"x\": 5.55, \"font\": {\"color\": \"#000000\"}, \"showarrow\": false}, {\"xref\": \"x1\", \"xanchor\": \"left\", \"yref\": \"y1\", \"text\": \"48\", \"align\": \"left\", \"y\": 38, \"x\": -0.45, \"font\": {\"color\": \"#000000\"}, \"showarrow\": false}, {\"xref\": \"x1\", \"xanchor\": \"left\", \"yref\": \"y1\", \"text\": \"Embarcadero at Vallejo\", \"align\": \"left\", \"y\": 38, \"x\": 0.55, \"font\": {\"color\": \"#000000\"}, \"showarrow\": false}, {\"xref\": \"x1\", \"xanchor\": \"left\", \"yref\": \"y1\", \"text\": \"37.799953\", \"align\": \"left\", \"y\": 38, \"x\": 1.55, \"font\": {\"color\": \"#000000\"}, \"showarrow\": false}, {\"xref\": \"x1\", \"xanchor\": \"left\", \"yref\": \"y1\", \"text\": \"-122.398525\", \"align\": \"left\", \"y\": 38, \"x\": 2.55, \"font\": {\"color\": \"#000000\"}, \"showarrow\": false}, {\"xref\": \"x1\", \"xanchor\": \"left\", \"yref\": \"y1\", \"text\": \"15\", \"align\": \"left\", \"y\": 38, \"x\": 3.55, \"font\": {\"color\": \"#000000\"}, \"showarrow\": false}, {\"xref\": \"x1\", \"xanchor\": \"left\", \"yref\": \"y1\", \"text\": \"San Francisco\", \"align\": \"left\", \"y\": 38, \"x\": 4.55, \"font\": {\"color\": \"#000000\"}, \"showarrow\": false}, {\"xref\": \"x1\", \"xanchor\": \"left\", \"yref\": \"y1\", \"text\": \"2013-08-19 00:00:00\", \"align\": \"left\", \"y\": 38, \"x\": 5.55, \"font\": {\"color\": \"#000000\"}, \"showarrow\": false}, {\"xref\": \"x1\", \"xanchor\": \"left\", \"yref\": \"y1\", \"text\": \"49\", \"align\": \"left\", \"y\": 39, \"x\": -0.45, \"font\": {\"color\": \"#000000\"}, \"showarrow\": false}, {\"xref\": \"x1\", \"xanchor\": \"left\", \"yref\": \"y1\", \"text\": \"Spear at Folsom\", \"align\": \"left\", \"y\": 39, \"x\": 0.55, \"font\": {\"color\": \"#000000\"}, \"showarrow\": false}, {\"xref\": \"x1\", \"xanchor\": \"left\", \"yref\": \"y1\", \"text\": \"37.790302\", \"align\": \"left\", \"y\": 39, \"x\": 1.55, \"font\": {\"color\": \"#000000\"}, \"showarrow\": false}, {\"xref\": \"x1\", \"xanchor\": \"left\", \"yref\": \"y1\", \"text\": \"-122.390637\", \"align\": \"left\", \"y\": 39, \"x\": 2.55, \"font\": {\"color\": \"#000000\"}, \"showarrow\": false}, {\"xref\": \"x1\", \"xanchor\": \"left\", \"yref\": \"y1\", \"text\": \"19\", \"align\": \"left\", \"y\": 39, \"x\": 3.55, \"font\": {\"color\": \"#000000\"}, \"showarrow\": false}, {\"xref\": \"x1\", \"xanchor\": \"left\", \"yref\": \"y1\", \"text\": \"San Francisco\", \"align\": \"left\", \"y\": 39, \"x\": 4.55, \"font\": {\"color\": \"#000000\"}, \"showarrow\": false}, {\"xref\": \"x1\", \"xanchor\": \"left\", \"yref\": \"y1\", \"text\": \"2013-08-20 00:00:00\", \"align\": \"left\", \"y\": 39, \"x\": 5.55, \"font\": {\"color\": \"#000000\"}, \"showarrow\": false}, {\"xref\": \"x1\", \"xanchor\": \"left\", \"yref\": \"y1\", \"text\": \"50\", \"align\": \"left\", \"y\": 40, \"x\": -0.45, \"font\": {\"color\": \"#000000\"}, \"showarrow\": false}, {\"xref\": \"x1\", \"xanchor\": \"left\", \"yref\": \"y1\", \"text\": \"Harry Bridges Plaza (Ferry Building)\", \"align\": \"left\", \"y\": 40, \"x\": 0.55, \"font\": {\"color\": \"#000000\"}, \"showarrow\": false}, {\"xref\": \"x1\", \"xanchor\": \"left\", \"yref\": \"y1\", \"text\": \"37.795392\", \"align\": \"left\", \"y\": 40, \"x\": 1.55, \"font\": {\"color\": \"#000000\"}, \"showarrow\": false}, {\"xref\": \"x1\", \"xanchor\": \"left\", \"yref\": \"y1\", \"text\": \"-122.394203\", \"align\": \"left\", \"y\": 40, \"x\": 2.55, \"font\": {\"color\": \"#000000\"}, \"showarrow\": false}, {\"xref\": \"x1\", \"xanchor\": \"left\", \"yref\": \"y1\", \"text\": \"23\", \"align\": \"left\", \"y\": 40, \"x\": 3.55, \"font\": {\"color\": \"#000000\"}, \"showarrow\": false}, {\"xref\": \"x1\", \"xanchor\": \"left\", \"yref\": \"y1\", \"text\": \"San Francisco\", \"align\": \"left\", \"y\": 40, \"x\": 4.55, \"font\": {\"color\": \"#000000\"}, \"showarrow\": false}, {\"xref\": \"x1\", \"xanchor\": \"left\", \"yref\": \"y1\", \"text\": \"2013-08-20 00:00:00\", \"align\": \"left\", \"y\": 40, \"x\": 5.55, \"font\": {\"color\": \"#000000\"}, \"showarrow\": false}, {\"xref\": \"x1\", \"xanchor\": \"left\", \"yref\": \"y1\", \"text\": \"51\", \"align\": \"left\", \"y\": 41, \"x\": -0.45, \"font\": {\"color\": \"#000000\"}, \"showarrow\": false}, {\"xref\": \"x1\", \"xanchor\": \"left\", \"yref\": \"y1\", \"text\": \"Embarcadero at Folsom\", \"align\": \"left\", \"y\": 41, \"x\": 0.55, \"font\": {\"color\": \"#000000\"}, \"showarrow\": false}, {\"xref\": \"x1\", \"xanchor\": \"left\", \"yref\": \"y1\", \"text\": \"37.791464\", \"align\": \"left\", \"y\": 41, \"x\": 1.55, \"font\": {\"color\": \"#000000\"}, \"showarrow\": false}, {\"xref\": \"x1\", \"xanchor\": \"left\", \"yref\": \"y1\", \"text\": \"-122.391034\", \"align\": \"left\", \"y\": 41, \"x\": 2.55, \"font\": {\"color\": \"#000000\"}, \"showarrow\": false}, {\"xref\": \"x1\", \"xanchor\": \"left\", \"yref\": \"y1\", \"text\": \"19\", \"align\": \"left\", \"y\": 41, \"x\": 3.55, \"font\": {\"color\": \"#000000\"}, \"showarrow\": false}, {\"xref\": \"x1\", \"xanchor\": \"left\", \"yref\": \"y1\", \"text\": \"San Francisco\", \"align\": \"left\", \"y\": 41, \"x\": 4.55, \"font\": {\"color\": \"#000000\"}, \"showarrow\": false}, {\"xref\": \"x1\", \"xanchor\": \"left\", \"yref\": \"y1\", \"text\": \"2013-08-20 00:00:00\", \"align\": \"left\", \"y\": 41, \"x\": 5.55, \"font\": {\"color\": \"#000000\"}, \"showarrow\": false}, {\"xref\": \"x1\", \"xanchor\": \"left\", \"yref\": \"y1\", \"text\": \"39\", \"align\": \"left\", \"y\": 42, \"x\": -0.45, \"font\": {\"color\": \"#000000\"}, \"showarrow\": false}, {\"xref\": \"x1\", \"xanchor\": \"left\", \"yref\": \"y1\", \"text\": \"Powell Street BART\", \"align\": \"left\", \"y\": 42, \"x\": 0.55, \"font\": {\"color\": \"#000000\"}, \"showarrow\": false}, {\"xref\": \"x1\", \"xanchor\": \"left\", \"yref\": \"y1\", \"text\": \"37.783871\", \"align\": \"left\", \"y\": 42, \"x\": 1.55, \"font\": {\"color\": \"#000000\"}, \"showarrow\": false}, {\"xref\": \"x1\", \"xanchor\": \"left\", \"yref\": \"y1\", \"text\": \"-122.408433\", \"align\": \"left\", \"y\": 42, \"x\": 2.55, \"font\": {\"color\": \"#000000\"}, \"showarrow\": false}, {\"xref\": \"x1\", \"xanchor\": \"left\", \"yref\": \"y1\", \"text\": \"19\", \"align\": \"left\", \"y\": 42, \"x\": 3.55, \"font\": {\"color\": \"#000000\"}, \"showarrow\": false}, {\"xref\": \"x1\", \"xanchor\": \"left\", \"yref\": \"y1\", \"text\": \"San Francisco\", \"align\": \"left\", \"y\": 42, \"x\": 4.55, \"font\": {\"color\": \"#000000\"}, \"showarrow\": false}, {\"xref\": \"x1\", \"xanchor\": \"left\", \"yref\": \"y1\", \"text\": \"2013-08-25 00:00:00\", \"align\": \"left\", \"y\": 42, \"x\": 5.55, \"font\": {\"color\": \"#000000\"}, \"showarrow\": false}, {\"xref\": \"x1\", \"xanchor\": \"left\", \"yref\": \"y1\", \"text\": \"54\", \"align\": \"left\", \"y\": 43, \"x\": -0.45, \"font\": {\"color\": \"#000000\"}, \"showarrow\": false}, {\"xref\": \"x1\", \"xanchor\": \"left\", \"yref\": \"y1\", \"text\": \"Embarcadero at Bryant\", \"align\": \"left\", \"y\": 43, \"x\": 0.55, \"font\": {\"color\": \"#000000\"}, \"showarrow\": false}, {\"xref\": \"x1\", \"xanchor\": \"left\", \"yref\": \"y1\", \"text\": \"37.787152\", \"align\": \"left\", \"y\": 43, \"x\": 1.55, \"font\": {\"color\": \"#000000\"}, \"showarrow\": false}, {\"xref\": \"x1\", \"xanchor\": \"left\", \"yref\": \"y1\", \"text\": \"-122.388013\", \"align\": \"left\", \"y\": 43, \"x\": 2.55, \"font\": {\"color\": \"#000000\"}, \"showarrow\": false}, {\"xref\": \"x1\", \"xanchor\": \"left\", \"yref\": \"y1\", \"text\": \"15\", \"align\": \"left\", \"y\": 43, \"x\": 3.55, \"font\": {\"color\": \"#000000\"}, \"showarrow\": false}, {\"xref\": \"x1\", \"xanchor\": \"left\", \"yref\": \"y1\", \"text\": \"San Francisco\", \"align\": \"left\", \"y\": 43, \"x\": 4.55, \"font\": {\"color\": \"#000000\"}, \"showarrow\": false}, {\"xref\": \"x1\", \"xanchor\": \"left\", \"yref\": \"y1\", \"text\": \"2013-08-20 00:00:00\", \"align\": \"left\", \"y\": 43, \"x\": 5.55, \"font\": {\"color\": \"#000000\"}, \"showarrow\": false}, {\"xref\": \"x1\", \"xanchor\": \"left\", \"yref\": \"y1\", \"text\": \"55\", \"align\": \"left\", \"y\": 44, \"x\": -0.45, \"font\": {\"color\": \"#000000\"}, \"showarrow\": false}, {\"xref\": \"x1\", \"xanchor\": \"left\", \"yref\": \"y1\", \"text\": \"Temporary Transbay Terminal (Howard at Beale)\", \"align\": \"left\", \"y\": 44, \"x\": 0.55, \"font\": {\"color\": \"#000000\"}, \"showarrow\": false}, {\"xref\": \"x1\", \"xanchor\": \"left\", \"yref\": \"y1\", \"text\": \"37.789756\", \"align\": \"left\", \"y\": 44, \"x\": 1.55, \"font\": {\"color\": \"#000000\"}, \"showarrow\": false}, {\"xref\": \"x1\", \"xanchor\": \"left\", \"yref\": \"y1\", \"text\": \"-122.394643\", \"align\": \"left\", \"y\": 44, \"x\": 2.55, \"font\": {\"color\": \"#000000\"}, \"showarrow\": false}, {\"xref\": \"x1\", \"xanchor\": \"left\", \"yref\": \"y1\", \"text\": \"23\", \"align\": \"left\", \"y\": 44, \"x\": 3.55, \"font\": {\"color\": \"#000000\"}, \"showarrow\": false}, {\"xref\": \"x1\", \"xanchor\": \"left\", \"yref\": \"y1\", \"text\": \"San Francisco\", \"align\": \"left\", \"y\": 44, \"x\": 4.55, \"font\": {\"color\": \"#000000\"}, \"showarrow\": false}, {\"xref\": \"x1\", \"xanchor\": \"left\", \"yref\": \"y1\", \"text\": \"2013-08-20 00:00:00\", \"align\": \"left\", \"y\": 44, \"x\": 5.55, \"font\": {\"color\": \"#000000\"}, \"showarrow\": false}, {\"xref\": \"x1\", \"xanchor\": \"left\", \"yref\": \"y1\", \"text\": \"56\", \"align\": \"left\", \"y\": 45, \"x\": -0.45, \"font\": {\"color\": \"#000000\"}, \"showarrow\": false}, {\"xref\": \"x1\", \"xanchor\": \"left\", \"yref\": \"y1\", \"text\": \"Beale at Market\", \"align\": \"left\", \"y\": 45, \"x\": 0.55, \"font\": {\"color\": \"#000000\"}, \"showarrow\": false}, {\"xref\": \"x1\", \"xanchor\": \"left\", \"yref\": \"y1\", \"text\": \"37.792251\", \"align\": \"left\", \"y\": 45, \"x\": 1.55, \"font\": {\"color\": \"#000000\"}, \"showarrow\": false}, {\"xref\": \"x1\", \"xanchor\": \"left\", \"yref\": \"y1\", \"text\": \"-122.397086\", \"align\": \"left\", \"y\": 45, \"x\": 2.55, \"font\": {\"color\": \"#000000\"}, \"showarrow\": false}, {\"xref\": \"x1\", \"xanchor\": \"left\", \"yref\": \"y1\", \"text\": \"19\", \"align\": \"left\", \"y\": 45, \"x\": 3.55, \"font\": {\"color\": \"#000000\"}, \"showarrow\": false}, {\"xref\": \"x1\", \"xanchor\": \"left\", \"yref\": \"y1\", \"text\": \"San Francisco\", \"align\": \"left\", \"y\": 45, \"x\": 4.55, \"font\": {\"color\": \"#000000\"}, \"showarrow\": false}, {\"xref\": \"x1\", \"xanchor\": \"left\", \"yref\": \"y1\", \"text\": \"2013-08-20 00:00:00\", \"align\": \"left\", \"y\": 45, \"x\": 5.55, \"font\": {\"color\": \"#000000\"}, \"showarrow\": false}, {\"xref\": \"x1\", \"xanchor\": \"left\", \"yref\": \"y1\", \"text\": \"57\", \"align\": \"left\", \"y\": 46, \"x\": -0.45, \"font\": {\"color\": \"#000000\"}, \"showarrow\": false}, {\"xref\": \"x1\", \"xanchor\": \"left\", \"yref\": \"y1\", \"text\": \"5th at Howard\", \"align\": \"left\", \"y\": 46, \"x\": 0.55, \"font\": {\"color\": \"#000000\"}, \"showarrow\": false}, {\"xref\": \"x1\", \"xanchor\": \"left\", \"yref\": \"y1\", \"text\": \"37.781752\", \"align\": \"left\", \"y\": 46, \"x\": 1.55, \"font\": {\"color\": \"#000000\"}, \"showarrow\": false}, {\"xref\": \"x1\", \"xanchor\": \"left\", \"yref\": \"y1\", \"text\": \"-122.405127\", \"align\": \"left\", \"y\": 46, \"x\": 2.55, \"font\": {\"color\": \"#000000\"}, \"showarrow\": false}, {\"xref\": \"x1\", \"xanchor\": \"left\", \"yref\": \"y1\", \"text\": \"15\", \"align\": \"left\", \"y\": 46, \"x\": 3.55, \"font\": {\"color\": \"#000000\"}, \"showarrow\": false}, {\"xref\": \"x1\", \"xanchor\": \"left\", \"yref\": \"y1\", \"text\": \"San Francisco\", \"align\": \"left\", \"y\": 46, \"x\": 4.55, \"font\": {\"color\": \"#000000\"}, \"showarrow\": false}, {\"xref\": \"x1\", \"xanchor\": \"left\", \"yref\": \"y1\", \"text\": \"2013-08-21 00:00:00\", \"align\": \"left\", \"y\": 46, \"x\": 5.55, \"font\": {\"color\": \"#000000\"}, \"showarrow\": false}, {\"xref\": \"x1\", \"xanchor\": \"left\", \"yref\": \"y1\", \"text\": \"58\", \"align\": \"left\", \"y\": 47, \"x\": -0.45, \"font\": {\"color\": \"#000000\"}, \"showarrow\": false}, {\"xref\": \"x1\", \"xanchor\": \"left\", \"yref\": \"y1\", \"text\": \"San Francisco City Hall\", \"align\": \"left\", \"y\": 47, \"x\": 0.55, \"font\": {\"color\": \"#000000\"}, \"showarrow\": false}, {\"xref\": \"x1\", \"xanchor\": \"left\", \"yref\": \"y1\", \"text\": \"37.77865\", \"align\": \"left\", \"y\": 47, \"x\": 1.55, \"font\": {\"color\": \"#000000\"}, \"showarrow\": false}, {\"xref\": \"x1\", \"xanchor\": \"left\", \"yref\": \"y1\", \"text\": \"-122.418235\", \"align\": \"left\", \"y\": 47, \"x\": 2.55, \"font\": {\"color\": \"#000000\"}, \"showarrow\": false}, {\"xref\": \"x1\", \"xanchor\": \"left\", \"yref\": \"y1\", \"text\": \"19\", \"align\": \"left\", \"y\": 47, \"x\": 3.55, \"font\": {\"color\": \"#000000\"}, \"showarrow\": false}, {\"xref\": \"x1\", \"xanchor\": \"left\", \"yref\": \"y1\", \"text\": \"San Francisco\", \"align\": \"left\", \"y\": 47, \"x\": 4.55, \"font\": {\"color\": \"#000000\"}, \"showarrow\": false}, {\"xref\": \"x1\", \"xanchor\": \"left\", \"yref\": \"y1\", \"text\": \"2013-08-21 00:00:00\", \"align\": \"left\", \"y\": 47, \"x\": 5.55, \"font\": {\"color\": \"#000000\"}, \"showarrow\": false}, {\"xref\": \"x1\", \"xanchor\": \"left\", \"yref\": \"y1\", \"text\": \"59\", \"align\": \"left\", \"y\": 48, \"x\": -0.45, \"font\": {\"color\": \"#000000\"}, \"showarrow\": false}, {\"xref\": \"x1\", \"xanchor\": \"left\", \"yref\": \"y1\", \"text\": \"Golden Gate at Polk\", \"align\": \"left\", \"y\": 48, \"x\": 0.55, \"font\": {\"color\": \"#000000\"}, \"showarrow\": false}, {\"xref\": \"x1\", \"xanchor\": \"left\", \"yref\": \"y1\", \"text\": \"37.781332\", \"align\": \"left\", \"y\": 48, \"x\": 1.55, \"font\": {\"color\": \"#000000\"}, \"showarrow\": false}, {\"xref\": \"x1\", \"xanchor\": \"left\", \"yref\": \"y1\", \"text\": \"-122.418603\", \"align\": \"left\", \"y\": 48, \"x\": 2.55, \"font\": {\"color\": \"#000000\"}, \"showarrow\": false}, {\"xref\": \"x1\", \"xanchor\": \"left\", \"yref\": \"y1\", \"text\": \"23\", \"align\": \"left\", \"y\": 48, \"x\": 3.55, \"font\": {\"color\": \"#000000\"}, \"showarrow\": false}, {\"xref\": \"x1\", \"xanchor\": \"left\", \"yref\": \"y1\", \"text\": \"San Francisco\", \"align\": \"left\", \"y\": 48, \"x\": 4.55, \"font\": {\"color\": \"#000000\"}, \"showarrow\": false}, {\"xref\": \"x1\", \"xanchor\": \"left\", \"yref\": \"y1\", \"text\": \"2013-08-21 00:00:00\", \"align\": \"left\", \"y\": 48, \"x\": 5.55, \"font\": {\"color\": \"#000000\"}, \"showarrow\": false}, {\"xref\": \"x1\", \"xanchor\": \"left\", \"yref\": \"y1\", \"text\": \"60\", \"align\": \"left\", \"y\": 49, \"x\": -0.45, \"font\": {\"color\": \"#000000\"}, \"showarrow\": false}, {\"xref\": \"x1\", \"xanchor\": \"left\", \"yref\": \"y1\", \"text\": \"Embarcadero at Sansome\", \"align\": \"left\", \"y\": 49, \"x\": 0.55, \"font\": {\"color\": \"#000000\"}, \"showarrow\": false}, {\"xref\": \"x1\", \"xanchor\": \"left\", \"yref\": \"y1\", \"text\": \"37.80477\", \"align\": \"left\", \"y\": 49, \"x\": 1.55, \"font\": {\"color\": \"#000000\"}, \"showarrow\": false}, {\"xref\": \"x1\", \"xanchor\": \"left\", \"yref\": \"y1\", \"text\": \"-122.403234\", \"align\": \"left\", \"y\": 49, \"x\": 2.55, \"font\": {\"color\": \"#000000\"}, \"showarrow\": false}, {\"xref\": \"x1\", \"xanchor\": \"left\", \"yref\": \"y1\", \"text\": \"15\", \"align\": \"left\", \"y\": 49, \"x\": 3.55, \"font\": {\"color\": \"#000000\"}, \"showarrow\": false}, {\"xref\": \"x1\", \"xanchor\": \"left\", \"yref\": \"y1\", \"text\": \"San Francisco\", \"align\": \"left\", \"y\": 49, \"x\": 4.55, \"font\": {\"color\": \"#000000\"}, \"showarrow\": false}, {\"xref\": \"x1\", \"xanchor\": \"left\", \"yref\": \"y1\", \"text\": \"2013-08-21 00:00:00\", \"align\": \"left\", \"y\": 49, \"x\": 5.55, \"font\": {\"color\": \"#000000\"}, \"showarrow\": false}, {\"xref\": \"x1\", \"xanchor\": \"left\", \"yref\": \"y1\", \"text\": \"61\", \"align\": \"left\", \"y\": 50, \"x\": -0.45, \"font\": {\"color\": \"#000000\"}, \"showarrow\": false}, {\"xref\": \"x1\", \"xanchor\": \"left\", \"yref\": \"y1\", \"text\": \"2nd at Townsend\", \"align\": \"left\", \"y\": 50, \"x\": 0.55, \"font\": {\"color\": \"#000000\"}, \"showarrow\": false}, {\"xref\": \"x1\", \"xanchor\": \"left\", \"yref\": \"y1\", \"text\": \"37.780526\", \"align\": \"left\", \"y\": 50, \"x\": 1.55, \"font\": {\"color\": \"#000000\"}, \"showarrow\": false}, {\"xref\": \"x1\", \"xanchor\": \"left\", \"yref\": \"y1\", \"text\": \"-122.390288\", \"align\": \"left\", \"y\": 50, \"x\": 2.55, \"font\": {\"color\": \"#000000\"}, \"showarrow\": false}, {\"xref\": \"x1\", \"xanchor\": \"left\", \"yref\": \"y1\", \"text\": \"27\", \"align\": \"left\", \"y\": 50, \"x\": 3.55, \"font\": {\"color\": \"#000000\"}, \"showarrow\": false}, {\"xref\": \"x1\", \"xanchor\": \"left\", \"yref\": \"y1\", \"text\": \"San Francisco\", \"align\": \"left\", \"y\": 50, \"x\": 4.55, \"font\": {\"color\": \"#000000\"}, \"showarrow\": false}, {\"xref\": \"x1\", \"xanchor\": \"left\", \"yref\": \"y1\", \"text\": \"2013-08-22 00:00:00\", \"align\": \"left\", \"y\": 50, \"x\": 5.55, \"font\": {\"color\": \"#000000\"}, \"showarrow\": false}, {\"xref\": \"x1\", \"xanchor\": \"left\", \"yref\": \"y1\", \"text\": \"62\", \"align\": \"left\", \"y\": 51, \"x\": -0.45, \"font\": {\"color\": \"#000000\"}, \"showarrow\": false}, {\"xref\": \"x1\", \"xanchor\": \"left\", \"yref\": \"y1\", \"text\": \"2nd at Folsom\", \"align\": \"left\", \"y\": 51, \"x\": 0.55, \"font\": {\"color\": \"#000000\"}, \"showarrow\": false}, {\"xref\": \"x1\", \"xanchor\": \"left\", \"yref\": \"y1\", \"text\": \"37.785299\", \"align\": \"left\", \"y\": 51, \"x\": 1.55, \"font\": {\"color\": \"#000000\"}, \"showarrow\": false}, {\"xref\": \"x1\", \"xanchor\": \"left\", \"yref\": \"y1\", \"text\": \"-122.396236\", \"align\": \"left\", \"y\": 51, \"x\": 2.55, \"font\": {\"color\": \"#000000\"}, \"showarrow\": false}, {\"xref\": \"x1\", \"xanchor\": \"left\", \"yref\": \"y1\", \"text\": \"19\", \"align\": \"left\", \"y\": 51, \"x\": 3.55, \"font\": {\"color\": \"#000000\"}, \"showarrow\": false}, {\"xref\": \"x1\", \"xanchor\": \"left\", \"yref\": \"y1\", \"text\": \"San Francisco\", \"align\": \"left\", \"y\": 51, \"x\": 4.55, \"font\": {\"color\": \"#000000\"}, \"showarrow\": false}, {\"xref\": \"x1\", \"xanchor\": \"left\", \"yref\": \"y1\", \"text\": \"2013-08-22 00:00:00\", \"align\": \"left\", \"y\": 51, \"x\": 5.55, \"font\": {\"color\": \"#000000\"}, \"showarrow\": false}, {\"xref\": \"x1\", \"xanchor\": \"left\", \"yref\": \"y1\", \"text\": \"63\", \"align\": \"left\", \"y\": 52, \"x\": -0.45, \"font\": {\"color\": \"#000000\"}, \"showarrow\": false}, {\"xref\": \"x1\", \"xanchor\": \"left\", \"yref\": \"y1\", \"text\": \"Howard at 2nd\", \"align\": \"left\", \"y\": 52, \"x\": 0.55, \"font\": {\"color\": \"#000000\"}, \"showarrow\": false}, {\"xref\": \"x1\", \"xanchor\": \"left\", \"yref\": \"y1\", \"text\": \"37.786978\", \"align\": \"left\", \"y\": 52, \"x\": 1.55, \"font\": {\"color\": \"#000000\"}, \"showarrow\": false}, {\"xref\": \"x1\", \"xanchor\": \"left\", \"yref\": \"y1\", \"text\": \"-122.398108\", \"align\": \"left\", \"y\": 52, \"x\": 2.55, \"font\": {\"color\": \"#000000\"}, \"showarrow\": false}, {\"xref\": \"x1\", \"xanchor\": \"left\", \"yref\": \"y1\", \"text\": \"19\", \"align\": \"left\", \"y\": 52, \"x\": 3.55, \"font\": {\"color\": \"#000000\"}, \"showarrow\": false}, {\"xref\": \"x1\", \"xanchor\": \"left\", \"yref\": \"y1\", \"text\": \"San Francisco\", \"align\": \"left\", \"y\": 52, \"x\": 4.55, \"font\": {\"color\": \"#000000\"}, \"showarrow\": false}, {\"xref\": \"x1\", \"xanchor\": \"left\", \"yref\": \"y1\", \"text\": \"2013-08-22 00:00:00\", \"align\": \"left\", \"y\": 52, \"x\": 5.55, \"font\": {\"color\": \"#000000\"}, \"showarrow\": false}, {\"xref\": \"x1\", \"xanchor\": \"left\", \"yref\": \"y1\", \"text\": \"64\", \"align\": \"left\", \"y\": 53, \"x\": -0.45, \"font\": {\"color\": \"#000000\"}, \"showarrow\": false}, {\"xref\": \"x1\", \"xanchor\": \"left\", \"yref\": \"y1\", \"text\": \"2nd at South Park\", \"align\": \"left\", \"y\": 53, \"x\": 0.55, \"font\": {\"color\": \"#000000\"}, \"showarrow\": false}, {\"xref\": \"x1\", \"xanchor\": \"left\", \"yref\": \"y1\", \"text\": \"37.782259\", \"align\": \"left\", \"y\": 53, \"x\": 1.55, \"font\": {\"color\": \"#000000\"}, \"showarrow\": false}, {\"xref\": \"x1\", \"xanchor\": \"left\", \"yref\": \"y1\", \"text\": \"-122.392738\", \"align\": \"left\", \"y\": 53, \"x\": 2.55, \"font\": {\"color\": \"#000000\"}, \"showarrow\": false}, {\"xref\": \"x1\", \"xanchor\": \"left\", \"yref\": \"y1\", \"text\": \"15\", \"align\": \"left\", \"y\": 53, \"x\": 3.55, \"font\": {\"color\": \"#000000\"}, \"showarrow\": false}, {\"xref\": \"x1\", \"xanchor\": \"left\", \"yref\": \"y1\", \"text\": \"San Francisco\", \"align\": \"left\", \"y\": 53, \"x\": 4.55, \"font\": {\"color\": \"#000000\"}, \"showarrow\": false}, {\"xref\": \"x1\", \"xanchor\": \"left\", \"yref\": \"y1\", \"text\": \"2013-08-22 00:00:00\", \"align\": \"left\", \"y\": 53, \"x\": 5.55, \"font\": {\"color\": \"#000000\"}, \"showarrow\": false}, {\"xref\": \"x1\", \"xanchor\": \"left\", \"yref\": \"y1\", \"text\": \"65\", \"align\": \"left\", \"y\": 54, \"x\": -0.45, \"font\": {\"color\": \"#000000\"}, \"showarrow\": false}, {\"xref\": \"x1\", \"xanchor\": \"left\", \"yref\": \"y1\", \"text\": \"Townsend at 7th\", \"align\": \"left\", \"y\": 54, \"x\": 0.55, \"font\": {\"color\": \"#000000\"}, \"showarrow\": false}, {\"xref\": \"x1\", \"xanchor\": \"left\", \"yref\": \"y1\", \"text\": \"37.771058\", \"align\": \"left\", \"y\": 54, \"x\": 1.55, \"font\": {\"color\": \"#000000\"}, \"showarrow\": false}, {\"xref\": \"x1\", \"xanchor\": \"left\", \"yref\": \"y1\", \"text\": \"-122.402717\", \"align\": \"left\", \"y\": 54, \"x\": 2.55, \"font\": {\"color\": \"#000000\"}, \"showarrow\": false}, {\"xref\": \"x1\", \"xanchor\": \"left\", \"yref\": \"y1\", \"text\": \"15\", \"align\": \"left\", \"y\": 54, \"x\": 3.55, \"font\": {\"color\": \"#000000\"}, \"showarrow\": false}, {\"xref\": \"x1\", \"xanchor\": \"left\", \"yref\": \"y1\", \"text\": \"San Francisco\", \"align\": \"left\", \"y\": 54, \"x\": 4.55, \"font\": {\"color\": \"#000000\"}, \"showarrow\": false}, {\"xref\": \"x1\", \"xanchor\": \"left\", \"yref\": \"y1\", \"text\": \"2013-08-22 00:00:00\", \"align\": \"left\", \"y\": 54, \"x\": 5.55, \"font\": {\"color\": \"#000000\"}, \"showarrow\": false}, {\"xref\": \"x1\", \"xanchor\": \"left\", \"yref\": \"y1\", \"text\": \"66\", \"align\": \"left\", \"y\": 55, \"x\": -0.45, \"font\": {\"color\": \"#000000\"}, \"showarrow\": false}, {\"xref\": \"x1\", \"xanchor\": \"left\", \"yref\": \"y1\", \"text\": \"South Van Ness at Market\", \"align\": \"left\", \"y\": 55, \"x\": 0.55, \"font\": {\"color\": \"#000000\"}, \"showarrow\": false}, {\"xref\": \"x1\", \"xanchor\": \"left\", \"yref\": \"y1\", \"text\": \"37.774814\", \"align\": \"left\", \"y\": 55, \"x\": 1.55, \"font\": {\"color\": \"#000000\"}, \"showarrow\": false}, {\"xref\": \"x1\", \"xanchor\": \"left\", \"yref\": \"y1\", \"text\": \"-122.418954\", \"align\": \"left\", \"y\": 55, \"x\": 2.55, \"font\": {\"color\": \"#000000\"}, \"showarrow\": false}, {\"xref\": \"x1\", \"xanchor\": \"left\", \"yref\": \"y1\", \"text\": \"19\", \"align\": \"left\", \"y\": 55, \"x\": 3.55, \"font\": {\"color\": \"#000000\"}, \"showarrow\": false}, {\"xref\": \"x1\", \"xanchor\": \"left\", \"yref\": \"y1\", \"text\": \"San Francisco\", \"align\": \"left\", \"y\": 55, \"x\": 4.55, \"font\": {\"color\": \"#000000\"}, \"showarrow\": false}, {\"xref\": \"x1\", \"xanchor\": \"left\", \"yref\": \"y1\", \"text\": \"2013-08-23 00:00:00\", \"align\": \"left\", \"y\": 55, \"x\": 5.55, \"font\": {\"color\": \"#000000\"}, \"showarrow\": false}, {\"xref\": \"x1\", \"xanchor\": \"left\", \"yref\": \"y1\", \"text\": \"67\", \"align\": \"left\", \"y\": 56, \"x\": -0.45, \"font\": {\"color\": \"#000000\"}, \"showarrow\": false}, {\"xref\": \"x1\", \"xanchor\": \"left\", \"yref\": \"y1\", \"text\": \"Market at 10th\", \"align\": \"left\", \"y\": 56, \"x\": 0.55, \"font\": {\"color\": \"#000000\"}, \"showarrow\": false}, {\"xref\": \"x1\", \"xanchor\": \"left\", \"yref\": \"y1\", \"text\": \"37.776619\", \"align\": \"left\", \"y\": 56, \"x\": 1.55, \"font\": {\"color\": \"#000000\"}, \"showarrow\": false}, {\"xref\": \"x1\", \"xanchor\": \"left\", \"yref\": \"y1\", \"text\": \"-122.417385\", \"align\": \"left\", \"y\": 56, \"x\": 2.55, \"font\": {\"color\": \"#000000\"}, \"showarrow\": false}, {\"xref\": \"x1\", \"xanchor\": \"left\", \"yref\": \"y1\", \"text\": \"27\", \"align\": \"left\", \"y\": 56, \"x\": 3.55, \"font\": {\"color\": \"#000000\"}, \"showarrow\": false}, {\"xref\": \"x1\", \"xanchor\": \"left\", \"yref\": \"y1\", \"text\": \"San Francisco\", \"align\": \"left\", \"y\": 56, \"x\": 4.55, \"font\": {\"color\": \"#000000\"}, \"showarrow\": false}, {\"xref\": \"x1\", \"xanchor\": \"left\", \"yref\": \"y1\", \"text\": \"2013-08-23 00:00:00\", \"align\": \"left\", \"y\": 56, \"x\": 5.55, \"font\": {\"color\": \"#000000\"}, \"showarrow\": false}, {\"xref\": \"x1\", \"xanchor\": \"left\", \"yref\": \"y1\", \"text\": \"68\", \"align\": \"left\", \"y\": 57, \"x\": -0.45, \"font\": {\"color\": \"#000000\"}, \"showarrow\": false}, {\"xref\": \"x1\", \"xanchor\": \"left\", \"yref\": \"y1\", \"text\": \"Yerba Buena Center of the Arts (3rd @ Howard)\", \"align\": \"left\", \"y\": 57, \"x\": 0.55, \"font\": {\"color\": \"#000000\"}, \"showarrow\": false}, {\"xref\": \"x1\", \"xanchor\": \"left\", \"yref\": \"y1\", \"text\": \"37.784878\", \"align\": \"left\", \"y\": 57, \"x\": 1.55, \"font\": {\"color\": \"#000000\"}, \"showarrow\": false}, {\"xref\": \"x1\", \"xanchor\": \"left\", \"yref\": \"y1\", \"text\": \"-122.401014\", \"align\": \"left\", \"y\": 57, \"x\": 2.55, \"font\": {\"color\": \"#000000\"}, \"showarrow\": false}, {\"xref\": \"x1\", \"xanchor\": \"left\", \"yref\": \"y1\", \"text\": \"19\", \"align\": \"left\", \"y\": 57, \"x\": 3.55, \"font\": {\"color\": \"#000000\"}, \"showarrow\": false}, {\"xref\": \"x1\", \"xanchor\": \"left\", \"yref\": \"y1\", \"text\": \"San Francisco\", \"align\": \"left\", \"y\": 57, \"x\": 4.55, \"font\": {\"color\": \"#000000\"}, \"showarrow\": false}, {\"xref\": \"x1\", \"xanchor\": \"left\", \"yref\": \"y1\", \"text\": \"2013-08-23 00:00:00\", \"align\": \"left\", \"y\": 57, \"x\": 5.55, \"font\": {\"color\": \"#000000\"}, \"showarrow\": false}, {\"xref\": \"x1\", \"xanchor\": \"left\", \"yref\": \"y1\", \"text\": \"69\", \"align\": \"left\", \"y\": 58, \"x\": -0.45, \"font\": {\"color\": \"#000000\"}, \"showarrow\": false}, {\"xref\": \"x1\", \"xanchor\": \"left\", \"yref\": \"y1\", \"text\": \"San Francisco Caltrain 2 (330 Townsend)\", \"align\": \"left\", \"y\": 58, \"x\": 0.55, \"font\": {\"color\": \"#000000\"}, \"showarrow\": false}, {\"xref\": \"x1\", \"xanchor\": \"left\", \"yref\": \"y1\", \"text\": \"37.7766\", \"align\": \"left\", \"y\": 58, \"x\": 1.55, \"font\": {\"color\": \"#000000\"}, \"showarrow\": false}, {\"xref\": \"x1\", \"xanchor\": \"left\", \"yref\": \"y1\", \"text\": \"-122.39547\", \"align\": \"left\", \"y\": 58, \"x\": 2.55, \"font\": {\"color\": \"#000000\"}, \"showarrow\": false}, {\"xref\": \"x1\", \"xanchor\": \"left\", \"yref\": \"y1\", \"text\": \"23\", \"align\": \"left\", \"y\": 58, \"x\": 3.55, \"font\": {\"color\": \"#000000\"}, \"showarrow\": false}, {\"xref\": \"x1\", \"xanchor\": \"left\", \"yref\": \"y1\", \"text\": \"San Francisco\", \"align\": \"left\", \"y\": 58, \"x\": 4.55, \"font\": {\"color\": \"#000000\"}, \"showarrow\": false}, {\"xref\": \"x1\", \"xanchor\": \"left\", \"yref\": \"y1\", \"text\": \"2013-08-23 00:00:00\", \"align\": \"left\", \"y\": 58, \"x\": 5.55, \"font\": {\"color\": \"#000000\"}, \"showarrow\": false}, {\"xref\": \"x1\", \"xanchor\": \"left\", \"yref\": \"y1\", \"text\": \"70\", \"align\": \"left\", \"y\": 59, \"x\": -0.45, \"font\": {\"color\": \"#000000\"}, \"showarrow\": false}, {\"xref\": \"x1\", \"xanchor\": \"left\", \"yref\": \"y1\", \"text\": \"San Francisco Caltrain (Townsend at 4th)\", \"align\": \"left\", \"y\": 59, \"x\": 0.55, \"font\": {\"color\": \"#000000\"}, \"showarrow\": false}, {\"xref\": \"x1\", \"xanchor\": \"left\", \"yref\": \"y1\", \"text\": \"37.776617\", \"align\": \"left\", \"y\": 59, \"x\": 1.55, \"font\": {\"color\": \"#000000\"}, \"showarrow\": false}, {\"xref\": \"x1\", \"xanchor\": \"left\", \"yref\": \"y1\", \"text\": \"-122.39526\", \"align\": \"left\", \"y\": 59, \"x\": 2.55, \"font\": {\"color\": \"#000000\"}, \"showarrow\": false}, {\"xref\": \"x1\", \"xanchor\": \"left\", \"yref\": \"y1\", \"text\": \"19\", \"align\": \"left\", \"y\": 59, \"x\": 3.55, \"font\": {\"color\": \"#000000\"}, \"showarrow\": false}, {\"xref\": \"x1\", \"xanchor\": \"left\", \"yref\": \"y1\", \"text\": \"San Francisco\", \"align\": \"left\", \"y\": 59, \"x\": 4.55, \"font\": {\"color\": \"#000000\"}, \"showarrow\": false}, {\"xref\": \"x1\", \"xanchor\": \"left\", \"yref\": \"y1\", \"text\": \"2013-08-23 00:00:00\", \"align\": \"left\", \"y\": 59, \"x\": 5.55, \"font\": {\"color\": \"#000000\"}, \"showarrow\": false}, {\"xref\": \"x1\", \"xanchor\": \"left\", \"yref\": \"y1\", \"text\": \"71\", \"align\": \"left\", \"y\": 60, \"x\": -0.45, \"font\": {\"color\": \"#000000\"}, \"showarrow\": false}, {\"xref\": \"x1\", \"xanchor\": \"left\", \"yref\": \"y1\", \"text\": \"Powell at Post (Union Square)\", \"align\": \"left\", \"y\": 60, \"x\": 0.55, \"font\": {\"color\": \"#000000\"}, \"showarrow\": false}, {\"xref\": \"x1\", \"xanchor\": \"left\", \"yref\": \"y1\", \"text\": \"37.788446\", \"align\": \"left\", \"y\": 60, \"x\": 1.55, \"font\": {\"color\": \"#000000\"}, \"showarrow\": false}, {\"xref\": \"x1\", \"xanchor\": \"left\", \"yref\": \"y1\", \"text\": \"-122.408499\", \"align\": \"left\", \"y\": 60, \"x\": 2.55, \"font\": {\"color\": \"#000000\"}, \"showarrow\": false}, {\"xref\": \"x1\", \"xanchor\": \"left\", \"yref\": \"y1\", \"text\": \"19\", \"align\": \"left\", \"y\": 60, \"x\": 3.55, \"font\": {\"color\": \"#000000\"}, \"showarrow\": false}, {\"xref\": \"x1\", \"xanchor\": \"left\", \"yref\": \"y1\", \"text\": \"San Francisco\", \"align\": \"left\", \"y\": 60, \"x\": 4.55, \"font\": {\"color\": \"#000000\"}, \"showarrow\": false}, {\"xref\": \"x1\", \"xanchor\": \"left\", \"yref\": \"y1\", \"text\": \"2013-08-23 00:00:00\", \"align\": \"left\", \"y\": 60, \"x\": 5.55, \"font\": {\"color\": \"#000000\"}, \"showarrow\": false}, {\"xref\": \"x1\", \"xanchor\": \"left\", \"yref\": \"y1\", \"text\": \"72\", \"align\": \"left\", \"y\": 61, \"x\": -0.45, \"font\": {\"color\": \"#000000\"}, \"showarrow\": false}, {\"xref\": \"x1\", \"xanchor\": \"left\", \"yref\": \"y1\", \"text\": \"Civic Center BART (7th at Market)\", \"align\": \"left\", \"y\": 61, \"x\": 0.55, \"font\": {\"color\": \"#000000\"}, \"showarrow\": false}, {\"xref\": \"x1\", \"xanchor\": \"left\", \"yref\": \"y1\", \"text\": \"37.781039\", \"align\": \"left\", \"y\": 61, \"x\": 1.55, \"font\": {\"color\": \"#000000\"}, \"showarrow\": false}, {\"xref\": \"x1\", \"xanchor\": \"left\", \"yref\": \"y1\", \"text\": \"-122.411748\", \"align\": \"left\", \"y\": 61, \"x\": 2.55, \"font\": {\"color\": \"#000000\"}, \"showarrow\": false}, {\"xref\": \"x1\", \"xanchor\": \"left\", \"yref\": \"y1\", \"text\": \"23\", \"align\": \"left\", \"y\": 61, \"x\": 3.55, \"font\": {\"color\": \"#000000\"}, \"showarrow\": false}, {\"xref\": \"x1\", \"xanchor\": \"left\", \"yref\": \"y1\", \"text\": \"San Francisco\", \"align\": \"left\", \"y\": 61, \"x\": 4.55, \"font\": {\"color\": \"#000000\"}, \"showarrow\": false}, {\"xref\": \"x1\", \"xanchor\": \"left\", \"yref\": \"y1\", \"text\": \"2013-08-23 00:00:00\", \"align\": \"left\", \"y\": 61, \"x\": 5.55, \"font\": {\"color\": \"#000000\"}, \"showarrow\": false}, {\"xref\": \"x1\", \"xanchor\": \"left\", \"yref\": \"y1\", \"text\": \"73\", \"align\": \"left\", \"y\": 62, \"x\": -0.45, \"font\": {\"color\": \"#000000\"}, \"showarrow\": false}, {\"xref\": \"x1\", \"xanchor\": \"left\", \"yref\": \"y1\", \"text\": \"Grant Avenue at Columbus Avenue\", \"align\": \"left\", \"y\": 62, \"x\": 0.55, \"font\": {\"color\": \"#000000\"}, \"showarrow\": false}, {\"xref\": \"x1\", \"xanchor\": \"left\", \"yref\": \"y1\", \"text\": \"37.798522\", \"align\": \"left\", \"y\": 62, \"x\": 1.55, \"font\": {\"color\": \"#000000\"}, \"showarrow\": false}, {\"xref\": \"x1\", \"xanchor\": \"left\", \"yref\": \"y1\", \"text\": \"-122.407245\", \"align\": \"left\", \"y\": 62, \"x\": 2.55, \"font\": {\"color\": \"#000000\"}, \"showarrow\": false}, {\"xref\": \"x1\", \"xanchor\": \"left\", \"yref\": \"y1\", \"text\": \"15\", \"align\": \"left\", \"y\": 62, \"x\": 3.55, \"font\": {\"color\": \"#000000\"}, \"showarrow\": false}, {\"xref\": \"x1\", \"xanchor\": \"left\", \"yref\": \"y1\", \"text\": \"San Francisco\", \"align\": \"left\", \"y\": 62, \"x\": 4.55, \"font\": {\"color\": \"#000000\"}, \"showarrow\": false}, {\"xref\": \"x1\", \"xanchor\": \"left\", \"yref\": \"y1\", \"text\": \"2013-08-21 00:00:00\", \"align\": \"left\", \"y\": 62, \"x\": 5.55, \"font\": {\"color\": \"#000000\"}, \"showarrow\": false}, {\"xref\": \"x1\", \"xanchor\": \"left\", \"yref\": \"y1\", \"text\": \"74\", \"align\": \"left\", \"y\": 63, \"x\": -0.45, \"font\": {\"color\": \"#000000\"}, \"showarrow\": false}, {\"xref\": \"x1\", \"xanchor\": \"left\", \"yref\": \"y1\", \"text\": \"Steuart at Market\", \"align\": \"left\", \"y\": 63, \"x\": 0.55, \"font\": {\"color\": \"#000000\"}, \"showarrow\": false}, {\"xref\": \"x1\", \"xanchor\": \"left\", \"yref\": \"y1\", \"text\": \"37.794139\", \"align\": \"left\", \"y\": 63, \"x\": 1.55, \"font\": {\"color\": \"#000000\"}, \"showarrow\": false}, {\"xref\": \"x1\", \"xanchor\": \"left\", \"yref\": \"y1\", \"text\": \"-122.394434\", \"align\": \"left\", \"y\": 63, \"x\": 2.55, \"font\": {\"color\": \"#000000\"}, \"showarrow\": false}, {\"xref\": \"x1\", \"xanchor\": \"left\", \"yref\": \"y1\", \"text\": \"23\", \"align\": \"left\", \"y\": 63, \"x\": 3.55, \"font\": {\"color\": \"#000000\"}, \"showarrow\": false}, {\"xref\": \"x1\", \"xanchor\": \"left\", \"yref\": \"y1\", \"text\": \"San Francisco\", \"align\": \"left\", \"y\": 63, \"x\": 4.55, \"font\": {\"color\": \"#000000\"}, \"showarrow\": false}, {\"xref\": \"x1\", \"xanchor\": \"left\", \"yref\": \"y1\", \"text\": \"2013-08-25 00:00:00\", \"align\": \"left\", \"y\": 63, \"x\": 5.55, \"font\": {\"color\": \"#000000\"}, \"showarrow\": false}, {\"xref\": \"x1\", \"xanchor\": \"left\", \"yref\": \"y1\", \"text\": \"75\", \"align\": \"left\", \"y\": 64, \"x\": -0.45, \"font\": {\"color\": \"#000000\"}, \"showarrow\": false}, {\"xref\": \"x1\", \"xanchor\": \"left\", \"yref\": \"y1\", \"text\": \"Mechanics Plaza (Market at Battery)\", \"align\": \"left\", \"y\": 64, \"x\": 0.55, \"font\": {\"color\": \"#000000\"}, \"showarrow\": false}, {\"xref\": \"x1\", \"xanchor\": \"left\", \"yref\": \"y1\", \"text\": \"37.7913\", \"align\": \"left\", \"y\": 64, \"x\": 1.55, \"font\": {\"color\": \"#000000\"}, \"showarrow\": false}, {\"xref\": \"x1\", \"xanchor\": \"left\", \"yref\": \"y1\", \"text\": \"-122.399051\", \"align\": \"left\", \"y\": 64, \"x\": 2.55, \"font\": {\"color\": \"#000000\"}, \"showarrow\": false}, {\"xref\": \"x1\", \"xanchor\": \"left\", \"yref\": \"y1\", \"text\": \"19\", \"align\": \"left\", \"y\": 64, \"x\": 3.55, \"font\": {\"color\": \"#000000\"}, \"showarrow\": false}, {\"xref\": \"x1\", \"xanchor\": \"left\", \"yref\": \"y1\", \"text\": \"San Francisco\", \"align\": \"left\", \"y\": 64, \"x\": 4.55, \"font\": {\"color\": \"#000000\"}, \"showarrow\": false}, {\"xref\": \"x1\", \"xanchor\": \"left\", \"yref\": \"y1\", \"text\": \"2013-08-25 00:00:00\", \"align\": \"left\", \"y\": 64, \"x\": 5.55, \"font\": {\"color\": \"#000000\"}, \"showarrow\": false}, {\"xref\": \"x1\", \"xanchor\": \"left\", \"yref\": \"y1\", \"text\": \"76\", \"align\": \"left\", \"y\": 65, \"x\": -0.45, \"font\": {\"color\": \"#000000\"}, \"showarrow\": false}, {\"xref\": \"x1\", \"xanchor\": \"left\", \"yref\": \"y1\", \"text\": \"Market at 4th\", \"align\": \"left\", \"y\": 65, \"x\": 0.55, \"font\": {\"color\": \"#000000\"}, \"showarrow\": false}, {\"xref\": \"x1\", \"xanchor\": \"left\", \"yref\": \"y1\", \"text\": \"37.786305\", \"align\": \"left\", \"y\": 65, \"x\": 1.55, \"font\": {\"color\": \"#000000\"}, \"showarrow\": false}, {\"xref\": \"x1\", \"xanchor\": \"left\", \"yref\": \"y1\", \"text\": \"-122.404966\", \"align\": \"left\", \"y\": 65, \"x\": 2.55, \"font\": {\"color\": \"#000000\"}, \"showarrow\": false}, {\"xref\": \"x1\", \"xanchor\": \"left\", \"yref\": \"y1\", \"text\": \"19\", \"align\": \"left\", \"y\": 65, \"x\": 3.55, \"font\": {\"color\": \"#000000\"}, \"showarrow\": false}, {\"xref\": \"x1\", \"xanchor\": \"left\", \"yref\": \"y1\", \"text\": \"San Francisco\", \"align\": \"left\", \"y\": 65, \"x\": 4.55, \"font\": {\"color\": \"#000000\"}, \"showarrow\": false}, {\"xref\": \"x1\", \"xanchor\": \"left\", \"yref\": \"y1\", \"text\": \"2013-08-25 00:00:00\", \"align\": \"left\", \"y\": 65, \"x\": 5.55, \"font\": {\"color\": \"#000000\"}, \"showarrow\": false}, {\"xref\": \"x1\", \"xanchor\": \"left\", \"yref\": \"y1\", \"text\": \"77\", \"align\": \"left\", \"y\": 66, \"x\": -0.45, \"font\": {\"color\": \"#000000\"}, \"showarrow\": false}, {\"xref\": \"x1\", \"xanchor\": \"left\", \"yref\": \"y1\", \"text\": \"Market at Sansome\", \"align\": \"left\", \"y\": 66, \"x\": 0.55, \"font\": {\"color\": \"#000000\"}, \"showarrow\": false}, {\"xref\": \"x1\", \"xanchor\": \"left\", \"yref\": \"y1\", \"text\": \"37.789625\", \"align\": \"left\", \"y\": 66, \"x\": 1.55, \"font\": {\"color\": \"#000000\"}, \"showarrow\": false}, {\"xref\": \"x1\", \"xanchor\": \"left\", \"yref\": \"y1\", \"text\": \"-122.400811\", \"align\": \"left\", \"y\": 66, \"x\": 2.55, \"font\": {\"color\": \"#000000\"}, \"showarrow\": false}, {\"xref\": \"x1\", \"xanchor\": \"left\", \"yref\": \"y1\", \"text\": \"27\", \"align\": \"left\", \"y\": 66, \"x\": 3.55, \"font\": {\"color\": \"#000000\"}, \"showarrow\": false}, {\"xref\": \"x1\", \"xanchor\": \"left\", \"yref\": \"y1\", \"text\": \"San Francisco\", \"align\": \"left\", \"y\": 66, \"x\": 4.55, \"font\": {\"color\": \"#000000\"}, \"showarrow\": false}, {\"xref\": \"x1\", \"xanchor\": \"left\", \"yref\": \"y1\", \"text\": \"2013-08-25 00:00:00\", \"align\": \"left\", \"y\": 66, \"x\": 5.55, \"font\": {\"color\": \"#000000\"}, \"showarrow\": false}, {\"xref\": \"x1\", \"xanchor\": \"left\", \"yref\": \"y1\", \"text\": \"80\", \"align\": \"left\", \"y\": 67, \"x\": -0.45, \"font\": {\"color\": \"#000000\"}, \"showarrow\": false}, {\"xref\": \"x1\", \"xanchor\": \"left\", \"yref\": \"y1\", \"text\": \"Santa Clara County Civic Center\", \"align\": \"left\", \"y\": 67, \"x\": 0.55, \"font\": {\"color\": \"#000000\"}, \"showarrow\": false}, {\"xref\": \"x1\", \"xanchor\": \"left\", \"yref\": \"y1\", \"text\": \"37.352601\", \"align\": \"left\", \"y\": 67, \"x\": 1.55, \"font\": {\"color\": \"#000000\"}, \"showarrow\": false}, {\"xref\": \"x1\", \"xanchor\": \"left\", \"yref\": \"y1\", \"text\": \"-121.905733\", \"align\": \"left\", \"y\": 67, \"x\": 2.55, \"font\": {\"color\": \"#000000\"}, \"showarrow\": false}, {\"xref\": \"x1\", \"xanchor\": \"left\", \"yref\": \"y1\", \"text\": \"15\", \"align\": \"left\", \"y\": 67, \"x\": 3.55, \"font\": {\"color\": \"#000000\"}, \"showarrow\": false}, {\"xref\": \"x1\", \"xanchor\": \"left\", \"yref\": \"y1\", \"text\": \"San Jose\", \"align\": \"left\", \"y\": 67, \"x\": 4.55, \"font\": {\"color\": \"#000000\"}, \"showarrow\": false}, {\"xref\": \"x1\", \"xanchor\": \"left\", \"yref\": \"y1\", \"text\": \"2013-12-31 00:00:00\", \"align\": \"left\", \"y\": 67, \"x\": 5.55, \"font\": {\"color\": \"#000000\"}, \"showarrow\": false}, {\"xref\": \"x1\", \"xanchor\": \"left\", \"yref\": \"y1\", \"text\": \"82\", \"align\": \"left\", \"y\": 68, \"x\": -0.45, \"font\": {\"color\": \"#000000\"}, \"showarrow\": false}, {\"xref\": \"x1\", \"xanchor\": \"left\", \"yref\": \"y1\", \"text\": \"Broadway St at Battery St\", \"align\": \"left\", \"y\": 68, \"x\": 0.55, \"font\": {\"color\": \"#000000\"}, \"showarrow\": false}, {\"xref\": \"x1\", \"xanchor\": \"left\", \"yref\": \"y1\", \"text\": \"37.798541\", \"align\": \"left\", \"y\": 68, \"x\": 1.55, \"font\": {\"color\": \"#000000\"}, \"showarrow\": false}, {\"xref\": \"x1\", \"xanchor\": \"left\", \"yref\": \"y1\", \"text\": \"-122.400862\", \"align\": \"left\", \"y\": 68, \"x\": 2.55, \"font\": {\"color\": \"#000000\"}, \"showarrow\": false}, {\"xref\": \"x1\", \"xanchor\": \"left\", \"yref\": \"y1\", \"text\": \"15\", \"align\": \"left\", \"y\": 68, \"x\": 3.55, \"font\": {\"color\": \"#000000\"}, \"showarrow\": false}, {\"xref\": \"x1\", \"xanchor\": \"left\", \"yref\": \"y1\", \"text\": \"San Francisco\", \"align\": \"left\", \"y\": 68, \"x\": 4.55, \"font\": {\"color\": \"#000000\"}, \"showarrow\": false}, {\"xref\": \"x1\", \"xanchor\": \"left\", \"yref\": \"y1\", \"text\": \"2014-01-22 00:00:00\", \"align\": \"left\", \"y\": 68, \"x\": 5.55, \"font\": {\"color\": \"#000000\"}, \"showarrow\": false}, {\"xref\": \"x1\", \"xanchor\": \"left\", \"yref\": \"y1\", \"text\": \"83\", \"align\": \"left\", \"y\": 69, \"x\": -0.45, \"font\": {\"color\": \"#000000\"}, \"showarrow\": false}, {\"xref\": \"x1\", \"xanchor\": \"left\", \"yref\": \"y1\", \"text\": \"Mezes Park\", \"align\": \"left\", \"y\": 69, \"x\": 0.55, \"font\": {\"color\": \"#000000\"}, \"showarrow\": false}, {\"xref\": \"x1\", \"xanchor\": \"left\", \"yref\": \"y1\", \"text\": \"37.491269\", \"align\": \"left\", \"y\": 69, \"x\": 1.55, \"font\": {\"color\": \"#000000\"}, \"showarrow\": false}, {\"xref\": \"x1\", \"xanchor\": \"left\", \"yref\": \"y1\", \"text\": \"-122.236234\", \"align\": \"left\", \"y\": 69, \"x\": 2.55, \"font\": {\"color\": \"#000000\"}, \"showarrow\": false}, {\"xref\": \"x1\", \"xanchor\": \"left\", \"yref\": \"y1\", \"text\": \"15\", \"align\": \"left\", \"y\": 69, \"x\": 3.55, \"font\": {\"color\": \"#000000\"}, \"showarrow\": false}, {\"xref\": \"x1\", \"xanchor\": \"left\", \"yref\": \"y1\", \"text\": \"Redwood City\", \"align\": \"left\", \"y\": 69, \"x\": 4.55, \"font\": {\"color\": \"#000000\"}, \"showarrow\": false}, {\"xref\": \"x1\", \"xanchor\": \"left\", \"yref\": \"y1\", \"text\": \"2014-02-20 00:00:00\", \"align\": \"left\", \"y\": 69, \"x\": 5.55, \"font\": {\"color\": \"#000000\"}, \"showarrow\": false}, {\"xref\": \"x1\", \"xanchor\": \"left\", \"yref\": \"y1\", \"text\": \"84\", \"align\": \"left\", \"y\": 70, \"x\": -0.45, \"font\": {\"color\": \"#000000\"}, \"showarrow\": false}, {\"xref\": \"x1\", \"xanchor\": \"left\", \"yref\": \"y1\", \"text\": \"Ryland Park\", \"align\": \"left\", \"y\": 70, \"x\": 0.55, \"font\": {\"color\": \"#000000\"}, \"showarrow\": false}, {\"xref\": \"x1\", \"xanchor\": \"left\", \"yref\": \"y1\", \"text\": \"37.342725\", \"align\": \"left\", \"y\": 70, \"x\": 1.55, \"font\": {\"color\": \"#000000\"}, \"showarrow\": false}, {\"xref\": \"x1\", \"xanchor\": \"left\", \"yref\": \"y1\", \"text\": \"-121.895617\", \"align\": \"left\", \"y\": 70, \"x\": 2.55, \"font\": {\"color\": \"#000000\"}, \"showarrow\": false}, {\"xref\": \"x1\", \"xanchor\": \"left\", \"yref\": \"y1\", \"text\": \"15\", \"align\": \"left\", \"y\": 70, \"x\": 3.55, \"font\": {\"color\": \"#000000\"}, \"showarrow\": false}, {\"xref\": \"x1\", \"xanchor\": \"left\", \"yref\": \"y1\", \"text\": \"San Jose\", \"align\": \"left\", \"y\": 70, \"x\": 4.55, \"font\": {\"color\": \"#000000\"}, \"showarrow\": false}, {\"xref\": \"x1\", \"xanchor\": \"left\", \"yref\": \"y1\", \"text\": \"2014-04-09 00:00:00\", \"align\": \"left\", \"y\": 70, \"x\": 5.55, \"font\": {\"color\": \"#000000\"}, \"showarrow\": false}], \"xaxis\": {\"showticklabels\": false, \"tick0\": -0.5, \"ticks\": \"\", \"gridwidth\": 2, \"dtick\": 1, \"zeroline\": false}, \"height\": 2180}, {\"linkText\": \"Export to plot.ly\", \"showLink\": true})});</script>"
      ]
     },
     "metadata": {},
     "output_type": "display_data"
    }
   ],
   "source": [
    "stations = pd.read_csv(\"Data/station.csv\")\n",
    "stations.installation_date = pd.to_datetime(stations.installation_date, format='%m/%d/%Y') #Pase a formato datetime las fechas porque es mas comodo\n",
    "\n",
    "\n",
    "table = ff.create_table(stations)\n",
    "iplot(table)"
   ]
  },
  {
   "cell_type": "markdown",
   "metadata": {
    "deletable": true,
    "editable": true
   },
   "source": [
    "La cantidad de estaciones es:"
   ]
  },
  {
   "cell_type": "code",
   "execution_count": 4,
   "metadata": {
    "collapsed": false,
    "deletable": true,
    "editable": true
   },
   "outputs": [
    {
     "name": "stdout",
     "output_type": "stream",
     "text": [
      "70\n"
     ]
    }
   ],
   "source": [
    "print (str((stations.id.count())))"
   ]
  },
  {
   "cell_type": "markdown",
   "metadata": {
    "deletable": true,
    "editable": true
   },
   "source": [
    "Los nombres de las 70 estaciones son:"
   ]
  },
  {
   "cell_type": "code",
   "execution_count": 5,
   "metadata": {
    "collapsed": false,
    "deletable": true,
    "editable": true
   },
   "outputs": [
    {
     "name": "stdout",
     "output_type": "stream",
     "text": [
      "['San Jose Diridon Caltrain Station' 'San Jose Civic Center'\n",
      " 'Santa Clara at Almaden' 'Adobe on Almaden' 'San Pedro Square'\n",
      " 'Paseo de San Antonio' 'San Salvador at 1st' 'Japantown'\n",
      " 'San Jose City Hall' 'MLK Library' 'SJSU 4th at San Carlos'\n",
      " 'St James Park' 'Arena Green / SAP Center' 'SJSU - San Salvador at 9th'\n",
      " 'Franklin at Maple' 'Redwood City Caltrain Station'\n",
      " 'San Mateo County Center' 'Redwood City Public Library'\n",
      " 'Stanford in Redwood City' 'Redwood City Medical Center'\n",
      " 'Mountain View City Hall' 'Mountain View Caltrain Station'\n",
      " 'San Antonio Caltrain Station' 'Evelyn Park and Ride'\n",
      " 'San Antonio Shopping Center' 'Castro Street and El Camino Real'\n",
      " 'Rengstorff Avenue / California Street' 'Palo Alto Caltrain Station'\n",
      " 'University and Emerson' 'California Ave Caltrain Station'\n",
      " 'Cowper at University' 'Park at Olive' 'Clay at Battery'\n",
      " 'Davis at Jackson' 'Commercial at Montgomery' 'Washington at Kearney'\n",
      " 'Post at Kearney' 'Embarcadero at Vallejo' 'Spear at Folsom'\n",
      " 'Harry Bridges Plaza (Ferry Building)' 'Embarcadero at Folsom'\n",
      " 'Powell Street BART' 'Embarcadero at Bryant'\n",
      " 'Temporary Transbay Terminal (Howard at Beale)' 'Beale at Market'\n",
      " '5th at Howard' 'San Francisco City Hall' 'Golden Gate at Polk'\n",
      " 'Embarcadero at Sansome' '2nd at Townsend' '2nd at Folsom' 'Howard at 2nd'\n",
      " '2nd at South Park' 'Townsend at 7th' 'South Van Ness at Market'\n",
      " 'Market at 10th' 'Yerba Buena Center of the Arts (3rd @ Howard)'\n",
      " 'San Francisco Caltrain 2 (330 Townsend)'\n",
      " 'San Francisco Caltrain (Townsend at 4th)' 'Powell at Post (Union Square)'\n",
      " 'Civic Center BART (7th at Market)' 'Grant Avenue at Columbus Avenue'\n",
      " 'Steuart at Market' 'Mechanics Plaza (Market at Battery)' 'Market at 4th'\n",
      " 'Market at Sansome' 'Santa Clara County Civic Center'\n",
      " 'Broadway St at Battery St' 'Mezes Park' 'Ryland Park']\n"
     ]
    }
   ],
   "source": [
    "print (stations.name.unique())"
   ]
  },
  {
   "cell_type": "markdown",
   "metadata": {
    "deletable": true,
    "editable": true
   },
   "source": [
    "Cantidad de \"docks\" (espacios para estacionar las bicicletas):"
   ]
  },
  {
   "cell_type": "code",
   "execution_count": 4,
   "metadata": {
    "collapsed": false,
    "deletable": true,
    "editable": true
   },
   "outputs": [
    {
     "name": "stdout",
     "output_type": "stream",
     "text": [
      "1236\n"
     ]
    }
   ],
   "source": [
    "print (str(stations.dock_count.sum()))"
   ]
  },
  {
   "cell_type": "markdown",
   "metadata": {
    "deletable": true,
    "editable": true
   },
   "source": [
    "¿Las estaciones fueron instaladas el mismo día?"
   ]
  },
  {
   "cell_type": "code",
   "execution_count": 6,
   "metadata": {
    "collapsed": false,
    "deletable": true,
    "editable": true,
    "scrolled": false
   },
   "outputs": [
    {
     "data": {
      "image/png": "[encoded data removed]",
      "text/plain": [
       "<matplotlib.figure.Figure at 0x7fcc4338c690>"
      ]
     },
     "metadata": {},
     "output_type": "display_data"
    }
   ],
   "source": [
    "stations.plot(x='installation_date' , y = 'id', style='go',figsize=(14,5))\n",
    "\n",
    "plt.show()\n"
   ]
  },
  {
   "cell_type": "code",
   "execution_count": 7,
   "metadata": {
    "collapsed": true,
    "deletable": true,
    "editable": true
   },
   "outputs": [],
   "source": [
    "df = pd.read_csv(\"Data/trip.csv\")"
   ]
  },
  {
   "cell_type": "markdown",
   "metadata": {
    "deletable": true,
    "editable": true
   },
   "source": [
    "Las duraciones están en segundos, para el análisis conviene pasar a minuto."
   ]
  },
  {
   "cell_type": "code",
   "execution_count": 8,
   "metadata": {
    "collapsed": false,
    "deletable": true,
    "editable": true,
    "scrolled": true
   },
   "outputs": [
    {
     "data": {
      "text/html": [
       "<div>\n",
       "<table border=\"1\" class=\"dataframe\">\n",
       "  <thead>\n",
       "    <tr style=\"text-align: right;\">\n",
       "      <th></th>\n",
       "      <th>id</th>\n",
       "      <th>duration</th>\n",
       "      <th>start_date</th>\n",
       "      <th>start_station_name</th>\n",
       "      <th>start_station_id</th>\n",
       "      <th>end_date</th>\n",
       "      <th>end_station_name</th>\n",
       "      <th>end_station_id</th>\n",
       "      <th>bike_id</th>\n",
       "      <th>subscription_type</th>\n",
       "      <th>zip_code</th>\n",
       "    </tr>\n",
       "  </thead>\n",
       "  <tbody>\n",
       "    <tr>\n",
       "      <th>0</th>\n",
       "      <td>4576</td>\n",
       "      <td>1.050000</td>\n",
       "      <td>8/29/2013 14:13</td>\n",
       "      <td>South Van Ness at Market</td>\n",
       "      <td>66</td>\n",
       "      <td>8/29/2013 14:14</td>\n",
       "      <td>South Van Ness at Market</td>\n",
       "      <td>66</td>\n",
       "      <td>520</td>\n",
       "      <td>Subscriber</td>\n",
       "      <td>94127</td>\n",
       "    </tr>\n",
       "    <tr>\n",
       "      <th>1</th>\n",
       "      <td>4607</td>\n",
       "      <td>1.166667</td>\n",
       "      <td>8/29/2013 14:42</td>\n",
       "      <td>San Jose City Hall</td>\n",
       "      <td>10</td>\n",
       "      <td>8/29/2013 14:43</td>\n",
       "      <td>San Jose City Hall</td>\n",
       "      <td>10</td>\n",
       "      <td>661</td>\n",
       "      <td>Subscriber</td>\n",
       "      <td>95138</td>\n",
       "    </tr>\n",
       "    <tr>\n",
       "      <th>2</th>\n",
       "      <td>4130</td>\n",
       "      <td>1.183333</td>\n",
       "      <td>8/29/2013 10:16</td>\n",
       "      <td>Mountain View City Hall</td>\n",
       "      <td>27</td>\n",
       "      <td>8/29/2013 10:17</td>\n",
       "      <td>Mountain View City Hall</td>\n",
       "      <td>27</td>\n",
       "      <td>48</td>\n",
       "      <td>Subscriber</td>\n",
       "      <td>97214</td>\n",
       "    </tr>\n",
       "    <tr>\n",
       "      <th>3</th>\n",
       "      <td>4251</td>\n",
       "      <td>1.283333</td>\n",
       "      <td>8/29/2013 11:29</td>\n",
       "      <td>San Jose City Hall</td>\n",
       "      <td>10</td>\n",
       "      <td>8/29/2013 11:30</td>\n",
       "      <td>San Jose City Hall</td>\n",
       "      <td>10</td>\n",
       "      <td>26</td>\n",
       "      <td>Subscriber</td>\n",
       "      <td>95060</td>\n",
       "    </tr>\n",
       "    <tr>\n",
       "      <th>4</th>\n",
       "      <td>4299</td>\n",
       "      <td>1.383333</td>\n",
       "      <td>8/29/2013 12:02</td>\n",
       "      <td>South Van Ness at Market</td>\n",
       "      <td>66</td>\n",
       "      <td>8/29/2013 12:04</td>\n",
       "      <td>Market at 10th</td>\n",
       "      <td>67</td>\n",
       "      <td>319</td>\n",
       "      <td>Subscriber</td>\n",
       "      <td>94103</td>\n",
       "    </tr>\n",
       "  </tbody>\n",
       "</table>\n",
       "</div>"
      ],
      "text/plain": [
       "     id  duration       start_date        start_station_name  \\\n",
       "0  4576  1.050000  8/29/2013 14:13  South Van Ness at Market   \n",
       "1  4607  1.166667  8/29/2013 14:42        San Jose City Hall   \n",
       "2  4130  1.183333  8/29/2013 10:16   Mountain View City Hall   \n",
       "3  4251  1.283333  8/29/2013 11:29        San Jose City Hall   \n",
       "4  4299  1.383333  8/29/2013 12:02  South Van Ness at Market   \n",
       "\n",
       "   start_station_id         end_date          end_station_name  \\\n",
       "0                66  8/29/2013 14:14  South Van Ness at Market   \n",
       "1                10  8/29/2013 14:43        San Jose City Hall   \n",
       "2                27  8/29/2013 10:17   Mountain View City Hall   \n",
       "3                10  8/29/2013 11:30        San Jose City Hall   \n",
       "4                66  8/29/2013 12:04            Market at 10th   \n",
       "\n",
       "   end_station_id  bike_id subscription_type zip_code  \n",
       "0              66      520        Subscriber    94127  \n",
       "1              10      661        Subscriber    95138  \n",
       "2              27       48        Subscriber    97214  \n",
       "3              10       26        Subscriber    95060  \n",
       "4              67      319        Subscriber    94103  "
      ]
     },
     "execution_count": 8,
     "metadata": {},
     "output_type": "execute_result"
    }
   ],
   "source": [
    "df.duration /= 60\n",
    "df.head()"
   ]
  },
  {
   "cell_type": "markdown",
   "metadata": {
    "deletable": true,
    "editable": true
   },
   "source": [
    "Verificamos si hay datos nulos:"
   ]
  },
  {
   "cell_type": "code",
   "execution_count": 8,
   "metadata": {
    "collapsed": false,
    "deletable": true,
    "editable": true,
    "scrolled": true
   },
   "outputs": [
    {
     "data": {
      "text/plain": [
       "id                       0\n",
       "duration                 0\n",
       "start_date               0\n",
       "start_station_name       0\n",
       "start_station_id         0\n",
       "end_date                 0\n",
       "end_station_name         0\n",
       "end_station_id           0\n",
       "bike_id                  0\n",
       "subscription_type        0\n",
       "zip_code              6619\n",
       "dtype: int64"
      ]
     },
     "execution_count": 8,
     "metadata": {},
     "output_type": "execute_result"
    }
   ],
   "source": [
    "df.isnull().sum()"
   ]
  },
  {
   "cell_type": "markdown",
   "metadata": {
    "deletable": true,
    "editable": true
   },
   "source": [
    "Resumen estadístico del dataframe:"
   ]
  },
  {
   "cell_type": "code",
   "execution_count": 9,
   "metadata": {
    "collapsed": false,
    "deletable": true,
    "editable": true
   },
   "outputs": [
    {
     "data": {
      "text/html": [
       "<div>\n",
       "<table border=\"1\" class=\"dataframe\">\n",
       "  <thead>\n",
       "    <tr style=\"text-align: right;\">\n",
       "      <th></th>\n",
       "      <th>id</th>\n",
       "      <th>duration</th>\n",
       "      <th>start_station_id</th>\n",
       "      <th>end_station_id</th>\n",
       "      <th>bike_id</th>\n",
       "    </tr>\n",
       "  </thead>\n",
       "  <tbody>\n",
       "    <tr>\n",
       "      <th>count</th>\n",
       "      <td>669959.000000</td>\n",
       "      <td>669959.000000</td>\n",
       "      <td>669959.000000</td>\n",
       "      <td>669959.000000</td>\n",
       "      <td>669959.000000</td>\n",
       "    </tr>\n",
       "    <tr>\n",
       "      <th>mean</th>\n",
       "      <td>460382.009899</td>\n",
       "      <td>18.465831</td>\n",
       "      <td>57.851876</td>\n",
       "      <td>57.837438</td>\n",
       "      <td>427.587620</td>\n",
       "    </tr>\n",
       "    <tr>\n",
       "      <th>std</th>\n",
       "      <td>264584.458487</td>\n",
       "      <td>370.923950</td>\n",
       "      <td>17.112474</td>\n",
       "      <td>17.200142</td>\n",
       "      <td>153.450988</td>\n",
       "    </tr>\n",
       "    <tr>\n",
       "      <th>min</th>\n",
       "      <td>4069.000000</td>\n",
       "      <td>1.000000</td>\n",
       "      <td>2.000000</td>\n",
       "      <td>2.000000</td>\n",
       "      <td>9.000000</td>\n",
       "    </tr>\n",
       "    <tr>\n",
       "      <th>25%</th>\n",
       "      <td>231082.500000</td>\n",
       "      <td>5.733333</td>\n",
       "      <td>50.000000</td>\n",
       "      <td>50.000000</td>\n",
       "      <td>334.000000</td>\n",
       "    </tr>\n",
       "    <tr>\n",
       "      <th>50%</th>\n",
       "      <td>459274.000000</td>\n",
       "      <td>8.616667</td>\n",
       "      <td>62.000000</td>\n",
       "      <td>62.000000</td>\n",
       "      <td>440.000000</td>\n",
       "    </tr>\n",
       "    <tr>\n",
       "      <th>75%</th>\n",
       "      <td>692601.000000</td>\n",
       "      <td>12.583333</td>\n",
       "      <td>70.000000</td>\n",
       "      <td>70.000000</td>\n",
       "      <td>546.000000</td>\n",
       "    </tr>\n",
       "    <tr>\n",
       "      <th>max</th>\n",
       "      <td>913460.000000</td>\n",
       "      <td>287840.000000</td>\n",
       "      <td>84.000000</td>\n",
       "      <td>84.000000</td>\n",
       "      <td>878.000000</td>\n",
       "    </tr>\n",
       "  </tbody>\n",
       "</table>\n",
       "</div>"
      ],
      "text/plain": [
       "                  id       duration  start_station_id  end_station_id  \\\n",
       "count  669959.000000  669959.000000     669959.000000   669959.000000   \n",
       "mean   460382.009899      18.465831         57.851876       57.837438   \n",
       "std    264584.458487     370.923950         17.112474       17.200142   \n",
       "min      4069.000000       1.000000          2.000000        2.000000   \n",
       "25%    231082.500000       5.733333         50.000000       50.000000   \n",
       "50%    459274.000000       8.616667         62.000000       62.000000   \n",
       "75%    692601.000000      12.583333         70.000000       70.000000   \n",
       "max    913460.000000  287840.000000         84.000000       84.000000   \n",
       "\n",
       "             bike_id  \n",
       "count  669959.000000  \n",
       "mean      427.587620  \n",
       "std       153.450988  \n",
       "min         9.000000  \n",
       "25%       334.000000  \n",
       "50%       440.000000  \n",
       "75%       546.000000  \n",
       "max       878.000000  "
      ]
     },
     "execution_count": 9,
     "metadata": {},
     "output_type": "execute_result"
    }
   ],
   "source": [
    "df.describe()"
   ]
  },
  {
   "cell_type": "markdown",
   "metadata": {
    "collapsed": true,
    "deletable": true,
    "editable": true
   },
   "source": [
    "Tenemos un mínimo de 1 minuto, lo que no va a ser considerado como viaje.\n",
    "y un máximo de 287840 lo que corresponde a 199.9 días.\n",
    "\n",
    "Por lo tanto vamos a graficar las duraciones por viaje para identificar valores outliers y luego recortar esos datos."
   ]
  },
  {
   "cell_type": "code",
   "execution_count": 9,
   "metadata": {
    "collapsed": false,
    "deletable": true,
    "editable": true,
    "scrolled": true
   },
   "outputs": [
    {
     "data": {
      "image/png": "[encoded data removed]",
      "text/plain": [
       "<matplotlib.figure.Figure at 0x7fcc39584790>"
      ]
     },
     "metadata": {},
     "output_type": "display_data"
    }
   ],
   "source": [
    "df.plot(x='start_date' , y = 'duration', style='o',figsize=(15,10))\n",
    "\n",
    "plt.show()"
   ]
  },
  {
   "cell_type": "markdown",
   "metadata": {
    "collapsed": true,
    "deletable": true,
    "editable": true
   },
   "source": [
    "Analizando el gráfico y los valores que se vieron en el resumen estadístico vamos a recortar aquellos viajes cuya duración sea menor a 370 minutos y mayor a 3 minutos."
   ]
  },
  {
   "cell_type": "code",
   "execution_count": 10,
   "metadata": {
    "collapsed": false,
    "deletable": true,
    "editable": true
   },
   "outputs": [
    {
     "data": {
      "image/png": "[encoded data removed]",
      "text/plain": [
       "<matplotlib.figure.Figure at 0x7fcc430dba10>"
      ]
     },
     "metadata": {},
     "output_type": "display_data"
    }
   ],
   "source": [
    "df = df[df.duration <= 370]\n",
    "df = df[df.duration >3]\n",
    "\n",
    "df.plot(x='start_date' , y = 'duration', style='o',figsize=(20,10))\n",
    "\n",
    "plt.show()"
   ]
  },
  {
   "cell_type": "markdown",
   "metadata": {
    "deletable": true,
    "editable": true
   },
   "source": [
    "Podemos ver una zona muy oscura entre los viajes de duración entre 3 y 50 minutos.\n",
    "\n",
    "Ahora vamos a analizar la cantidad de viajes contra los distintos días de la semana."
   ]
  },
  {
   "cell_type": "code",
   "execution_count": 11,
   "metadata": {
    "collapsed": false,
    "deletable": true,
    "editable": true,
    "scrolled": false
   },
   "outputs": [],
   "source": [
    "df['weekday'] =  pd.to_datetime(df['start_date']).dt.weekday_name"
   ]
  },
  {
   "cell_type": "code",
   "execution_count": 24,
   "metadata": {
    "collapsed": false,
    "deletable": true,
    "editable": true
   },
   "outputs": [
    {
     "data": {
      "application/vnd.plotly.v1+json": {
       "data": [
        {
         "type": "bar",
         "x": [
          "Tuesday",
          "Wednesday",
          "Thursday",
          "Monday",
          "Friday",
          "Saturday",
          "Sunday"
         ],
         "y": [
          117501,
          115416,
          114527,
          111330,
          105088,
          42870,
          36679
         ]
        }
       ],
       "layout": {
        "autosize": false,
        "height": 400,
        "title": "Number of weekday trip",
        "width": 600
       }
      },
      "text/html": [
       "<div id=\"54be5bde-aeb0-472d-9b29-a7202cedb16e\" style=\"height: 400px; width: 600px;\" class=\"plotly-graph-div\"></div><script type=\"text/javascript\">require([\"plotly\"], function(Plotly) { window.PLOTLYENV=window.PLOTLYENV || {};window.PLOTLYENV.BASE_URL=\"https://plot.ly\";Plotly.newPlot(\"54be5bde-aeb0-472d-9b29-a7202cedb16e\", [{\"y\": [117501, 115416, 114527, 111330, 105088, 42870, 36679], \"x\": [\"Tuesday\", \"Wednesday\", \"Thursday\", \"Monday\", \"Friday\", \"Saturday\", \"Sunday\"], \"type\": \"bar\"}], {\"width\": 600, \"autosize\": false, \"height\": 400, \"title\": \"Number of weekday trip\"}, {\"linkText\": \"Export to plot.ly\", \"showLink\": false})});</script>"
      ],
      "text/vnd.plotly.v1+html": [
       "<div id=\"54be5bde-aeb0-472d-9b29-a7202cedb16e\" style=\"height: 400px; width: 600px;\" class=\"plotly-graph-div\"></div><script type=\"text/javascript\">require([\"plotly\"], function(Plotly) { window.PLOTLYENV=window.PLOTLYENV || {};window.PLOTLYENV.BASE_URL=\"https://plot.ly\";Plotly.newPlot(\"54be5bde-aeb0-472d-9b29-a7202cedb16e\", [{\"y\": [117501, 115416, 114527, 111330, 105088, 42870, 36679], \"x\": [\"Tuesday\", \"Wednesday\", \"Thursday\", \"Monday\", \"Friday\", \"Saturday\", \"Sunday\"], \"type\": \"bar\"}], {\"width\": 600, \"autosize\": false, \"height\": 400, \"title\": \"Number of weekday trip\"}, {\"linkText\": \"Export to plot.ly\", \"showLink\": false})});</script>"
      ]
     },
     "metadata": {},
     "output_type": "display_data"
    }
   ],
   "source": [
    "# df.groupby('weekday').count()['start_date'].sort_values(ascending=False)[0:7].plot(kind='bar',figsize=(14,4));\n",
    "\n",
    "data = [Bar(x= list(df.groupby('weekday').count()['start_date'].sort_values(ascending=False).index),\n",
    "            y=list(df.groupby('weekday').count()['start_date'].sort_values(ascending=False)))]\n",
    "layout = go.Layout(autosize=False,width=600,height=400,\n",
    "    title='Number of weekday trip'\n",
    ")\n",
    "\n",
    "fig = go.Figure(data=data, layout=layout)\n",
    "iplot(fig,show_link=False)"
   ]
  },
  {
   "cell_type": "markdown",
   "metadata": {
    "deletable": true,
    "editable": true
   },
   "source": [
    "Vemos que los fines de semana se realiazaron notablemente menor cantidad de viajes.\n",
    "\n",
    "Podemos ahora analizar la duración promedio de los viajes para cada dia de semana"
   ]
  },
  {
   "cell_type": "code",
   "execution_count": 25,
   "metadata": {
    "collapsed": false,
    "deletable": true,
    "editable": true
   },
   "outputs": [
    {
     "data": {
      "application/vnd.plotly.v1+json": {
       "data": [
        {
         "type": "bar",
         "x": [
          "Sunday",
          "Saturday",
          "Friday",
          "Monday",
          "Thursday",
          "Wednesday",
          "Tuesday"
         ],
         "y": [
          29.74829466452197,
          27.886738978306703,
          13.398083193767716,
          12.152478217910678,
          12.109820828276193,
          11.733894780619654,
          11.55675767298419
         ]
        }
       ],
       "layout": {
        "autosize": false,
        "height": 400,
        "width": 600,
        "xaxis": {
         "title": "Weekday"
        },
        "yaxis": {
         "title": "Duration"
        }
       }
      },
      "text/html": [
       "<div id=\"9300b7d5-4afa-416b-a946-014dc094222a\" style=\"height: 400px; width: 600px;\" class=\"plotly-graph-div\"></div><script type=\"text/javascript\">require([\"plotly\"], function(Plotly) { window.PLOTLYENV=window.PLOTLYENV || {};window.PLOTLYENV.BASE_URL=\"https://plot.ly\";Plotly.newPlot(\"9300b7d5-4afa-416b-a946-014dc094222a\", [{\"y\": [29.74829466452197, 27.886738978306703, 13.398083193767716, 12.152478217910678, 12.109820828276193, 11.733894780619654, 11.55675767298419], \"x\": [\"Sunday\", \"Saturday\", \"Friday\", \"Monday\", \"Thursday\", \"Wednesday\", \"Tuesday\"], \"type\": \"bar\"}], {\"width\": 600, \"autosize\": false, \"height\": 400, \"xaxis\": {\"title\": \"Weekday\"}, \"yaxis\": {\"title\": \"Duration\"}}, {\"linkText\": \"Export to plot.ly\", \"showLink\": false})});</script>"
      ],
      "text/vnd.plotly.v1+html": [
       "<div id=\"9300b7d5-4afa-416b-a946-014dc094222a\" style=\"height: 400px; width: 600px;\" class=\"plotly-graph-div\"></div><script type=\"text/javascript\">require([\"plotly\"], function(Plotly) { window.PLOTLYENV=window.PLOTLYENV || {};window.PLOTLYENV.BASE_URL=\"https://plot.ly\";Plotly.newPlot(\"9300b7d5-4afa-416b-a946-014dc094222a\", [{\"y\": [29.74829466452197, 27.886738978306703, 13.398083193767716, 12.152478217910678, 12.109820828276193, 11.733894780619654, 11.55675767298419], \"x\": [\"Sunday\", \"Saturday\", \"Friday\", \"Monday\", \"Thursday\", \"Wednesday\", \"Tuesday\"], \"type\": \"bar\"}], {\"width\": 600, \"autosize\": false, \"height\": 400, \"xaxis\": {\"title\": \"Weekday\"}, \"yaxis\": {\"title\": \"Duration\"}}, {\"linkText\": \"Export to plot.ly\", \"showLink\": false})});</script>"
      ]
     },
     "metadata": {},
     "output_type": "display_data"
    }
   ],
   "source": [
    "# df.groupby('weekday').mean()['duration'].sort_values(ascending=False)[0:7].plot(kind='bar',figsize=(14,4));\n",
    "\n",
    "data = [Bar(x= list(df.groupby('weekday').mean()['duration'].sort_values(ascending=False).index),\n",
    "            y=list(df.groupby('weekday').mean()['duration'].sort_values(ascending=False)))]\n",
    "layout = go.Layout(autosize=False,width=600,height=400,\n",
    "    yaxis=dict(title='Duration'),\n",
    "    xaxis=dict(title='Weekday')\n",
    ")\n",
    "\n",
    "fig = go.Figure(data=data, layout=layout)\n",
    "iplot(fig,show_link=False)"
   ]
  },
  {
   "cell_type": "markdown",
   "metadata": {
    "deletable": true,
    "editable": true
   },
   "source": [
    "El último grafico nos muestra claramente que los fines de semana la duración de los viajes es mucho mayor que la de los días de semana.\n",
    "\n",
    "Ahora analizemos la cantidad de viajes según el mes: "
   ]
  },
  {
   "cell_type": "code",
   "execution_count": 26,
   "metadata": {
    "collapsed": true,
    "deletable": true,
    "editable": true
   },
   "outputs": [],
   "source": [
    "df['month'] =  pd.to_datetime(df['start_date']).dt.month"
   ]
  },
  {
   "cell_type": "code",
   "execution_count": 34,
   "metadata": {
    "collapsed": false,
    "deletable": true,
    "editable": true,
    "scrolled": true
   },
   "outputs": [
    {
     "data": {
      "application/vnd.plotly.v1+json": {
       "data": [
        {
         "type": "bar",
         "x": [
          1,
          2,
          3,
          4,
          5,
          6,
          7,
          8,
          9,
          10,
          11,
          12
         ],
         "y": [
          49997,
          43335,
          54107,
          55253,
          55649,
          59397,
          61399,
          62796,
          54927,
          60944,
          47787,
          37820
         ]
        }
       ],
       "layout": {
        "autosize": false,
        "height": 400,
        "title": "Number of trips by month",
        "width": 800,
        "xaxis": {
         "title": "month"
        }
       }
      },
      "text/html": [
       "<div id=\"a188b079-ea2a-4011-a028-d9cb769cb7b2\" style=\"height: 400px; width: 800px;\" class=\"plotly-graph-div\"></div><script type=\"text/javascript\">require([\"plotly\"], function(Plotly) { window.PLOTLYENV=window.PLOTLYENV || {};window.PLOTLYENV.BASE_URL=\"https://plot.ly\";Plotly.newPlot(\"a188b079-ea2a-4011-a028-d9cb769cb7b2\", [{\"y\": [49997, 43335, 54107, 55253, 55649, 59397, 61399, 62796, 54927, 60944, 47787, 37820], \"x\": [1, 2, 3, 4, 5, 6, 7, 8, 9, 10, 11, 12], \"type\": \"bar\"}], {\"width\": 800, \"autosize\": false, \"height\": 400, \"xaxis\": {\"title\": \"month\"}, \"title\": \"Number of trips by month\"}, {\"linkText\": \"Export to plot.ly\", \"showLink\": false})});</script>"
      ],
      "text/vnd.plotly.v1+html": [
       "<div id=\"a188b079-ea2a-4011-a028-d9cb769cb7b2\" style=\"height: 400px; width: 800px;\" class=\"plotly-graph-div\"></div><script type=\"text/javascript\">require([\"plotly\"], function(Plotly) { window.PLOTLYENV=window.PLOTLYENV || {};window.PLOTLYENV.BASE_URL=\"https://plot.ly\";Plotly.newPlot(\"a188b079-ea2a-4011-a028-d9cb769cb7b2\", [{\"y\": [49997, 43335, 54107, 55253, 55649, 59397, 61399, 62796, 54927, 60944, 47787, 37820], \"x\": [1, 2, 3, 4, 5, 6, 7, 8, 9, 10, 11, 12], \"type\": \"bar\"}], {\"width\": 800, \"autosize\": false, \"height\": 400, \"xaxis\": {\"title\": \"month\"}, \"title\": \"Number of trips by month\"}, {\"linkText\": \"Export to plot.ly\", \"showLink\": false})});</script>"
      ]
     },
     "metadata": {},
     "output_type": "display_data"
    }
   ],
   "source": [
    "#  df.groupby('month').count()['start_date'][0:12].plot(kind='bar',figsize=(13,5));\n",
    "\n",
    "data = [Bar(x= list(df.groupby('month').count()['start_date'].index),\n",
    "            y=list(df.groupby('month').count()['start_date']))]\n",
    "layout = go.Layout(autosize=False,width=800,height=400,\n",
    "    title='Number of trips by month',\n",
    "    xaxis=dict(title='month')\n",
    ")\n",
    "fig = go.Figure(data=data, layout=layout)\n",
    "iplot(fig,show_link=False)"
   ]
  },
  {
   "cell_type": "markdown",
   "metadata": {
    "deletable": true,
    "editable": true
   },
   "source": [
    "Ahora podríamos ver el clima según los meses para comprender mejor los resultados del gráfico anterior"
   ]
  },
  {
   "cell_type": "code",
   "execution_count": 35,
   "metadata": {
    "collapsed": false,
    "deletable": true,
    "editable": true,
    "slideshow": {
     "slide_type": "fragment"
    }
   },
   "outputs": [
    {
     "data": {
      "text/html": [
       "<div>\n",
       "<table border=\"1\" class=\"dataframe\">\n",
       "  <thead>\n",
       "    <tr style=\"text-align: right;\">\n",
       "      <th></th>\n",
       "      <th>date</th>\n",
       "      <th>max_temperature_f</th>\n",
       "      <th>mean_temperature_f</th>\n",
       "      <th>min_temperature_f</th>\n",
       "      <th>max_dew_point_f</th>\n",
       "      <th>mean_dew_point_f</th>\n",
       "      <th>min_dew_point_f</th>\n",
       "      <th>max_humidity</th>\n",
       "      <th>mean_humidity</th>\n",
       "      <th>min_humidity</th>\n",
       "      <th>...</th>\n",
       "      <th>min_visibility_miles</th>\n",
       "      <th>max_wind_Speed_mph</th>\n",
       "      <th>mean_wind_speed_mph</th>\n",
       "      <th>max_gust_speed_mph</th>\n",
       "      <th>precipitation_inches</th>\n",
       "      <th>cloud_cover</th>\n",
       "      <th>events</th>\n",
       "      <th>wind_dir_degrees</th>\n",
       "      <th>zip_code</th>\n",
       "      <th>month</th>\n",
       "    </tr>\n",
       "  </thead>\n",
       "  <tbody>\n",
       "    <tr>\n",
       "      <th>0</th>\n",
       "      <td>8/29/2013</td>\n",
       "      <td>74.0</td>\n",
       "      <td>68.0</td>\n",
       "      <td>61.0</td>\n",
       "      <td>61.0</td>\n",
       "      <td>58.0</td>\n",
       "      <td>56.0</td>\n",
       "      <td>93.0</td>\n",
       "      <td>75.0</td>\n",
       "      <td>57.0</td>\n",
       "      <td>...</td>\n",
       "      <td>10.0</td>\n",
       "      <td>23.0</td>\n",
       "      <td>11.0</td>\n",
       "      <td>28.0</td>\n",
       "      <td>0</td>\n",
       "      <td>4.0</td>\n",
       "      <td>NaN</td>\n",
       "      <td>286.0</td>\n",
       "      <td>94107</td>\n",
       "      <td>8</td>\n",
       "    </tr>\n",
       "    <tr>\n",
       "      <th>1</th>\n",
       "      <td>8/30/2013</td>\n",
       "      <td>78.0</td>\n",
       "      <td>69.0</td>\n",
       "      <td>60.0</td>\n",
       "      <td>61.0</td>\n",
       "      <td>58.0</td>\n",
       "      <td>56.0</td>\n",
       "      <td>90.0</td>\n",
       "      <td>70.0</td>\n",
       "      <td>50.0</td>\n",
       "      <td>...</td>\n",
       "      <td>7.0</td>\n",
       "      <td>29.0</td>\n",
       "      <td>13.0</td>\n",
       "      <td>35.0</td>\n",
       "      <td>0</td>\n",
       "      <td>2.0</td>\n",
       "      <td>NaN</td>\n",
       "      <td>291.0</td>\n",
       "      <td>94107</td>\n",
       "      <td>8</td>\n",
       "    </tr>\n",
       "    <tr>\n",
       "      <th>2</th>\n",
       "      <td>8/31/2013</td>\n",
       "      <td>71.0</td>\n",
       "      <td>64.0</td>\n",
       "      <td>57.0</td>\n",
       "      <td>57.0</td>\n",
       "      <td>56.0</td>\n",
       "      <td>54.0</td>\n",
       "      <td>93.0</td>\n",
       "      <td>75.0</td>\n",
       "      <td>57.0</td>\n",
       "      <td>...</td>\n",
       "      <td>10.0</td>\n",
       "      <td>26.0</td>\n",
       "      <td>15.0</td>\n",
       "      <td>31.0</td>\n",
       "      <td>0</td>\n",
       "      <td>4.0</td>\n",
       "      <td>NaN</td>\n",
       "      <td>284.0</td>\n",
       "      <td>94107</td>\n",
       "      <td>8</td>\n",
       "    </tr>\n",
       "    <tr>\n",
       "      <th>3</th>\n",
       "      <td>9/1/2013</td>\n",
       "      <td>74.0</td>\n",
       "      <td>66.0</td>\n",
       "      <td>58.0</td>\n",
       "      <td>60.0</td>\n",
       "      <td>56.0</td>\n",
       "      <td>53.0</td>\n",
       "      <td>87.0</td>\n",
       "      <td>68.0</td>\n",
       "      <td>49.0</td>\n",
       "      <td>...</td>\n",
       "      <td>10.0</td>\n",
       "      <td>25.0</td>\n",
       "      <td>13.0</td>\n",
       "      <td>29.0</td>\n",
       "      <td>0</td>\n",
       "      <td>4.0</td>\n",
       "      <td>NaN</td>\n",
       "      <td>284.0</td>\n",
       "      <td>94107</td>\n",
       "      <td>9</td>\n",
       "    </tr>\n",
       "    <tr>\n",
       "      <th>4</th>\n",
       "      <td>9/2/2013</td>\n",
       "      <td>75.0</td>\n",
       "      <td>69.0</td>\n",
       "      <td>62.0</td>\n",
       "      <td>61.0</td>\n",
       "      <td>60.0</td>\n",
       "      <td>58.0</td>\n",
       "      <td>93.0</td>\n",
       "      <td>77.0</td>\n",
       "      <td>61.0</td>\n",
       "      <td>...</td>\n",
       "      <td>6.0</td>\n",
       "      <td>23.0</td>\n",
       "      <td>12.0</td>\n",
       "      <td>30.0</td>\n",
       "      <td>0</td>\n",
       "      <td>6.0</td>\n",
       "      <td>NaN</td>\n",
       "      <td>277.0</td>\n",
       "      <td>94107</td>\n",
       "      <td>9</td>\n",
       "    </tr>\n",
       "  </tbody>\n",
       "</table>\n",
       "<p>5 rows × 25 columns</p>\n",
       "</div>"
      ],
      "text/plain": [
       "        date  max_temperature_f  mean_temperature_f  min_temperature_f  \\\n",
       "0  8/29/2013               74.0                68.0               61.0   \n",
       "1  8/30/2013               78.0                69.0               60.0   \n",
       "2  8/31/2013               71.0                64.0               57.0   \n",
       "3   9/1/2013               74.0                66.0               58.0   \n",
       "4   9/2/2013               75.0                69.0               62.0   \n",
       "\n",
       "   max_dew_point_f  mean_dew_point_f  min_dew_point_f  max_humidity  \\\n",
       "0             61.0              58.0             56.0          93.0   \n",
       "1             61.0              58.0             56.0          90.0   \n",
       "2             57.0              56.0             54.0          93.0   \n",
       "3             60.0              56.0             53.0          87.0   \n",
       "4             61.0              60.0             58.0          93.0   \n",
       "\n",
       "   mean_humidity  min_humidity  ...   min_visibility_miles  \\\n",
       "0           75.0          57.0  ...                   10.0   \n",
       "1           70.0          50.0  ...                    7.0   \n",
       "2           75.0          57.0  ...                   10.0   \n",
       "3           68.0          49.0  ...                   10.0   \n",
       "4           77.0          61.0  ...                    6.0   \n",
       "\n",
       "   max_wind_Speed_mph  mean_wind_speed_mph  max_gust_speed_mph  \\\n",
       "0                23.0                 11.0                28.0   \n",
       "1                29.0                 13.0                35.0   \n",
       "2                26.0                 15.0                31.0   \n",
       "3                25.0                 13.0                29.0   \n",
       "4                23.0                 12.0                30.0   \n",
       "\n",
       "   precipitation_inches  cloud_cover  events  wind_dir_degrees  zip_code month  \n",
       "0                     0          4.0     NaN             286.0     94107     8  \n",
       "1                     0          2.0     NaN             291.0     94107     8  \n",
       "2                     0          4.0     NaN             284.0     94107     8  \n",
       "3                     0          4.0     NaN             284.0     94107     9  \n",
       "4                     0          6.0     NaN             277.0     94107     9  \n",
       "\n",
       "[5 rows x 25 columns]"
      ]
     },
     "execution_count": 35,
     "metadata": {},
     "output_type": "execute_result"
    }
   ],
   "source": [
    "weather = pd.read_csv(\"Data/weather.csv\")\n",
    "weather['month'] =  pd.to_datetime(weather['date']).dt.month\n",
    "weather.head()"
   ]
  },
  {
   "cell_type": "code",
   "execution_count": 37,
   "metadata": {
    "collapsed": false,
    "deletable": true,
    "editable": true,
    "scrolled": true
   },
   "outputs": [
    {
     "data": {
      "application/vnd.plotly.v1+json": {
       "data": [
        {
         "type": "scatter",
         "x": [
          1,
          2,
          3,
          4,
          5,
          6,
          7,
          8,
          9,
          10,
          11,
          12
         ],
         "y": [
          52.80967741935484,
          56.135714285714286,
          59.71935483870968,
          59.913333333333334,
          62.244299674267104,
          66.34666666666666,
          69.23870967741935,
          69.56172839506173,
          67.73,
          63.229032258064514,
          56.94,
          51.62903225806452
         ]
        }
       ],
       "layout": {
        "autosize": false,
        "height": 500,
        "width": 800,
        "xaxis": {
         "title": "month"
        },
        "yaxis": {
         "title": "mean temperature"
        }
       }
      },
      "text/html": [
       "<div id=\"80bb9d80-8fee-4159-89d4-d9b250d9c571\" style=\"height: 500px; width: 800px;\" class=\"plotly-graph-div\"></div><script type=\"text/javascript\">require([\"plotly\"], function(Plotly) { window.PLOTLYENV=window.PLOTLYENV || {};window.PLOTLYENV.BASE_URL=\"https://plot.ly\";Plotly.newPlot(\"80bb9d80-8fee-4159-89d4-d9b250d9c571\", [{\"y\": [52.80967741935484, 56.135714285714286, 59.71935483870968, 59.913333333333334, 62.244299674267104, 66.34666666666666, 69.23870967741935, 69.56172839506173, 67.73, 63.229032258064514, 56.94, 51.62903225806452], \"x\": [1, 2, 3, 4, 5, 6, 7, 8, 9, 10, 11, 12], \"type\": \"scatter\"}], {\"width\": 800, \"autosize\": false, \"yaxis\": {\"title\": \"mean temperature\"}, \"xaxis\": {\"title\": \"month\"}, \"height\": 500}, {\"linkText\": \"Export to plot.ly\", \"showLink\": false})});</script>"
      ],
      "text/vnd.plotly.v1+html": [
       "<div id=\"80bb9d80-8fee-4159-89d4-d9b250d9c571\" style=\"height: 500px; width: 800px;\" class=\"plotly-graph-div\"></div><script type=\"text/javascript\">require([\"plotly\"], function(Plotly) { window.PLOTLYENV=window.PLOTLYENV || {};window.PLOTLYENV.BASE_URL=\"https://plot.ly\";Plotly.newPlot(\"80bb9d80-8fee-4159-89d4-d9b250d9c571\", [{\"y\": [52.80967741935484, 56.135714285714286, 59.71935483870968, 59.913333333333334, 62.244299674267104, 66.34666666666666, 69.23870967741935, 69.56172839506173, 67.73, 63.229032258064514, 56.94, 51.62903225806452], \"x\": [1, 2, 3, 4, 5, 6, 7, 8, 9, 10, 11, 12], \"type\": \"scatter\"}], {\"width\": 800, \"autosize\": false, \"yaxis\": {\"title\": \"mean temperature\"}, \"xaxis\": {\"title\": \"month\"}, \"height\": 500}, {\"linkText\": \"Export to plot.ly\", \"showLink\": false})});</script>"
      ]
     },
     "metadata": {},
     "output_type": "display_data"
    }
   ],
   "source": [
    "# weather.groupby('month').mean()['mean_temperature_f'][0:20].plot(kind='line',style='r',figsize=(15,5));\n",
    "data = [\n",
    "    go.Scatter(\n",
    "        x=list(weather.groupby('month').mean()['mean_temperature_f'].index),\n",
    "        y=list(weather.groupby('month').mean()['mean_temperature_f'])\n",
    "    )\n",
    "]\n",
    "layout = go.Layout(\n",
    "    yaxis=dict(title='mean temperature'),\n",
    "    xaxis=dict(title='month'),\n",
    "    autosize=False,width=800,height=500,\n",
    ")\n",
    "fig = go.Figure(data=data, layout=layout)\n",
    "iplot(fig,show_link=False)"
   ]
  },
  {
   "cell_type": "markdown",
   "metadata": {
    "deletable": true,
    "editable": true
   },
   "source": [
    "Vemos que el promedio de temperaturas más altas se registra entre los meses de junio y octubre, lo que coincide con el incremento en la cantidad de viajes en esos meses, de todos modos no explicaría el pico de enero. \n",
    "Lo que si podria explicarlo son los dias de vacaciones, pasamos a analizar esto último."
   ]
  },
  {
   "cell_type": "code",
   "execution_count": null,
   "metadata": {
    "collapsed": false,
    "deletable": true,
    "editable": true,
    "scrolled": true
   },
   "outputs": [],
   "source": [
    "calendar = USFederalHolidayCalendar()\n",
    "holidays = calendar.holidays(start=df.start_date.min(), end=df.start_date.max())\n",
    "\n",
    "# #Find all of the business days in our time span\n",
    "us_bd = CustomBusinessDay(calendar=USFederalHolidayCalendar())\n",
    "business_days = pd.DatetimeIndex(start=df.start_date.min(), end=df.start_date.max(), freq=us_bd)\n",
    "\n",
    "business_days = pd.to_datetime(business_days, format='%Y/%m/%d').date\n",
    "holidays = pd.to_datetime(holidays, format='%Y/%m/%d').date\n",
    "\n",
    "# #A 'business_day' or 'holiday' is a date within either of the respected lists.\n",
    "df['business_day'] = df.start_date.isin(business_days)\n",
    "df['holiday'] = df.start_date.isin(holidays)\n",
    "\n",
    "\n",
    "# fig, ax = plt.subplots()\n",
    "\n",
    "# colors = {False:'red', True:'green'}\n",
    "\n",
    "\n",
    "# fig.set_size_inches(18, 10)\n",
    "# plt.scatter(df.id, df.duration, c=df.holiday.map(colors))\n",
    "# plt.show()\n",
    "\n",
    "\n"
   ]
  },
  {
   "cell_type": "code",
   "execution_count": 41,
   "metadata": {
    "collapsed": false,
    "deletable": true,
    "editable": true,
    "scrolled": false
   },
   "outputs": [
    {
     "name": "stdout",
     "output_type": "stream",
     "text": [
      "['Subscriber' 'Customer']\n"
     ]
    }
   ],
   "source": [
    "print df.subscription_type.unique()"
   ]
  },
  {
   "cell_type": "markdown",
   "metadata": {
    "deletable": true,
    "editable": true
   },
   "source": [
    "Los subcriptores pagan anualmente el servicio y pueden tomar una bicicleta en cualquier momento.\n",
    "Los clientes son aquellos que pagan para poder usar el servicio por un tiempo acotado, entre 24 o 72 horas"
   ]
  },
  {
   "cell_type": "code",
   "execution_count": null,
   "metadata": {
    "collapsed": false,
    "deletable": true,
    "editable": true
   },
   "outputs": [],
   "source": [
    "subsTrips = df.loc[df.subscription_type=='Subscriber',:]"
   ]
  },
  {
   "cell_type": "code",
   "execution_count": null,
   "metadata": {
    "collapsed": true,
    "deletable": true,
    "editable": true
   },
   "outputs": [],
   "source": [
    "customTrips = df.loc[df.subscription_type=='Customer',:]"
   ]
  },
  {
   "cell_type": "markdown",
   "metadata": {
    "deletable": true,
    "editable": true
   },
   "source": [
    "Analisis de la cantidad de viajes semanales para los subscriptores y cluentes"
   ]
  },
  {
   "cell_type": "code",
   "execution_count": null,
   "metadata": {
    "collapsed": true,
    "deletable": true,
    "editable": true
   },
   "outputs": [],
   "source": [
    "trace1 = go.Scatter(x= list(subsTrips.groupby('weekday').count()['start_date'].index),\n",
    "            y=list(subsTrips.groupby('weekday').count()['start_date'])\n",
    "                   name = 'Number of Subscribers Trips by Weekday '\n",
    "                  )\n",
    "trace2 = go.Scatter(x= list(customTrips.groupby('weekday').count()['start_date'].index),\n",
    "            y=list(customTrips.groupby('weekday').count()['start_date'])\\\n",
    "                  name = 'Number of Customers Trips by Weekday ')\n",
    "\n",
    "data = [trace1,trace2]\n",
    "# fig = dict(data=data)\n",
    "layout = dict(y=0.5,\n",
    "        traceorder = 'reversed',\n",
    "        font = dict(\n",
    "        size = 16)\n",
    "        )\n",
    "    \n",
    "fig = dict(data=data, layout=layout)    \n",
    "iplot(fig,show_link=False)\n"
   ]
  },
  {
   "cell_type": "markdown",
   "metadata": {
    "deletable": true,
    "editable": true
   },
   "source": [
    "Duracion promedio de los viajes subs vs custom"
   ]
  },
  {
   "cell_type": "code",
   "execution_count": null,
   "metadata": {
    "collapsed": true,
    "deletable": true,
    "editable": true
   },
   "outputs": [],
   "source": [
    "trace1 = go.Scatter(x= list(subsTrips.groupby('weekday').count()['duration'].index),\n",
    "                    y=list(subsTrips.groupby('weekday').count()['duration'])\n",
    "                    name = 'Subscribers Trips Duration'\n",
    "                  )\n",
    "trace2 = go.Scatter(x= list(customTrips.groupby('weekday').count()['start_date'].index),\n",
    "            y=list(customTrips.groupby('weekday').count()['start_date'])\\\n",
    "                  name = 'Customers Trips Duration')\n",
    "\n",
    "data = [trace1,trace2]\n",
    "# fig = dict(data=data)\n",
    "layout = dict(y=0.5,\n",
    "        traceorder = 'reversed',\n",
    "        font = dict(\n",
    "        size = 16)\n",
    "        )\n",
    "    \n",
    "fig = dict(data=data, layout=layout)    \n",
    "iplot(fig,show_link=False)"
   ]
  },
  {
   "cell_type": "markdown",
   "metadata": {
    "deletable": true,
    "editable": true
   },
   "source": [
    "Ver la frecuecia de viajes a lo largo del dia y dependiendo cual dia de la semana.\n",
    "\n",
    "- cantidad de viajes workday a lo largo de las 24hs del dia\n",
    "- cantidad de viajes weekend a lo largo de las 24hs del dia"
   ]
  },
  {
   "cell_type": "code",
   "execution_count": null,
   "metadata": {
    "collapsed": true,
    "deletable": true,
    "editable": true
   },
   "outputs": [],
   "source": [
    "df.head()"
   ]
  },
  {
   "cell_type": "code",
   "execution_count": 7,
   "metadata": {
    "collapsed": false,
    "deletable": true,
    "editable": true,
    "scrolled": false
   },
   "outputs": [
    {
     "data": {
      "text/plain": [
       "<matplotlib.axes._subplots.AxesSubplot at 0x7fe4ce6329d0>"
      ]
     },
     "execution_count": 7,
     "metadata": {},
     "output_type": "execute_result"
    },
    {
     "data": {
      "image/png": "[encoded data removed]",
      "text/plain": [
       "<matplotlib.figure.Figure at 0x7fe4c3329550>"
      ]
     },
     "metadata": {},
     "output_type": "display_data"
    }
   ],
   "source": [
    "df['hour'] =  pd.to_datetime(df['start_date']).dt.hour\n",
    "df.groupby('hour').count()['duration'][0:24].plot(kind='line',figsize=(13,6))\n",
    "\n",
    "# plt.figure()\n",
    "# df.loc[df.subscription_type.contains('Subscriber'),\\\n",
    "#                  ['','world_rank','year']].groupby('year').mean()\\\n",
    "#                  .loc[:,'world_rank'].plot(rot=90,xticks=range(2011,2016), \\\n",
    "#                  linewidth=2,figsize=(12,8),label='United States');\n",
    "# timesRanking.loc[timesRanking.country.str.contains('Switzerland'),\\\n",
    "#                  ['university_name','world_rank','year']].groupby('year').mean()\\\n",
    "#                  .loc[:,'world_rank'].plot(rot=90,xticks=range(2011,2016), \\\n",
    "#                  linewidth=2,label='Switzerland');\n",
    "# plt.legend();"
   ]
  },
  {
   "cell_type": "markdown",
   "metadata": {
    "collapsed": true,
    "deletable": true,
    "editable": true
   },
   "source": [
    "Heat map, showing the same information than before, the darker, the stronger is the relationship. "
   ]
  },
  {
   "cell_type": "code",
   "execution_count": 27,
   "metadata": {
    "collapsed": false,
    "deletable": true,
    "editable": true
   },
   "outputs": [
    {
     "ename": "IndexError",
     "evalue": "index 7 is out of bounds for axis 0 with size 7",
     "output_type": "error",
     "traceback": [
      "\u001b[0;31m---------------------------------------------------------------------------\u001b[0m",
      "\u001b[0;31mIndexError\u001b[0m                                Traceback (most recent call last)",
      "\u001b[0;32m<ipython-input-27-7db2d0f63887>\u001b[0m in \u001b[0;36m<module>\u001b[0;34m()\u001b[0m\n\u001b[1;32m      1\u001b[0m \u001b[0mfig\u001b[0m\u001b[0;34m,\u001b[0m \u001b[0max\u001b[0m \u001b[0;34m=\u001b[0m \u001b[0mplt\u001b[0m\u001b[0;34m.\u001b[0m\u001b[0msubplots\u001b[0m\u001b[0;34m(\u001b[0m\u001b[0mfigsize\u001b[0m\u001b[0;34m=\u001b[0m\u001b[0;34m(\u001b[0m\u001b[0;36m16\u001b[0m\u001b[0;34m,\u001b[0m\u001b[0;36m5\u001b[0m\u001b[0;34m)\u001b[0m\u001b[0;34m)\u001b[0m\u001b[0;34m;\u001b[0m        \u001b[0;31m# Sample figsize in inches\u001b[0m\u001b[0;34m\u001b[0m\u001b[0m\n\u001b[1;32m      2\u001b[0m \u001b[0mcor\u001b[0m \u001b[0;34m=\u001b[0m \u001b[0mdf\u001b[0m\u001b[0;34m.\u001b[0m\u001b[0mloc\u001b[0m\u001b[0;34m[\u001b[0m\u001b[0;34m:\u001b[0m\u001b[0;34m,\u001b[0m\u001b[0;34m[\u001b[0m\u001b[0;34m'duration'\u001b[0m\u001b[0;34m,\u001b[0m\u001b[0;34m'start_station_id'\u001b[0m\u001b[0;34m,\u001b[0m\u001b[0;34m'end_station_id'\u001b[0m\u001b[0;34m,\u001b[0m\u001b[0;34m'bike_id'\u001b[0m\u001b[0;34m,\u001b[0m \u001b[0;34m'zip_code'\u001b[0m\u001b[0;34m,\u001b[0m\u001b[0;34m'year'\u001b[0m\u001b[0;34m,\u001b[0m\u001b[0;34m'month'\u001b[0m\u001b[0;34m,\u001b[0m\u001b[0;34m'weekday'\u001b[0m\u001b[0;34m,\u001b[0m\u001b[0;34m'hour'\u001b[0m\u001b[0;34m]\u001b[0m\u001b[0;34m]\u001b[0m        \u001b[0;34m.\u001b[0m\u001b[0mcorr\u001b[0m\u001b[0;34m(\u001b[0m\u001b[0;34m)\u001b[0m\u001b[0;34m.\u001b[0m\u001b[0mabs\u001b[0m\u001b[0;34m(\u001b[0m\u001b[0;34m)\u001b[0m\u001b[0;34m\u001b[0m\u001b[0m\n\u001b[0;32m----> 3\u001b[0;31m \u001b[0mcor\u001b[0m\u001b[0;34m.\u001b[0m\u001b[0mvalues\u001b[0m\u001b[0;34m[\u001b[0m\u001b[0;34m[\u001b[0m\u001b[0mnp\u001b[0m\u001b[0;34m.\u001b[0m\u001b[0marange\u001b[0m\u001b[0;34m(\u001b[0m\u001b[0;36m8\u001b[0m\u001b[0;34m)\u001b[0m\u001b[0;34m]\u001b[0m\u001b[0;34m*\u001b[0m\u001b[0;36m2\u001b[0m\u001b[0;34m]\u001b[0m \u001b[0;34m=\u001b[0m \u001b[0;36m0\u001b[0m\u001b[0;34m\u001b[0m\u001b[0m\n\u001b[0m\u001b[1;32m      4\u001b[0m \u001b[0msns\u001b[0m\u001b[0;34m.\u001b[0m\u001b[0mheatmap\u001b[0m\u001b[0;34m(\u001b[0m\u001b[0mcor\u001b[0m\u001b[0;34m,\u001b[0m\u001b[0mcmap\u001b[0m\u001b[0;34m=\u001b[0m\u001b[0;34m'Oranges'\u001b[0m\u001b[0;34m)\u001b[0m\u001b[0;34m;\u001b[0m\u001b[0;34m\u001b[0m\u001b[0m\n",
      "\u001b[0;31mIndexError\u001b[0m: index 7 is out of bounds for axis 0 with size 7"
     ]
    },
    {
     "data": {
      "image/png": "[encoded data removed]",
      "text/plain": [
       "<matplotlib.figure.Figure at 0x7fcc4314b110>"
      ]
     },
     "metadata": {},
     "output_type": "display_data"
    }
   ],
   "source": [
    "fig, ax = plt.subplots(figsize=(16,5));        # Sample figsize in inches\n",
    "cor = df.loc[:,['duration','start_station_id','end_station_id','bike_id', 'zip_code','year','month','weekday','hour']]\\\n",
    "        .corr().abs()\n",
    "cor.values[[np.arange(8)]*2] = 0\n",
    "sns.heatmap(cor,cmap='Oranges');"
   ]
  },
  {
   "cell_type": "code",
   "execution_count": null,
   "metadata": {
    "collapsed": true
   },
   "outputs": [],
   "source": []
  }
 ],
 "metadata": {
  "celltoolbar": "Raw Cell Format",
  "kernelspec": {
   "display_name": "pySpark",
   "language": "python",
   "name": "santi"
  },
  "language_info": {
   "codemirror_mode": {
    "name": "ipython",
    "version": 2
   },
   "file_extension": ".py",
   "mimetype": "text/x-python",
   "name": "python",
   "nbconvert_exporter": "python",
   "pygments_lexer": "ipython2",
   "version": "2.7.12"
  }
 },
 "nbformat": 4,
 "nbformat_minor": 2
}
