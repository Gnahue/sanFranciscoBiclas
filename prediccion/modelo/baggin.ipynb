{
 "cells": [
  {
   "cell_type": "code",
   "execution_count": 24,
   "metadata": {
    "collapsed": true
   },
   "outputs": [],
   "source": [
    "import dataImport as dataI\n",
    "from random import seed\n",
    "from random import random\n",
    "from random import randrange\n"
   ]
  },
  {
   "cell_type": "code",
   "execution_count": 25,
   "metadata": {
    "collapsed": false
   },
   "outputs": [],
   "source": [
    "(train,test) = dataI.dataImport()"
   ]
  },
  {
   "cell_type": "code",
   "execution_count": 83,
   "metadata": {
    "collapsed": false
   },
   "outputs": [],
   "source": [
    "#Obtiene un sample del set de datos\n",
    "\n",
    "\n",
    "def subsample(train,n_sample):    \n",
    "    return train.sample(n_sample)\n",
    "\n",
    "\n",
    "#devuelve el nodo raiz del arbol\n",
    "def build_regression_tree(data_set):\n",
    "    root = 1 \n",
    "    return root"
   ]
  },
  {
   "cell_type": "code",
   "execution_count": 86,
   "metadata": {
    "collapsed": false
   },
   "outputs": [],
   "source": [
    "\n",
    "#funcion para entrenar el algortimo. Devuelve una lista con las raices de los árboles\n",
    "#data_set (training set)\n",
    "#n_tree (cantidad de arboles)\n",
    "def bagginTrain(data_set,n_tree):\n",
    "    #obtengo en cuantos samples voy a dividir el train \n",
    "    n_train_sample = int(len(train)/n_tree)\n",
    "    \n",
    "    trees = list()   \n",
    "    for tree in range(n_tree):\n",
    "        trees.append(build_regression_tree(subsample(train,n_train_sample)))\n",
    "    return trees\n",
    "\n",
    "#funcion que corre el test. Devuelve el set de datos (id,duration)\n",
    "def bagginTest(test):    \n",
    "    prediction = 0\n",
    "    return prediction"
   ]
  },
  {
   "cell_type": "code",
   "execution_count": null,
   "metadata": {
    "collapsed": true
   },
   "outputs": [],
   "source": []
  },
  {
   "cell_type": "code",
   "execution_count": 90,
   "metadata": {
    "collapsed": false
   },
   "outputs": [
    {
     "data": {
      "text/plain": [
       "[1, 1, 1, 1, 1, 1, 1, 1, 1, 1]"
      ]
     },
     "execution_count": 90,
     "metadata": {},
     "output_type": "execute_result"
    }
   ],
   "source": [
    "bagginTrain(train,10)\n"
   ]
  },
  {
   "cell_type": "code",
   "execution_count": 89,
   "metadata": {
    "collapsed": false
   },
   "outputs": [
    {
     "data": {
      "text/plain": [
       "0"
      ]
     },
     "execution_count": 89,
     "metadata": {},
     "output_type": "execute_result"
    }
   ],
   "source": [
    "bagginTest(test)"
   ]
  },
  {
   "cell_type": "code",
   "execution_count": null,
   "metadata": {
    "collapsed": true
   },
   "outputs": [],
   "source": []
  }
 ],
 "metadata": {
  "kernelspec": {
   "display_name": "Python 3",
   "language": "python",
   "name": "python3"
  },
  "language_info": {
   "codemirror_mode": {
    "name": "ipython",
    "version": 3
   },
   "file_extension": ".py",
   "mimetype": "text/x-python",
   "name": "python",
   "nbconvert_exporter": "python",
   "pygments_lexer": "ipython3",
   "version": "3.6.0"
  }
 },
 "nbformat": 4,
 "nbformat_minor": 2
}
