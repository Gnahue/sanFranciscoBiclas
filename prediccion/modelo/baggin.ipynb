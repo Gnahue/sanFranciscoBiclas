{
 "cells": [
  {
   "cell_type": "code",
   "execution_count": 141,
   "metadata": {
    "collapsed": true
   },
   "outputs": [],
   "source": [
    "import dataImport as dataI\n",
    "from random import seed\n",
    "from random import random\n",
    "from random import randrange\n"
   ]
  },
  {
   "cell_type": "code",
   "execution_count": 142,
   "metadata": {
    "collapsed": false
   },
   "outputs": [],
   "source": [
    "(train,test) = dataI.dataImport()"
   ]
  },
  {
   "cell_type": "code",
   "execution_count": 163,
   "metadata": {
    "collapsed": false
   },
   "outputs": [],
   "source": [
    "#Obtiene un sample del set de datos\n",
    "\n",
    "def subsample(train,n_sample):    \n",
    "    return train.sample(n_sample)\n",
    "\n",
    "def get_split():\n",
    "    #aca deberia hacer el primer split \n",
    "    return {'index':b_index, 'value':b_value, 'groups':b_groups}\n",
    "\n",
    "#devuelve el nodo raiz del arbol\n",
    "def build_regression_tree(data_set):\n",
    "    root = get_split(train)\n",
    "    return root"
   ]
  },
  {
   "cell_type": "code",
   "execution_count": 162,
   "metadata": {
    "collapsed": false
   },
   "outputs": [],
   "source": [
    "\n",
    "#funcion para entrenar el algortimo. Devuelve una lista con las raices de los árboles\n",
    "#data_set (training set)\n",
    "#n_tree (cantidad de arboles)\n",
    "def bagginTrain(data_set,n_tree):\n",
    "    #obtengo en cuantos samples voy a dividir el train \n",
    "    n_train_sample = int(len(train)/n_tree)\n",
    "    \n",
    "    trees = list()   \n",
    "    for tree in range(n_tree):\n",
    "        trees.append(build_regression_tree(subsample(train,n_train_sample)))\n",
    "    return trees\n",
    "\n",
    "#funcion que corre el test. Devuelve el set de datos (id,duration)\n",
    "def bagginTest(trees,test):    \n",
    "    for row in test:\n",
    "        for tree in trees:\n",
    "            print ('recorrer arbol')\n",
    "    prediction = 0\n",
    "    return prediction"
   ]
  },
  {
   "cell_type": "code",
   "execution_count": null,
   "metadata": {
    "collapsed": false
   },
   "outputs": [],
   "source": [
    "bagginTrain(train,10)\n"
   ]
  },
  {
   "cell_type": "code",
   "execution_count": null,
   "metadata": {
    "collapsed": false
   },
   "outputs": [],
   "source": [
    "bagginTest(test)"
   ]
  },
  {
   "cell_type": "code",
   "execution_count": 146,
   "metadata": {
    "collapsed": false
   },
   "outputs": [],
   "source": [
    "def load_csv(train):\n",
    "    dataset = list()\n",
    "    for i in range(len(train)):\n",
    "        for row in train:\n",
    "            if not row:\n",
    "                continue\n",
    "            dataset.append(row)\n",
    "    return dataset\n"
   ]
  },
  {
   "cell_type": "code",
   "execution_count": null,
   "metadata": {
    "collapsed": false
   },
   "outputs": [],
   "source": [
    "\n",
    "def str_column_to_int(dataset, column):\n",
    "    class_values = [row[column] for row in dataset]\n",
    "    unique = set(class_values)\n",
    "    lookup = dict()\n",
    "    for i, value in enumerate(unique):\n",
    "        lookup[value] = i\n",
    "    for row in dataset:\n",
    "        row[column] = lookup[row[column]]\n",
    "    return lookup\n",
    "\n",
    "# Convert string column to float\n",
    "def str_column_to_float(dataset, column):\n",
    "    for row in dataset:\n",
    "        row[column] = float(row[column].strip())\n",
    "        \n",
    "\n"
   ]
  },
  {
   "cell_type": "code",
   "execution_count": 161,
   "metadata": {
    "collapsed": false
   },
   "outputs": [
    {
     "name": "stdout",
     "output_type": "stream",
     "text": [
      "549961\n",
      "3849727\n"
     ]
    }
   ],
   "source": [
    "\n",
    "dataset = load_csv(train)\n",
    "print (len(train))\n",
    "print (len(dataset))\n",
    "# evaluate algorithm"
   ]
  },
  {
   "cell_type": "code",
   "execution_count": null,
   "metadata": {
    "collapsed": false
   },
   "outputs": [],
   "source": []
  }
 ],
 "metadata": {
  "kernelspec": {
   "display_name": "Python 3",
   "language": "python",
   "name": "python3"
  },
  "language_info": {
   "codemirror_mode": {
    "name": "ipython",
    "version": 3
   },
   "file_extension": ".py",
   "mimetype": "text/x-python",
   "name": "python",
   "nbconvert_exporter": "python",
   "pygments_lexer": "ipython3",
   "version": "3.6.0"
  }
 },
 "nbformat": 4,
 "nbformat_minor": 2
}
