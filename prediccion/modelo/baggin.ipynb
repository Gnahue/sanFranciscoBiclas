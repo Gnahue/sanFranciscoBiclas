{
 "cells": [
  {
   "cell_type": "code",
   "execution_count": 3,
   "metadata": {
    "collapsed": true
   },
   "outputs": [],
   "source": [
    "import dataImport as dataI\n",
    "from random import seed\n",
    "from random import random\n",
    "from random import randrange\n"
   ]
  },
  {
   "cell_type": "code",
   "execution_count": 4,
   "metadata": {
    "collapsed": false
   },
   "outputs": [
    {
     "name": "stderr",
     "output_type": "stream",
     "text": [
      "/home/nahue/datos7506/sanFranciscoBiclas/prediccion/modelo/dataImport.py:39: SettingWithCopyWarning: \n",
      "A value is trying to be set on a copy of a slice from a DataFrame\n",
      "\n",
      "See the caveats in the documentation: http://pandas.pydata.org/pandas-docs/stable/indexing.html#indexing-view-versus-copy\n",
      "  trip[\"subscription_type\"][trip[\"subscription_type\"] == \"Subscriber\"] = 1\n",
      "/home/nahue/datos7506/sanFranciscoBiclas/prediccion/modelo/dataImport.py:40: SettingWithCopyWarning: \n",
      "A value is trying to be set on a copy of a slice from a DataFrame\n",
      "\n",
      "See the caveats in the documentation: http://pandas.pydata.org/pandas-docs/stable/indexing.html#indexing-view-versus-copy\n",
      "  trip[\"subscription_type\"][trip[\"subscription_type\"] == \"Customer\"] = 2\n"
     ]
    }
   ],
   "source": [
    "(train,test) = dataI.dataImport()"
   ]
  },
  {
   "cell_type": "code",
   "execution_count": 12,
   "metadata": {
    "collapsed": false
   },
   "outputs": [],
   "source": [
    "#Obtiene un sample del set de datos\n",
    "\n",
    "def subsample(train,n_sample):    \n",
    "    return train.sample(n_sample)\n",
    "\n",
    "def get_split():\n",
    "    #aca deberia hacer el primer split \n",
    "    #{'index':b_index, 'value':b_value, 'groups':b_groups}\n",
    "\n",
    "    return 0\n",
    "#devuelve el nodo raiz del arbol\n",
    "def build_regression_tree(data_set):\n",
    "    # root = get_split(train)\n",
    "    \n",
    "    return 0"
   ]
  },
  {
   "cell_type": "code",
   "execution_count": 13,
   "metadata": {
    "collapsed": false
   },
   "outputs": [],
   "source": [
    "\n",
    "#funcion para entrenar el algortimo. Devuelve una lista con las raices de los árboles\n",
    "#data_set (training set)\n",
    "#n_tree (cantidad de arboles)\n",
    "def bagginTrain(data_set,n_tree):\n",
    "    #obtengo en cuantos samples voy a dividir el train \n",
    "    n_train_sample = int(len(train)/n_tree)\n",
    "    \n",
    "    trees = list()   \n",
    "    for tree in range(n_tree):\n",
    "        trees.append(build_regression_tree(subsample(train,n_train_sample)))\n",
    "    return trees\n",
    "\n",
    "#funcion que corre el test. Devuelve el set de datos (id,duration)\n",
    "def bagginTest(trees,test):    \n",
    "    for row in test:\n",
    "        for tree in trees:\n",
    "            print ('recorrer arbol')\n",
    "    prediction = 0\n",
    "    return prediction"
   ]
  },
  {
   "cell_type": "code",
   "execution_count": 14,
   "metadata": {
    "collapsed": false
   },
   "outputs": [
    {
     "data": {
      "text/plain": [
       "[0, 0, 0, 0, 0, 0, 0, 0, 0, 0]"
      ]
     },
     "execution_count": 14,
     "metadata": {},
     "output_type": "execute_result"
    }
   ],
   "source": [
    "bagginTrain(train,10)\n"
   ]
  },
  {
   "cell_type": "code",
   "execution_count": 58,
   "metadata": {
    "collapsed": false,
    "scrolled": true
   },
   "outputs": [
    {
     "name": "stderr",
     "output_type": "stream",
     "text": [
      "/home/nahue/anaconda3/lib/python3.6/site-packages/ipykernel/__main__.py:4: SettingWithCopyWarning: \n",
      "A value is trying to be set on a copy of a slice from a DataFrame\n",
      "\n",
      "See the caveats in the documentation: http://pandas.pydata.org/pandas-docs/stable/indexing.html#indexing-view-versus-copy\n",
      "/home/nahue/anaconda3/lib/python3.6/site-packages/ipykernel/__main__.py:5: SettingWithCopyWarning: \n",
      "A value is trying to be set on a copy of a slice from a DataFrame\n",
      "\n",
      "See the caveats in the documentation: http://pandas.pydata.org/pandas-docs/stable/indexing.html#indexing-view-versus-copy\n"
     ]
    },
    {
     "data": {
      "text/html": [
       "<div>\n",
       "<table border=\"1\" class=\"dataframe\">\n",
       "  <thead>\n",
       "    <tr style=\"text-align: right;\">\n",
       "      <th></th>\n",
       "      <th>duration</th>\n",
       "      <th>start_station_id</th>\n",
       "      <th>bike_id</th>\n",
       "      <th>subscription_type</th>\n",
       "      <th>zip_code</th>\n",
       "    </tr>\n",
       "  </thead>\n",
       "  <tbody>\n",
       "    <tr>\n",
       "      <th>371610</th>\n",
       "      <td>446</td>\n",
       "      <td>72</td>\n",
       "      <td>503</td>\n",
       "      <td>1</td>\n",
       "      <td>94518</td>\n",
       "    </tr>\n",
       "    <tr>\n",
       "      <th>15095</th>\n",
       "      <td>344</td>\n",
       "      <td>70</td>\n",
       "      <td>563</td>\n",
       "      <td>1</td>\n",
       "      <td>94403</td>\n",
       "    </tr>\n",
       "    <tr>\n",
       "      <th>392621</th>\n",
       "      <td>4843</td>\n",
       "      <td>76</td>\n",
       "      <td>435</td>\n",
       "      <td>2</td>\n",
       "      <td>10022</td>\n",
       "    </tr>\n",
       "    <tr>\n",
       "      <th>31132</th>\n",
       "      <td>130</td>\n",
       "      <td>56</td>\n",
       "      <td>469</td>\n",
       "      <td>1</td>\n",
       "      <td>94110</td>\n",
       "    </tr>\n",
       "    <tr>\n",
       "      <th>403071</th>\n",
       "      <td>979</td>\n",
       "      <td>74</td>\n",
       "      <td>582</td>\n",
       "      <td>2</td>\n",
       "      <td>94117</td>\n",
       "    </tr>\n",
       "  </tbody>\n",
       "</table>\n",
       "</div>"
      ],
      "text/plain": [
       "        duration  start_station_id  bike_id  subscription_type zip_code\n",
       "371610       446                72      503                  1    94518\n",
       "15095        344                70      563                  1    94403\n",
       "392621      4843                76      435                  2    10022\n",
       "31132        130                56      469                  1    94110\n",
       "403071       979                74      582                  2    94117"
      ]
     },
     "execution_count": 58,
     "metadata": {},
     "output_type": "execute_result"
    }
   ],
   "source": [
    "prueba = pd.read_csv(\"../Data/trip_train.csv\")\n",
    "prueba= prueba.sample(5)\n",
    "prueba.drop(['start_date','start_station_name','end_station_name','id','end_date','end_station_id'],inplace=True,axis=1)\n",
    "prueba[\"subscription_type\"][prueba[\"subscription_type\"] == \"Subscriber\"] = 1\n",
    "prueba[\"subscription_type\"][prueba[\"subscription_type\"] == \"Customer\"] = 2\n",
    "prueba[\"subscription_type\"] = prueba[\"subscription_type\"].astype(int)\n",
    "\n",
    "for i in range(len(dataset)):\n",
    "    dataset[i] = int(dataset[i])\n",
    "print (dataset)  "
   ]
  },
  {
   "cell_type": "code",
   "execution_count": 100,
   "metadata": {
    "collapsed": false
   },
   "outputs": [],
   "source": [
    "#convertir el data set a lista\n",
    "dataset = list(prueba.values.flatten()) #load_csv(prueba)\n"
   ]
  },
  {
   "cell_type": "code",
   "execution_count": 124,
   "metadata": {
    "collapsed": false
   },
   "outputs": [],
   "source": [
    "#dataset como lista\n",
    "#column numero de columna empezando por 0\n",
    "#t_row valor de la fila sobre la cual se quiere calcular la std\n",
    "def std_column(dataset,column,t_row,len_column): \n",
    "    std_duration = list()  \n",
    "    if column == 0: rango =1\n",
    "    \n",
    "    for i in range(column,len(dataset),5):  \n",
    "        if t_row == dataset[i]:\n",
    "            std_duration.append(dataset[i-column])     \n",
    "    return np.std(std_duration)\n"
   ]
  },
  {
   "cell_type": "code",
   "execution_count": 142,
   "metadata": {
    "collapsed": false
   },
   "outputs": [
    {
     "data": {
      "text/plain": [
       "1932.0"
      ]
     },
     "execution_count": 142,
     "metadata": {},
     "output_type": "execute_result"
    }
   ],
   "source": [
    "len_column = 5\n",
    "column = 3\n",
    "row = 2 \n",
    "std_column(dataset,column,row,len_column)\n"
   ]
  }
 ],
 "metadata": {
  "kernelspec": {
   "display_name": "Python 3",
   "language": "python",
   "name": "python3"
  },
  "language_info": {
   "codemirror_mode": {
    "name": "ipython",
    "version": 3
   },
   "file_extension": ".py",
   "mimetype": "text/x-python",
   "name": "python",
   "nbconvert_exporter": "python",
   "pygments_lexer": "ipython3",
   "version": "3.6.0"
  }
 },
 "nbformat": 4,
 "nbformat_minor": 2
}
