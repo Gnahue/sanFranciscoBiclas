{
 "cells": [
  {
   "cell_type": "code",
   "execution_count": 14,
   "metadata": {
    "collapsed": false,
    "deletable": true,
    "editable": true
   },
   "outputs": [],
   "source": [
    "import os\n",
    "import sys\n",
    "nb_dir = os.path.split(os.getcwd())[0]\n",
    "if nb_dir not in sys.path:\n",
    "    sys.path.append(nb_dir)\n",
    "    \n",
    "import build_tree.data_import as dataI\n",
    "import pandas as pd\n",
    "from random import seed\n",
    "from random import random\n",
    "from random import randrange"
   ]
  },
  {
   "cell_type": "code",
   "execution_count": 15,
   "metadata": {
    "collapsed": false,
    "deletable": true,
    "editable": true
   },
   "outputs": [],
   "source": [
    "(train,test) = dataI.data_import()"
   ]
  },
  {
   "cell_type": "code",
   "execution_count": 16,
   "metadata": {
    "collapsed": false,
    "deletable": true,
    "editable": true
   },
   "outputs": [],
   "source": [
    "#Obtiene un sample del set de datos\n",
    "\n",
    "def subsample(train,n_sample):    \n",
    "    return train.sample(n_sample)\n",
    "\n",
    "def get_split():\n",
    "    #aca deberia hacer el primer split \n",
    "    #{'index':b_index, 'value':b_value, 'groups':b_groups}\n",
    "\n",
    "    return 0\n",
    "#devuelve el nodo raiz del arbol\n",
    "def build_regression_tree(data_set):\n",
    "    # root = get_split(train)\n",
    "    \n",
    "    return 0"
   ]
  },
  {
   "cell_type": "code",
   "execution_count": 17,
   "metadata": {
    "collapsed": false,
    "deletable": true,
    "editable": true
   },
   "outputs": [],
   "source": [
    "#funcion para entrenar el algortimo. Devuelve una lista con las raices de los árboles\n",
    "#data_set (training set)\n",
    "#n_tree (cantidad de arboles)\n",
    "def bagginTrain(data_set,n_tree):\n",
    "    #obtengo en cuantos samples voy a dividir el train \n",
    "    n_train_sample = int(len(train)/n_tree)\n",
    "    \n",
    "    trees = list()   \n",
    "    for tree in range(n_tree):\n",
    "        trees.append(build_regression_tree(subsample(train,n_train_sample)))\n",
    "    return trees\n",
    "\n",
    "#funcion que corre el test. Devuelve el set de datos (id,duration)\n",
    "def bagginTest(trees,test):    \n",
    "    for row in test:\n",
    "        for tree in trees:\n",
    "            print ('recorrer arbol')\n",
    "    prediction = 0\n",
    "    return prediction"
   ]
  },
  {
   "cell_type": "code",
   "execution_count": 18,
   "metadata": {
    "collapsed": false,
    "deletable": true,
    "editable": true
   },
   "outputs": [
    {
     "data": {
      "text/plain": [
       "[0, 0, 0, 0, 0, 0, 0, 0, 0, 0]"
      ]
     },
     "execution_count": 18,
     "metadata": {},
     "output_type": "execute_result"
    }
   ],
   "source": [
    "bagginTrain(train,10)"
   ]
  },
  {
   "cell_type": "code",
   "execution_count": 21,
   "metadata": {
    "collapsed": false,
    "deletable": true,
    "editable": true
   },
   "outputs": [],
   "source": [
    "#convertir el data set a lista\n",
    "dataset = list(prueba.values.flatten()) #load_csv(prueba)"
   ]
  },
  {
   "cell_type": "code",
   "execution_count": 22,
   "metadata": {
    "collapsed": false,
    "deletable": true,
    "editable": true,
    "scrolled": true
   },
   "outputs": [
    {
     "name": "stdout",
     "output_type": "stream",
     "text": [
      "[271, 47, 530, 1, 94608, 1032, 65, 636, 1, 94158, 482, 47, 394, 1, 94105, 390, 67, 318, 1, 94103, 1094, 60, 387, 1, 95111]\n"
     ]
    },
    {
     "name": "stderr",
     "output_type": "stream",
     "text": [
      "/usr/local/lib/python2.7/dist-packages/ipykernel_launcher.py:4: SettingWithCopyWarning: \n",
      "A value is trying to be set on a copy of a slice from a DataFrame\n",
      "\n",
      "See the caveats in the documentation: http://pandas.pydata.org/pandas-docs/stable/indexing.html#indexing-view-versus-copy\n",
      "  after removing the cwd from sys.path.\n",
      "/usr/local/lib/python2.7/dist-packages/ipykernel_launcher.py:5: SettingWithCopyWarning: \n",
      "A value is trying to be set on a copy of a slice from a DataFrame\n",
      "\n",
      "See the caveats in the documentation: http://pandas.pydata.org/pandas-docs/stable/indexing.html#indexing-view-versus-copy\n",
      "  \"\"\"\n"
     ]
    }
   ],
   "source": [
    "prueba = pd.read_csv(\"../../Data/trip_train.csv\")\n",
    "prueba= prueba.sample(5)\n",
    "prueba.drop(['start_date','start_station_name','end_station_name','id','end_date','end_station_id'],inplace=True,axis=1)\n",
    "prueba[\"subscription_type\"][prueba[\"subscription_type\"] == \"Subscriber\"] = 1\n",
    "prueba[\"subscription_type\"][prueba[\"subscription_type\"] == \"Customer\"] = 2\n",
    "prueba[\"subscription_type\"] = prueba[\"subscription_type\"].astype(int)\n",
    "\n",
    "for i in range(len(dataset)):\n",
    "    dataset[i] = int(dataset[i])\n",
    "print (dataset)"
   ]
  },
  {
   "cell_type": "code",
   "execution_count": 124,
   "metadata": {
    "collapsed": false,
    "deletable": true,
    "editable": true
   },
   "outputs": [],
   "source": [
    "#dataset como lista\n",
    "#column numero de columna empezando por 0\n",
    "#t_row valor de la fila sobre la cual se quiere calcular la std\n",
    "def std_column(dataset,column,t_row,len_column): \n",
    "    std_duration = list()  \n",
    "    if column == 0: rango =1\n",
    "    \n",
    "    for i in range(column,len(dataset),5):  \n",
    "        if t_row == dataset[i]:\n",
    "            std_duration.append(dataset[i-column])     \n",
    "    return np.std(std_duration)"
   ]
  },
  {
   "cell_type": "code",
   "execution_count": 142,
   "metadata": {
    "collapsed": false,
    "deletable": true,
    "editable": true
   },
   "outputs": [
    {
     "data": {
      "text/plain": [
       "1932.0"
      ]
     },
     "execution_count": 142,
     "metadata": {},
     "output_type": "execute_result"
    }
   ],
   "source": [
    "len_column = 5\n",
    "column = 3\n",
    "row = 2 \n",
    "std_column(dataset,column,row,len_column)"
   ]
  }
 ],
 "metadata": {
  "kernelspec": {
   "display_name": "Python 2",
   "language": "python",
   "name": "python2"
  },
  "language_info": {
   "codemirror_mode": {
    "name": "ipython",
    "version": 2
   },
   "file_extension": ".py",
   "mimetype": "text/x-python",
   "name": "python",
   "nbconvert_exporter": "python",
   "pygments_lexer": "ipython2",
   "version": "2.7.12"
  }
 },
 "nbformat": 4,
 "nbformat_minor": 0
}
