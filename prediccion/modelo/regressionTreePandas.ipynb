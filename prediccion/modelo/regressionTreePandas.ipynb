{
 "cells": [
  {
   "cell_type": "code",
   "execution_count": 3,
   "metadata": {
    "collapsed": true
   },
   "outputs": [],
   "source": [
    "import pandas as pd\n",
    "import numpy as np\n",
    "import dataImport as dataI"
   ]
  },
  {
   "cell_type": "code",
   "execution_count": 27,
   "metadata": {
    "collapsed": false,
    "scrolled": false
   },
   "outputs": [
    {
     "data": {
      "text/html": [
       "<div>\n",
       "<table border=\"1\" class=\"dataframe\">\n",
       "  <thead>\n",
       "    <tr style=\"text-align: right;\">\n",
       "      <th></th>\n",
       "      <th>Outlook</th>\n",
       "      <th>temps</th>\n",
       "      <th>humedity</th>\n",
       "      <th>windy</th>\n",
       "      <th>hours</th>\n",
       "    </tr>\n",
       "  </thead>\n",
       "  <tbody>\n",
       "    <tr>\n",
       "      <th>0</th>\n",
       "      <td>1</td>\n",
       "      <td>3</td>\n",
       "      <td>1</td>\n",
       "      <td>0</td>\n",
       "      <td>25</td>\n",
       "    </tr>\n",
       "    <tr>\n",
       "      <th>1</th>\n",
       "      <td>1</td>\n",
       "      <td>3</td>\n",
       "      <td>1</td>\n",
       "      <td>1</td>\n",
       "      <td>30</td>\n",
       "    </tr>\n",
       "    <tr>\n",
       "      <th>2</th>\n",
       "      <td>2</td>\n",
       "      <td>3</td>\n",
       "      <td>1</td>\n",
       "      <td>0</td>\n",
       "      <td>46</td>\n",
       "    </tr>\n",
       "    <tr>\n",
       "      <th>3</th>\n",
       "      <td>3</td>\n",
       "      <td>2</td>\n",
       "      <td>1</td>\n",
       "      <td>0</td>\n",
       "      <td>45</td>\n",
       "    </tr>\n",
       "    <tr>\n",
       "      <th>4</th>\n",
       "      <td>3</td>\n",
       "      <td>1</td>\n",
       "      <td>0</td>\n",
       "      <td>0</td>\n",
       "      <td>52</td>\n",
       "    </tr>\n",
       "    <tr>\n",
       "      <th>5</th>\n",
       "      <td>3</td>\n",
       "      <td>1</td>\n",
       "      <td>0</td>\n",
       "      <td>1</td>\n",
       "      <td>23</td>\n",
       "    </tr>\n",
       "    <tr>\n",
       "      <th>6</th>\n",
       "      <td>2</td>\n",
       "      <td>1</td>\n",
       "      <td>0</td>\n",
       "      <td>1</td>\n",
       "      <td>43</td>\n",
       "    </tr>\n",
       "    <tr>\n",
       "      <th>7</th>\n",
       "      <td>1</td>\n",
       "      <td>2</td>\n",
       "      <td>1</td>\n",
       "      <td>0</td>\n",
       "      <td>35</td>\n",
       "    </tr>\n",
       "    <tr>\n",
       "      <th>8</th>\n",
       "      <td>1</td>\n",
       "      <td>1</td>\n",
       "      <td>0</td>\n",
       "      <td>0</td>\n",
       "      <td>38</td>\n",
       "    </tr>\n",
       "    <tr>\n",
       "      <th>9</th>\n",
       "      <td>3</td>\n",
       "      <td>2</td>\n",
       "      <td>0</td>\n",
       "      <td>0</td>\n",
       "      <td>46</td>\n",
       "    </tr>\n",
       "    <tr>\n",
       "      <th>10</th>\n",
       "      <td>1</td>\n",
       "      <td>2</td>\n",
       "      <td>0</td>\n",
       "      <td>1</td>\n",
       "      <td>48</td>\n",
       "    </tr>\n",
       "    <tr>\n",
       "      <th>11</th>\n",
       "      <td>2</td>\n",
       "      <td>2</td>\n",
       "      <td>1</td>\n",
       "      <td>1</td>\n",
       "      <td>52</td>\n",
       "    </tr>\n",
       "    <tr>\n",
       "      <th>12</th>\n",
       "      <td>2</td>\n",
       "      <td>3</td>\n",
       "      <td>0</td>\n",
       "      <td>0</td>\n",
       "      <td>44</td>\n",
       "    </tr>\n",
       "    <tr>\n",
       "      <th>13</th>\n",
       "      <td>3</td>\n",
       "      <td>2</td>\n",
       "      <td>1</td>\n",
       "      <td>1</td>\n",
       "      <td>30</td>\n",
       "    </tr>\n",
       "  </tbody>\n",
       "</table>\n",
       "</div>"
      ],
      "text/plain": [
       "    Outlook  temps  humedity  windy  hours\n",
       "0         1      3         1      0     25\n",
       "1         1      3         1      1     30\n",
       "2         2      3         1      0     46\n",
       "3         3      2         1      0     45\n",
       "4         3      1         0      0     52\n",
       "5         3      1         0      1     23\n",
       "6         2      1         0      1     43\n",
       "7         1      2         1      0     35\n",
       "8         1      1         0      0     38\n",
       "9         3      2         0      0     46\n",
       "10        1      2         0      1     48\n",
       "11        2      2         1      1     52\n",
       "12        2      3         0      0     44\n",
       "13        3      2         1      1     30"
      ]
     },
     "execution_count": 27,
     "metadata": {},
     "output_type": "execute_result"
    }
   ],
   "source": [
    "train = pd.read_csv('../Data/youtube.csv')\n",
    "# n_columns = len(prueba.columns)\n",
    "# print columns_cant\n",
    "\n",
    "# data_dict ={}\n",
    "\n",
    "# for column in prueba.columns:\n",
    "#     data_dict[column] = prueba.ix[:, column].tolist()\n",
    "    \n",
    "# print data_dict['windy']\n",
    "\n",
    "train.head(20)"
   ]
  },
  {
   "cell_type": "code",
   "execution_count": 32,
   "metadata": {
    "collapsed": false
   },
   "outputs": [
    {
     "name": "stdout",
     "output_type": "stream",
     "text": [
      "[25 30 46 44]\n",
      "4\n",
      "14\n"
     ]
    }
   ],
   "source": [
    "train.temps.unique()\n",
    "print train.loc[train['temps']==3,'hours'].values.flatten()\n",
    "print  train.loc[train['temps']==3,'hours'].count()\n",
    "print train['temps'].count()\n",
    "\n"
   ]
  },
  {
   "cell_type": "code",
   "execution_count": 41,
   "metadata": {
    "collapsed": true
   },
   "outputs": [],
   "source": [
    "def std_value(df,column,value,target):\n",
    "    std = np.std(df.loc[train[column]==value,target].values.flatten())\n",
    "    len = df[column].count()\n",
    "    len_value = df.loc[train[column]==value,target].count()\n",
    "    prob = float(len_value)/len\n",
    "    return std*prob"
   ]
  },
  {
   "cell_type": "code",
   "execution_count": 42,
   "metadata": {
    "collapsed": true
   },
   "outputs": [],
   "source": [
    "def calculate_std(df,column,target):\n",
    "    stds = 0\n",
    "    values_uniques = df[column].unique()\n",
    "    for value in values_uniques:\n",
    "        stds +=  std_value(df,column,value,target)\n",
    "    return stds\n",
    "    "
   ]
  },
  {
   "cell_type": "code",
   "execution_count": 43,
   "metadata": {
    "collapsed": false
   },
   "outputs": [],
   "source": [
    "def calculate_stds(df,columns,target):\n",
    "    stds=[]\n",
    "    for column in columns:\n",
    "        stds.append((column,calculate_std(df,column,target)))\n",
    "    return stds\n",
    "        "
   ]
  },
  {
   "cell_type": "code",
   "execution_count": 54,
   "metadata": {
    "collapsed": true
   },
   "outputs": [],
   "source": [
    "def final_stds(stds_columns,target_std):\n",
    "    stds=[]\n",
    "    for tupple in stds_columns:\n",
    "        stds.append((tupple[0],target_std - tupple[1]))\n",
    "    return stds"
   ]
  },
  {
   "cell_type": "code",
   "execution_count": null,
   "metadata": {
    "collapsed": true
   },
   "outputs": [],
   "source": []
  },
  {
   "cell_type": "code",
   "execution_count": 63,
   "metadata": {
    "collapsed": true
   },
   "outputs": [],
   "source": [
    "def get_split(df,target):\n",
    "    # Calculo de la std de la variable a predecir\n",
    "    target_std = np.std(df.ix[:, target].tolist())\n",
    "    \n",
    "    # calculamos la desviacion standard de cada columna:\n",
    "    # Esto es: la sumatoria de (la probabilidad de cada uno de los distintos valores\n",
    "    # de una columna * la desviacion standar del mismo) \n",
    "    stds_columns = calculate_stds(df,['Outlook','temps','humedity','windy'],target)\n",
    "    \n",
    "    #restamos cada std de columna al std del target\n",
    "    stds_columns = final_stds(stds_columns,target_std)\n",
    "    \n",
    "    \n",
    "    print stds_columns\n",
    "    \n",
    "    max_std = max(stds_columns,key=lambda item:item[1])\n",
    "    \n",
    "    \n",
    "    return max_std[0]"
   ]
  },
  {
   "cell_type": "code",
   "execution_count": 65,
   "metadata": {
    "collapsed": false
   },
   "outputs": [
    {
     "name": "stdout",
     "output_type": "stream",
     "text": [
      "[('Outlook', 1.6621503366302335), ('temps', 0.47969057476332111), ('humedity', 0.27229619548982598), ('windy', 0.28214938055733185)]\n",
      "Outlook\n"
     ]
    }
   ],
   "source": [
    "def build_tree(df,target):  # target = nombre de la columna a predecir\n",
    "    print get_split(df,target)\n",
    "    \n",
    "    \n",
    "build_tree(train,'hours')"
   ]
  }
 ],
 "metadata": {
  "kernelspec": {
   "display_name": "Python 2",
   "language": "python",
   "name": "python2"
  },
  "language_info": {
   "codemirror_mode": {
    "name": "ipython",
    "version": 2
   },
   "file_extension": ".py",
   "mimetype": "text/x-python",
   "name": "python",
   "nbconvert_exporter": "python",
   "pygments_lexer": "ipython2",
   "version": "2.7.12"
  }
 },
 "nbformat": 4,
 "nbformat_minor": 2
}
