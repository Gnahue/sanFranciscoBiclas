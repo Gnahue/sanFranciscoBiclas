{
 "cells": [
  {
   "cell_type": "code",
   "execution_count": 53,
   "metadata": {
    "collapsed": false,
    "deletable": true,
    "editable": true
   },
   "outputs": [],
   "source": [
    "import dataImport \n",
    "import numpy as np\n",
    "import pandas as pd"
   ]
  },
  {
   "cell_type": "code",
   "execution_count": 2,
   "metadata": {
    "collapsed": false,
    "deletable": true,
    "editable": true
   },
   "outputs": [
    {
     "name": "stderr",
     "output_type": "stream",
     "text": [
      "dataImport.py:21: SettingWithCopyWarning: \n",
      "A value is trying to be set on a copy of a slice from a DataFrame\n",
      "\n",
      "See the caveats in the documentation: http://pandas.pydata.org/pandas-docs/stable/indexing.html#indexing-view-versus-copy\n",
      "  trip_train[\"subscription_type\"][trip_train[\"subscription_type\"] == \"Subscriber\"] = 1\n",
      "dataImport.py:22: SettingWithCopyWarning: \n",
      "A value is trying to be set on a copy of a slice from a DataFrame\n",
      "\n",
      "See the caveats in the documentation: http://pandas.pydata.org/pandas-docs/stable/indexing.html#indexing-view-versus-copy\n",
      "  trip_train[\"subscription_type\"][trip_train[\"subscription_type\"] == \"Customer\"] = 2\n",
      "dataImport.py:24: SettingWithCopyWarning: \n",
      "A value is trying to be set on a copy of a slice from a DataFrame\n",
      "\n",
      "See the caveats in the documentation: http://pandas.pydata.org/pandas-docs/stable/indexing.html#indexing-view-versus-copy\n",
      "  trip_test[\"subscription_type\"][trip_test[\"subscription_type\"] == \"Subscriber\"] = 1\n",
      "dataImport.py:25: SettingWithCopyWarning: \n",
      "A value is trying to be set on a copy of a slice from a DataFrame\n",
      "\n",
      "See the caveats in the documentation: http://pandas.pydata.org/pandas-docs/stable/indexing.html#indexing-view-versus-copy\n",
      "  trip_test[\"subscription_type\"][trip_test[\"subscription_type\"] == \"Customer\"] = 2\n"
     ]
    }
   ],
   "source": [
    "(train, test) = dataImport.dataImport()"
   ]
  },
  {
   "cell_type": "code",
   "execution_count": 6,
   "metadata": {
    "collapsed": false,
    "deletable": true,
    "editable": true
   },
   "outputs": [
    {
     "data": {
      "text/html": [
       "<div>\n",
       "<table border=\"1\" class=\"dataframe\">\n",
       "  <thead>\n",
       "    <tr style=\"text-align: right;\">\n",
       "      <th></th>\n",
       "      <th>duration</th>\n",
       "      <th>start_station_id</th>\n",
       "      <th>bike_id</th>\n",
       "      <th>subscription_type</th>\n",
       "      <th>zip_code</th>\n",
       "      <th>start_date_weekday</th>\n",
       "      <th>start_date_month</th>\n",
       "      <th>start_date_hour</th>\n",
       "    </tr>\n",
       "  </thead>\n",
       "  <tbody>\n",
       "    <tr>\n",
       "      <th>0</th>\n",
       "      <td>396</td>\n",
       "      <td>50</td>\n",
       "      <td>187</td>\n",
       "      <td>1</td>\n",
       "      <td>94602</td>\n",
       "      <td>3</td>\n",
       "      <td>8</td>\n",
       "      <td>8</td>\n",
       "    </tr>\n",
       "    <tr>\n",
       "      <th>1</th>\n",
       "      <td>636</td>\n",
       "      <td>67</td>\n",
       "      <td>417</td>\n",
       "      <td>1</td>\n",
       "      <td>94133</td>\n",
       "      <td>0</td>\n",
       "      <td>7</td>\n",
       "      <td>22</td>\n",
       "    </tr>\n",
       "    <tr>\n",
       "      <th>2</th>\n",
       "      <td>334</td>\n",
       "      <td>77</td>\n",
       "      <td>281</td>\n",
       "      <td>1</td>\n",
       "      <td>94107</td>\n",
       "      <td>0</td>\n",
       "      <td>6</td>\n",
       "      <td>8</td>\n",
       "    </tr>\n",
       "    <tr>\n",
       "      <th>3</th>\n",
       "      <td>666</td>\n",
       "      <td>69</td>\n",
       "      <td>634</td>\n",
       "      <td>1</td>\n",
       "      <td>94602</td>\n",
       "      <td>0</td>\n",
       "      <td>1</td>\n",
       "      <td>16</td>\n",
       "    </tr>\n",
       "    <tr>\n",
       "      <th>4</th>\n",
       "      <td>318</td>\n",
       "      <td>67</td>\n",
       "      <td>607</td>\n",
       "      <td>1</td>\n",
       "      <td>94709</td>\n",
       "      <td>5</td>\n",
       "      <td>8</td>\n",
       "      <td>15</td>\n",
       "    </tr>\n",
       "  </tbody>\n",
       "</table>\n",
       "</div>"
      ],
      "text/plain": [
       "   duration  start_station_id  bike_id  subscription_type zip_code  \\\n",
       "0       396                50      187                  1    94602   \n",
       "1       636                67      417                  1    94133   \n",
       "2       334                77      281                  1    94107   \n",
       "3       666                69      634                  1    94602   \n",
       "4       318                67      607                  1    94709   \n",
       "\n",
       "   start_date_weekday  start_date_month  start_date_hour  \n",
       "0                   3                 8                8  \n",
       "1                   0                 7               22  \n",
       "2                   0                 6                8  \n",
       "3                   0                 1               16  \n",
       "4                   5                 8               15  "
      ]
     },
     "execution_count": 6,
     "metadata": {},
     "output_type": "execute_result"
    }
   ],
   "source": [
    "train.head()"
   ]
  },
  {
   "cell_type": "code",
   "execution_count": 46,
   "metadata": {
    "collapsed": false
   },
   "outputs": [
    {
     "data": {
      "text/html": [
       "<div>\n",
       "<table border=\"1\" class=\"dataframe\">\n",
       "  <thead>\n",
       "    <tr style=\"text-align: right;\">\n",
       "      <th></th>\n",
       "      <th>duration</th>\n",
       "      <th>start_station_id</th>\n",
       "      <th>bike_id</th>\n",
       "      <th>subscription_type</th>\n",
       "      <th>zip_code</th>\n",
       "      <th>start_date_weekday</th>\n",
       "      <th>start_date_month</th>\n",
       "      <th>start_date_hour</th>\n",
       "    </tr>\n",
       "  </thead>\n",
       "  <tbody>\n",
       "    <tr>\n",
       "      <th>88093</th>\n",
       "      <td>424</td>\n",
       "      <td>75</td>\n",
       "      <td>617</td>\n",
       "      <td>1</td>\n",
       "      <td>94111</td>\n",
       "      <td>2</td>\n",
       "      <td>5</td>\n",
       "      <td>12</td>\n",
       "    </tr>\n",
       "    <tr>\n",
       "      <th>518888</th>\n",
       "      <td>2038</td>\n",
       "      <td>58</td>\n",
       "      <td>513</td>\n",
       "      <td>2</td>\n",
       "      <td>95688</td>\n",
       "      <td>5</td>\n",
       "      <td>9</td>\n",
       "      <td>10</td>\n",
       "    </tr>\n",
       "    <tr>\n",
       "      <th>148313</th>\n",
       "      <td>334</td>\n",
       "      <td>39</td>\n",
       "      <td>359</td>\n",
       "      <td>1</td>\n",
       "      <td>94103</td>\n",
       "      <td>2</td>\n",
       "      <td>6</td>\n",
       "      <td>12</td>\n",
       "    </tr>\n",
       "    <tr>\n",
       "      <th>475675</th>\n",
       "      <td>957</td>\n",
       "      <td>50</td>\n",
       "      <td>443</td>\n",
       "      <td>1</td>\n",
       "      <td>94610</td>\n",
       "      <td>4</td>\n",
       "      <td>3</td>\n",
       "      <td>11</td>\n",
       "    </tr>\n",
       "    <tr>\n",
       "      <th>280658</th>\n",
       "      <td>1891</td>\n",
       "      <td>51</td>\n",
       "      <td>509</td>\n",
       "      <td>2</td>\n",
       "      <td>10019</td>\n",
       "      <td>5</td>\n",
       "      <td>9</td>\n",
       "      <td>14</td>\n",
       "    </tr>\n",
       "  </tbody>\n",
       "</table>\n",
       "</div>"
      ],
      "text/plain": [
       "        duration  start_station_id  bike_id  subscription_type zip_code  \\\n",
       "88093        424                75      617                  1    94111   \n",
       "518888      2038                58      513                  2    95688   \n",
       "148313       334                39      359                  1    94103   \n",
       "475675       957                50      443                  1    94610   \n",
       "280658      1891                51      509                  2    10019   \n",
       "\n",
       "        start_date_weekday  start_date_month  start_date_hour  \n",
       "88093                    2                 5               12  \n",
       "518888                   5                 9               10  \n",
       "148313                   2                 6               12  \n",
       "475675                   4                 3               11  \n",
       "280658                   5                 9               14  "
      ]
     },
     "execution_count": 46,
     "metadata": {},
     "output_type": "execute_result"
    }
   ],
   "source": [
    "sample = train.sample(5)\n",
    "sample.head()"
   ]
  },
  {
   "cell_type": "code",
   "execution_count": 47,
   "metadata": {
    "collapsed": false
   },
   "outputs": [],
   "source": [
    "sample.drop(['start_date_month','bike_id'],inplace=True,axis=1)"
   ]
  },
  {
   "cell_type": "code",
   "execution_count": 67,
   "metadata": {
    "collapsed": false
   },
   "outputs": [
    {
     "data": {
      "text/html": [
       "<div>\n",
       "<table border=\"1\" class=\"dataframe\">\n",
       "  <thead>\n",
       "    <tr style=\"text-align: right;\">\n",
       "      <th></th>\n",
       "      <th>duration</th>\n",
       "      <th>start_station_id</th>\n",
       "      <th>subscription_type</th>\n",
       "      <th>zip_code</th>\n",
       "      <th>start_date_weekday</th>\n",
       "      <th>start_date_hour</th>\n",
       "    </tr>\n",
       "  </thead>\n",
       "  <tbody>\n",
       "    <tr>\n",
       "      <th>88093</th>\n",
       "      <td>424</td>\n",
       "      <td>75</td>\n",
       "      <td>1</td>\n",
       "      <td>94111</td>\n",
       "      <td>2</td>\n",
       "      <td>12</td>\n",
       "    </tr>\n",
       "    <tr>\n",
       "      <th>518888</th>\n",
       "      <td>2038</td>\n",
       "      <td>58</td>\n",
       "      <td>2</td>\n",
       "      <td>95688</td>\n",
       "      <td>5</td>\n",
       "      <td>10</td>\n",
       "    </tr>\n",
       "    <tr>\n",
       "      <th>148313</th>\n",
       "      <td>334</td>\n",
       "      <td>39</td>\n",
       "      <td>1</td>\n",
       "      <td>94103</td>\n",
       "      <td>2</td>\n",
       "      <td>12</td>\n",
       "    </tr>\n",
       "    <tr>\n",
       "      <th>475675</th>\n",
       "      <td>957</td>\n",
       "      <td>50</td>\n",
       "      <td>1</td>\n",
       "      <td>94610</td>\n",
       "      <td>4</td>\n",
       "      <td>11</td>\n",
       "    </tr>\n",
       "    <tr>\n",
       "      <th>280658</th>\n",
       "      <td>1891</td>\n",
       "      <td>51</td>\n",
       "      <td>2</td>\n",
       "      <td>10019</td>\n",
       "      <td>5</td>\n",
       "      <td>14</td>\n",
       "    </tr>\n",
       "  </tbody>\n",
       "</table>\n",
       "</div>"
      ],
      "text/plain": [
       "        duration  start_station_id  subscription_type zip_code  \\\n",
       "88093        424                75                  1    94111   \n",
       "518888      2038                58                  2    95688   \n",
       "148313       334                39                  1    94103   \n",
       "475675       957                50                  1    94610   \n",
       "280658      1891                51                  2    10019   \n",
       "\n",
       "        start_date_weekday  start_date_hour  \n",
       "88093                    2               12  \n",
       "518888                   5               10  \n",
       "148313                   2               12  \n",
       "475675                   4               11  \n",
       "280658                   5               14  "
      ]
     },
     "execution_count": 67,
     "metadata": {},
     "output_type": "execute_result"
    }
   ],
   "source": [
    "sample.head()"
   ]
  },
  {
   "cell_type": "markdown",
   "metadata": {},
   "source": [
    "Desviacion standar de la duracion:"
   ]
  },
  {
   "cell_type": "code",
   "execution_count": 226,
   "metadata": {
    "collapsed": false
   },
   "outputs": [],
   "source": [
    "std_duration=np.std(sample.duration)"
   ]
  },
  {
   "cell_type": "markdown",
   "metadata": {},
   "source": [
    "Desviacion standar de start_station_id contra duracion"
   ]
  },
  {
   "cell_type": "code",
   "execution_count": 69,
   "metadata": {
    "collapsed": false
   },
   "outputs": [
    {
     "data": {
      "text/plain": [
       "11.876026271442818"
      ]
     },
     "execution_count": 69,
     "metadata": {},
     "output_type": "execute_result"
    }
   ],
   "source": [
    "np.std(sample.start_station_id)"
   ]
  },
  {
   "cell_type": "code",
   "execution_count": 134,
   "metadata": {
    "collapsed": false
   },
   "outputs": [
    {
     "name": "stdout",
     "output_type": "stream",
     "text": [
      "   start_station_id  duration\n",
      "0                39       0.0\n",
      "1                50       0.0\n",
      "2                51       0.0\n",
      "3                58       0.0\n",
      "4                75       0.0\n",
      "   subscription_type    duration\n",
      "0                  1  274.937973\n",
      "1                  2   73.500000\n",
      "  zip_code  duration\n",
      "0    10019       0.0\n",
      "1    94103       0.0\n",
      "2    94111       0.0\n",
      "3    94610       0.0\n",
      "4    95688       0.0\n",
      "   start_date_weekday  duration\n",
      "0                   2      45.0\n",
      "1                   4       0.0\n",
      "2                   5      73.5\n",
      "   start_date_hour  duration\n",
      "0               10       0.0\n",
      "1               11       0.0\n",
      "2               12      45.0\n",
      "3               14       0.0\n"
     ]
    }
   ],
   "source": [
    "for column in sample.columns:\n",
    "    if column != 'duration':\n",
    "        print sample.groupby(column,as_index=False)['duration'].agg(np.std,ddof=0)"
   ]
  },
  {
   "cell_type": "markdown",
   "metadata": {},
   "source": [
    "Desviacion standar de cada columna contra Duration"
   ]
  },
  {
   "cell_type": "code",
   "execution_count": 245,
   "metadata": {
    "collapsed": false
   },
   "outputs": [
    {
     "name": "stdout",
     "output_type": "stream",
     "text": [
      "0\n",
      "                  count\n",
      "start_station_id       \n",
      "39                    1\n",
      "50                    1\n",
      "51                    1\n",
      "58                    1\n",
      "75                    1\n",
      "[0.2, 0.2, 0.2, 0.2, 0.2]\n",
      "   start_station_id  duration\n",
      "0                39       0.0\n",
      "1                50       0.0\n",
      "2                51       0.0\n",
      "3                58       0.0\n",
      "4                75       0.0\n",
      "0.0\n",
      "                   count\n",
      "subscription_type       \n",
      "1                      3\n",
      "2                      2\n",
      "[0.6, 0.4]\n",
      "   subscription_type    duration\n",
      "0                  1  274.937973\n",
      "1                  2   73.500000\n",
      "194.362783682\n",
      "          count\n",
      "zip_code       \n",
      "10019         1\n",
      "94103         1\n",
      "94111         1\n",
      "94610         1\n",
      "95688         1\n",
      "[0.2, 0.2, 0.2, 0.2, 0.2]\n",
      "  zip_code  duration\n",
      "0    10019       0.0\n",
      "1    94103       0.0\n",
      "2    94111       0.0\n",
      "3    94610       0.0\n",
      "4    95688       0.0\n",
      "0.0\n",
      "                    count\n",
      "start_date_weekday       \n",
      "2                       2\n",
      "4                       1\n",
      "5                       2\n",
      "[0.4, 0.2, 0.4]\n",
      "   start_date_weekday  duration\n",
      "0                   2      45.0\n",
      "1                   4       0.0\n",
      "2                   5      73.5\n",
      "47.4\n",
      "                 count\n",
      "start_date_hour       \n",
      "10                   1\n",
      "11                   1\n",
      "12                   2\n",
      "14                   1\n",
      "[0.2, 0.2, 0.4, 0.2]\n",
      "   start_date_hour  duration\n",
      "0               10       0.0\n",
      "1               11       0.0\n",
      "2               12      45.0\n",
      "3               14       0.0\n",
      "18.0\n"
     ]
    }
   ],
   "source": [
    "stds =[]\n",
    "\n",
    "for column in sample.columns:\n",
    "    \n",
    "    stdTot=0\n",
    "    if not column == 'duration':\n",
    "        probs =[]\n",
    "        print sample.groupby(column,as_index=False)['duration'].agg(['count'])\n",
    "        cant=0\n",
    "        for value in sample.groupby(column,as_index=False)['duration'].agg(['count'])['count']:\n",
    "            cant += value \n",
    "        for value in sample.groupby(column,as_index=False)['duration'].agg(['count'])['count']:\n",
    "            probs.append(float(value)/cant)\n",
    "        print probs\n",
    "        print sample.groupby(column,as_index=False)['duration'].agg(np.std,ddof=0)\n",
    "        for value in sample.groupby(column,as_index=False)['duration'].agg(np.std,ddof=0):\n",
    "            i=0\n",
    "        for std in sample.groupby(column,as_index=False)['duration'].agg(np.std,ddof=0)['duration']:\n",
    "            stdTot += std * probs[i]\n",
    "            i +=1\n",
    "    print stdTot\n",
    "    stds +=[(column,stdTot)]\n"
   ]
  },
  {
   "cell_type": "code",
   "execution_count": 243,
   "metadata": {
    "collapsed": false
   },
   "outputs": [
    {
     "name": "stdout",
     "output_type": "stream",
     "text": [
      "[('duration', 716.31819745138409), ('start_station_id', 716.31819745138409), ('subscription_type', 521.95541376973063), ('zip_code', 716.31819745138409), ('start_date_weekday', 668.91819745138412), ('start_date_hour', 698.31819745138409)]\n",
      "('duration', 716.31819745138409)\n"
     ]
    }
   ],
   "source": [
    "l = []\n",
    "for std in stds:\n",
    "    l.append((std[0],std_duration - std[1]))\n",
    "print l\n",
    "\n",
    "print max(l,key=lambda item:item[1])"
   ]
  }
 ],
 "metadata": {
  "kernelspec": {
   "display_name": "Python 2",
   "language": "python",
   "name": "python2"
  },
  "language_info": {
   "codemirror_mode": {
    "name": "ipython",
    "version": 2
   },
   "file_extension": ".py",
   "mimetype": "text/x-python",
   "name": "python",
   "nbconvert_exporter": "python",
   "pygments_lexer": "ipython2",
   "version": "2.7.12"
  }
 },
 "nbformat": 4,
 "nbformat_minor": 2
}
